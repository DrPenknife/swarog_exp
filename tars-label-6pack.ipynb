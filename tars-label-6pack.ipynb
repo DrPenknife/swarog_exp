{
 "cells": [
  {
   "cell_type": "code",
   "execution_count": 38,
   "id": "4485bcfc",
   "metadata": {
    "scrolled": true
   },
   "outputs": [
    {
     "name": "stdout",
     "output_type": "stream",
     "text": [
      "\u001b[33mWARNING: You are using pip version 21.3.1; however, version 22.2.2 is available.\r\n",
      "You should consider upgrading via the '/home/rkozik/anaconda3/bin/python -m pip install --upgrade pip' command.\u001b[0m\r\n"
     ]
    }
   ],
   "source": [
    "!pip3 install flair --quiet"
   ]
  },
  {
   "cell_type": "code",
   "execution_count": 1,
   "id": "d8566879",
   "metadata": {},
   "outputs": [
    {
     "name": "stdout",
     "output_type": "stream",
     "text": [
      "labels\n",
      " 1    8511\n",
      "0     461\n",
      "Name: label, dtype: int64\n",
      "shape  \n",
      " (8972, 2)\n"
     ]
    },
    {
     "name": "stderr",
     "output_type": "stream",
     "text": [
      "100%|█████████████████████████████████████████| 10/10 [00:00<00:00, 2304.94it/s]"
     ]
    },
    {
     "name": "stdout",
     "output_type": "stream",
     "text": [
      "shapes X (8972,) y (8972,)\n"
     ]
    },
    {
     "name": "stderr",
     "output_type": "stream",
     "text": [
      "\n"
     ]
    }
   ],
   "source": [
    "import pandas as pd\n",
    "import numpy as np\n",
    "from tqdm import tqdm\n",
    "from sklearn.model_selection import RepeatedStratifiedKFold\n",
    "\n",
    "data = pd.read_csv(\"raw/covid_fake_news.csv\",sep=\"\\t\")\n",
    "data[\"label\"] = 1- data[\"label\"]\n",
    "print(\"labels\\n\",data[\"label\"].value_counts())\n",
    "print(\"shape  \\n\",data.shape)\n",
    "\n",
    "bootstrap_size = 0\n",
    "\n",
    "if bootstrap_size != 0:\n",
    "    bootstrap_factor = bootstrap_size / data.shape[0]\n",
    "    bootstrap = np.random.uniform(size=data.shape[0]) < bootstrap_factor\n",
    "    data = data.iloc[bootstrap]\n",
    "\n",
    "X, y = data[\"title\"].values, data[\"label\"].values\n",
    "\n",
    "\n",
    "rskf = RepeatedStratifiedKFold(n_splits=2, n_repeats=5, random_state=1410)\n",
    "foldids = []\n",
    "for fold_idx, (train, test) in tqdm(enumerate(rskf.split(X, y)), total=rskf.get_n_splits()):\n",
    "    foldids.append((fold_idx,train,test))\n",
    "    \n",
    "print(\"shapes X\",X.shape,\"y\", y.shape)"
   ]
  },
  {
   "cell_type": "code",
   "execution_count": 67,
   "id": "eae8a8d3",
   "metadata": {},
   "outputs": [
    {
     "name": "stdout",
     "output_type": "stream",
     "text": [
      "labels\n",
      " 1    6306\n",
      "0    3769\n",
      "Name: label, dtype: int64\n",
      "shape  \n",
      " (10075, 11)\n"
     ]
    },
    {
     "name": "stderr",
     "output_type": "stream",
     "text": [
      "100%|█████████████████████████████████████████| 10/10 [00:00<00:00, 1794.12it/s]"
     ]
    },
    {
     "name": "stdout",
     "output_type": "stream",
     "text": [
      "shapes X (10075,) y (10075,)\n"
     ]
    },
    {
     "name": "stderr",
     "output_type": "stream",
     "text": [
      "\n"
     ]
    }
   ],
   "source": [
    "import pandas as pd\n",
    "import numpy as np\n",
    "from tqdm import tqdm\n",
    "from sklearn.model_selection import RepeatedStratifiedKFold\n",
    "\n",
    "data = pd.read_csv(\"raw/pubhealth.csv\",sep=\",\")\n",
    "print(\"labels\\n\",data[\"label\"].value_counts())\n",
    "print(\"shape  \\n\",data.shape)\n",
    "\n",
    "bootstrap_size = 0\n",
    "\n",
    "if bootstrap_size != 0:\n",
    "    bootstrap_factor = bootstrap_size / data.shape[0]\n",
    "    bootstrap = np.random.uniform(size=data.shape[0]) < bootstrap_factor\n",
    "    data = data.iloc[bootstrap]\n",
    "\n",
    "X, y = data[\"text\"].values, data[\"label\"].values\n",
    "\n",
    "rskf = RepeatedStratifiedKFold(n_splits=2, n_repeats=5, random_state=1410)\n",
    "foldids = []\n",
    "for fold_idx, (train, test) in tqdm(enumerate(rskf.split(X, y)), total=rskf.get_n_splits()):\n",
    "    foldids.append((fold_idx,train,test))\n",
    "    \n",
    "print(\"shapes X\",X.shape,\"y\", y.shape)"
   ]
  },
  {
   "cell_type": "code",
   "execution_count": 2,
   "id": "bfe2b9e8",
   "metadata": {},
   "outputs": [
    {
     "name": "stdout",
     "output_type": "stream",
     "text": [
      "2022-09-24 08:39:34,934 loading file /home/rkozik/.flair/models/tars-base-v8.pt\n"
     ]
    }
   ],
   "source": [
    "from flair.models import TARSClassifier\n",
    "from flair.data import Sentence\n",
    "\n",
    "import flair, torch\n",
    "flair.device = torch.device('cuda')\n",
    "\n",
    "# 1. Load our pre-trained TARS model for English\n",
    "tars = TARSClassifier.load('tars-base')\n"
   ]
  },
  {
   "cell_type": "code",
   "execution_count": 33,
   "id": "eb4c72d6",
   "metadata": {
    "scrolled": true
   },
   "outputs": [
    {
     "name": "stdout",
     "output_type": "stream",
     "text": [
      "Sentence: \"the student fell ill with covid\"   [− Tokens: 6  − Sentence-Labels: {'Health, Medicine-Entertainment, Art, Culture-Computers, Science, Technology-Finance-Economics-Lifestyle-Sport, Leisure-Politics-Opinion, Recommendation, Review-Traveling': [Health, Medicine (0.7386)]}]\n"
     ]
    }
   ],
   "source": [
    "\n",
    "# 2. Prepare a test sentence\n",
    "sentence = Sentence(\"the student fell ill with covid\")\n",
    "\n",
    "# 3. Define some classes that you want to predict using descriptive names\n",
    "classes = [\"Health, Medicine\",\n",
    "           \"Entertainment, Art, Culture\", \n",
    "           \"Computers, Science, Technology\", \n",
    "           \"Finance\",\"Economics\",\n",
    "           \"Lifestyle\",\n",
    "           \"Sport, Leisure\",\n",
    "           \"Politics\",\n",
    "           \"Opinion, Recommendation, Review\",\n",
    "           \"Traveling\"\n",
    "          ]\n",
    "\n",
    "#4. Predict for these classes\n",
    "tars.predict_zero_shot(sentence, classes)\n",
    "\n",
    "# Print sentence with predicted labels\n",
    "print(sentence)"
   ]
  },
  {
   "cell_type": "code",
   "execution_count": 4,
   "id": "f4b7c2e7",
   "metadata": {
    "scrolled": true
   },
   "outputs": [
    {
     "name": "stdout",
     "output_type": "stream",
     "text": [
      "Sentence: \"Social media posts criticize a photo from smiling president of the Goverment Pedro SÃ ¡ nchez during his holidays after thousands died from COVID-19\"   [− Tokens: 24  − Sentence-Labels: {'Health, Medicine-Entertainment, Art, Culture-Computers, Science, Technology-Finance, Economics-Lifestyle-Sport, Leisure-Politics-Opinion, Recommendation, Review-Traveling': [Politics (0.8274)]}] Politics\n"
     ]
    }
   ],
   "source": [
    "\n",
    "sentence = Sentence(X[8])\n",
    "tars.predict_zero_shot(sentence, classes)\n",
    "\n",
    "import numpy as np\n",
    "def get_best_lab(sentence):\n",
    "    labels = sentence.to_dict()[\"labels\"]\n",
    "    if len(labels) > 0:\n",
    "        return labels[np.argmax([x[\"confidence\"] for x in labels])][\"value\"]\n",
    "    else:\n",
    "        return \"none\"\n",
    "\n",
    "print(sentence,get_best_lab(sentence))\n"
   ]
  },
  {
   "cell_type": "code",
   "execution_count": 68,
   "id": "7560ecc6",
   "metadata": {},
   "outputs": [
    {
     "name": "stdout",
     "output_type": "stream",
     "text": [
      "Sentence: \"Photo shows Muslims in Tamil Nadu state of India are floating lockdown rules during Ramzan to offer night prayer\"   [− Tokens: 19]\n"
     ]
    }
   ],
   "source": [
    "classes = [\"Health\", \"Medicine\", \"vaccination cure\",\"virus\",\n",
    "           \"Entertainment, Art, Culture\", \n",
    "           \"Computers, Science, Technology\", \n",
    "           \"Finance\",\"Economics\",\"Economy\",\n",
    "           \"Lifestyle\",\n",
    "           \"Sport, Leisure\",\n",
    "           \"Politics\",\n",
    "           \"Opinion, Recommendation, Review\",\n",
    "           \"Traveling\",\"pandemic\",\"Government\"\n",
    "          ]\n",
    "\n",
    "#classes = [\"happy\", \"sad\", \"neutral\"]\n",
    "\n",
    "\n",
    "\n",
    "tt='Photo shows Muslims in Tamil Nadu state of India are floating lockdown rules during Ramzan to offer night prayer'\n",
    "sentence = Sentence(tt)\n",
    "tars.predict_zero_shot(sentence, classes)\n",
    "print(sentence)"
   ]
  },
  {
   "cell_type": "code",
   "execution_count": 69,
   "id": "f86b54d9",
   "metadata": {},
   "outputs": [
    {
     "name": "stderr",
     "output_type": "stream",
     "text": [
      "100%|████████████████████████████████████| 10075/10075 [01:25<00:00, 118.33it/s]\n",
      "100%|█████████████████████████████████████████| 315/315 [42:22<00:00,  8.07s/it]\n",
      "100%|███████████████████████████████████| 10075/10075 [00:03<00:00, 2549.49it/s]\n"
     ]
    }
   ],
   "source": [
    "from tqdm import tqdm\n",
    "from flair.datasets import DataLoader \n",
    "\n",
    "categories = []\n",
    "sX = [Sentence(x) for x in tqdm(X)]\n",
    "\n",
    "dataloader = DataLoader(sX, batch_size=32, num_workers=8)\n",
    "for batch in tqdm(dataloader):\n",
    "    tars.predict_zero_shot(batch, classes)\n",
    "\n",
    "for s in tqdm(sX):\n",
    "    c = get_best_lab(s)\n",
    "    categories.append(c)\n",
    "#    c = get_best_lab(s)\n",
    "#    categories.append(c)"
   ]
  },
  {
   "cell_type": "code",
   "execution_count": 70,
   "id": "41ceddb5",
   "metadata": {},
   "outputs": [],
   "source": [
    "import pickle\n",
    "# SAVE\n",
    "with open('pubhealth_categories.pickle', 'wb') as handle:\n",
    "    pickle.dump(categories, handle, protocol=pickle.HIGHEST_PROTOCOL)"
   ]
  },
  {
   "cell_type": "code",
   "execution_count": 71,
   "id": "1f69016a",
   "metadata": {
    "scrolled": true
   },
   "outputs": [
    {
     "data": {
      "text/plain": [
       "[('Computers, Science, Technology', 136),\n",
       " ('Economics', 27),\n",
       " ('Economy', 9),\n",
       " ('Entertainment, Art, Culture', 213),\n",
       " ('Finance', 1),\n",
       " ('Government', 804),\n",
       " ('Health', 1347),\n",
       " ('Medicine', 529),\n",
       " ('Opinion, Recommendation, Review', 64),\n",
       " ('Politics', 5717),\n",
       " ('Sport, Leisure', 72),\n",
       " ('Traveling', 12),\n",
       " ('none', 1042),\n",
       " ('pandemic', 41),\n",
       " ('vaccination cure', 22),\n",
       " ('virus', 39)]"
      ]
     },
     "execution_count": 71,
     "metadata": {},
     "output_type": "execute_result"
    }
   ],
   "source": [
    "oo=np.unique(categories, return_counts=True)\n",
    "list(zip(oo[0],oo[1]))"
   ]
  },
  {
   "cell_type": "code",
   "execution_count": null,
   "id": "1d88380d",
   "metadata": {},
   "outputs": [],
   "source": []
  }
 ],
 "metadata": {
  "kernelspec": {
   "display_name": "Python 3 (ipykernel)",
   "language": "python",
   "name": "python3"
  },
  "language_info": {
   "codemirror_mode": {
    "name": "ipython",
    "version": 3
   },
   "file_extension": ".py",
   "mimetype": "text/x-python",
   "name": "python",
   "nbconvert_exporter": "python",
   "pygments_lexer": "ipython3",
   "version": "3.9.7"
  }
 },
 "nbformat": 4,
 "nbformat_minor": 5
}
