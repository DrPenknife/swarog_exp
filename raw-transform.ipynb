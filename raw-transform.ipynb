{
 "cells": [
  {
   "cell_type": "code",
   "execution_count": null,
   "id": "c927368c",
   "metadata": {},
   "outputs": [],
   "source": [
    "import pandas as pd\n",
    "fak = pd.read_csv(\"../../data/swarog/datasets/isot/Fake.csv\")\n",
    "fak[\"label\"] = 1\n",
    "tru = pd.read_csv(\"../../data/swarog/datasets/isot/True.csv\")\n",
    "tru[\"label\"] = 0\n",
    "data = pd.concat((fak, tru), ignore_index=True)\n",
    "data.to_csv(\"isot.csv\")"
   ]
  },
  {
   "cell_type": "code",
   "execution_count": 8,
   "id": "4b04c157",
   "metadata": {},
   "outputs": [],
   "source": [
    "import pandas as pd\n",
    "data = pd.read_csv(\"../../data/swarog/datasets/mmcovid/news_collection.csv\",sep=\"\\t\")\n",
    "data[\"label\"] = [ 1 if v ==\"fake\" else 0 for v in data[\"label\"]]\n",
    "data[\"text\"] = [ str(v) for v in data[\"text\"]]\n",
    "data = data[data[\"lang\"] == \"en\"]\n",
    "data[\"label\"].value_counts(0)\n",
    "data.to_csv(\"mmcovid_en.csv\")"
   ]
  },
  {
   "cell_type": "code",
   "execution_count": 2,
   "id": "6c162a6c",
   "metadata": {},
   "outputs": [
    {
     "data": {
      "text/plain": [
       "0    50931\n",
       "1    12999\n",
       "Name: label, dtype: int64"
      ]
     },
     "execution_count": 2,
     "metadata": {},
     "output_type": "execute_result"
    }
   ],
   "source": [
    "import pandas as pd\n",
    "fak = pd.read_csv(\"../../data/swarog/datasets/grafn/badnews.csv\")\n",
    "fak[\"label\"] = 1\n",
    "tru = pd.read_csv(\"../../data/swarog/datasets/grafn/goodnews.csv\")\n",
    "tru[\"label\"] = 0\n",
    "data = pd.concat((fak, tru), ignore_index=True)\n",
    "data.to_csv(\"grafn.csv\")\n",
    "data[\"label\"].value_counts(0)"
   ]
  },
  {
   "cell_type": "code",
   "execution_count": null,
   "id": "15f1d387",
   "metadata": {},
   "outputs": [],
   "source": []
  }
 ],
 "metadata": {
  "kernelspec": {
   "display_name": "Python 3 (ipykernel)",
   "language": "python",
   "name": "python3"
  },
  "language_info": {
   "codemirror_mode": {
    "name": "ipython",
    "version": 3
   },
   "file_extension": ".py",
   "mimetype": "text/x-python",
   "name": "python",
   "nbconvert_exporter": "python",
   "pygments_lexer": "ipython3",
   "version": "3.9.7"
  }
 },
 "nbformat": 4,
 "nbformat_minor": 5
}
