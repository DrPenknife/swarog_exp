{
 "cells": [
  {
   "cell_type": "code",
   "execution_count": 24,
   "id": "47e6265f",
   "metadata": {
    "scrolled": false
   },
   "outputs": [
    {
     "name": "stdout",
     "output_type": "stream",
     "text": [
      "--2022-09-29 14:02:37--  https://docs.google.com/uc?export=download&confirm=t&id=111919TTsf4NW6z0QAhymUQANw_boG2yH\n",
      "Resolving docs.google.com (docs.google.com)... 142.250.75.14, 2a00:1450:401b:801::200e\n",
      "Connecting to docs.google.com (docs.google.com)|142.250.75.14|:443... connected.\n",
      "HTTP request sent, awaiting response... 303 See Other\n",
      "Location: https://doc-08-34-docs.googleusercontent.com/docs/securesc/ha0ro937gcuc7l7deffksulhg5h7mbp1/4kcpca5cs6hjku7dhnipivh2elm2c502/1664452950000/05536367513713019519/*/111919TTsf4NW6z0QAhymUQANw_boG2yH?e=download&uuid=5fd14aec-ada1-4b31-bb47-cd2d2ce4f7a5 [following]\n",
      "Warning: wildcards not supported in HTTP.\n",
      "--2022-09-29 14:02:38--  https://doc-08-34-docs.googleusercontent.com/docs/securesc/ha0ro937gcuc7l7deffksulhg5h7mbp1/4kcpca5cs6hjku7dhnipivh2elm2c502/1664452950000/05536367513713019519/*/111919TTsf4NW6z0QAhymUQANw_boG2yH?e=download&uuid=5fd14aec-ada1-4b31-bb47-cd2d2ce4f7a5\n",
      "Resolving doc-08-34-docs.googleusercontent.com (doc-08-34-docs.googleusercontent.com)... 142.250.203.193, 2a00:1450:401b:810::2001\n",
      "Connecting to doc-08-34-docs.googleusercontent.com (doc-08-34-docs.googleusercontent.com)|142.250.203.193|:443... connected.\n",
      "HTTP request sent, awaiting response... 200 OK\n",
      "Length: 1589314827 (1,5G) [application/gzip]\n",
      "Saving to: ‘nela-gt-2020.csv.gz’\n",
      "\n",
      "nela-gt-2020.csv.gz 100%[===================>]   1,48G  4,22MB/s    in 6m 12s  \n",
      "\n",
      "2022-09-29 14:08:50 (4,08 MB/s) - ‘nela-gt-2020.csv.gz’ saved [1589314827/1589314827]\n",
      "\n"
     ]
    }
   ],
   "source": [
    "!id=\"111919TTsf4NW6z0QAhymUQANw_boG2yH\"; conf=$(wget --quiet --save-cookies /tmp/cookies.txt --keep-session-cookies --no-check-certificate 'https://docs.google.com/uc?export=download&id='$id -O- | sed -rn 's/.*confirm=([0-9A-Za-z_]+).*/\\1\\n/p'); wget --load-cookies /tmp/cookies.txt \"https://docs.google.com/uc?export=download&confirm=$conf&id=$id\" -O nela-gt-2020.csv.gz && rm -rf /tmp/cookies.txt    "
   ]
  },
  {
   "cell_type": "code",
   "execution_count": 26,
   "id": "5657c6ca",
   "metadata": {},
   "outputs": [
    {
     "name": "stdout",
     "output_type": "stream",
     "text": [
      "source\ttitle\ttext\tauthor\turl\tpublished_utc\tcollection_utc\tlabel\r\n",
      "21stcenturywire\tLockdown Protest in North Carolina Called ‘non-essential activity’ by Raleigh Police\t\"More coronavirus lockdown backlash today , this time in Raleigh , North Carolina , as protesters from the group “ @ @ @ @ @ to Governor Roy Cooper ’ s stay-home order calling it “ an unconstitutional overreach that @ @ @ @ @ s small businesses , ” according to The News & Observer .\r\n"
     ]
    }
   ],
   "source": [
    "!head -2 ../../data/swarog/datasets/nela-gt-2020.csv"
   ]
  },
  {
   "cell_type": "code",
   "execution_count": 28,
   "id": "4ac759e1",
   "metadata": {},
   "outputs": [],
   "source": [
    "import pandas as pd\n",
    "data = pd.read_csv(\"../../data/swarog/datasets/nela-gt-2020.csv\", sep=\"\\t\")\n",
    "data[\"text\"] = [ str(v) for v in data[\"text\"]]\n",
    "#data.to_csv(\"./raw/fakenewsnet.csv\")\n",
    "data[\"label\"].value_counts()\n",
    "\n",
    "data=data[data[\"label\"]!=2]\n",
    "data.to_csv(\"./raw/nela-gt-2020.csv\")"
   ]
  },
  {
   "cell_type": "code",
   "execution_count": 29,
   "id": "aead0966",
   "metadata": {},
   "outputs": [
    {
     "data": {
      "text/plain": [
       "0    494808\n",
       "1    262288\n",
       "Name: label, dtype: int64"
      ]
     },
     "execution_count": 29,
     "metadata": {},
     "output_type": "execute_result"
    }
   ],
   "source": [
    "data[\"label\"].value_counts()\n"
   ]
  },
  {
   "cell_type": "code",
   "execution_count": 21,
   "id": "95f6c219",
   "metadata": {
    "scrolled": false
   },
   "outputs": [
    {
     "name": "stdout",
     "output_type": "stream",
     "text": [
      "--2022-09-29 11:24:21--  https://docs.google.com/uc?export=download&confirm=&id=1qsR-1Bg-qnxG_jUT0MU9Jft1W4hLjE2A\n",
      "Resolving docs.google.com (docs.google.com)... 142.250.186.206, 2a00:1450:401b:80e::200e\n",
      "Connecting to docs.google.com (docs.google.com)|142.250.186.206|:443... connected.\n",
      "HTTP request sent, awaiting response... 303 See Other\n",
      "Location: https://doc-10-34-docs.googleusercontent.com/docs/securesc/ha0ro937gcuc7l7deffksulhg5h7mbp1/q0kdcvfq9cef08mhka5n7uu0cng32ede/1664443425000/05536367513713019519/*/1qsR-1Bg-qnxG_jUT0MU9Jft1W4hLjE2A?e=download&uuid=7ec124ff-eda0-41e8-838f-520f0f0e5293 [following]\n",
      "Warning: wildcards not supported in HTTP.\n",
      "--2022-09-29 11:24:22--  https://doc-10-34-docs.googleusercontent.com/docs/securesc/ha0ro937gcuc7l7deffksulhg5h7mbp1/q0kdcvfq9cef08mhka5n7uu0cng32ede/1664443425000/05536367513713019519/*/1qsR-1Bg-qnxG_jUT0MU9Jft1W4hLjE2A?e=download&uuid=7ec124ff-eda0-41e8-838f-520f0f0e5293\n",
      "Resolving doc-10-34-docs.googleusercontent.com (doc-10-34-docs.googleusercontent.com)... 142.250.203.193, 2a00:1450:401b:810::2001\n",
      "Connecting to doc-10-34-docs.googleusercontent.com (doc-10-34-docs.googleusercontent.com)|142.250.203.193|:443... connected.\n",
      "HTTP request sent, awaiting response... 200 OK\n",
      "Length: 68679230 (65M) [text/csv]\n",
      "Saving to: ‘fakenewsnet.csv’\n",
      "\n",
      "fakenewsnet.csv     100%[===================>]  65,50M  4,04MB/s    in 16s     \n",
      "\n",
      "2022-09-29 11:24:39 (4,05 MB/s) - ‘fakenewsnet.csv’ saved [68679230/68679230]\n",
      "\n"
     ]
    }
   ],
   "source": [
    "!id=\"1qsR-1Bg-qnxG_jUT0MU9Jft1W4hLjE2A\"; conf=$(wget --quiet --save-cookies /tmp/cookies.txt --keep-session-cookies --no-check-certificate 'https://docs.google.com/uc?export=download&id='$id -O- | sed -rn 's/.*confirm=([0-9A-Za-z_]+).*/\\1\\n/p'); wget --load-cookies /tmp/cookies.txt \"https://docs.google.com/uc?export=download&confirm=$conf&id=$id\" -O fakenewsnet.csv && rm -rf /tmp/cookies.txt    "
   ]
  },
  {
   "cell_type": "code",
   "execution_count": 23,
   "id": "3312efb6",
   "metadata": {},
   "outputs": [
    {
     "data": {
      "text/plain": [
       "0    14119\n",
       "1     4571\n",
       "Name: label, dtype: int64"
      ]
     },
     "execution_count": 23,
     "metadata": {},
     "output_type": "execute_result"
    }
   ],
   "source": [
    "import pandas as pd\n",
    "data = pd.read_csv(\"../../data/swarog/datasets/fakenewsnet.csv\", sep=\"\\t\")\n",
    "data[\"text\"] = [ str(v) for v in data[\"text\"]]\n",
    "data.to_csv(\"./raw/fakenewsnet.csv\")\n",
    "data[\"label\"].value_counts()\n"
   ]
  },
  {
   "cell_type": "code",
   "execution_count": 12,
   "id": "c8096316",
   "metadata": {
    "scrolled": false
   },
   "outputs": [
    {
     "name": "stdout",
     "output_type": "stream",
     "text": [
      "--2022-09-29 10:43:06--  https://docs.google.com/uc?export=download&confirm=&id=1ksl4YWrsNT5tML4eqVYzeATqd4Bzt57g\n",
      "Resolving docs.google.com (docs.google.com)... 142.250.75.14, 2a00:1450:401b:801::200e\n",
      "Connecting to docs.google.com (docs.google.com)|142.250.75.14|:443... connected.\n",
      "HTTP request sent, awaiting response... 303 See Other\n",
      "Location: https://doc-0g-34-docs.googleusercontent.com/docs/securesc/ha0ro937gcuc7l7deffksulhg5h7mbp1/7e0suuu09co528g1c9d85ldid5p7if9b/1664440950000/05536367513713019519/*/1ksl4YWrsNT5tML4eqVYzeATqd4Bzt57g?e=download&uuid=843aa054-7550-4f9a-896a-78d96ed952aa [following]\n",
      "Warning: wildcards not supported in HTTP.\n",
      "--2022-09-29 10:43:07--  https://doc-0g-34-docs.googleusercontent.com/docs/securesc/ha0ro937gcuc7l7deffksulhg5h7mbp1/7e0suuu09co528g1c9d85ldid5p7if9b/1664440950000/05536367513713019519/*/1ksl4YWrsNT5tML4eqVYzeATqd4Bzt57g?e=download&uuid=843aa054-7550-4f9a-896a-78d96ed952aa\n",
      "Resolving doc-0g-34-docs.googleusercontent.com (doc-0g-34-docs.googleusercontent.com)... 142.250.203.193, 2a00:1450:401b:810::2001\n",
      "Connecting to doc-0g-34-docs.googleusercontent.com (doc-0g-34-docs.googleusercontent.com)|142.250.203.193|:443... connected.\n",
      "HTTP request sent, awaiting response... 200 OK\n",
      "Length: 2921881 (2,8M) [text/csv]\n",
      "Saving to: ‘liar.csv’\n",
      "\n",
      "liar.csv            100%[===================>]   2,79M  3,72MB/s    in 0,7s    \n",
      "\n",
      "2022-09-29 10:43:08 (3,72 MB/s) - ‘liar.csv’ saved [2921881/2921881]\n",
      "\n"
     ]
    }
   ],
   "source": [
    "!id=\"1ksl4YWrsNT5tML4eqVYzeATqd4Bzt57g\"; conf=$(wget --quiet --save-cookies /tmp/cookies.txt --keep-session-cookies --no-check-certificate 'https://docs.google.com/uc?export=download&id='$id -O- | sed -rn 's/.*confirm=([0-9A-Za-z_]+).*/\\1\\n/p'); wget --load-cookies /tmp/cookies.txt \"https://docs.google.com/uc?export=download&confirm=$conf&id=$id\" -O liar.csv && rm -rf /tmp/cookies.txt    "
   ]
  },
  {
   "cell_type": "code",
   "execution_count": 14,
   "id": "b0372aa4",
   "metadata": {},
   "outputs": [
    {
     "name": "stdout",
     "output_type": "stream",
     "text": [
      "statement\tsubjects\tspeaker\tjob_title\tstate\tparty\tbarely_true_count\tfalse_count\thalf_true_count\tmostly_true_count\tpants_on_fire_count\tcontext\tlabel\r\n",
      "Says the Annies List political group supports third-trimester abortions on demand.\tabortion\tdwayne-bohac\tState representative\tTexas\trepublican\t0.0\t1.0\t0.0\t0.0\t0.0\ta mailer\t4\r\n",
      "When did the decline of coal start? It started when natural gas took off that started to begin in (President George W.) Bushs administration.\tenergy,history,job-accomplishments\tscott-surovell\tState delegate\tVirginia\tdemocrat\t0.0\t0.0\t1.0\t1.0\t0.0\ta floor speech.\t1\r\n",
      "\"Hillary Clinton agrees with John McCain \"\"by voting to give George Bush the benefit of the doubt on Iran.\"\"\"\tforeign-policy\tbarack-obama\tPresident\tIllinois\tdemocrat\t70.0\t71.0\t160.0\t163.0\t9.0\tDenver\t2\r\n",
      "Health care reform legislation is likely to mandate free sex change surgeries.\thealth-care\tblog-posting\t\t\tnone\t7.0\t19.0\t3.0\t5.0\t44.0\ta news release\t4\r\n",
      "The economic turnaround started at the end of my term.\teconomy,jobs\tcharlie-crist\t\tFlorida\tdemocrat\t15.0\t9.0\t20.0\t19.0\t2.0\tan interview on CNN\t1\r\n",
      "The Chicago Bears have had more starting quarterbacks in the last 10 years than the total number of tenured (UW) faculty fired during the last two decades.\teducation\trobin-vos\tWisconsin Assembly speaker\tWisconsin\trepublican\t0.0\t3.0\t2.0\t5.0\t1.0\ta an online opinion-piece\t0\r\n",
      "Jim Dunnam has not lived in the district he represents for years now.\tcandidates-biography\trepublican-party-texas\t\tTexas\trepublican\t3.0\t1.0\t1.0\t3.0\t1.0\ta press release.\t3\r\n",
      "I'm the only person on this stage who has worked actively just last year passing, along with Russ Feingold, some of the toughest ethics reform since Watergate.\tethics\tbarack-obama\tPresident\tIllinois\tdemocrat\t70.0\t71.0\t160.0\t163.0\t9.0\ta Democratic debate in Philadelphia, Pa.\t1\r\n",
      "However, it took $19.5 million in Oregon Lottery funds for the Port of Newport to eventually land the new NOAA Marine Operations Center-Pacific.\tjobs\toregon-lottery\t\t\torganization\t0.0\t0.0\t1.0\t0.0\t1.0\ta website \t1\r\n"
     ]
    }
   ],
   "source": [
    "!head ../../data/swarog/datasets/liar.csv"
   ]
  },
  {
   "cell_type": "code",
   "execution_count": 20,
   "id": "540bc622",
   "metadata": {},
   "outputs": [
    {
     "data": {
      "text/plain": [
       "0    4507\n",
       "1    3554\n",
       "Name: label, dtype: int64"
      ]
     },
     "execution_count": 20,
     "metadata": {},
     "output_type": "execute_result"
    }
   ],
   "source": [
    "import pandas as pd\n",
    "data = pd.read_csv(\"../../data/swarog/datasets/liar.csv\", sep=\"\\t\")\n",
    "\n",
    "def mpx(x):\n",
    "    if x in [0,2]:\n",
    "        return 0\n",
    "    elif x in [4,5]:\n",
    "        return 1\n",
    "    else:\n",
    "        return -1\n",
    "\n",
    "data[\"text\"] = data[\"statement\"]\n",
    "data[\"label\"] = [mpx(x) for x in data[\"label\"]]\n",
    "data=data[ data[\"label\"] != -1] \n",
    "    \n",
    "data.to_csv(\"./raw/liar.csv\")\n",
    "data[\"label\"].value_counts()\n"
   ]
  },
  {
   "cell_type": "code",
   "execution_count": 3,
   "id": "df7959ec",
   "metadata": {
    "scrolled": true
   },
   "outputs": [
    {
     "name": "stdout",
     "output_type": "stream",
     "text": [
      "--2022-09-29 10:12:57--  https://docs.google.com/uc?export=download&confirm=&id=144AN6Bkrp7UDAa6gvoPjxRy4T7NdeplN\n",
      "Resolving docs.google.com (docs.google.com)... 216.58.215.110, 2a00:1450:401b:802::200e\n",
      "Connecting to docs.google.com (docs.google.com)|216.58.215.110|:443... connected.\n",
      "HTTP request sent, awaiting response... 303 See Other\n",
      "Location: https://doc-0s-34-docs.googleusercontent.com/docs/securesc/ha0ro937gcuc7l7deffksulhg5h7mbp1/i609ip40trbiqdoimfmuaggvpcervamc/1664439150000/05536367513713019519/*/144AN6Bkrp7UDAa6gvoPjxRy4T7NdeplN?e=download&uuid=6aa41973-6791-43bc-a090-bfb598fc2774 [following]\n",
      "Warning: wildcards not supported in HTTP.\n",
      "--2022-09-29 10:12:57--  https://doc-0s-34-docs.googleusercontent.com/docs/securesc/ha0ro937gcuc7l7deffksulhg5h7mbp1/i609ip40trbiqdoimfmuaggvpcervamc/1664439150000/05536367513713019519/*/144AN6Bkrp7UDAa6gvoPjxRy4T7NdeplN?e=download&uuid=6aa41973-6791-43bc-a090-bfb598fc2774\n",
      "Resolving doc-0s-34-docs.googleusercontent.com (doc-0s-34-docs.googleusercontent.com)... 142.250.203.193, 2a00:1450:401b:810::2001\n",
      "Connecting to doc-0s-34-docs.googleusercontent.com (doc-0s-34-docs.googleusercontent.com)|142.250.203.193|:443... connected.\n",
      "HTTP request sent, awaiting response... 200 OK\n",
      "Length: 12398268 (12M) [text/csv]\n",
      "Saving to: ‘feverous.csv’\n",
      "\n",
      "feverous.csv        100%[===================>]  11,82M  4,03MB/s    in 2,9s    \n",
      "\n",
      "2022-09-29 10:13:00 (4,03 MB/s) - ‘feverous.csv’ saved [12398268/12398268]\n",
      "\n"
     ]
    }
   ],
   "source": [
    "!id=\"144AN6Bkrp7UDAa6gvoPjxRy4T7NdeplN\"; conf=$(wget --quiet --save-cookies /tmp/cookies.txt --keep-session-cookies --no-check-certificate 'https://docs.google.com/uc?export=download&id='$id -O- | sed -rn 's/.*confirm=([0-9A-Za-z_]+).*/\\1\\n/p'); wget --load-cookies /tmp/cookies.txt \"https://docs.google.com/uc?export=download&confirm=$conf&id=$id\" -O feverous.csv && rm -rf /tmp/cookies.txt    "
   ]
  },
  {
   "cell_type": "code",
   "execution_count": 5,
   "id": "90f92434",
   "metadata": {
    "scrolled": true
   },
   "outputs": [
    {
     "name": "stdout",
     "output_type": "stream",
     "text": [
      "text\tlabel\r\n",
      "Algebraic logic has five Logical system and Lindenbaum–Tarski algebra which includes Physics algebra and Nodal algebra (provide models of propositional modal logics).\t1\r\n"
     ]
    }
   ],
   "source": [
    "!head -2 feverous.csv"
   ]
  },
  {
   "cell_type": "code",
   "execution_count": 11,
   "id": "4350b1ca",
   "metadata": {},
   "outputs": [],
   "source": [
    "import pandas as pd\n",
    "data = pd.read_csv(\"../../data/swarog/datasets/feverous.csv\", sep=\"\\t\")\n",
    "\n",
    "def mpx(x):\n",
    "    if x == 2:\n",
    "        return 0\n",
    "    elif x == 1:\n",
    "        return 1\n",
    "    else:\n",
    "        return -1\n",
    "    \n",
    "data[\"label\"] = [mpx(x) for x in data[\"label\"]]\n",
    "data = data[data[\"label\"]>-1]\n",
    "\n",
    "data[\"label\"].value_counts()\n",
    "data.to_csv(\"./raw/feverous.csv\")"
   ]
  },
  {
   "cell_type": "code",
   "execution_count": 2,
   "id": "f06323a9",
   "metadata": {
    "scrolled": false
   },
   "outputs": [
    {
     "name": "stdout",
     "output_type": "stream",
     "text": [
      "--2022-09-29 10:12:48--  https://docs.google.com/uc?export=download&confirm=&id=1I9LQHDqG6JTuJ6Hf-RQzoCaWFaPvCFs0\n",
      "Resolving docs.google.com (docs.google.com)... 216.58.215.110, 2a00:1450:401b:802::200e\n",
      "Connecting to docs.google.com (docs.google.com)|216.58.215.110|:443... connected.\n",
      "HTTP request sent, awaiting response... 303 See Other\n",
      "Location: https://doc-0o-34-docs.googleusercontent.com/docs/securesc/ha0ro937gcuc7l7deffksulhg5h7mbp1/upluukups7urhgjk1q6aurtub28lh36t/1664439150000/05536367513713019519/*/1I9LQHDqG6JTuJ6Hf-RQzoCaWFaPvCFs0?e=download&uuid=71123662-2159-4426-aeb9-6f2a440c1bad [following]\n",
      "Warning: wildcards not supported in HTTP.\n",
      "--2022-09-29 10:12:49--  https://doc-0o-34-docs.googleusercontent.com/docs/securesc/ha0ro937gcuc7l7deffksulhg5h7mbp1/upluukups7urhgjk1q6aurtub28lh36t/1664439150000/05536367513713019519/*/1I9LQHDqG6JTuJ6Hf-RQzoCaWFaPvCFs0?e=download&uuid=71123662-2159-4426-aeb9-6f2a440c1bad\n",
      "Resolving doc-0o-34-docs.googleusercontent.com (doc-0o-34-docs.googleusercontent.com)... 142.250.203.193, 2a00:1450:401b:810::2001\n",
      "Connecting to doc-0o-34-docs.googleusercontent.com (doc-0o-34-docs.googleusercontent.com)|142.250.203.193|:443... connected.\n",
      "HTTP request sent, awaiting response... 200 OK\n",
      "Length: 2773030 (2,6M) [text/csv]\n",
      "Saving to: ‘politifact.csv’\n",
      "\n",
      "politifact.csv      100%[===================>]   2,64M  3,81MB/s    in 0,7s    \n",
      "\n",
      "2022-09-29 10:12:50 (3,81 MB/s) - ‘politifact.csv’ saved [2773030/2773030]\n",
      "\n"
     ]
    }
   ],
   "source": [
    "!id=\"1I9LQHDqG6JTuJ6Hf-RQzoCaWFaPvCFs0\"; conf=$(wget --quiet --save-cookies /tmp/cookies.txt --keep-session-cookies --no-check-certificate 'https://docs.google.com/uc?export=download&id='$id -O- | sed -rn 's/.*confirm=([0-9A-Za-z_]+).*/\\1\\n/p'); wget --load-cookies /tmp/cookies.txt \"https://docs.google.com/uc?export=download&confirm=$conf&id=$id\" -O politifact.csv && rm -rf /tmp/cookies.txt"
   ]
  },
  {
   "cell_type": "code",
   "execution_count": 39,
   "id": "30fc5921",
   "metadata": {},
   "outputs": [
    {
     "data": {
      "text/plain": [
       "0    7639\n",
       "1    2824\n",
       "Name: label, dtype: int64"
      ]
     },
     "execution_count": 39,
     "metadata": {},
     "output_type": "execute_result"
    }
   ],
   "source": [
    "import pandas as pd\n",
    "data = pd.read_csv(\"../../data/swarog/datasets/politifact.csv\", sep=\"\\t\")\n",
    "\n",
    "def mpx(x):\n",
    "    if x <= 3:\n",
    "        return 0\n",
    "    elif x >3:\n",
    "        return 1\n",
    "    else:\n",
    "        return -1\n",
    "    \n",
    "data[\"label\"] = [mpx(x) for x in data[\"label\"]]\n",
    "data=data[ data[\"label\"] != -1 ]\n",
    "data.to_csv(\"./raw/politifact.csv\")\n",
    "data[\"text\"] = data[\"speaker\"].astype(str) +\". \"+ data[\"text\"].astype(str) +\". \"+ data[\"explanation\"].astype(str)\n",
    "data[\"label\"].value_counts()\n"
   ]
  },
  {
   "cell_type": "code",
   "execution_count": null,
   "id": "c927368c",
   "metadata": {},
   "outputs": [],
   "source": [
    "import pandas as pd\n",
    "fak = pd.read_csv(\"../../data/swarog/datasets/isot/Fake.csv\")\n",
    "fak[\"label\"] = 1\n",
    "tru = pd.read_csv(\"../../data/swarog/datasets/isot/True.csv\")\n",
    "tru[\"label\"] = 0\n",
    "data = pd.concat((fak, tru), ignore_index=True)\n",
    "data.to_csv(\"isot.csv\")"
   ]
  },
  {
   "cell_type": "code",
   "execution_count": 8,
   "id": "4b04c157",
   "metadata": {},
   "outputs": [],
   "source": [
    "import pandas as pd\n",
    "data = pd.read_csv(\"../../data/swarog/datasets/mmcovid/news_collection.csv\",sep=\"\\t\")\n",
    "data[\"label\"] = [ 1 if v ==\"fake\" else 0 for v in data[\"label\"]]\n",
    "data[\"text\"] = [ str(v) for v in data[\"text\"]]\n",
    "data = data[data[\"lang\"] == \"en\"]\n",
    "data[\"label\"].value_counts(0)\n",
    "data.to_csv(\"mmcovid_en.csv\")"
   ]
  },
  {
   "cell_type": "code",
   "execution_count": 2,
   "id": "6c162a6c",
   "metadata": {},
   "outputs": [
    {
     "data": {
      "text/plain": [
       "0    50931\n",
       "1    12999\n",
       "Name: label, dtype: int64"
      ]
     },
     "execution_count": 2,
     "metadata": {},
     "output_type": "execute_result"
    }
   ],
   "source": [
    "import pandas as pd\n",
    "fak = pd.read_csv(\"../../data/swarog/datasets/grafn/badnews.csv\")\n",
    "fak[\"label\"] = 1\n",
    "tru = pd.read_csv(\"../../data/swarog/datasets/grafn/goodnews.csv\")\n",
    "tru[\"label\"] = 0\n",
    "data = pd.concat((fak, tru), ignore_index=True)\n",
    "data.to_csv(\"grafn.csv\")\n",
    "data[\"label\"].value_counts(0)"
   ]
  },
  {
   "cell_type": "code",
   "execution_count": 2,
   "id": "15f1d387",
   "metadata": {},
   "outputs": [
    {
     "name": "stdout",
     "output_type": "stream",
     "text": [
      "Number of processors:  8\n"
     ]
    }
   ],
   "source": [
    "import multiprocessing as mp\n",
    "print(\"Number of processors: \", mp.cpu_count())"
   ]
  }
 ],
 "metadata": {
  "kernelspec": {
   "display_name": "Python 3 (ipykernel)",
   "language": "python",
   "name": "python3"
  },
  "language_info": {
   "codemirror_mode": {
    "name": "ipython",
    "version": 3
   },
   "file_extension": ".py",
   "mimetype": "text/x-python",
   "name": "python",
   "nbconvert_exporter": "python",
   "pygments_lexer": "ipython3",
   "version": "3.9.7"
  }
 },
 "nbformat": 4,
 "nbformat_minor": 5
}
