{
 "cells": [
  {
   "cell_type": "code",
   "execution_count": 37,
   "id": "4c00988f",
   "metadata": {},
   "outputs": [],
   "source": [
    "txt = \"\"\"\n",
    "+++++++++++\n",
    " Average   \n",
    "+++++++++++\n",
    " 97.0 ± 0.2\n",
    " 77.3 ± 1.3\n",
    " 96.7 ± 0.2\n",
    " 74.1 ± 1.8\n",
    " 96.7 ± 0.2\n",
    " 97.0 ± 0.2\n",
    "+++++++++++\n",
    "\n",
    "+++++++++++\n",
    " Average   \n",
    "+++++++++++\n",
    " 92.2 ± 0.3\n",
    " 87.6 ± 0.8\n",
    " 91.9 ± 0.4\n",
    " 87.0 ± 0.9\n",
    " 92.2 ± 0.3\n",
    " 92.2 ± 0.3\n",
    "+++++++++++\n",
    "\n",
    "+++++++++++\n",
    " Average   \n",
    "+++++++++++\n",
    " 80.2 ± 0.5\n",
    " 78.8 ± 0.5\n",
    " 80.2 ± 0.5\n",
    " 78.6 ± 0.5\n",
    " 80.2 ± 0.5\n",
    " 80.2 ± 0.5\n",
    "+++++++++++\n",
    "\n",
    "+++++++++++\n",
    " Average   \n",
    "+++++++++++\n",
    " 93.1 ± 0.1\n",
    " 76.7 ± 0.4\n",
    " 92.6 ± 0.1\n",
    " 73.8 ± 0.6\n",
    " 92.5 ± 0.1\n",
    " 93.1 ± 0.1\n",
    "+++++++++++\n",
    "\n",
    "+++++++++++\n",
    " Average   \n",
    "+++++++++++\n",
    " 99.2 ± 0.0\n",
    " 99.3 ± 0.0\n",
    " 99.2 ± 0.0\n",
    " 99.3 ± 0.0\n",
    " 99.2 ± 0.0\n",
    " 99.2 ± 0.0\n",
    "+++++++++++\n",
    "\n",
    "+++++++++++\n",
    " Average   \n",
    "+++++++++++\n",
    " 88.9 ± 0.1\n",
    " 79.9 ± 0.2\n",
    " 88.5 ± 0.1\n",
    " 78.4 ± 0.2\n",
    " 88.4 ± 0.1\n",
    " 88.9 ± 0.1\n",
    "+++++++++++\n",
    "\"\"\""
   ]
  },
  {
   "cell_type": "code",
   "execution_count": 38,
   "id": "e56e882c",
   "metadata": {},
   "outputs": [
    {
     "name": "stdout",
     "output_type": "stream",
     "text": [
      "1 &  97.0 ± 0.2 &  77.3 ± 1.3 &  96.7 ± 0.2 &  74.1 ± 1.8 &  96.7 ± 0.2 &  97.0 ± 0.2 \\\\\n",
      "2 &  92.2 ± 0.3 &  87.6 ± 0.8 &  91.9 ± 0.4 &  87.0 ± 0.9 &  92.2 ± 0.3 &  92.2 ± 0.3 \\\\\n",
      "3 &  80.2 ± 0.5 &  78.8 ± 0.5 &  80.2 ± 0.5 &  78.6 ± 0.5 &  80.2 ± 0.5 &  80.2 ± 0.5 \\\\\n",
      "4 &  93.1 ± 0.1 &  76.7 ± 0.4 &  92.6 ± 0.1 &  73.8 ± 0.6 &  92.5 ± 0.1 &  93.1 ± 0.1 \\\\\n",
      "5 &  99.2 ± 0.0 &  99.3 ± 0.0 &  99.2 ± 0.0 &  99.3 ± 0.0 &  99.2 ± 0.0 &  99.2 ± 0.0 \\\\\n",
      "6 &  88.9 ± 0.1 &  79.9 ± 0.2 &  88.5 ± 0.1 &  78.4 ± 0.2 &  88.4 ± 0.1 &  88.9 ± 0.1 \\\\\n"
     ]
    }
   ],
   "source": [
    "lines = txt.split(\"\\n\")\n",
    "nums = [row for row in lines if len(row)>0 and row[1]>='0' and row[1]<='9']\n",
    "for r in range(6):\n",
    "    print(str(r+1) + \" & \" + \" & \".join(nums[r*6:((r+1)*6)]) + ' \\\\\\\\' )"
   ]
  },
  {
   "cell_type": "code",
   "execution_count": 42,
   "id": "0fe68365",
   "metadata": {},
   "outputs": [
    {
     "name": "stdout",
     "output_type": "stream",
     "text": [
      "77.3\n",
      "87.6\n",
      "78.8\n",
      "76.7\n",
      "99.3\n",
      "79.9\n"
     ]
    }
   ],
   "source": [
    "lines = txt.split(\"\\n\")\n",
    "nums = [row for row in lines if len(row)>0 and row[1]>='0' and row[1]<='9']\n",
    "for r in range(6):\n",
    "    print(nums[6*r+1].split(\" \")[1])"
   ]
  },
  {
   "cell_type": "code",
   "execution_count": 43,
   "id": "0d1d3bb2",
   "metadata": {},
   "outputs": [
    {
     "name": "stdout",
     "output_type": "stream",
     "text": [
      "77.0\n",
      "85.5\n",
      "78.4\n",
      "76.9\n",
      "98.5\n",
      "78.9\n"
     ]
    }
   ],
   "source": [
    "txt=\"\"\"\n",
    "0 76.99522390361922 0.9880016579824921\n",
    "1 85.47554820744865 1.0903930035338982\n",
    "2 78.37565862824876 1.1339390377801049\n",
    "3 76.8717917899595 0.562654706736502\n",
    "4 98.50583071863126 0.18242687937771074\n",
    "5 78.88252973645932 0.1715809037495578\n",
    "\"\"\"\n",
    "lines = [l for l in txt.split(\"\\n\") if len(l) > 0]\n",
    "nums=[l.split(\" \")[1] for l in lines]\n",
    "for n in nums:\n",
    "    print(\"%.1f\" % float(n))"
   ]
  },
  {
   "cell_type": "code",
   "execution_count": null,
   "id": "b072965f",
   "metadata": {},
   "outputs": [],
   "source": []
  }
 ],
 "metadata": {
  "kernelspec": {
   "display_name": "Python 3 (ipykernel)",
   "language": "python",
   "name": "python3"
  },
  "language_info": {
   "codemirror_mode": {
    "name": "ipython",
    "version": 3
   },
   "file_extension": ".py",
   "mimetype": "text/x-python",
   "name": "python",
   "nbconvert_exporter": "python",
   "pygments_lexer": "ipython3",
   "version": "3.9.7"
  }
 },
 "nbformat": 4,
 "nbformat_minor": 5
}
