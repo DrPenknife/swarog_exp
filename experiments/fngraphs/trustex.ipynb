{
 "cells": [
  {
   "cell_type": "markdown",
   "id": "25c253dd-4f4d-4d21-95ad-b13158f36ac0",
   "metadata": {},
   "source": [
    "# Data loader"
   ]
  },
  {
   "cell_type": "code",
   "execution_count": 36,
   "id": "6b8c529a-ae5c-4661-8a68-f4e3bb333b80",
   "metadata": {},
   "outputs": [],
   "source": [
    "import pandas as pd\n",
    "\n",
    "from sklearn.model_selection import RepeatedStratifiedKFold\n",
    "rskf = RepeatedStratifiedKFold(n_splits=10, n_repeats=1, random_state=1410)\n",
    "\n",
    "class DatasetLoader:\n",
    "    def get(self, name):\n",
    "        print(f\"loading {name}\")\n",
    "        if name == \"fnkdd\":\n",
    "            data = pd.read_csv(\"/home/rkozik/Desktop/swarog_exp_disk/datasets/fakenewskdd/train.csv\",sep=\"\\t\")\n",
    "            data.head()\n",
    "            body = data[\"text\"].values\n",
    "            labels = data[\"label\"].values\n",
    "            total_number_of_claims = data.shape[0]\n",
    "            print(\"total_number_of_claims=\",total_number_of_claims)\n",
    "            print(\"labels fake=\",sum(labels),\"real=\", len(labels)-sum(labels))\n",
    "        \n",
    "        if name == \"mmcovid\":\n",
    "            data = pd.read_csv(\"/media/rkozik/02FF-A831/data/swarog/datasets/mmcovid/news_collection.csv\",sep=\"\\t\")\n",
    "            data[\"label\"] = [ 1 if v ==\"fake\" else 0 for v in data[\"label\"]]\n",
    "            data[\"text\"] = [ str(v) for v in data[\"text\"]]\n",
    "            data = data[data[\"lang\"] == \"en\"]\n",
    "\n",
    "            body = data[\"text\"].values\n",
    "            labels = data[\"label\"].values\n",
    "            total_number_of_claims = data.shape[0]\n",
    "            print(\"total_number_of_claims=\",total_number_of_claims)\n",
    "            print(\"labels fake=\",sum(labels),\"real=\", len(labels)-sum(labels))\n",
    "        \n",
    "        if name == \"liar\":\n",
    "            data = pd.read_csv(\"/media/rkozik/02FF-A831/data/swarog/datasets/liar.csv\", sep=\"\\t\",encoding=\"utf-8\")\n",
    "            def mpx(x):\n",
    "                if x in [0,2]:\n",
    "                    return 0\n",
    "                elif x in [4,5]:\n",
    "                    return 1\n",
    "                else:\n",
    "                    return -1\n",
    "            data[\"text\"] = data[\"statement\"]\n",
    "            data[\"label\"] = [mpx(x) for x in data[\"label\"]]\n",
    "            data=data[ data[\"label\"] != -1] \n",
    "            body = data[\"text\"].values\n",
    "            labels = data[\"label\"].values\n",
    "            total_number_of_claims = data.shape[0]\n",
    "            print(\"total_number_of_claims=\",total_number_of_claims)\n",
    "            print(\"labels fake=\",sum(labels),\"real=\", len(labels)-sum(labels))\n",
    "\n",
    "        if name == \"covidfn\":\n",
    "            data = pd.read_csv(\"covid_fake_news.csv\", sep=\"\\t\")\n",
    "            body = data[\"title\"].values\n",
    "            labels = data[\"label\"].values\n",
    "            total_number_of_claims = data.shape[0]\n",
    "            print(\"total_number_of_claims=\",total_number_of_claims)\n",
    "            print(\"labels fake=\",sum(labels),\"real=\", len(labels)-sum(labels))\n",
    "        \n",
    "        return body, labels, total_number_of_claims"
   ]
  },
  {
   "cell_type": "markdown",
   "id": "41ec5cb3-4b6a-42d7-85ee-b5af2327ed5b",
   "metadata": {},
   "source": [
    "# Utility functions"
   ]
  },
  {
   "cell_type": "code",
   "execution_count": 97,
   "id": "4d1d03d0-9868-4c57-8677-c8ccb6f2a455",
   "metadata": {},
   "outputs": [],
   "source": [
    "from tqdm import tqdm\n",
    "from sklearn.metrics import accuracy_score, balanced_accuracy_score, f1_score, precision_score, recall_score, roc_auc_score\n",
    "from imblearn.metrics import geometric_mean_score\n",
    "from IPython.display import clear_output\n",
    "\n",
    "\n",
    "\n",
    "class Metrics:\n",
    "    def __init__(self):\n",
    "        self.scores = {\n",
    "            'Accuracy': {'func': accuracy_score},\n",
    "            'Balanced Accuracy': {'func': balanced_accuracy_score},\n",
    "            'F1': {'func': f1_score},\n",
    "            'Precision': {'func': precision_score},\n",
    "            'Recall': {'func': recall_score},\n",
    "            'G-mean': {'func': geometric_mean_score}\n",
    "        }\n",
    "        \n",
    "        for score_name, score_dict in self.scores.items():\n",
    "            score_dict[\"list\"] = []\n",
    "            score_dict[\"lab\"] = []\n",
    "\n",
    "    def update(self, actual, prediction):\n",
    "        for score_name, score_dict in self.scores.items():\n",
    "            if score_name in [\"F1\",\"Precision\",\"Recall\",\"G-mean\"]:\n",
    "                scorvaln = score_dict['func'](actual, prediction, average=None)\n",
    "                score_dict['lab'].append(scorvaln)\n",
    "                scorval = score_dict['func'](actual, prediction, average=\"weighted\")\n",
    "                score_dict['list'].append(scorval)\n",
    "                #print(score_name, scorval, scorvaln)  \n",
    "            else:\n",
    "                scorval=score_dict['func'](actual, prediction)\n",
    "                score_dict['list'].append(scorval)\n",
    "                \n",
    "    def print_table(self, labels=None):\n",
    "        # Print stats\n",
    "        scores = self.scores\n",
    "        numlabels = scores[\"F1\"][\"lab\"][0].shape[0]\n",
    "        scores[\"F1\"][\"lab\"][0].shape[0] \n",
    "        head = \"  %-20s  %-10s  \" +  numlabels * \" %-10s  \" \n",
    "        headv = [\"Score\", \"Average\"]\n",
    "        if labels:\n",
    "            headv.extend([labels[i] for i in range(numlabels)])\n",
    "        else:\n",
    "            headv.extend([\"Lab:\"+str(i+1) for i in range(numlabels)])\n",
    "        row=head % tuple(headv)\n",
    "        # table header\n",
    "        print(\"―\"*len(row))\n",
    "        print(row)\n",
    "        print(\"―\"*len(row))\n",
    "        # table rows\n",
    "        for score_name, score_dict in sorted(scores.items()) :\n",
    "            headv = [score_name, np.mean(score_dict['list'])*100, np.std(score_dict['list'])*100]\n",
    "            for i in range(numlabels):\n",
    "                if score_name in [\"F1\",\"Precision\",\"Recall\", \"G-mean\"]:\n",
    "                    head = \"  %-20s  %4.1f ± %4.1f  \" + numlabels* \"%4.1f ± %4.1f  \"\n",
    "                    vals = [v[i] for v in scores[score_name][\"lab\"]]\n",
    "                    headv.append(np.mean(vals)*100)\n",
    "                    headv.append(np.std(vals)*100)\n",
    "                else:\n",
    "                    head = \"  %-20s  %4.1f ± %4.1f  \" + numlabels * \"%-11s  \" \n",
    "                    headv.append(\"-\")\n",
    "            print(head % tuple(headv))\n",
    "        print(\"―\"*len(row))\n",
    "\n",
    "\n",
    "def get_graph_node_stats(vec, nearestDocIDs, y_train, bodyTrainTFIDF):   \n",
    "    vecdense = vec.toarray()[0]\n",
    "    docids = nearestDocIDs\n",
    "    trlabels = np.array(y_train)\n",
    "    labsum = trlabels[docids].sum()\n",
    "    \n",
    "    ivec = []\n",
    "    labmask = []\n",
    "    for hitdocid in docids:\n",
    "        value=bodyTrainTFIDF[hitdocid].toarray()[0]\n",
    "        intersection = (vecdense>0)*(value>0)\n",
    "        ivec.append(intersection.sum())\n",
    "        labmask.append(trlabels[hitdocid])\n",
    "        \n",
    "    masked_ivec =  np.array(ivec)*np.array(labmask)   \n",
    "    masked_ivec_neg =  np.array(ivec)*(-1*(np.array(labmask)-1)) \n",
    "    ivec = np.array(ivec)\n",
    "    masked_ivec = np.array(masked_ivec)\n",
    "    masked_ivec_neg = np.array(masked_ivec_neg)\n",
    "    \n",
    "    newvec = [labsum, (vecdense>0).sum(),ivec.max(), ivec.max(), masked_ivec.max(), masked_ivec.min(), masked_ivec_neg.max(), masked_ivec_neg.min()]\n",
    "    return newvec"
   ]
  },
  {
   "cell_type": "markdown",
   "id": "d842a6fe-2dea-45f6-91c0-f98d14065865",
   "metadata": {},
   "source": [
    "# Swarog Model"
   ]
  },
  {
   "cell_type": "code",
   "execution_count": 101,
   "id": "551840b1-0372-4cf3-be75-520adda5ac2d",
   "metadata": {},
   "outputs": [
    {
     "name": "stdout",
     "output_type": "stream",
     "text": [
      "using device: cuda\n"
     ]
    }
   ],
   "source": [
    "import numpy as np\n",
    "import bentoml\n",
    "from bentoml.io import NumpyNdarray\n",
    "from bentoml.io import JSON\n",
    "from annoy import AnnoyIndex\n",
    "import re\n",
    "\n",
    "import transformers\n",
    "transformers.logging.set_verbosity_error()\n",
    "from torch.utils.data import DataLoader \n",
    "\n",
    "from transformers import AutoTokenizer\n",
    "from transformers import AutoModel\n",
    "from transformers import TFDistilBertModel, DistilBertTokenizerFast\n",
    "import torch\n",
    "from scipy.sparse import csr_matrix\n",
    "\n",
    "from sklearn.feature_extraction.text import TfidfVectorizer\n",
    "from nltk import word_tokenize          \n",
    "from nltk.stem import WordNetLemmatizer\n",
    "import nltk\n",
    "from nltk.corpus import stopwords\n",
    "import pickle5 as pickle\n",
    "import sqlite3\n",
    "from tqdm import tqdm\n",
    " \n",
    "device = torch.device('cuda') if torch.cuda.is_available() else torch.device('cpu')\n",
    "print(\"using device:\", device)\n",
    "\n",
    "if \"disilbert_model\" not in locals():\n",
    "    disilbert_tokenizer =  AutoTokenizer.from_pretrained(\"distilbert-base-uncased\")\n",
    "    disilbert_model = AutoModel.from_pretrained(\"distilbert-base-uncased\")\n",
    "    handle = disilbert_model.to(device)\n",
    "\n",
    "class SwarogModel:\n",
    "    def __init__(self):\n",
    "        self.tokenizer =  disilbert_tokenizer\n",
    "        self.model = disilbert_tokenizer\n",
    "        self.max_length = 256\n",
    "        self.model_name = disilbert_model\n",
    "\n",
    "    def fit(self, X=None, y=None):\n",
    "        pass\n",
    "    \n",
    "    def encode(self, txt):\n",
    "        return self.tokenizer(txt, max_length=self.max_length, \n",
    "                              truncation=True, padding=True, return_tensors=\"pt\")\n",
    "\n",
    "    def transform(self, X=None):\n",
    "        dataloader = DataLoader(X, batch_size=4, shuffle=False)\n",
    "        allembeds = []\n",
    "        for batch in tqdm(dataloader):\n",
    "            batchenc = disilbert_tokenizer(batch, max_length=256, \n",
    "                                           truncation=True, padding=True, return_tensors=\"pt\")\n",
    "            input_ids = batchenc['input_ids'].to(device)\n",
    "            attention_mask = batchenc['attention_mask'].to(device)\n",
    "            batchout = disilbert_model(input_ids, attention_mask=attention_mask, \n",
    "                                       output_hidden_states=True)\n",
    "            embeds = [vec[0].cpu().detach().numpy() for vec in batchout[1][-1]]\n",
    "            allembeds.extend(embeds)\n",
    "        return np.array(allembeds)\n",
    "    \n",
    "    def train(self, body, labels):\n",
    "        embeddings = self.transform(body)\n",
    "        self.cls = LogisticRegression(max_iter=1000)\n",
    "        self.cls.fit(embeddings, labels)\n",
    "        self.train_prob = self.cls.predict_proba(embeddings)\n",
    "        \n",
    "    def predict(self, body):\n",
    "        embeddings = self.transform(body)\n",
    "        self.test_prob = self.cls.predict_proba(embeddings)\n",
    "        return  self.cls.predict(embeddings) "
   ]
  },
  {
   "cell_type": "markdown",
   "id": "4c49565d-f7a3-4ebf-ba03-7bb29d13a3d8",
   "metadata": {},
   "source": [
    "# Graph Model"
   ]
  },
  {
   "cell_type": "code",
   "execution_count": 104,
   "id": "958f52d6-f007-4eb4-bec6-ec915a22bd0d",
   "metadata": {},
   "outputs": [
    {
     "name": "stderr",
     "output_type": "stream",
     "text": [
      "[nltk_data] Downloading package wordnet to /home/rkozik/nltk_data...\n",
      "[nltk_data]   Package wordnet is already up-to-date!\n",
      "[nltk_data] Downloading package punkt to /home/rkozik/nltk_data...\n",
      "[nltk_data]   Package punkt is already up-to-date!\n"
     ]
    }
   ],
   "source": [
    "from sklearn.feature_extraction.text import TfidfVectorizer\n",
    "from sklearn.metrics.pairwise import linear_kernel\n",
    "from nltk import word_tokenize          \n",
    "from nltk.stem import WordNetLemmatizer\n",
    "import nltk\n",
    "from nltk.corpus import stopwords\n",
    "import numpy as np\n",
    "from sklearn.neighbors import NearestNeighbors\n",
    "from sklearn.linear_model import LogisticRegression\n",
    "\n",
    "# Download stopwords list\n",
    "nltk.download('wordnet')\n",
    "nltk.download('punkt')\n",
    "stop_words = set(stopwords.words('english')) \n",
    "\n",
    "# Interface lemma tokenizer from nltk with sklearn\n",
    "class LemmaTokenizer:\n",
    "    ignore_tokens = [',', '.', ';', ':', '\"', '``', \"''\", '`', \"'\"]\n",
    "    def __init__(self):\n",
    "        self.wnl = WordNetLemmatizer()\n",
    "    def __call__(self, doc):\n",
    "        return [self.wnl.lemmatize(t) for t in word_tokenize(doc) if t not in self.ignore_tokens]\n",
    "    \n",
    "\n",
    "class TrustexModel:\n",
    "    def __init__(self):\n",
    "        # Lemmatize the stop words\n",
    "        self.tokenizer=LemmaTokenizer()\n",
    "        self.token_stop = self.tokenizer(' '.join(stop_words))\n",
    "        \n",
    "    def tfidf(self,body):\n",
    "        self.tfidf_vectorizer = TfidfVectorizer(stop_words=self.token_stop)\n",
    "        self.tfidf_vectorizer.fit(body)\n",
    "        self.vocabulary_tfidf_words = self.tfidf_vectorizer.get_feature_names_out()\n",
    "        self.bodyTrainTFIDF = self.tfidf_vectorizer.transform(body)\n",
    "        \n",
    "    def create_graph(self, body, labels):\n",
    "        self.nn = NearestNeighbors(n_neighbors=10)\n",
    "        self.nn.fit(self.bodyTrainTFIDF)\n",
    "        knn_d,knn_idx = self.nn.kneighbors(self.bodyTrainTFIDF)\n",
    "        self.graph_knn = []\n",
    "        self.train_labels = labels\n",
    "        from tqdm import tqdm\n",
    "        for id, topIDs in tqdm(enumerate(knn_idx), total=knn_idx.shape[0]):\n",
    "            vec = self.bodyTrainTFIDF[id]\n",
    "            newvec = get_graph_node_stats(vec, topIDs[1:], labels, self.bodyTrainTFIDF)\n",
    "            self.graph_knn.append(newvec)\n",
    "        print(\"avg. nodes sim.=\",np.mean([x[2]/x[1] for x in self.graph_knn]))\n",
    "\n",
    "    def graph_transform_test_data(self, body):\n",
    "        self.bodyTestTFIDF = self.tfidf_vectorizer.transform(body) \n",
    "        knn_test_d,knn_test_idx = self.nn.kneighbors(self.bodyTestTFIDF)\n",
    "        self.graph_test_knn = []\n",
    "        for id, topIDs in tqdm(enumerate(knn_test_idx), total=knn_test_idx.shape[0]):\n",
    "            vec = self.bodyTestTFIDF[id]\n",
    "            newvec = get_graph_node_stats(vec, topIDs[1:], self.train_labels, self.bodyTrainTFIDF)\n",
    "            self.graph_test_knn.append(newvec)        \n",
    "              \n",
    "    def train(self, body, labels):\n",
    "        print(\"Building similarity graph\")\n",
    "        self.tfidf(body)\n",
    "        self.create_graph(body, labels)\n",
    "          \n",
    "        self.cls = LogisticRegression(max_iter=10000)\n",
    "        self.cls.fit(self.graph_knn, labels)\n",
    "\n",
    "    def predict(self, body):\n",
    "        self.graph_transform_test_data(body)\n",
    "        y_pred = self.cls.predict(self.graph_test_knn)\n",
    "        return y_pred\n",
    "    \n"
   ]
  },
  {
   "cell_type": "markdown",
   "id": "6b992a48-181f-4b67-a320-939543e855ff",
   "metadata": {},
   "source": [
    "# Infrence "
   ]
  },
  {
   "cell_type": "code",
   "execution_count": 111,
   "id": "5526269d-b19e-46e7-803f-8eada642f486",
   "metadata": {},
   "outputs": [],
   "source": [
    "from sklearn.ensemble import RandomForestClassifier\n",
    "\n",
    "class Inference:\n",
    "    def train(self,graph, content, labels):\n",
    "        newX=[]\n",
    "        for i,vec in enumerate(content):\n",
    "            v2 = np.append(content[i], graph[i])\n",
    "            newX.append(v2)\n",
    "            \n",
    "        self.inf = RandomForestClassifier(max_depth=12)\n",
    "        self.inf.fit(newX, labels)\n",
    "        \n",
    "    def predict(self, graph, content):\n",
    "        newTest=[]\n",
    "        for i,vec in enumerate(content):\n",
    "            v2 = np.append(content[i], graph[i])\n",
    "            newTest.append(v2)\n",
    "    \n",
    "        return self.inf.predict(newTest)"
   ]
  },
  {
   "cell_type": "markdown",
   "id": "4baccae2-b3bd-4e07-a8cd-e55fe8801382",
   "metadata": {},
   "source": [
    "# Experiments"
   ]
  },
  {
   "cell_type": "code",
   "execution_count": 120,
   "id": "315f84fb-918d-4814-9e04-3601b4f3fe01",
   "metadata": {},
   "outputs": [
    {
     "name": "stdout",
     "output_type": "stream",
     "text": [
      "loading covidfn\n",
      "total_number_of_claims= 8972\n",
      "labels fake= 461 real= 8511\n",
      "fold-0\n",
      "Building similarity graph\n"
     ]
    },
    {
     "name": "stderr",
     "output_type": "stream",
     "text": [
      "100%|█████████████████████████████████████| 8074/8074 [00:07<00:00, 1093.85it/s]\n"
     ]
    },
    {
     "name": "stdout",
     "output_type": "stream",
     "text": [
      "avg. nodes sim.= 0.49843772108989287\n"
     ]
    },
    {
     "name": "stderr",
     "output_type": "stream",
     "text": [
      "100%|███████████████████████████████████████| 898/898 [00:00<00:00, 1088.30it/s]\n",
      "100%|██████████████████████████████████████| 2019/2019 [00:10<00:00, 191.12it/s]\n",
      "100%|████████████████████████████████████████| 225/225 [00:01<00:00, 189.11it/s]\n"
     ]
    },
    {
     "name": "stdout",
     "output_type": "stream",
     "text": [
      "fold-1\n",
      "Building similarity graph\n"
     ]
    },
    {
     "name": "stderr",
     "output_type": "stream",
     "text": [
      "100%|█████████████████████████████████████| 8074/8074 [00:07<00:00, 1092.86it/s]\n"
     ]
    },
    {
     "name": "stdout",
     "output_type": "stream",
     "text": [
      "avg. nodes sim.= 0.49894484811768425\n"
     ]
    },
    {
     "name": "stderr",
     "output_type": "stream",
     "text": [
      "100%|███████████████████████████████████████| 898/898 [00:00<00:00, 1092.27it/s]\n",
      "100%|██████████████████████████████████████| 2019/2019 [00:10<00:00, 193.19it/s]\n",
      "100%|████████████████████████████████████████| 225/225 [00:01<00:00, 188.02it/s]\n"
     ]
    },
    {
     "name": "stdout",
     "output_type": "stream",
     "text": [
      "fold-2\n",
      "Building similarity graph\n"
     ]
    },
    {
     "name": "stderr",
     "output_type": "stream",
     "text": [
      "100%|█████████████████████████████████████| 8075/8075 [00:07<00:00, 1092.63it/s]\n"
     ]
    },
    {
     "name": "stdout",
     "output_type": "stream",
     "text": [
      "avg. nodes sim.= 0.4963674985297739\n"
     ]
    },
    {
     "name": "stderr",
     "output_type": "stream",
     "text": [
      "100%|███████████████████████████████████████| 897/897 [00:00<00:00, 1087.05it/s]\n",
      "100%|██████████████████████████████████████| 2019/2019 [00:10<00:00, 192.61it/s]\n",
      "100%|████████████████████████████████████████| 225/225 [00:01<00:00, 187.77it/s]\n"
     ]
    },
    {
     "name": "stdout",
     "output_type": "stream",
     "text": [
      "fold-3\n",
      "Building similarity graph\n"
     ]
    },
    {
     "name": "stderr",
     "output_type": "stream",
     "text": [
      "100%|█████████████████████████████████████| 8075/8075 [00:07<00:00, 1073.99it/s]\n"
     ]
    },
    {
     "name": "stdout",
     "output_type": "stream",
     "text": [
      "avg. nodes sim.= 0.49683872879472807\n"
     ]
    },
    {
     "name": "stderr",
     "output_type": "stream",
     "text": [
      "100%|███████████████████████████████████████| 897/897 [00:00<00:00, 1080.23it/s]\n",
      "100%|██████████████████████████████████████| 2019/2019 [00:10<00:00, 192.23it/s]\n",
      "100%|████████████████████████████████████████| 225/225 [00:01<00:00, 188.12it/s]\n"
     ]
    },
    {
     "name": "stdout",
     "output_type": "stream",
     "text": [
      "fold-4\n",
      "Building similarity graph\n"
     ]
    },
    {
     "name": "stderr",
     "output_type": "stream",
     "text": [
      "100%|█████████████████████████████████████| 8075/8075 [00:07<00:00, 1079.12it/s]\n"
     ]
    },
    {
     "name": "stdout",
     "output_type": "stream",
     "text": [
      "avg. nodes sim.= 0.4980695776280309\n"
     ]
    },
    {
     "name": "stderr",
     "output_type": "stream",
     "text": [
      "100%|███████████████████████████████████████| 897/897 [00:00<00:00, 1079.36it/s]\n",
      "100%|██████████████████████████████████████| 2019/2019 [00:10<00:00, 192.47it/s]\n",
      "100%|████████████████████████████████████████| 225/225 [00:01<00:00, 189.58it/s]\n"
     ]
    },
    {
     "name": "stdout",
     "output_type": "stream",
     "text": [
      "fold-5\n",
      "Building similarity graph\n"
     ]
    },
    {
     "name": "stderr",
     "output_type": "stream",
     "text": [
      "100%|█████████████████████████████████████| 8075/8075 [00:07<00:00, 1070.05it/s]\n"
     ]
    },
    {
     "name": "stdout",
     "output_type": "stream",
     "text": [
      "avg. nodes sim.= 0.4961970478447988\n"
     ]
    },
    {
     "name": "stderr",
     "output_type": "stream",
     "text": [
      "100%|███████████████████████████████████████| 897/897 [00:00<00:00, 1070.26it/s]\n",
      "100%|██████████████████████████████████████| 2019/2019 [00:10<00:00, 192.86it/s]\n",
      "100%|████████████████████████████████████████| 225/225 [00:01<00:00, 186.20it/s]\n"
     ]
    },
    {
     "name": "stdout",
     "output_type": "stream",
     "text": [
      "fold-6\n",
      "Building similarity graph\n"
     ]
    },
    {
     "name": "stderr",
     "output_type": "stream",
     "text": [
      "100%|█████████████████████████████████████| 8075/8075 [00:07<00:00, 1068.29it/s]\n"
     ]
    },
    {
     "name": "stdout",
     "output_type": "stream",
     "text": [
      "avg. nodes sim.= 0.49845898081323436\n"
     ]
    },
    {
     "name": "stderr",
     "output_type": "stream",
     "text": [
      "100%|███████████████████████████████████████| 897/897 [00:00<00:00, 1064.38it/s]\n",
      "100%|██████████████████████████████████████| 2019/2019 [00:10<00:00, 189.82it/s]\n",
      "100%|████████████████████████████████████████| 225/225 [00:01<00:00, 188.01it/s]\n"
     ]
    },
    {
     "name": "stdout",
     "output_type": "stream",
     "text": [
      "fold-7\n",
      "Building similarity graph\n"
     ]
    },
    {
     "name": "stderr",
     "output_type": "stream",
     "text": [
      "100%|█████████████████████████████████████| 8075/8075 [00:07<00:00, 1079.03it/s]\n"
     ]
    },
    {
     "name": "stdout",
     "output_type": "stream",
     "text": [
      "avg. nodes sim.= 0.5007491060296677\n"
     ]
    },
    {
     "name": "stderr",
     "output_type": "stream",
     "text": [
      "100%|███████████████████████████████████████| 897/897 [00:00<00:00, 1076.63it/s]\n",
      "100%|██████████████████████████████████████| 2019/2019 [00:10<00:00, 193.53it/s]\n",
      "100%|████████████████████████████████████████| 225/225 [00:01<00:00, 187.62it/s]\n"
     ]
    },
    {
     "name": "stdout",
     "output_type": "stream",
     "text": [
      "fold-8\n",
      "Building similarity graph\n"
     ]
    },
    {
     "name": "stderr",
     "output_type": "stream",
     "text": [
      "100%|█████████████████████████████████████| 8075/8075 [00:07<00:00, 1079.94it/s]\n"
     ]
    },
    {
     "name": "stdout",
     "output_type": "stream",
     "text": [
      "avg. nodes sim.= 0.4971720455277567\n"
     ]
    },
    {
     "name": "stderr",
     "output_type": "stream",
     "text": [
      "100%|███████████████████████████████████████| 897/897 [00:00<00:00, 1077.40it/s]\n",
      "100%|██████████████████████████████████████| 2019/2019 [00:10<00:00, 192.91it/s]\n",
      "100%|████████████████████████████████████████| 225/225 [00:01<00:00, 188.60it/s]\n"
     ]
    },
    {
     "name": "stdout",
     "output_type": "stream",
     "text": [
      "fold-9\n",
      "Building similarity graph\n"
     ]
    },
    {
     "name": "stderr",
     "output_type": "stream",
     "text": [
      "100%|█████████████████████████████████████| 8075/8075 [00:07<00:00, 1087.33it/s]\n"
     ]
    },
    {
     "name": "stdout",
     "output_type": "stream",
     "text": [
      "avg. nodes sim.= 0.49983059103851946\n"
     ]
    },
    {
     "name": "stderr",
     "output_type": "stream",
     "text": [
      "100%|███████████████████████████████████████| 897/897 [00:00<00:00, 1081.61it/s]\n",
      "100%|██████████████████████████████████████| 2019/2019 [00:10<00:00, 192.91it/s]\n",
      "100%|████████████████████████████████████████| 225/225 [00:01<00:00, 189.65it/s]\n"
     ]
    },
    {
     "name": "stdout",
     "output_type": "stream",
     "text": [
      "Symbolic:\n",
      "――――――――――――――――――――――――――――――――――――――――――――――――――――――――――――――\n",
      "  Score                 Average      Lab:1        Lab:2       \n",
      "――――――――――――――――――――――――――――――――――――――――――――――――――――――――――――――\n",
      "  Accuracy              96.4 ±  0.4  -            -            \n",
      "  Balanced Accuracy     69.6 ±  3.1  -            -            \n",
      "  F1                    95.8 ±  0.5  98.1 ±  0.2  52.9 ±  6.3  \n",
      "  G-mean                64.1 ±  4.4  62.7 ±  4.8  62.7 ±  4.8  \n",
      "  Precision             96.0 ±  0.6  96.8 ±  0.3  80.4 ±  8.4  \n",
      "  Recall                96.4 ±  0.4  99.5 ±  0.3  39.7 ±  6.2  \n",
      "――――――――――――――――――――――――――――――――――――――――――――――――――――――――――――――\n",
      "Deep:\n",
      "――――――――――――――――――――――――――――――――――――――――――――――――――――――――――――――\n",
      "  Score                 Average      Lab:1        Lab:2       \n",
      "――――――――――――――――――――――――――――――――――――――――――――――――――――――――――――――\n",
      "  Accuracy              97.5 ±  0.4  -            -            \n",
      "  Balanced Accuracy     81.2 ±  2.7  -            -            \n",
      "  F1                    97.3 ±  0.4  98.7 ±  0.2  72.0 ±  4.7  \n",
      "  G-mean                79.5 ±  3.3  79.1 ±  3.4  79.1 ±  3.4  \n",
      "  Precision             97.3 ±  0.5  98.0 ±  0.3  84.3 ±  6.5  \n",
      "  Recall                97.5 ±  0.4  99.3 ±  0.3  63.1 ±  5.4  \n",
      "――――――――――――――――――――――――――――――――――――――――――――――――――――――――――――――\n",
      "Both:\n",
      "――――――――――――――――――――――――――――――――――――――――――――――――――――――――――――――\n",
      "  Score                 Average      Lab:1        Lab:2       \n",
      "――――――――――――――――――――――――――――――――――――――――――――――――――――――――――――――\n",
      "  Accuracy              97.4 ±  0.4  -            -            \n",
      "  Balanced Accuracy     84.4 ±  3.1  -            -            \n",
      "  F1                    97.3 ±  0.4  98.6 ±  0.2  73.3 ±  4.6  \n",
      "  G-mean                83.3 ±  3.6  83.0 ±  3.7  83.0 ±  3.7  \n",
      "  Precision             97.3 ±  0.4  98.4 ±  0.3  77.4 ±  5.0  \n",
      "  Recall                97.4 ±  0.4  98.9 ±  0.3  69.8 ±  6.3  \n",
      "――――――――――――――――――――――――――――――――――――――――――――――――――――――――――――――\n"
     ]
    }
   ],
   "source": [
    "loader = DatasetLoader()\n",
    "\n",
    "for dataset in [\"covidfn\"]:\n",
    "    body, labels, total_number_of_claims = loader.get(dataset)\n",
    "    X=range(0,total_number_of_claims)\n",
    "    \n",
    "    trustex_quality = Metrics()\n",
    "    swarog_quality = Metrics()\n",
    "    inf_quality = Metrics()\n",
    "    \n",
    "\n",
    "    for fold_idx, (train, test) in enumerate(rskf.split(X, labels)):\n",
    "        print(f\"fold-{fold_idx}\")    \n",
    "        \n",
    "        swarog = SwarogModel()\n",
    "        trustex = TrustexModel()\n",
    "        inference = Inference()\n",
    "    \n",
    "        trustex.train(body[train],labels[train])\n",
    "        ypred = trustex.predict(body[test])\n",
    "        trustex_quality.update(labels[test], ypred)\n",
    "        \n",
    "        swarog.train(body[train],labels[train])\n",
    "        ypred = swarog.predict(body[test])\n",
    "        swarog_quality.update(labels[test], ypred)\n",
    "        \n",
    "        inference.train(trustex.graph_knn, swarog.train_prob, labels[train])\n",
    "        newpred = inference.predict(trustex.graph_test_knn, swarog.test_prob)\n",
    "        inf_quality.update(labels[test], newpred)\n",
    "\n",
    "\n",
    "print(\"Symbolic:\")\n",
    "trustex_quality.print_table()\n",
    "print(\"Deep:\")\n",
    "swarog_quality.print_table()\n",
    "print(\"Both:\")\n",
    "inf_quality.print_table()\n"
   ]
  },
  {
   "cell_type": "code",
   "execution_count": 117,
   "id": "5305e4bb-3c4e-44c1-b9b7-137bab346a7e",
   "metadata": {},
   "outputs": [
    {
     "name": "stdout",
     "output_type": "stream",
     "text": [
      "loading fnkdd\n",
      "total_number_of_claims= 4986\n",
      "labels fake= 2014 real= 2972\n",
      "fold-0\n",
      "Building similarity graph\n"
     ]
    },
    {
     "name": "stderr",
     "output_type": "stream",
     "text": [
      "100%|██████████████████████████████████████| 4487/4487 [00:07<00:00, 611.51it/s]\n"
     ]
    },
    {
     "name": "stdout",
     "output_type": "stream",
     "text": [
      "avg. nodes sim.= 0.4514347825623094\n"
     ]
    },
    {
     "name": "stderr",
     "output_type": "stream",
     "text": [
      "100%|████████████████████████████████████████| 499/499 [00:00<00:00, 607.56it/s]\n",
      "100%|███████████████████████████████████████| 1122/1122 [00:15<00:00, 73.01it/s]\n",
      "100%|█████████████████████████████████████████| 125/125 [00:01<00:00, 76.64it/s]\n"
     ]
    },
    {
     "name": "stdout",
     "output_type": "stream",
     "text": [
      "fold-1\n",
      "Building similarity graph\n"
     ]
    },
    {
     "name": "stderr",
     "output_type": "stream",
     "text": [
      "100%|██████████████████████████████████████| 4487/4487 [00:07<00:00, 608.65it/s]\n"
     ]
    },
    {
     "name": "stdout",
     "output_type": "stream",
     "text": [
      "avg. nodes sim.= 0.4574446733552907\n"
     ]
    },
    {
     "name": "stderr",
     "output_type": "stream",
     "text": [
      "100%|████████████████████████████████████████| 499/499 [00:00<00:00, 606.50it/s]\n",
      "100%|███████████████████████████████████████| 1122/1122 [00:15<00:00, 73.40it/s]\n",
      "100%|█████████████████████████████████████████| 125/125 [00:01<00:00, 73.32it/s]\n"
     ]
    },
    {
     "name": "stdout",
     "output_type": "stream",
     "text": [
      "fold-2\n",
      "Building similarity graph\n"
     ]
    },
    {
     "name": "stderr",
     "output_type": "stream",
     "text": [
      "100%|██████████████████████████████████████| 4487/4487 [00:07<00:00, 614.44it/s]\n"
     ]
    },
    {
     "name": "stdout",
     "output_type": "stream",
     "text": [
      "avg. nodes sim.= 0.4538385544167052\n"
     ]
    },
    {
     "name": "stderr",
     "output_type": "stream",
     "text": [
      "100%|████████████████████████████████████████| 499/499 [00:00<00:00, 609.09it/s]\n",
      "100%|███████████████████████████████████████| 1122/1122 [00:15<00:00, 73.44it/s]\n",
      "100%|█████████████████████████████████████████| 125/125 [00:01<00:00, 71.82it/s]\n"
     ]
    },
    {
     "name": "stdout",
     "output_type": "stream",
     "text": [
      "fold-3\n",
      "Building similarity graph\n"
     ]
    },
    {
     "name": "stderr",
     "output_type": "stream",
     "text": [
      "100%|██████████████████████████████████████| 4487/4487 [00:07<00:00, 610.67it/s]\n"
     ]
    },
    {
     "name": "stdout",
     "output_type": "stream",
     "text": [
      "avg. nodes sim.= 0.4578061771417086\n"
     ]
    },
    {
     "name": "stderr",
     "output_type": "stream",
     "text": [
      "100%|████████████████████████████████████████| 499/499 [00:00<00:00, 612.23it/s]\n",
      "100%|███████████████████████████████████████| 1122/1122 [00:15<00:00, 73.00it/s]\n",
      "100%|█████████████████████████████████████████| 125/125 [00:01<00:00, 74.64it/s]\n"
     ]
    },
    {
     "name": "stdout",
     "output_type": "stream",
     "text": [
      "fold-4\n",
      "Building similarity graph\n"
     ]
    },
    {
     "name": "stderr",
     "output_type": "stream",
     "text": [
      "100%|██████████████████████████████████████| 4487/4487 [00:07<00:00, 618.78it/s]\n"
     ]
    },
    {
     "name": "stdout",
     "output_type": "stream",
     "text": [
      "avg. nodes sim.= 0.45472603140799983\n"
     ]
    },
    {
     "name": "stderr",
     "output_type": "stream",
     "text": [
      "100%|████████████████████████████████████████| 499/499 [00:00<00:00, 616.01it/s]\n",
      "100%|███████████████████████████████████████| 1122/1122 [00:15<00:00, 73.54it/s]\n",
      "100%|█████████████████████████████████████████| 125/125 [00:01<00:00, 67.44it/s]\n"
     ]
    },
    {
     "name": "stdout",
     "output_type": "stream",
     "text": [
      "fold-5\n",
      "Building similarity graph\n"
     ]
    },
    {
     "name": "stderr",
     "output_type": "stream",
     "text": [
      "100%|██████████████████████████████████████| 4487/4487 [00:07<00:00, 615.14it/s]\n"
     ]
    },
    {
     "name": "stdout",
     "output_type": "stream",
     "text": [
      "avg. nodes sim.= 0.4503095908366874\n"
     ]
    },
    {
     "name": "stderr",
     "output_type": "stream",
     "text": [
      "100%|████████████████████████████████████████| 499/499 [00:00<00:00, 610.73it/s]\n",
      "100%|███████████████████████████████████████| 1122/1122 [00:15<00:00, 73.27it/s]\n",
      "100%|█████████████████████████████████████████| 125/125 [00:01<00:00, 71.77it/s]\n"
     ]
    },
    {
     "name": "stdout",
     "output_type": "stream",
     "text": [
      "fold-6\n",
      "Building similarity graph\n"
     ]
    },
    {
     "name": "stderr",
     "output_type": "stream",
     "text": [
      "100%|██████████████████████████████████████| 4488/4488 [00:07<00:00, 615.24it/s]\n"
     ]
    },
    {
     "name": "stdout",
     "output_type": "stream",
     "text": [
      "avg. nodes sim.= 0.45466396898602074\n"
     ]
    },
    {
     "name": "stderr",
     "output_type": "stream",
     "text": [
      "100%|████████████████████████████████████████| 498/498 [00:00<00:00, 617.27it/s]\n",
      "100%|███████████████████████████████████████| 1122/1122 [00:15<00:00, 73.40it/s]\n",
      "100%|█████████████████████████████████████████| 125/125 [00:01<00:00, 69.75it/s]\n"
     ]
    },
    {
     "name": "stdout",
     "output_type": "stream",
     "text": [
      "fold-7\n",
      "Building similarity graph\n"
     ]
    },
    {
     "name": "stderr",
     "output_type": "stream",
     "text": [
      "100%|██████████████████████████████████████| 4488/4488 [00:07<00:00, 614.39it/s]\n"
     ]
    },
    {
     "name": "stdout",
     "output_type": "stream",
     "text": [
      "avg. nodes sim.= 0.45480810729190174\n"
     ]
    },
    {
     "name": "stderr",
     "output_type": "stream",
     "text": [
      "100%|████████████████████████████████████████| 498/498 [00:00<00:00, 608.78it/s]\n",
      "100%|███████████████████████████████████████| 1122/1122 [00:15<00:00, 73.46it/s]\n",
      "100%|█████████████████████████████████████████| 125/125 [00:01<00:00, 71.51it/s]\n"
     ]
    },
    {
     "name": "stdout",
     "output_type": "stream",
     "text": [
      "fold-8\n",
      "Building similarity graph\n"
     ]
    },
    {
     "name": "stderr",
     "output_type": "stream",
     "text": [
      "100%|██████████████████████████████████████| 4488/4488 [00:07<00:00, 612.03it/s]\n"
     ]
    },
    {
     "name": "stdout",
     "output_type": "stream",
     "text": [
      "avg. nodes sim.= 0.45980710367652594\n"
     ]
    },
    {
     "name": "stderr",
     "output_type": "stream",
     "text": [
      "100%|████████████████████████████████████████| 498/498 [00:00<00:00, 606.00it/s]\n",
      "100%|███████████████████████████████████████| 1122/1122 [00:15<00:00, 73.15it/s]\n",
      "100%|█████████████████████████████████████████| 125/125 [00:01<00:00, 74.05it/s]\n"
     ]
    },
    {
     "name": "stdout",
     "output_type": "stream",
     "text": [
      "fold-9\n",
      "Building similarity graph\n"
     ]
    },
    {
     "name": "stderr",
     "output_type": "stream",
     "text": [
      "100%|██████████████████████████████████████| 4488/4488 [00:07<00:00, 614.24it/s]\n"
     ]
    },
    {
     "name": "stdout",
     "output_type": "stream",
     "text": [
      "avg. nodes sim.= 0.4517896759738164\n"
     ]
    },
    {
     "name": "stderr",
     "output_type": "stream",
     "text": [
      "100%|████████████████████████████████████████| 498/498 [00:00<00:00, 613.60it/s]\n",
      "100%|███████████████████████████████████████| 1122/1122 [00:15<00:00, 73.75it/s]\n",
      "100%|█████████████████████████████████████████| 125/125 [00:01<00:00, 69.45it/s]\n"
     ]
    },
    {
     "name": "stdout",
     "output_type": "stream",
     "text": [
      "Symbolic:\n",
      "――――――――――――――――――――――――――――――――――――――――――――――――――――――――――――――\n",
      "  Score                 Average      Lab:1        Lab:2       \n",
      "――――――――――――――――――――――――――――――――――――――――――――――――――――――――――――――\n",
      "  Accuracy              72.7 ±  1.7  -            -            \n",
      "  Balanced Accuracy     70.3 ±  2.0  -            -            \n",
      "  F1                    72.2 ±  1.8  78.3 ±  1.2  63.0 ±  2.8  \n",
      "  G-mean                70.2 ±  2.0  69.1 ±  2.3  69.1 ±  2.3  \n",
      "  Precision             72.4 ±  1.7  74.4 ±  1.7  69.4 ±  2.0  \n",
      "  Recall                72.7 ±  1.7  82.8 ±  1.3  57.8 ±  3.7  \n",
      "――――――――――――――――――――――――――――――――――――――――――――――――――――――――――――――\n",
      "Deep:\n",
      "――――――――――――――――――――――――――――――――――――――――――――――――――――――――――――――\n",
      "  Score                 Average      Lab:1        Lab:2       \n",
      "――――――――――――――――――――――――――――――――――――――――――――――――――――――――――――――\n",
      "  Accuracy              76.0 ±  1.3  -            -            \n",
      "  Balanced Accuracy     74.2 ±  1.4  -            -            \n",
      "  F1                    75.7 ±  1.3  80.6 ±  1.2  68.5 ±  1.8  \n",
      "  G-mean                74.2 ±  1.4  73.5 ±  1.5  73.5 ±  1.5  \n",
      "  Precision             75.8 ±  1.3  77.8 ±  1.2  72.9 ±  2.3  \n",
      "  Recall                76.0 ±  1.3  83.6 ±  2.2  64.7 ±  2.9  \n",
      "――――――――――――――――――――――――――――――――――――――――――――――――――――――――――――――\n",
      "Both:\n",
      "――――――――――――――――――――――――――――――――――――――――――――――――――――――――――――――\n",
      "  Score                 Average      Lab:1        Lab:2       \n",
      "――――――――――――――――――――――――――――――――――――――――――――――――――――――――――――――\n",
      "  Accuracy              77.1 ±  1.1  -            -            \n",
      "  Balanced Accuracy     75.6 ±  1.3  -            -            \n",
      "  F1                    76.9 ±  1.2  81.2 ±  0.9  70.5 ±  1.7  \n",
      "  G-mean                75.6 ±  1.3  75.2 ±  1.4  75.2 ±  1.4  \n",
      "  Precision             76.9 ±  1.2  79.3 ±  1.3  73.4 ±  1.7  \n",
      "  Recall                77.1 ±  1.1  83.3 ±  1.6  67.9 ±  2.7  \n",
      "――――――――――――――――――――――――――――――――――――――――――――――――――――――――――――――\n"
     ]
    }
   ],
   "source": [
    "loader = DatasetLoader()\n",
    "\n",
    "for dataset in [\"fnkdd\"]:\n",
    "    body, labels, total_number_of_claims = loader.get(dataset)\n",
    "    X=range(0,total_number_of_claims)\n",
    "    \n",
    "    trustex_quality = Metrics()\n",
    "    swarog_quality = Metrics()\n",
    "    inf_quality = Metrics()\n",
    "    \n",
    "\n",
    "    for fold_idx, (train, test) in enumerate(rskf.split(X, labels)):\n",
    "        print(f\"fold-{fold_idx}\")    \n",
    "        \n",
    "        swarog = SwarogModel()\n",
    "        trustex = TrustexModel()\n",
    "        inference = Inference()\n",
    "    \n",
    "        trustex.train(body[train],labels[train])\n",
    "        ypred = trustex.predict(body[test])\n",
    "        trustex_quality.update(labels[test], ypred)\n",
    "        \n",
    "        swarog.train(body[train],labels[train])\n",
    "        ypred = swarog.predict(body[test])\n",
    "        swarog_quality.update(labels[test], ypred)\n",
    "        \n",
    "        inference.train(trustex.graph_knn, swarog.train_prob, labels[train])\n",
    "        newpred = inference.predict(trustex.graph_test_knn, swarog.test_prob)\n",
    "        inf_quality.update(labels[test], newpred)\n",
    "\n",
    "        \n",
    "        \n",
    "print(\"Symbolic:\")\n",
    "trustex_quality.print_table()\n",
    "\n",
    "print(\"Deep:\")\n",
    "swarog_quality.print_table()\n",
    "\n",
    "print(\"Both:\")\n",
    "inf_quality.print_table()\n",
    "        \n",
    "        "
   ]
  },
  {
   "cell_type": "code",
   "execution_count": 118,
   "id": "0a88d3f6-3d02-4335-97c6-24390c5d918b",
   "metadata": {},
   "outputs": [
    {
     "name": "stdout",
     "output_type": "stream",
     "text": [
      "loading mmcovid\n",
      "total_number_of_claims= 7332\n",
      "labels fake= 2028 real= 5304\n",
      "fold-0\n",
      "Building similarity graph\n"
     ]
    },
    {
     "name": "stderr",
     "output_type": "stream",
     "text": [
      "100%|██████████████████████████████████████| 6598/6598 [00:10<00:00, 655.05it/s]\n"
     ]
    },
    {
     "name": "stdout",
     "output_type": "stream",
     "text": [
      "avg. nodes sim.= 0.5590873156199317\n"
     ]
    },
    {
     "name": "stderr",
     "output_type": "stream",
     "text": [
      "100%|████████████████████████████████████████| 734/734 [00:01<00:00, 659.42it/s]\n",
      "100%|██████████████████████████████████████| 1650/1650 [00:12<00:00, 128.61it/s]\n",
      "100%|████████████████████████████████████████| 184/184 [00:01<00:00, 127.04it/s]\n"
     ]
    },
    {
     "name": "stdout",
     "output_type": "stream",
     "text": [
      "fold-1\n",
      "Building similarity graph\n"
     ]
    },
    {
     "name": "stderr",
     "output_type": "stream",
     "text": [
      "100%|██████████████████████████████████████| 6598/6598 [00:10<00:00, 656.40it/s]\n"
     ]
    },
    {
     "name": "stdout",
     "output_type": "stream",
     "text": [
      "avg. nodes sim.= 0.5607023821444866\n"
     ]
    },
    {
     "name": "stderr",
     "output_type": "stream",
     "text": [
      "100%|████████████████████████████████████████| 734/734 [00:01<00:00, 658.41it/s]\n",
      "100%|██████████████████████████████████████| 1650/1650 [00:12<00:00, 130.12it/s]\n",
      "100%|████████████████████████████████████████| 184/184 [00:01<00:00, 126.29it/s]\n"
     ]
    },
    {
     "name": "stdout",
     "output_type": "stream",
     "text": [
      "fold-2\n",
      "Building similarity graph\n"
     ]
    },
    {
     "name": "stderr",
     "output_type": "stream",
     "text": [
      "100%|██████████████████████████████████████| 6599/6599 [00:10<00:00, 655.19it/s]\n"
     ]
    },
    {
     "name": "stdout",
     "output_type": "stream",
     "text": [
      "avg. nodes sim.= 0.5605790115887976\n"
     ]
    },
    {
     "name": "stderr",
     "output_type": "stream",
     "text": [
      "100%|████████████████████████████████████████| 733/733 [00:01<00:00, 654.70it/s]\n",
      "100%|██████████████████████████████████████| 1650/1650 [00:12<00:00, 129.77it/s]\n",
      "100%|████████████████████████████████████████| 184/184 [00:01<00:00, 128.65it/s]\n"
     ]
    },
    {
     "name": "stdout",
     "output_type": "stream",
     "text": [
      "fold-3\n",
      "Building similarity graph\n"
     ]
    },
    {
     "name": "stderr",
     "output_type": "stream",
     "text": [
      "100%|██████████████████████████████████████| 6599/6599 [00:10<00:00, 657.51it/s]\n"
     ]
    },
    {
     "name": "stdout",
     "output_type": "stream",
     "text": [
      "avg. nodes sim.= 0.560540406674895\n"
     ]
    },
    {
     "name": "stderr",
     "output_type": "stream",
     "text": [
      "100%|████████████████████████████████████████| 733/733 [00:01<00:00, 657.64it/s]\n",
      "100%|██████████████████████████████████████| 1650/1650 [00:12<00:00, 129.46it/s]\n",
      "100%|████████████████████████████████████████| 184/184 [00:01<00:00, 135.66it/s]\n"
     ]
    },
    {
     "name": "stdout",
     "output_type": "stream",
     "text": [
      "fold-4\n",
      "Building similarity graph\n"
     ]
    },
    {
     "name": "stderr",
     "output_type": "stream",
     "text": [
      "100%|██████████████████████████████████████| 6599/6599 [00:10<00:00, 652.01it/s]\n"
     ]
    },
    {
     "name": "stdout",
     "output_type": "stream",
     "text": [
      "avg. nodes sim.= 0.5593903874201553\n"
     ]
    },
    {
     "name": "stderr",
     "output_type": "stream",
     "text": [
      "100%|████████████████████████████████████████| 733/733 [00:01<00:00, 647.85it/s]\n",
      "100%|██████████████████████████████████████| 1650/1650 [00:12<00:00, 129.94it/s]\n",
      "100%|████████████████████████████████████████| 184/184 [00:01<00:00, 125.06it/s]\n"
     ]
    },
    {
     "name": "stdout",
     "output_type": "stream",
     "text": [
      "fold-5\n",
      "Building similarity graph\n"
     ]
    },
    {
     "name": "stderr",
     "output_type": "stream",
     "text": [
      "100%|██████████████████████████████████████| 6599/6599 [00:10<00:00, 656.39it/s]\n"
     ]
    },
    {
     "name": "stdout",
     "output_type": "stream",
     "text": [
      "avg. nodes sim.= 0.5614634597782383\n"
     ]
    },
    {
     "name": "stderr",
     "output_type": "stream",
     "text": [
      "100%|████████████████████████████████████████| 733/733 [00:01<00:00, 654.08it/s]\n",
      "100%|██████████████████████████████████████| 1650/1650 [00:12<00:00, 129.79it/s]\n",
      "100%|████████████████████████████████████████| 184/184 [00:01<00:00, 126.10it/s]\n"
     ]
    },
    {
     "name": "stdout",
     "output_type": "stream",
     "text": [
      "fold-6\n",
      "Building similarity graph\n"
     ]
    },
    {
     "name": "stderr",
     "output_type": "stream",
     "text": [
      "100%|██████████████████████████████████████| 6599/6599 [00:10<00:00, 647.87it/s]\n"
     ]
    },
    {
     "name": "stdout",
     "output_type": "stream",
     "text": [
      "avg. nodes sim.= 0.5609033538526145\n"
     ]
    },
    {
     "name": "stderr",
     "output_type": "stream",
     "text": [
      "100%|████████████████████████████████████████| 733/733 [00:01<00:00, 654.30it/s]\n",
      "100%|██████████████████████████████████████| 1650/1650 [00:12<00:00, 129.97it/s]\n",
      "100%|████████████████████████████████████████| 184/184 [00:01<00:00, 125.25it/s]\n"
     ]
    },
    {
     "name": "stdout",
     "output_type": "stream",
     "text": [
      "fold-7\n",
      "Building similarity graph\n"
     ]
    },
    {
     "name": "stderr",
     "output_type": "stream",
     "text": [
      "100%|██████████████████████████████████████| 6599/6599 [00:10<00:00, 659.72it/s]\n"
     ]
    },
    {
     "name": "stdout",
     "output_type": "stream",
     "text": [
      "avg. nodes sim.= 0.5510119579638341\n"
     ]
    },
    {
     "name": "stderr",
     "output_type": "stream",
     "text": [
      "100%|████████████████████████████████████████| 733/733 [00:01<00:00, 659.39it/s]\n",
      "100%|██████████████████████████████████████| 1650/1650 [00:12<00:00, 130.48it/s]\n",
      "100%|████████████████████████████████████████| 184/184 [00:01<00:00, 124.69it/s]\n"
     ]
    },
    {
     "name": "stdout",
     "output_type": "stream",
     "text": [
      "fold-8\n",
      "Building similarity graph\n"
     ]
    },
    {
     "name": "stderr",
     "output_type": "stream",
     "text": [
      "100%|██████████████████████████████████████| 6599/6599 [00:10<00:00, 657.80it/s]\n"
     ]
    },
    {
     "name": "stdout",
     "output_type": "stream",
     "text": [
      "avg. nodes sim.= 0.5607969017158434\n"
     ]
    },
    {
     "name": "stderr",
     "output_type": "stream",
     "text": [
      "100%|████████████████████████████████████████| 733/733 [00:01<00:00, 658.74it/s]\n",
      "100%|██████████████████████████████████████| 1650/1650 [00:12<00:00, 130.57it/s]\n",
      "100%|████████████████████████████████████████| 184/184 [00:01<00:00, 127.69it/s]\n"
     ]
    },
    {
     "name": "stdout",
     "output_type": "stream",
     "text": [
      "fold-9\n",
      "Building similarity graph\n"
     ]
    },
    {
     "name": "stderr",
     "output_type": "stream",
     "text": [
      "100%|██████████████████████████████████████| 6599/6599 [00:10<00:00, 650.66it/s]\n"
     ]
    },
    {
     "name": "stdout",
     "output_type": "stream",
     "text": [
      "avg. nodes sim.= 0.5619162037380135\n"
     ]
    },
    {
     "name": "stderr",
     "output_type": "stream",
     "text": [
      "100%|████████████████████████████████████████| 733/733 [00:01<00:00, 648.80it/s]\n",
      "100%|██████████████████████████████████████| 1650/1650 [00:12<00:00, 129.58it/s]\n",
      "100%|████████████████████████████████████████| 184/184 [00:01<00:00, 129.61it/s]\n"
     ]
    },
    {
     "name": "stdout",
     "output_type": "stream",
     "text": [
      "Symbolic:\n",
      "――――――――――――――――――――――――――――――――――――――――――――――――――――――――――――――\n",
      "  Score                 Average      Lab:1        Lab:2       \n",
      "――――――――――――――――――――――――――――――――――――――――――――――――――――――――――――――\n",
      "  Accuracy              89.9 ±  1.2  -            -            \n",
      "  Balanced Accuracy     84.6 ±  1.6  -            -            \n",
      "  F1                    89.5 ±  1.3  93.2 ±  0.8  79.9 ±  2.4  \n",
      "  G-mean                84.5 ±  1.6  83.8 ±  1.7  83.8 ±  1.7  \n",
      "  Precision             89.8 ±  1.3  90.3 ±  0.9  88.4 ±  3.1  \n",
      "  Recall                89.9 ±  1.2  96.3 ±  1.1  72.9 ±  2.6  \n",
      "――――――――――――――――――――――――――――――――――――――――――――――――――――――――――――――\n",
      "Deep:\n",
      "――――――――――――――――――――――――――――――――――――――――――――――――――――――――――――――\n",
      "  Score                 Average      Lab:1        Lab:2       \n",
      "――――――――――――――――――――――――――――――――――――――――――――――――――――――――――――――\n",
      "  Accuracy              93.0 ±  1.0  -            -            \n",
      "  Balanced Accuracy     88.8 ±  1.8  -            -            \n",
      "  F1                    92.8 ±  1.1  95.3 ±  0.6  86.2 ±  2.2  \n",
      "  G-mean                88.7 ±  1.8  88.2 ±  2.0  88.2 ±  2.0  \n",
      "  Precision             93.1 ±  0.9  92.5 ±  1.2  94.7 ±  1.3  \n",
      "  Recall                93.0 ±  1.0  98.3 ±  0.5  79.2 ±  3.6  \n",
      "――――――――――――――――――――――――――――――――――――――――――――――――――――――――――――――\n",
      "Both:\n",
      "――――――――――――――――――――――――――――――――――――――――――――――――――――――――――――――\n",
      "  Score                 Average      Lab:1        Lab:2       \n",
      "――――――――――――――――――――――――――――――――――――――――――――――――――――――――――――――\n",
      "  Accuracy              94.4 ±  0.6  -            -            \n",
      "  Balanced Accuracy     91.6 ±  1.0  -            -            \n",
      "  F1                    94.3 ±  0.6  96.2 ±  0.4  89.4 ±  1.2  \n",
      "  G-mean                91.6 ±  1.0  91.4 ±  1.0  91.4 ±  1.0  \n",
      "  Precision             94.4 ±  0.6  94.6 ±  0.7  94.0 ±  1.9  \n",
      "  Recall                94.4 ±  0.6  97.9 ±  0.7  85.4 ±  2.1  \n",
      "――――――――――――――――――――――――――――――――――――――――――――――――――――――――――――――\n"
     ]
    }
   ],
   "source": [
    "loader = DatasetLoader()\n",
    "\n",
    "for dataset in [\"mmcovid\"]:\n",
    "    body, labels, total_number_of_claims = loader.get(dataset)\n",
    "    X=range(0,total_number_of_claims)\n",
    "    \n",
    "    trustex_quality = Metrics()\n",
    "    swarog_quality = Metrics()\n",
    "    inf_quality = Metrics()\n",
    "    \n",
    "\n",
    "    for fold_idx, (train, test) in enumerate(rskf.split(X, labels)):\n",
    "        print(f\"fold-{fold_idx}\")    \n",
    "        \n",
    "        swarog = SwarogModel()\n",
    "        trustex = TrustexModel()\n",
    "        inference = Inference()\n",
    "    \n",
    "        trustex.train(body[train],labels[train])\n",
    "        ypred = trustex.predict(body[test])\n",
    "        trustex_quality.update(labels[test], ypred)\n",
    "        \n",
    "        swarog.train(body[train],labels[train])\n",
    "        ypred = swarog.predict(body[test])\n",
    "        swarog_quality.update(labels[test], ypred)\n",
    "        \n",
    "        inference.train(trustex.graph_knn, swarog.train_prob, labels[train])\n",
    "        newpred = inference.predict(trustex.graph_test_knn, swarog.test_prob)\n",
    "        inf_quality.update(labels[test], newpred)\n",
    "\n",
    "        \n",
    "        \n",
    "print(\"Symbolic:\")\n",
    "trustex_quality.print_table()\n",
    "\n",
    "print(\"Deep:\")\n",
    "swarog_quality.print_table()\n",
    "\n",
    "print(\"Both:\")\n",
    "inf_quality.print_table()\n",
    "        \n",
    "        "
   ]
  },
  {
   "cell_type": "code",
   "execution_count": 119,
   "id": "9729be64-b046-41e1-98a1-65386f78b779",
   "metadata": {},
   "outputs": [
    {
     "name": "stdout",
     "output_type": "stream",
     "text": [
      "loading liar\n",
      "total_number_of_claims= 8061\n",
      "labels fake= 3554 real= 4507\n",
      "fold-0\n",
      "Building similarity graph\n"
     ]
    },
    {
     "name": "stderr",
     "output_type": "stream",
     "text": [
      "100%|█████████████████████████████████████| 7254/7254 [00:06<00:00, 1092.37it/s]\n"
     ]
    },
    {
     "name": "stdout",
     "output_type": "stream",
     "text": [
      "avg. nodes sim.= 0.37215363446118804\n"
     ]
    },
    {
     "name": "stderr",
     "output_type": "stream",
     "text": [
      "100%|███████████████████████████████████████| 807/807 [00:00<00:00, 1091.27it/s]\n",
      "100%|██████████████████████████████████████| 1814/1814 [00:09<00:00, 189.70it/s]\n",
      "100%|████████████████████████████████████████| 202/202 [00:01<00:00, 190.51it/s]\n"
     ]
    },
    {
     "name": "stdout",
     "output_type": "stream",
     "text": [
      "fold-1\n",
      "Building similarity graph\n"
     ]
    },
    {
     "name": "stderr",
     "output_type": "stream",
     "text": [
      "100%|█████████████████████████████████████| 7255/7255 [00:06<00:00, 1105.43it/s]\n"
     ]
    },
    {
     "name": "stdout",
     "output_type": "stream",
     "text": [
      "avg. nodes sim.= 0.3739579257438074\n"
     ]
    },
    {
     "name": "stderr",
     "output_type": "stream",
     "text": [
      "100%|███████████████████████████████████████| 806/806 [00:00<00:00, 1103.67it/s]\n",
      "100%|██████████████████████████████████████| 1814/1814 [00:09<00:00, 192.33it/s]\n",
      "100%|████████████████████████████████████████| 202/202 [00:01<00:00, 188.49it/s]\n"
     ]
    },
    {
     "name": "stdout",
     "output_type": "stream",
     "text": [
      "fold-2\n",
      "Building similarity graph\n"
     ]
    },
    {
     "name": "stderr",
     "output_type": "stream",
     "text": [
      "100%|█████████████████████████████████████| 7255/7255 [00:06<00:00, 1106.68it/s]\n"
     ]
    },
    {
     "name": "stdout",
     "output_type": "stream",
     "text": [
      "avg. nodes sim.= 0.37313028989467983\n"
     ]
    },
    {
     "name": "stderr",
     "output_type": "stream",
     "text": [
      "100%|███████████████████████████████████████| 806/806 [00:00<00:00, 1103.14it/s]\n",
      "100%|██████████████████████████████████████| 1814/1814 [00:09<00:00, 189.96it/s]\n",
      "100%|████████████████████████████████████████| 202/202 [00:01<00:00, 187.95it/s]\n"
     ]
    },
    {
     "name": "stdout",
     "output_type": "stream",
     "text": [
      "fold-3\n",
      "Building similarity graph\n"
     ]
    },
    {
     "name": "stderr",
     "output_type": "stream",
     "text": [
      "100%|█████████████████████████████████████| 7255/7255 [00:06<00:00, 1116.44it/s]\n"
     ]
    },
    {
     "name": "stdout",
     "output_type": "stream",
     "text": [
      "avg. nodes sim.= 0.373071933837595\n"
     ]
    },
    {
     "name": "stderr",
     "output_type": "stream",
     "text": [
      "100%|███████████████████████████████████████| 806/806 [00:00<00:00, 1119.73it/s]\n",
      "100%|██████████████████████████████████████| 1814/1814 [00:09<00:00, 191.81it/s]\n",
      "100%|████████████████████████████████████████| 202/202 [00:01<00:00, 186.07it/s]\n"
     ]
    },
    {
     "name": "stdout",
     "output_type": "stream",
     "text": [
      "fold-4\n",
      "Building similarity graph\n"
     ]
    },
    {
     "name": "stderr",
     "output_type": "stream",
     "text": [
      "100%|█████████████████████████████████████| 7255/7255 [00:06<00:00, 1109.57it/s]\n"
     ]
    },
    {
     "name": "stdout",
     "output_type": "stream",
     "text": [
      "avg. nodes sim.= 0.37359819667052463\n"
     ]
    },
    {
     "name": "stderr",
     "output_type": "stream",
     "text": [
      "100%|███████████████████████████████████████| 806/806 [00:00<00:00, 1109.28it/s]\n",
      "100%|██████████████████████████████████████| 1814/1814 [00:09<00:00, 191.88it/s]\n",
      "100%|████████████████████████████████████████| 202/202 [00:01<00:00, 189.24it/s]\n"
     ]
    },
    {
     "name": "stdout",
     "output_type": "stream",
     "text": [
      "fold-5\n",
      "Building similarity graph\n"
     ]
    },
    {
     "name": "stderr",
     "output_type": "stream",
     "text": [
      "100%|█████████████████████████████████████| 7255/7255 [00:06<00:00, 1102.61it/s]\n"
     ]
    },
    {
     "name": "stdout",
     "output_type": "stream",
     "text": [
      "avg. nodes sim.= 0.3739604650401444\n"
     ]
    },
    {
     "name": "stderr",
     "output_type": "stream",
     "text": [
      "100%|███████████████████████████████████████| 806/806 [00:00<00:00, 1098.12it/s]\n",
      "100%|██████████████████████████████████████| 1814/1814 [00:09<00:00, 192.79it/s]\n",
      "100%|████████████████████████████████████████| 202/202 [00:01<00:00, 187.84it/s]\n"
     ]
    },
    {
     "name": "stdout",
     "output_type": "stream",
     "text": [
      "fold-6\n",
      "Building similarity graph\n"
     ]
    },
    {
     "name": "stderr",
     "output_type": "stream",
     "text": [
      "100%|█████████████████████████████████████| 7255/7255 [00:06<00:00, 1114.46it/s]\n"
     ]
    },
    {
     "name": "stdout",
     "output_type": "stream",
     "text": [
      "avg. nodes sim.= 0.372543491705117\n"
     ]
    },
    {
     "name": "stderr",
     "output_type": "stream",
     "text": [
      "100%|███████████████████████████████████████| 806/806 [00:00<00:00, 1114.24it/s]\n",
      "100%|██████████████████████████████████████| 1814/1814 [00:09<00:00, 192.16it/s]\n",
      "100%|████████████████████████████████████████| 202/202 [00:01<00:00, 188.09it/s]\n"
     ]
    },
    {
     "name": "stdout",
     "output_type": "stream",
     "text": [
      "fold-7\n",
      "Building similarity graph\n"
     ]
    },
    {
     "name": "stderr",
     "output_type": "stream",
     "text": [
      "100%|█████████████████████████████████████| 7255/7255 [00:06<00:00, 1111.61it/s]\n"
     ]
    },
    {
     "name": "stdout",
     "output_type": "stream",
     "text": [
      "avg. nodes sim.= 0.3737639898557941\n"
     ]
    },
    {
     "name": "stderr",
     "output_type": "stream",
     "text": [
      "100%|███████████████████████████████████████| 806/806 [00:00<00:00, 1107.32it/s]\n",
      "100%|██████████████████████████████████████| 1814/1814 [00:09<00:00, 192.27it/s]\n",
      "100%|████████████████████████████████████████| 202/202 [00:01<00:00, 187.89it/s]\n"
     ]
    },
    {
     "name": "stdout",
     "output_type": "stream",
     "text": [
      "fold-8\n",
      "Building similarity graph\n"
     ]
    },
    {
     "name": "stderr",
     "output_type": "stream",
     "text": [
      "100%|█████████████████████████████████████| 7255/7255 [00:06<00:00, 1105.11it/s]\n"
     ]
    },
    {
     "name": "stdout",
     "output_type": "stream",
     "text": [
      "avg. nodes sim.= 0.3735825062528571\n"
     ]
    },
    {
     "name": "stderr",
     "output_type": "stream",
     "text": [
      "100%|███████████████████████████████████████| 806/806 [00:00<00:00, 1101.21it/s]\n",
      "100%|██████████████████████████████████████| 1814/1814 [00:09<00:00, 192.84it/s]\n",
      "100%|████████████████████████████████████████| 202/202 [00:01<00:00, 184.73it/s]\n"
     ]
    },
    {
     "name": "stdout",
     "output_type": "stream",
     "text": [
      "fold-9\n",
      "Building similarity graph\n"
     ]
    },
    {
     "name": "stderr",
     "output_type": "stream",
     "text": [
      "100%|█████████████████████████████████████| 7255/7255 [00:06<00:00, 1108.15it/s]\n"
     ]
    },
    {
     "name": "stdout",
     "output_type": "stream",
     "text": [
      "avg. nodes sim.= 0.37326784368000177\n"
     ]
    },
    {
     "name": "stderr",
     "output_type": "stream",
     "text": [
      "100%|███████████████████████████████████████| 806/806 [00:00<00:00, 1108.15it/s]\n",
      "100%|██████████████████████████████████████| 1814/1814 [00:09<00:00, 193.18it/s]\n",
      "100%|████████████████████████████████████████| 202/202 [00:01<00:00, 185.85it/s]\n"
     ]
    },
    {
     "name": "stdout",
     "output_type": "stream",
     "text": [
      "Symbolic:\n",
      "――――――――――――――――――――――――――――――――――――――――――――――――――――――――――――――\n",
      "  Score                 Average      Lab:1        Lab:2       \n",
      "――――――――――――――――――――――――――――――――――――――――――――――――――――――――――――――\n",
      "  Accuracy              61.2 ±  1.0  -            -            \n",
      "  Balanced Accuracy     59.1 ±  1.0  -            -            \n",
      "  F1                    59.8 ±  1.0  68.9 ±  0.9  48.3 ±  1.4  \n",
      "  G-mean                59.0 ±  1.0  56.3 ±  1.1  56.3 ±  1.1  \n",
      "  Precision             60.7 ±  1.1  62.4 ±  0.7  58.6 ±  1.8  \n",
      "  Recall                61.2 ±  1.0  77.0 ±  1.8  41.2 ±  1.8  \n",
      "――――――――――――――――――――――――――――――――――――――――――――――――――――――――――――――\n",
      "Deep:\n",
      "――――――――――――――――――――――――――――――――――――――――――――――――――――――――――――――\n",
      "  Score                 Average      Lab:1        Lab:2       \n",
      "――――――――――――――――――――――――――――――――――――――――――――――――――――――――――――――\n",
      "  Accuracy              65.6 ±  1.9  -            -            \n",
      "  Balanced Accuracy     64.6 ±  1.9  -            -            \n",
      "  F1                    65.3 ±  1.9  70.3 ±  1.8  58.9 ±  2.1  \n",
      "  G-mean                64.5 ±  1.9  64.0 ±  1.9  64.0 ±  1.9  \n",
      "  Precision             65.3 ±  2.0  67.8 ±  1.4  62.2 ±  2.7  \n",
      "  Recall                65.6 ±  1.9  73.1 ±  2.4  56.0 ±  1.9  \n",
      "――――――――――――――――――――――――――――――――――――――――――――――――――――――――――――――\n",
      "Both:\n",
      "――――――――――――――――――――――――――――――――――――――――――――――――――――――――――――――\n",
      "  Score                 Average      Lab:1        Lab:2       \n",
      "――――――――――――――――――――――――――――――――――――――――――――――――――――――――――――――\n",
      "  Accuracy              66.3 ±  1.5  -            -            \n",
      "  Balanced Accuracy     65.2 ±  1.5  -            -            \n",
      "  F1                    66.0 ±  1.5  71.2 ±  1.4  59.4 ±  1.8  \n",
      "  G-mean                65.2 ±  1.5  64.5 ±  1.5  64.5 ±  1.5  \n",
      "  Precision             66.1 ±  1.6  68.2 ±  1.1  63.4 ±  2.3  \n",
      "  Recall                66.3 ±  1.5  74.6 ±  2.2  55.9 ±  1.9  \n",
      "――――――――――――――――――――――――――――――――――――――――――――――――――――――――――――――\n"
     ]
    }
   ],
   "source": [
    "loader = DatasetLoader()\n",
    "\n",
    "for dataset in [\"liar\"]:\n",
    "    body, labels, total_number_of_claims = loader.get(dataset)\n",
    "    X=range(0,total_number_of_claims)\n",
    "    \n",
    "    trustex_quality = Metrics()\n",
    "    swarog_quality = Metrics()\n",
    "    inf_quality = Metrics()\n",
    "    \n",
    "\n",
    "    for fold_idx, (train, test) in enumerate(rskf.split(X, labels)):\n",
    "        print(f\"fold-{fold_idx}\")    \n",
    "        \n",
    "        swarog = SwarogModel()\n",
    "        trustex = TrustexModel()\n",
    "        inference = Inference()\n",
    "    \n",
    "        trustex.train(body[train],labels[train])\n",
    "        ypred = trustex.predict(body[test])\n",
    "        trustex_quality.update(labels[test], ypred)\n",
    "        \n",
    "        swarog.train(body[train],labels[train])\n",
    "        ypred = swarog.predict(body[test])\n",
    "        swarog_quality.update(labels[test], ypred)\n",
    "        \n",
    "        inference.train(trustex.graph_knn, swarog.train_prob, labels[train])\n",
    "        newpred = inference.predict(trustex.graph_test_knn, swarog.test_prob)\n",
    "        inf_quality.update(labels[test], newpred)\n",
    "\n",
    "        \n",
    "        \n",
    "print(\"Symbolic:\")\n",
    "trustex_quality.print_table()\n",
    "\n",
    "print(\"Deep:\")\n",
    "swarog_quality.print_table()\n",
    "\n",
    "print(\"Both:\")\n",
    "inf_quality.print_table()\n",
    "        \n",
    "        "
   ]
  },
  {
   "cell_type": "markdown",
   "id": "30f25f56-8504-4a49-a52d-0870b6ff99d5",
   "metadata": {},
   "source": [
    "# Graphs and plots"
   ]
  },
  {
   "cell_type": "code",
   "execution_count": null,
   "id": "89279a30-84ca-4f27-9efa-f712999e6861",
   "metadata": {},
   "outputs": [],
   "source": [
    "import pandas as pd\n",
    "import sqlite3\n",
    "con = sqlite3.connect(\"wyniki.db\")\n",
    "resutls = pd.read_csv(\"wyniki.csv\")\n",
    "resutls.to_sql(\"wyniki\", con)\n",
    "con.close()"
   ]
  },
  {
   "cell_type": "code",
   "execution_count": 160,
   "id": "6955dfff-469c-4224-97aa-f6696eebc596",
   "metadata": {},
   "outputs": [
    {
     "data": {
      "text/plain": [
       "Accuracy            12\n",
       "BalancedAccuracy    12\n",
       "F1                  12\n",
       "G-mean              12\n",
       "Precision           12\n",
       "Recall              12\n",
       "Name: Metric, dtype: int64"
      ]
     },
     "execution_count": 160,
     "metadata": {},
     "output_type": "execute_result"
    }
   ],
   "source": [
    "resutls[\"Metric\"].value_counts()"
   ]
  },
  {
   "cell_type": "code",
   "execution_count": 136,
   "id": "4c301f47-103d-4606-adf1-ffcd68ec866a",
   "metadata": {},
   "outputs": [
    {
     "name": "stdout",
     "output_type": "stream",
     "text": [
      "huggingface/tokenizers: The current process just got forked, after parallelism has already been used. Disabling parallelism to avoid deadlocks...\n",
      "To disable this warning, you can either:\n",
      "\t- Avoid using `tokenizers` before the fork if possible\n",
      "\t- Explicitly set the environment variable TOKENIZERS_PARALLELISM=(true | false)\n"
     ]
    }
   ],
   "source": [
    "!rm wyniki.db"
   ]
  },
  {
   "cell_type": "code",
   "execution_count": 167,
   "id": "b24356ff-e784-48a5-8b2c-fd6aaa24b633",
   "metadata": {},
   "outputs": [
    {
     "data": {
      "text/html": [
       "<div>\n",
       "<style scoped>\n",
       "    .dataframe tbody tr th:only-of-type {\n",
       "        vertical-align: middle;\n",
       "    }\n",
       "\n",
       "    .dataframe tbody tr th {\n",
       "        vertical-align: top;\n",
       "    }\n",
       "\n",
       "    .dataframe thead th {\n",
       "        text-align: right;\n",
       "    }\n",
       "</style>\n",
       "<table border=\"1\" class=\"dataframe\">\n",
       "  <thead>\n",
       "    <tr style=\"text-align: right;\">\n",
       "      <th></th>\n",
       "      <th>Dataset</th>\n",
       "      <th>Algorithm</th>\n",
       "      <th>BAC</th>\n",
       "      <th>F1</th>\n",
       "      <th>G-mean</th>\n",
       "    </tr>\n",
       "  </thead>\n",
       "  <tbody>\n",
       "    <tr>\n",
       "      <th>0</th>\n",
       "      <td>FN-KDD</td>\n",
       "      <td>Symbolic</td>\n",
       "      <td>70.3 ± 2.0</td>\n",
       "      <td>72.2 ± 1.8</td>\n",
       "      <td>70.2 ± 2.0</td>\n",
       "    </tr>\n",
       "    <tr>\n",
       "      <th>1</th>\n",
       "      <td>FN-KDD</td>\n",
       "      <td>Deep</td>\n",
       "      <td>74.2 ± 1.4</td>\n",
       "      <td>75.7 ± 1.3</td>\n",
       "      <td>74.2 ± 1.4</td>\n",
       "    </tr>\n",
       "    <tr>\n",
       "      <th>2</th>\n",
       "      <td>FN-KDD</td>\n",
       "      <td>Both</td>\n",
       "      <td>75.6 ± 1.3</td>\n",
       "      <td>76.9 ± 1.2</td>\n",
       "      <td>75.6 ± 1.3</td>\n",
       "    </tr>\n",
       "    <tr>\n",
       "      <th>3</th>\n",
       "      <td>MM-Covid</td>\n",
       "      <td>Symbolic</td>\n",
       "      <td>84.6 ± 1.6</td>\n",
       "      <td>89.5 ± 1.3</td>\n",
       "      <td>84.5 ± 1.6</td>\n",
       "    </tr>\n",
       "    <tr>\n",
       "      <th>4</th>\n",
       "      <td>MM-Covid</td>\n",
       "      <td>Deep</td>\n",
       "      <td>88.8 ± 1.8</td>\n",
       "      <td>92.8 ± 1.1</td>\n",
       "      <td>88.7 ± 1.8</td>\n",
       "    </tr>\n",
       "    <tr>\n",
       "      <th>5</th>\n",
       "      <td>MM-Covid</td>\n",
       "      <td>Both</td>\n",
       "      <td>91.6 ± 1.0</td>\n",
       "      <td>94.3 ± 0.6</td>\n",
       "      <td>91.6 ± 1.0</td>\n",
       "    </tr>\n",
       "    <tr>\n",
       "      <th>6</th>\n",
       "      <td>LIAR</td>\n",
       "      <td>Symbolic</td>\n",
       "      <td>59.1 ± 1.0</td>\n",
       "      <td>59.8 ± 1.0</td>\n",
       "      <td>59.0 ± 1.0</td>\n",
       "    </tr>\n",
       "    <tr>\n",
       "      <th>7</th>\n",
       "      <td>LIAR</td>\n",
       "      <td>Deep</td>\n",
       "      <td>64.6 ± 1.9</td>\n",
       "      <td>65.3 ± 1.9</td>\n",
       "      <td>64.5 ± 1.9</td>\n",
       "    </tr>\n",
       "    <tr>\n",
       "      <th>8</th>\n",
       "      <td>LIAR</td>\n",
       "      <td>Both</td>\n",
       "      <td>65.2 ± 1.5</td>\n",
       "      <td>66.0 ± 1.5</td>\n",
       "      <td>65.2 ± 1.5</td>\n",
       "    </tr>\n",
       "    <tr>\n",
       "      <th>9</th>\n",
       "      <td>COVID-FN</td>\n",
       "      <td>Symbolic</td>\n",
       "      <td>69.6 ± 3.1</td>\n",
       "      <td>95.8 ± 0.5</td>\n",
       "      <td>64.1 ± 4.4</td>\n",
       "    </tr>\n",
       "    <tr>\n",
       "      <th>10</th>\n",
       "      <td>COVID-FN</td>\n",
       "      <td>Deep</td>\n",
       "      <td>81.2 ± 2.7</td>\n",
       "      <td>97.3 ± 0.4</td>\n",
       "      <td>79.5 ± 3.3</td>\n",
       "    </tr>\n",
       "    <tr>\n",
       "      <th>11</th>\n",
       "      <td>COVID-FN</td>\n",
       "      <td>Both</td>\n",
       "      <td>84.4 ± 3.1</td>\n",
       "      <td>97.3 ± 0.4</td>\n",
       "      <td>83.3 ± 3.6</td>\n",
       "    </tr>\n",
       "  </tbody>\n",
       "</table>\n",
       "</div>"
      ],
      "text/plain": [
       "     Dataset Algorithm         BAC          F1      G-mean\n",
       "0     FN-KDD  Symbolic  70.3 ± 2.0  72.2 ± 1.8  70.2 ± 2.0\n",
       "1     FN-KDD      Deep  74.2 ± 1.4  75.7 ± 1.3  74.2 ± 1.4\n",
       "2     FN-KDD      Both  75.6 ± 1.3  76.9 ± 1.2  75.6 ± 1.3\n",
       "3   MM-Covid  Symbolic  84.6 ± 1.6  89.5 ± 1.3  84.5 ± 1.6\n",
       "4   MM-Covid      Deep  88.8 ± 1.8  92.8 ± 1.1  88.7 ± 1.8\n",
       "5   MM-Covid      Both  91.6 ± 1.0  94.3 ± 0.6  91.6 ± 1.0\n",
       "6       LIAR  Symbolic  59.1 ± 1.0  59.8 ± 1.0  59.0 ± 1.0\n",
       "7       LIAR      Deep  64.6 ± 1.9  65.3 ± 1.9  64.5 ± 1.9\n",
       "8       LIAR      Both  65.2 ± 1.5  66.0 ± 1.5  65.2 ± 1.5\n",
       "9   COVID-FN  Symbolic  69.6 ± 3.1  95.8 ± 0.5  64.1 ± 4.4\n",
       "10  COVID-FN      Deep  81.2 ± 2.7  97.3 ± 0.4  79.5 ± 3.3\n",
       "11  COVID-FN      Both  84.4 ± 3.1  97.3 ± 0.4  83.3 ± 3.6"
      ]
     },
     "execution_count": 167,
     "metadata": {},
     "output_type": "execute_result"
    }
   ],
   "source": [
    "con = sqlite3.connect(\"wyniki.db\")\n",
    "bac = pd.read_sql(\"\"\"\n",
    "select Datase as Dataset, Algorithm, Value || \" ± \" || Std as BAC from wyniki where Metric='BalancedAccuracy'\n",
    "\"\"\", con)\n",
    "\n",
    "f1=pd.read_sql(\"\"\"\n",
    "select Value || \" ± \" || Std as F1 from wyniki where Metric='F1'\n",
    "\"\"\", con)\n",
    "\n",
    "\n",
    "Precision=pd.read_sql(\"\"\"\n",
    "select Value || \" ± \" || Std as Precision from wyniki where Metric='Precision'\n",
    "\"\"\", con)\n",
    "\n",
    "Recall=pd.read_sql(\"\"\"\n",
    "select Value || \" ± \" || Std as Precision from wyniki where Metric='Recall'\n",
    "\"\"\", con)\n",
    "\n",
    "G_mean=pd.read_sql(\"\"\"\n",
    "select Value || \" ± \" || Std as \"G-mean\" from wyniki where Metric='G-mean'\n",
    "\"\"\", con)\n",
    "\n",
    "res = pd.concat([bac,f1,G_mean], axis=1)\n",
    "res"
   ]
  },
  {
   "cell_type": "code",
   "execution_count": 171,
   "id": "bbee8214-5acc-4d54-9875-20a3d7dfd0a7",
   "metadata": {},
   "outputs": [],
   "source": [
    "def renameit(x):\n",
    "    if x == \"Symbolic\":\n",
    "        return \"Symbolic Model\"\n",
    "    if x == \"Deep\":\n",
    "        return \"Deep Model\"\n",
    "    if x == \"Both\":\n",
    "        return \"Proposed\"\n",
    "res[\"Algorithm\"]=[renameit(x) for x in res[\"Algorithm\"]]"
   ]
  },
  {
   "cell_type": "code",
   "execution_count": 176,
   "id": "ff15d38c-8daa-4b89-a54c-97ba5ff7a0f4",
   "metadata": {},
   "outputs": [
    {
     "name": "stdout",
     "output_type": "stream",
     "text": [
      "\\begin{tabular}{llllll}\n",
      " & Dataset & Algorithm & BAC & F1 & G-mean \\\\\n",
      "0 & FN-KDD & Symbolic Model & 70.3 ± 2.0 & 72.2 ± 1.8 & 70.2 ± 2.0 \\\\\n",
      "1 & FN-KDD & Deep Model & 74.2 ± 1.4 & 75.7 ± 1.3 & 74.2 ± 1.4 \\\\\n",
      "2 & FN-KDD & Proposed & 75.6 ± 1.3 & 76.9 ± 1.2 & 75.6 ± 1.3 \\\\\n",
      "3 & MM-Covid & Symbolic Model & 84.6 ± 1.6 & 89.5 ± 1.3 & 84.5 ± 1.6 \\\\\n",
      "4 & MM-Covid & Deep Model & 88.8 ± 1.8 & 92.8 ± 1.1 & 88.7 ± 1.8 \\\\\n",
      "5 & MM-Covid & Proposed & 91.6 ± 1.0 & 94.3 ± 0.6 & 91.6 ± 1.0 \\\\\n",
      "6 & LIAR & Symbolic Model & 59.1 ± 1.0 & 59.8 ± 1.0 & 59.0 ± 1.0 \\\\\n",
      "7 & LIAR & Deep Model & 64.6 ± 1.9 & 65.3 ± 1.9 & 64.5 ± 1.9 \\\\\n",
      "8 & LIAR & Proposed & 65.2 ± 1.5 & 66.0 ± 1.5 & 65.2 ± 1.5 \\\\\n",
      "9 & COVID-FN & Symbolic Model & 69.6 ± 3.1 & 95.8 ± 0.5 & 64.1 ± 4.4 \\\\\n",
      "10 & COVID-FN & Deep Model & 81.2 ± 2.7 & 97.3 ± 0.4 & 79.5 ± 3.3 \\\\\n",
      "11 & COVID-FN & Proposed & 84.4 ± 3.1 & 97.3 ± 0.4 & 83.3 ± 3.6 \\\\\n",
      "\\end{tabular}\n",
      "\n"
     ]
    }
   ],
   "source": [
    "print(res.style.to_latex())"
   ]
  },
  {
   "cell_type": "code",
   "execution_count": 215,
   "id": "d49ff487-d3d7-45b9-981e-15752728e5b9",
   "metadata": {},
   "outputs": [
    {
     "data": {
      "text/html": [
       "<div>\n",
       "<style scoped>\n",
       "    .dataframe tbody tr th:only-of-type {\n",
       "        vertical-align: middle;\n",
       "    }\n",
       "\n",
       "    .dataframe tbody tr th {\n",
       "        vertical-align: top;\n",
       "    }\n",
       "\n",
       "    .dataframe thead th {\n",
       "        text-align: right;\n",
       "    }\n",
       "</style>\n",
       "<table border=\"1\" class=\"dataframe\">\n",
       "  <thead>\n",
       "    <tr style=\"text-align: right;\">\n",
       "      <th></th>\n",
       "      <th>Dataset</th>\n",
       "      <th>Improvement</th>\n",
       "    </tr>\n",
       "  </thead>\n",
       "  <tbody>\n",
       "    <tr>\n",
       "      <th>0</th>\n",
       "      <td>COVID-FN</td>\n",
       "      <td>3.2</td>\n",
       "    </tr>\n",
       "    <tr>\n",
       "      <th>1</th>\n",
       "      <td>MM-Covid</td>\n",
       "      <td>2.8</td>\n",
       "    </tr>\n",
       "    <tr>\n",
       "      <th>2</th>\n",
       "      <td>FN-KDD</td>\n",
       "      <td>1.4</td>\n",
       "    </tr>\n",
       "    <tr>\n",
       "      <th>3</th>\n",
       "      <td>LIAR</td>\n",
       "      <td>0.6</td>\n",
       "    </tr>\n",
       "  </tbody>\n",
       "</table>\n",
       "</div>"
      ],
      "text/plain": [
       "    Dataset  Improvement\n",
       "0  COVID-FN          3.2\n",
       "1  MM-Covid          2.8\n",
       "2    FN-KDD          1.4\n",
       "3      LIAR          0.6"
      ]
     },
     "execution_count": 215,
     "metadata": {},
     "output_type": "execute_result"
    }
   ],
   "source": [
    "pd.read_sql(\"\"\"\n",
    " \n",
    "    with blah as (\n",
    "        select Datase as Dataset, Algorithm, Metric, -Value as 'm' from wyniki where  Algorithm == 'Deep'\n",
    "        union\n",
    "        select Datase as Dataset, Algorithm, Metric, Value as 'm' from wyniki where   Algorithm == 'Both'\n",
    "    )\n",
    "    select Dataset,sum(m) as Improvement from blah where Metric in (\"BalancedAccuracy\") group by Dataset,Metric\n",
    "    order by Improvement desc\n",
    "\n",
    "\"\"\", con)"
   ]
  },
  {
   "cell_type": "code",
   "execution_count": 244,
   "id": "4219683f-c669-46f5-b135-08e92abe5e60",
   "metadata": {},
   "outputs": [
    {
     "name": "stdout",
     "output_type": "stream",
     "text": [
      "The autoreload extension is already loaded. To reload it, use:\n",
      "  %reload_ext autoreload\n"
     ]
    }
   ],
   "source": [
    "%load_ext autoreload\n",
    "%autoreload 2"
   ]
  },
  {
   "cell_type": "code",
   "execution_count": 245,
   "id": "4ef23034-5eab-4682-8fc3-0869a2dc19ff",
   "metadata": {},
   "outputs": [],
   "source": [
    "import pybars.charts as mygraph"
   ]
  },
  {
   "cell_type": "code",
   "execution_count": 246,
   "id": "6f01574e-4d88-4a4f-b7b6-c15a6034626b",
   "metadata": {},
   "outputs": [
    {
     "name": "stdout",
     "output_type": "stream",
     "text": [
      "using wyniki.db\n"
     ]
    },
    {
     "data": {
      "text/html": [
       "\n",
       "        <iframe\n",
       "            width=\"400\"\n",
       "            height=\"300\"\n",
       "            src=\"data:text/html;base64,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\"\n",
       "            frameborder=\"0\"\n",
       "            allowfullscreen\n",
       "            \n",
       "        ></iframe>\n",
       "        "
      ],
      "text/plain": [
       "<IPython.lib.display.IFrame at 0x7f756debf820>"
      ]
     },
     "execution_count": 246,
     "metadata": {},
     "output_type": "execute_result"
    }
   ],
   "source": [
    "%%sql  show=graph  db=wyniki.db stack=no vertical=yes width=400 height=300 fontSize=16 itemBorderRadius=10\n",
    "with blah as (\n",
    "    select Datase as Dataset, Algorithm, Metric, -Value as 'm' from wyniki where  Algorithm == 'Deep'\n",
    "    union\n",
    "    select Datase as Dataset, Algorithm, Metric, Value as 'm' from wyniki where   Algorithm == 'Both'\n",
    ")\n",
    "select Dataset, Metric ,round(sum(m)+0.001,2) as Improvement from blah where Metric in (\"BalancedAccuracy\", \"G-mean\") group by Dataset,Metric\n",
    "order by Dataset"
   ]
  },
  {
   "cell_type": "code",
   "execution_count": null,
   "id": "2d0a15b3-d116-4d04-af2f-d87dcf77ed2d",
   "metadata": {},
   "outputs": [],
   "source": []
  }
 ],
 "metadata": {
  "kernelspec": {
   "display_name": "env.hator",
   "language": "python",
   "name": "env.hator"
  },
  "language_info": {
   "codemirror_mode": {
    "name": "ipython",
    "version": 3
   },
   "file_extension": ".py",
   "mimetype": "text/x-python",
   "name": "python",
   "nbconvert_exporter": "python",
   "pygments_lexer": "ipython3",
   "version": "3.9.7"
  }
 },
 "nbformat": 4,
 "nbformat_minor": 5
}
