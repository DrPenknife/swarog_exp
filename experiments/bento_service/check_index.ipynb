{
 "cells": [
  {
   "cell_type": "code",
   "execution_count": 1,
   "metadata": {},
   "outputs": [
    {
     "name": "stdout",
     "output_type": "stream",
     "text": [
      "load model...\n",
      "load model...\n"
     ]
    },
    {
     "data": {
      "text/plain": [
       "True"
      ]
     },
     "execution_count": 1,
     "metadata": {},
     "output_type": "execute_result"
    }
   ],
   "source": [
    "from annoy import AnnoyIndex\n",
    "tfidf = AnnoyIndex(7000, 'angular')\n",
    "print(\"load model...\")\n",
    "tfidf.load('../../pickles/swarog_data/swarog_tfidf.ann')\n",
    "\n",
    "from annoy import AnnoyIndex\n",
    "bert = AnnoyIndex(768, 'angular')\n",
    "print(\"load model...\")\n",
    "bert.load('../../pickles/swarog_data/swarog_bertcls.ann')\n"
   ]
  },
  {
   "cell_type": "code",
   "execution_count": 2,
   "metadata": {
    "scrolled": true
   },
   "outputs": [
    {
     "ename": "ModuleNotFoundError",
     "evalue": "No module named 'pickle5'",
     "output_type": "error",
     "traceback": [
      "\u001b[0;31m---------------------------------------------------------------------------\u001b[0m",
      "\u001b[0;31mModuleNotFoundError\u001b[0m                       Traceback (most recent call last)",
      "\u001b[0;32m/tmp/ipykernel_3903/3419001941.py\u001b[0m in \u001b[0;36m<module>\u001b[0;34m\u001b[0m\n\u001b[0;32m----> 1\u001b[0;31m \u001b[0;32mimport\u001b[0m \u001b[0mpickle5\u001b[0m \u001b[0;32mas\u001b[0m \u001b[0mpickle\u001b[0m\u001b[0;34m\u001b[0m\u001b[0;34m\u001b[0m\u001b[0m\n\u001b[0m\u001b[1;32m      2\u001b[0m \u001b[0;32mimport\u001b[0m \u001b[0mnumpy\u001b[0m \u001b[0;32mas\u001b[0m \u001b[0mnp\u001b[0m\u001b[0;34m\u001b[0m\u001b[0;34m\u001b[0m\u001b[0m\n\u001b[1;32m      3\u001b[0m \u001b[0;32mimport\u001b[0m \u001b[0mpandas\u001b[0m \u001b[0;32mas\u001b[0m \u001b[0mpd\u001b[0m\u001b[0;34m\u001b[0m\u001b[0;34m\u001b[0m\u001b[0m\n\u001b[1;32m      4\u001b[0m \u001b[0;32mfrom\u001b[0m \u001b[0mtqdm\u001b[0m \u001b[0;32mimport\u001b[0m \u001b[0mtqdm\u001b[0m\u001b[0;34m\u001b[0m\u001b[0;34m\u001b[0m\u001b[0m\n\u001b[1;32m      5\u001b[0m \u001b[0;32mimport\u001b[0m \u001b[0msqlite3\u001b[0m\u001b[0;34m\u001b[0m\u001b[0;34m\u001b[0m\u001b[0m\n",
      "\u001b[0;31mModuleNotFoundError\u001b[0m: No module named 'pickle5'"
     ]
    }
   ],
   "source": [
    "import pickle5 as pickle\n",
    "import numpy as np\n",
    "import pandas as pd\n",
    "from tqdm import tqdm\n",
    "import sqlite3\n",
    "\n",
    "conn = sqlite3.connect('../../pickles/swarog_data/swarog.sqlite')\n",
    "rawdata = pd.read_sql_query(\"select dataset, rowid as gid, body from raw\", conn)\n",
    "conn.close()"
   ]
  },
  {
   "cell_type": "code",
   "execution_count": 19,
   "metadata": {},
   "outputs": [
    {
     "data": {
      "text/html": [
       "<div>\n",
       "<style scoped>\n",
       "    .dataframe tbody tr th:only-of-type {\n",
       "        vertical-align: middle;\n",
       "    }\n",
       "\n",
       "    .dataframe tbody tr th {\n",
       "        vertical-align: top;\n",
       "    }\n",
       "\n",
       "    .dataframe thead th {\n",
       "        text-align: right;\n",
       "    }\n",
       "</style>\n",
       "<table border=\"1\" class=\"dataframe\">\n",
       "  <thead>\n",
       "    <tr style=\"text-align: right;\">\n",
       "      <th></th>\n",
       "      <th>dataset</th>\n",
       "      <th>gid</th>\n",
       "      <th>body</th>\n",
       "    </tr>\n",
       "  </thead>\n",
       "  <tbody>\n",
       "    <tr>\n",
       "      <th>0</th>\n",
       "      <td>covid_fake_news</td>\n",
       "      <td>1</td>\n",
       "      <td>A post claims compulsory vacination violates t...</td>\n",
       "    </tr>\n",
       "    <tr>\n",
       "      <th>1</th>\n",
       "      <td>covid_fake_news</td>\n",
       "      <td>2</td>\n",
       "      <td>A photo claims that this person is a doctor wh...</td>\n",
       "    </tr>\n",
       "    <tr>\n",
       "      <th>2</th>\n",
       "      <td>covid_fake_news</td>\n",
       "      <td>3</td>\n",
       "      <td>Post about a video claims that it is a protest...</td>\n",
       "    </tr>\n",
       "    <tr>\n",
       "      <th>3</th>\n",
       "      <td>covid_fake_news</td>\n",
       "      <td>4</td>\n",
       "      <td>All deaths by respiratory failure and pneumoni...</td>\n",
       "    </tr>\n",
       "    <tr>\n",
       "      <th>4</th>\n",
       "      <td>covid_fake_news</td>\n",
       "      <td>5</td>\n",
       "      <td>The dean of the College of Biologists of Euska...</td>\n",
       "    </tr>\n",
       "  </tbody>\n",
       "</table>\n",
       "</div>"
      ],
      "text/plain": [
       "           dataset  gid                                               body\n",
       "0  covid_fake_news    1  A post claims compulsory vacination violates t...\n",
       "1  covid_fake_news    2  A photo claims that this person is a doctor wh...\n",
       "2  covid_fake_news    3  Post about a video claims that it is a protest...\n",
       "3  covid_fake_news    4  All deaths by respiratory failure and pneumoni...\n",
       "4  covid_fake_news    5  The dean of the College of Biologists of Euska..."
      ]
     },
     "execution_count": 19,
     "metadata": {},
     "output_type": "execute_result"
    }
   ],
   "source": [
    "rawdata.head()"
   ]
  },
  {
   "cell_type": "code",
   "execution_count": 11,
   "metadata": {},
   "outputs": [],
   "source": [
    "\n",
    "with open(f'../../pickles/swarog_data/swarog_tfidf.pickle', 'rb') as handle:\n",
    "        tfidfvec = pickle.load(handle)\n",
    "    \n",
    "with open(f'../../pickles/swarog_data/swarog_bertcls.pickle', 'rb') as handle:\n",
    "        bertclsvec = pickle.load(handle)\n"
   ]
  },
  {
   "cell_type": "code",
   "execution_count": 12,
   "metadata": {},
   "outputs": [],
   "source": [
    "from sklearn.feature_extraction.text import TfidfVectorizer\n",
    "from sklearn.metrics.pairwise import linear_kernel\n",
    "from nltk import word_tokenize          \n",
    "from nltk.stem import WordNetLemmatizer\n",
    "import nltk\n",
    "from nltk.corpus import stopwords\n",
    "import pickle5 as pickle\n",
    "\n",
    "# Interface lemma tokenizer from nltk with sklearn\n",
    "class LemmaTokenizer:\n",
    "    ignore_tokens = [',', '.', ';', ':', '\"', '``', \"''\", '`']\n",
    "    def __init__(self):\n",
    "        self.wnl = WordNetLemmatizer()\n",
    "    def __call__(self, doc):\n",
    "        return [self.wnl.lemmatize(t) for t in word_tokenize(doc) if t not in self.ignore_tokens]\n",
    "    \n",
    "with open(f'../../pickles/swarog_data/tfidf_vectorizer.pickle', 'rb') as handle:\n",
    "        tfidf_vectorizer = pickle.load(handle)"
   ]
  },
  {
   "cell_type": "code",
   "execution_count": null,
   "metadata": {},
   "outputs": [],
   "source": [
    "class MyCustomUnpickler(pickle.Unpickler):\n",
    "    def find_class(self, module, name):\n",
    "        if module == \"__main__\":\n",
    "            module = \"lematizer\"\n",
    "        return super().find_class(module, name)\n",
    "\n",
    "with open('out.pkl', 'rb') as f:\n",
    "    unpickler = MyCustomUnpickler(f)\n",
    "    obj = unpickler.load()\n",
    "\n",
    "print(obj)\n",
    "print(obj.name)\n"
   ]
  },
  {
   "cell_type": "code",
   "execution_count": 4,
   "metadata": {},
   "outputs": [
    {
     "data": {
      "text/plain": [
       "TfidfVectorizer(max_features=7000,\n",
       "                stop_words=['s', 'above', 'it', \"'s\", 'you', 'they', 't', 'up',\n",
       "                            'were', 'what', 'of', 'himself', 'she', \"'s\",\n",
       "                            'some', 'had', 'those', 'from', 'how', 'shouldn',\n",
       "                            'our', 'below', 'over', 'with', 'have', \"n't\",\n",
       "                            'whom', 'you', \"'re\", 'under', ...],\n",
       "                tokenizer=<__main__.LemmaTokenizer object at 0x000001C846CF7BE0>)"
      ]
     },
     "execution_count": 4,
     "metadata": {},
     "output_type": "execute_result"
    }
   ],
   "source": [
    "tfidf_vectorizer"
   ]
  },
  {
   "cell_type": "code",
   "execution_count": 3,
   "metadata": {},
   "outputs": [
    {
     "data": {
      "text/plain": [
       "<__main__.LemmaTokenizer at 0x1c83581e2e8>"
      ]
     },
     "execution_count": 3,
     "metadata": {},
     "output_type": "execute_result"
    }
   ],
   "source": [
    "LemmaTokenizer()"
   ]
  },
  {
   "cell_type": "code",
   "execution_count": 11,
   "metadata": {},
   "outputs": [
    {
     "data": {
      "text/plain": [
       "array([0., 0., 0., ..., 0., 0., 0.])"
      ]
     },
     "execution_count": 11,
     "metadata": {},
     "output_type": "execute_result"
    }
   ],
   "source": [
    "tfidf_vectorizer.transform([\"Obama is playing tenis\"]).toarray()[0]"
   ]
  },
  {
   "cell_type": "code",
   "execution_count": 11,
   "metadata": {
    "scrolled": true
   },
   "outputs": [
    {
     "data": {
      "text/plain": [
       "((185460, 7000), (186477, 768))"
      ]
     },
     "execution_count": 11,
     "metadata": {},
     "output_type": "execute_result"
    }
   ],
   "source": [
    "tfidfvec.shape, bertclsvec.shape"
   ]
  },
  {
   "cell_type": "code",
   "execution_count": null,
   "metadata": {},
   "outputs": [],
   "source": [
    "bertclsvec[1]"
   ]
  },
  {
   "cell_type": "code",
   "execution_count": 14,
   "metadata": {
    "scrolled": true
   },
   "outputs": [
    {
     "data": {
      "text/plain": [
       "([2, 3560, 5213, 6841, 4131, 3773, 78, 2807, 99, 6462],\n",
       " [0.0,\n",
       "  0.8274081945419312,\n",
       "  0.9530237913131714,\n",
       "  0.9788058996200562,\n",
       "  1.0133435726165771,\n",
       "  1.0189106464385986,\n",
       "  1.0396513938903809,\n",
       "  1.0554074048995972,\n",
       "  1.0576972961425781,\n",
       "  1.0597047805786133])"
      ]
     },
     "execution_count": 14,
     "metadata": {},
     "output_type": "execute_result"
    }
   ],
   "source": [
    "tfidf.get_nns_by_item(2, 10, search_k=-1, include_distances=True)"
   ]
  },
  {
   "cell_type": "code",
   "execution_count": 26,
   "metadata": {
    "scrolled": true
   },
   "outputs": [
    {
     "data": {
      "text/plain": [
       "body    The photo shows doctors who died from COVID-19.\n",
       "gid                                                3560\n",
       "Name: 3559, dtype: object"
      ]
     },
     "execution_count": 26,
     "metadata": {},
     "output_type": "execute_result"
    }
   ],
   "source": [
    "rawdata[['body','gid']].iloc[3560-1]"
   ]
  },
  {
   "cell_type": "code",
   "execution_count": 22,
   "metadata": {},
   "outputs": [],
   "source": [
    "import sqlite3\n",
    "def get_related_articles(txt):\n",
    "    vec = tfidf_vectorizer.transform([txt]).toarray()[0]\n",
    "    hits = tfidf.get_nns_by_vector(vec, 10, search_k=-1, include_distances=True)\n",
    "    print(hits)\n",
    "    resp = []\n",
    "    conn = sqlite3.connect('../../pickles/swarog_data/swarog.sqlite')\n",
    "    c = conn.cursor()\n",
    "    for index,_id in enumerate(hits[0]):\n",
    "        c.execute(\"select raw.body,raw.label from raw join tfidf on (tfidf.gid=raw.rowid) where tfidf.rowid=?\",[_id])\n",
    "        r=c.fetchall()\n",
    "        resp.append({\n",
    "            'text':r[0][0],\n",
    "            'label':r[0][1],\n",
    "            'distance':hits[1][index]})\n",
    "    conn.close()\n",
    "    return resp\n",
    "    "
   ]
  },
  {
   "cell_type": "code",
   "execution_count": 20,
   "metadata": {
    "scrolled": true
   },
   "outputs": [
    {
     "data": {
      "text/plain": [
       "\"The Hill   During a recent interview, Clooney describes conservative criticism of Democrats associated with film producer Harvey Weinstein as  a little pot and kettle,  noting the prior sexual harassment allegations levied against conservative figures like Roger Ailes and Bill O Reilly. Yeah, that s a little pot and kettle there, unfortunately. But I think that everything gets politicized these days. The reality is that this is a problem deeply ingrained in our society,  Clooney told The Daily Beast when asked about criticisms coming from conservatives in the days since a New York Times report that detailed accusations of sexual harassment against Weinstein. It was something that was talked about a lot on the left with Roger Ailes, Bill O Reilly, and Donald Trump, and it s something that s going to be talked about a lot on the right with Harvey Weinstein,  Clooney added. I think that rather than politicize it, there should be talk on both sides about the really bad behavior by powerful men and the horrible acts they commit. It s pretty crazy to me. Page Six   A former  ER  actress claims that she was sexually and racially harassed daily on set   and George Clooney helped  blacklist  her from Hollywood when she complained.B.S.Clooney helped blacklist me when I spoke up abt harassment on ER.'women who dont play the game lose career'I did https://t.co/ur466NCkII  Ghoul Please   (@vanessathought) October 10, 2017 Clooney helped blacklist me when I spoke up abt harassment on ER. women who don t play the game lose career I did,  tweeted Vanessa Marquez, who played a nurse on the show s first three seasons.#NewPicWhen ur racially&sexually harassed on set daily&go2your producer(John Wells)for help in '95?U r blacklisted from Hollywood 4Ever #ER pic.twitter.com/ptM06gWW7M  Ghoul Please   (@vanessathought) July 7, 2017She accused actor Eriq La Salle and a crew member of being  p sy grabbers  and said racial abuse about her Mexican heritage came from  Anthony, Noah, Julianna,  referring to cast members, Anthony Edwards, Noah Wyle, and Julianna Margulies.Marquez said she complained to executive producer John Wells. Wells was the boss&I 1st reported it to him.His 1st question: Did George do something to u,  she tweeted. \""
      ]
     },
     "execution_count": 20,
     "metadata": {},
     "output_type": "execute_result"
    }
   ],
   "source": [
    "rawdata.iloc[95468-1]['body']"
   ]
  },
  {
   "cell_type": "code",
   "execution_count": 24,
   "metadata": {},
   "outputs": [
    {
     "data": {
      "text/plain": [
       "'Children vaccinated against the flu are at a significantly higher risk of contracting other respiratory infections, including coronaviruses.'"
      ]
     },
     "execution_count": 24,
     "metadata": {},
     "output_type": "execute_result"
    }
   ],
   "source": [
    "rawdata.iloc[69-1]['body']"
   ]
  },
  {
   "cell_type": "code",
   "execution_count": 23,
   "metadata": {
    "scrolled": false
   },
   "outputs": [
    {
     "name": "stdout",
     "output_type": "stream",
     "text": [
      "([86528, 94657, 94668, 86552, 94672, 86256, 94480, 61131, 94675, 86550], [0.0, 0.0, 1.1539806127548218, 1.188228726387024, 1.188228726387024, 1.1944177150726318, 1.1944177150726318, 1.2074379920959473, 1.2116031646728516, 1.2157697677612305])\n"
     ]
    },
    {
     "data": {
      "text/plain": [
       "[{'text': \"The Hill   During a recent interview, Clooney describes conservative criticism of Democrats associated with film producer Harvey Weinstein as  a little pot and kettle,  noting the prior sexual harassment allegations levied against conservative figures like Roger Ailes and Bill O Reilly. Yeah, that s a little pot and kettle there, unfortunately. But I think that everything gets politicized these days. The reality is that this is a problem deeply ingrained in our society,  Clooney told The Daily Beast when asked about criticisms coming from conservatives in the days since a New York Times report that detailed accusations of sexual harassment against Weinstein. It was something that was talked about a lot on the left with Roger Ailes, Bill O Reilly, and Donald Trump, and it s something that s going to be talked about a lot on the right with Harvey Weinstein,  Clooney added. I think that rather than politicize it, there should be talk on both sides about the really bad behavior by powerful men and the horrible acts they commit. It s pretty crazy to me. Page Six   A former  ER  actress claims that she was sexually and racially harassed daily on set   and George Clooney helped  blacklist  her from Hollywood when she complained.B.S.Clooney helped blacklist me when I spoke up abt harassment on ER.'women who dont play the game lose career'I did https://t.co/ur466NCkII  Ghoul Please   (@vanessathought) October 10, 2017 Clooney helped blacklist me when I spoke up abt harassment on ER. women who don t play the game lose career I did,  tweeted Vanessa Marquez, who played a nurse on the show s first three seasons.#NewPicWhen ur racially&sexually harassed on set daily&go2your producer(John Wells)for help in '95?U r blacklisted from Hollywood 4Ever #ER pic.twitter.com/ptM06gWW7M  Ghoul Please   (@vanessathought) July 7, 2017She accused actor Eriq La Salle and a crew member of being  p sy grabbers  and said racial abuse about her Mexican heritage came from  Anthony, Noah, Julianna,  referring to cast members, Anthony Edwards, Noah Wyle, and Julianna Margulies.Marquez said she complained to executive producer John Wells. Wells was the boss&I 1st reported it to him.His 1st question: Did George do something to u,  she tweeted. \",\n",
       "  'label': 1,\n",
       "  'distance': 0.0},\n",
       " {'text': \"The Hill   During a recent interview, Clooney describes conservative criticism of Democrats associated with film producer Harvey Weinstein as  a little pot and kettle,  noting the prior sexual harassment allegations levied against conservative figures like Roger Ailes and Bill O Reilly. Yeah, that s a little pot and kettle there, unfortunately. But I think that everything gets politicized these days. The reality is that this is a problem deeply ingrained in our society,  Clooney told The Daily Beast when asked about criticisms coming from conservatives in the days since a New York Times report that detailed accusations of sexual harassment against Weinstein. It was something that was talked about a lot on the left with Roger Ailes, Bill O Reilly, and Donald Trump, and it s something that s going to be talked about a lot on the right with Harvey Weinstein,  Clooney added. I think that rather than politicize it, there should be talk on both sides about the really bad behavior by powerful men and the horrible acts they commit. It s pretty crazy to me. Page Six   A former  ER  actress claims that she was sexually and racially harassed daily on set   and George Clooney helped  blacklist  her from Hollywood when she complained.B.S.Clooney helped blacklist me when I spoke up abt harassment on ER.'women who dont play the game lose career'I did https://t.co/ur466NCkII  Ghoul Please   (@vanessathought) October 10, 2017 Clooney helped blacklist me when I spoke up abt harassment on ER. women who don t play the game lose career I did,  tweeted Vanessa Marquez, who played a nurse on the show s first three seasons.#NewPicWhen ur racially&sexually harassed on set daily&go2your producer(John Wells)for help in '95?U r blacklisted from Hollywood 4Ever #ER pic.twitter.com/ptM06gWW7M  Ghoul Please   (@vanessathought) July 7, 2017She accused actor Eriq La Salle and a crew member of being  p sy grabbers  and said racial abuse about her Mexican heritage came from  Anthony, Noah, Julianna,  referring to cast members, Anthony Edwards, Noah Wyle, and Julianna Margulies.Marquez said she complained to executive producer John Wells. Wells was the boss&I 1st reported it to him.His 1st question: Did George do something to u,  she tweeted. \",\n",
       "  'label': 1,\n",
       "  'distance': 0.0},\n",
       " {'text': \"Yesterday, actor Ben Affleck came out with a statement of shock over allegations that mega-Democrat donor and kingpin Hollywood producer Harvey Weinstein raped and sexually assaulted multiple women in the industry. A disgusting audio tape was released yesterday by the New Yorker that was secretly done by then 19-yr. old Italian model Ambra Battilana Gutierrez that showed how Weinstein used his position of power to make women perform sexual favors or take part in his sexual fantasies, or pay the (obvious and unspoken) consequences.Affleck, who is close to Harvey Weinstein and has spent a considerable amount of time around him, made the following statement on social media yesterday:tabloids He was quickly shot down by actress Rose McGowan who claimed he knew all about Harvey Weinstein s antics, despite his statement of fake outrage and disgust.  YOU LIE  she tweeted in response to Affleck s comments.You want to play let's play #ROSEARMY pic.twitter.com/uqd26Z78gc  rose mcgowan (@rosemcgowan) October 10, 2017Rose then went on to call all of the Hollywood  A-list  Golden Boys,  LIARS  and warned them,  We have just begun. But that wasn t the end of it for Affleck who seemed to be feigning shock over Weinstein s actions when according to at least a few young Hollywood actresses, he s got some explaining to do about his own actions.Hilarie Burton claims she was groped by Ben Affleck during his appearance on TRL in 2003.Daily Mail   The former host of the show made the allegations on Tuesday night, just hours after Affleck made a statement condemning Harvey Weinstein s alleged abusive actions in his sexual assault and harassment scandal.In it, he said he was  saddened and angry  over the  sickening  claims.Affleck s statement was quickly slammed by a number of people   including Weinstein accuser Rose McGowan who called Affleck a liar.When a fan tweeted that Affleck might as well have  kept quiet,  another Twitter user wrote:  He also grabbed Hilarie Burton s breasts on TRL once. Everyone forgot though. The One Tree Hill Star then surprised the Twitter thread by interjecting with:  I didn t forget. The incident reportedly happened when he appeared on the show in 2003. Burton was 21.A video clip from the show shows Affleck telling Burton a story mid-interview which appears to be about moves men use to pick up women.He leans his arm around the young host who is wearing a yellow bandeau dress. No groping is seen on camera but Burton noticeably jumps and looks shocked on the footage as Affleck smiles and returns to his seat.Here is how the exchange went down after a Twitter user suggested Affleck would have been better off keeping his mouth shut over the Weinstein allegations.Ben Affleck should ve just kept quiet. Clearly he wasn t thinking about his daughters when he left them to gallivant with their nanny.  I am I, Naima (@naimaism) October 10, 2017Shanice Brim, a female producer of the TLR show replied with a stunning admission that,  He also grabbed Hilarie Burton s breasts on TRL once. Everyone forgot though. He also grabbed Hilarie Burton's breasts on TRL once. Everyone forgot though.  Shanice Brim (@ShaniceBrim) October 10, 2017Actress Hilarie Burton quickly replied,  I didn t forget. I didn't forget.  Hilarie Burton (@HilarieBurton) October 10, 2017Shanice Brim told Burton how sorry she was that Affleck sexually assaulted her, saying,  It s infuriating that people never bring up all the gross, predatory things he s done. I m so sorry that happened to you. It s infuriating that people never bring up all the gross, predatory things he s done.  Shanice Brim (@ShaniceBrim) October 11, 2017Seriously, thank you for that. I was a kid.  Hilarie Burton (@HilarieBurton) October 11, 2017She then tweeted a clip from an interview she did taking fans behind the scenes at TRL. In it, she relives and laughs off the incident. He wraps his arm around me and comes over and tweaks my left boob,  she says. I m just like,  what are you doing Some girls like a good tweakage here and there   I like a high five. Further footage shows Affleck asking the host,  how old are you   19? . He would have been around 31 at the time of the recording.Watch:https://t.co/wh2MpJVQzlGirls. I'm so impressed with you brave ones. I had to laugh back then so I wouldn't cry. Sending love.  Hilarie Burton (@HilarieBurton) October 11, 2017Here is the same video in a different format.\",\n",
       "  'label': 1,\n",
       "  'distance': 1.1539806127548218},\n",
       " {'text': \"Ben Affleck posted a statement expressing his sadness and anger over billionaire producer and Hollywood kingpin, Harvey Weinstein.  Actress Rose McGowan immediately went after Affleck on Twitter, claiming he knew all about Harvey Weinstein s antics, despite his statement of fake outrage and disgust.Affleck s Facebook statement about his  recent discovery  about Weinstein charges read: I am saddened and angry that a man who I worked with used his position of power to intimidate, sexually harass and manipulate many women over decades,  Affleck said in a statement about Weinstein Tuesday.  The additional allegations of assault that I read this morning made me sick. Rose McGowan wasted no time calling Ben Affleck out on Twitter, even going so far as to call him a liar:You want to play let's play #ROSEARMY pic.twitter.com/uqd26Z78gc  rose mcgowan (@rosemcgowan) October 10, 2017Rose then went on to call all of the Hollywood  A-list  Golden Boys,  LIARS  and warned them,  We have just begun. It almost feels like this fierce little  Rose , who s using the hashtag #RoseArmy, might be getting ready to rip the mask off some of the sanctimonious and phony male celebrities who ve been mocking Trump over a ridiculous taped private conversation with another male  for almost a year now, while hiding the sins of serial sexual predators like Harvey Weinstein.All of you Hollywood  A-list  golden boys are LIARS. We have just begun. #ROSEARMY pic.twitter.com/r5yPL2A3bC  rose mcgowan (@rosemcgowan) October 10, 2017Rose called out Amazon founder Jeff Bezos for funding Weinstein s shows:Now it s time to look at who funds and airs his shows. What s up @jeffbezos  rose mcgowan (@rosemcgowan) October 10, 2017The new voice of the #WeinsteinResistance isn t kidding around:Dear most of Hollywood, this is happening. You cannot sweep this under the rug. Support vocally or you will forever have an * in history. pic.twitter.com/o8dBZ59WFf  rose mcgowan (@rosemcgowan) October 10, 2017 \",\n",
       "  'label': 1,\n",
       "  'distance': 1.188228726387024},\n",
       " {'text': \"Ben Affleck posted a statement expressing his sadness and anger over billionaire producer and Hollywood kingpin, Harvey Weinstein.  Actress Rose McGowan immediately went after Affleck on Twitter, claiming he knew all about Harvey Weinstein s antics, despite his statement of fake outrage and disgust.Affleck s Facebook statement about his  recent discovery  about Weinstein charges read: I am saddened and angry that a man who I worked with used his position of power to intimidate, sexually harass and manipulate many women over decades,  Affleck said in a statement about Weinstein Tuesday.  The additional allegations of assault that I read this morning made me sick. Rose McGowan wasted no time calling Ben Affleck out on Twitter, even going so far as to call him a liar:You want to play let's play #ROSEARMY pic.twitter.com/uqd26Z78gc  rose mcgowan (@rosemcgowan) October 10, 2017Rose then went on to call all of the Hollywood  A-list  Golden Boys,  LIARS  and warned them,  We have just begun. It almost feels like this fierce little  Rose , who s using the hashtag #RoseArmy, might be getting ready to rip the mask off some of the sanctimonious and phony male celebrities who ve been mocking Trump over a ridiculous taped private conversation with another male  for almost a year now, while hiding the sins of serial sexual predators like Harvey Weinstein.All of you Hollywood  A-list  golden boys are LIARS. We have just begun. #ROSEARMY pic.twitter.com/r5yPL2A3bC  rose mcgowan (@rosemcgowan) October 10, 2017Rose called out Amazon founder Jeff Bezos for funding Weinstein s shows:Now it s time to look at who funds and airs his shows. What s up @jeffbezos  rose mcgowan (@rosemcgowan) October 10, 2017The new voice of the #WeinsteinResistance isn t kidding around:Dear most of Hollywood, this is happening. You cannot sweep this under the rug. Support vocally or you will forever have an * in history. pic.twitter.com/o8dBZ59WFf  rose mcgowan (@rosemcgowan) October 10, 2017 \",\n",
       "  'label': 1,\n",
       "  'distance': 1.188228726387024},\n",
       " {'text': 'The New York Times gave the accused sexual predator, Ben Affleck s new movie a thumbs up, but neglects to mention the sexual predator allaegations against him.Immediately after the Weinstein accusations started to come out, actress Hilarie Burton accused Ben Affleck of sexually assaulting her during a filming. Shanice Brim told Burton how sorry she was that Affleck sexually assaulted her, saying,  It s infuriating that people never bring up all the gross, predatory things he s done. He also grabbed Hilarie Burton\\'s breasts on TRL once. Everyone forgot though.  Shanice Brim (@ShaniceBrim) October 10, 2017Actress Hilarie Burton responded,  I didn t forget. I m so sorry that happened to you. It s infuriating that people never bring up all the gross, predatory things he s done.  Shanice Brim (@ShaniceBrim) October 11, 2017Here s a video of Ben Affleck where he allegedly grabbed the actress  breasts:https://t.co/wh2MpJVQzlGirls. I\\'m so impressed with you brave ones. I had to laugh back then so I wouldn\\'t cry. Sending love.  Hilarie Burton (@HilarieBurton) October 11, 2017Ben Affleck was also accused by one of Harvey Weinstein s victims of covering up sexual assault, after he made a comment about how  saddened  and  angry  he was at his bestie Harvey Weinstein for his actions:You want to play let\\'s play #ROSEARMY pic.twitter.com/uqd26Z78gc  rose mcgowan (@rosemcgowan) October 10, 2017Here s the Justice League star in another disgusting video where he s clearly objectifying the female reporter:[VIDEO] Ben Affleck objectifies female reporter, comments on her breasts, then makes fun of \"retarded\" people with cerebral palsy. #cringe pic.twitter.com/5OiBtYkkVB  Austen Fletcher (@fleccas) October 12, 2017To add insult to injury, only days ago, Affleck appeared on MTV, where he gave a cringeworthy, and very arrogant interview about the new Justice League movie, along with his co-stars. The Mercury News published a story following his interview where they asked,  Does Ben Affleck really want to stop people from writing him off as an arrogant male movie star who lacks the character or good sense to move past his difficult associations with sexual harassment? Does he really want people to believe he can  be part of the solution  to ending a Hollywood culture that long allowed rich and powerful men like Harvey Weinstein to sexually mistreat women?Does he at least want to save his new movie  Justice League  from more bad press, after critics gave it generally negative reviews?Then Affleck better shut up, especially after his latest cringe-worthy comments surfaced.For an MTV  Justice League  cast interview last week, the Batman actor jauntily chomped his way through a big wad a gum while cracking a couple jokes that appeared to reference the sexual misconduct engulfing his industry, the Huffington Post reported. We could use more women!  Affleck said, perhaps trying to sound like he wanted to correct Hollywood s notorious gender disparity in movie narratives.But when his co-star Ray Fisher, who plays Cyborg in the film, was asked what would happen if Supergirl teamed up with the  Justice League,  the younger actor said in a very PR-friendly way,  I think it would create a different dynamic. That s when Affleck, failing to read the room or to grasp his own lack of charm in this situation, blurted out.  You following the news at all? He broke into a smile, chomping his gum some more, apparently thinking he was being very clever in referencing the sexual misconduct crisis that has engulfed his industry.Here s the arrogant and NOT funny interview: pic.twitter.com/o3bMi4WWQ5    (@stormpiIott) November 13, 2017Even the hard-core leftist publication Slate, gives their readers a list of movies they beleive will be affected by the Weinstein scandal and those who were close to the accused rapist, who are also facing sexual misconduct charges. The New York Times, however, has chosen to ignore Affleck s bad behavior in their review, however. We re pretty sure that given their history of bashing conservatives, if Affleck wasn t a mega-Democrat donor, his name would ve been the focus of the New York Times headline From Slate   Justice League (debut- November 17)  The Justice League press tour was going to be plenty difficult even before the Weinstein scandal went wide: As the movie underwent a director switch and major reshoots, rumors flew that Warner Bros. might be looking to bump an erratic Ben Affleck from his perch as Batman. Now, Affleck has been implicated in the Weinstein scandal by actress Rose McGowan, who claims the actor knew that Weinstein had assaulted her two decades ago, even though his recent statement on the matter pled na vet . McGowan s tweet  Ben Affleck fuck off  went viral and prompted renewed scrutiny of the actor s own behavior; Affleck has since apologized to actress Hilarie Burton for groping her during a long-ago TRL appearance.NYT s    Justice League,  the newest DC Comics superhero jam directed by Zack Snyder, is looser, goosier and certainly more watchable than the last one. The bar could scarcely have been lower given that the previous movie,  Batman v Superman: Dawn of Justice,  was such an interminable slog. The superhero and villain dynamic is much the same (slayers going to slay, etc.), but there are a few fresh faces now and Wonder Woman has more to do than play backup. The story is a confusion of noise, visual clutter and murderous digital gnats, but every so often a glimmer of life flickers through.The last time he fronted a movie, Superman (Henry Cavill) seemed to die, a plot twist that not even the most credulous viewer could buy. So, of course he s back in this one, eventually, although first the band needs to get together. Having seen trouble on the horizon, Batman, a.k.a. Bruce Wayne   played with a sepulchral growl and bespoke stubble by Ben Affleck   takes the lead on this enterprise. He s the insistent manager as well as the scowling host, the guy with the cool digs, smooth rides with blinking screens ( critical damage  reads one with great comic-book sincerity) and suave butler (Jeremy Irons as Alfred). He s also pretty much of a yawn.The pumped-up Mr. Affleck again fills out the bat suit from ripped stem to stern, but his costume remains grievously larger than Batman s (or Bruce s) personality. Bat-Bruce clearly has some kind of unrequited thing for Wonder Woman, a.k.a. Diana Prince (Gal Gadot, a charming super-presence), which leads him to stammer like a teenager. (She s got other things on her mind.) He has money and a modest sense of humor, including about his wealth, which inspires one of the movie s few decent laughs. Mr. Affleck, a generally appealing actor who can plumb the depths when pushed ( Gone Girl ), needs something more substantial (or just more jokes) if his Batman is ever going to work.Cyborg isn t as buoyant a presence, which makes sense for a character who s been partly cobbled together from scraps and a sob story that Mr. Fisher puts across with bowed head and palpable heaviness. The hoodie he sometimes wears, which can t help but evoke Trayvon Martin, imparts a larger meaning that the movie doesn t or can t explore. Like the references to a coming world catastrophe that suggestively shudders with wider implications, the hoodie suggests filmmakers who are still struggling to keep an eye on the offscreen world while spinning a fictional universe that can somehow offer a brief escape from it. ',\n",
       "  'label': 1,\n",
       "  'distance': 1.1944177150726318},\n",
       " {'text': 'The New York Times gave the accused sexual predator, Ben Affleck s new movie a thumbs up, but neglects to mention the sexual predator allaegations against him.Immediately after the Weinstein accusations started to come out, actress Hilarie Burton accused Ben Affleck of sexually assaulting her during a filming. Shanice Brim told Burton how sorry she was that Affleck sexually assaulted her, saying,  It s infuriating that people never bring up all the gross, predatory things he s done. He also grabbed Hilarie Burton\\'s breasts on TRL once. Everyone forgot though.  Shanice Brim (@ShaniceBrim) October 10, 2017Actress Hilarie Burton responded,  I didn t forget. I m so sorry that happened to you. It s infuriating that people never bring up all the gross, predatory things he s done.  Shanice Brim (@ShaniceBrim) October 11, 2017Here s a video of Ben Affleck where he allegedly grabbed the actress  breasts:https://t.co/wh2MpJVQzlGirls. I\\'m so impressed with you brave ones. I had to laugh back then so I wouldn\\'t cry. Sending love.  Hilarie Burton (@HilarieBurton) October 11, 2017Ben Affleck was also accused by one of Harvey Weinstein s victims of covering up sexual assault, after he made a comment about how  saddened  and  angry  he was at his bestie Harvey Weinstein for his actions:You want to play let\\'s play #ROSEARMY pic.twitter.com/uqd26Z78gc  rose mcgowan (@rosemcgowan) October 10, 2017Here s the Justice League star in another disgusting video where he s clearly objectifying the female reporter:[VIDEO] Ben Affleck objectifies female reporter, comments on her breasts, then makes fun of \"retarded\" people with cerebral palsy. #cringe pic.twitter.com/5OiBtYkkVB  Austen Fletcher (@fleccas) October 12, 2017To add insult to injury, only days ago, Affleck appeared on MTV, where he gave a cringeworthy, and very arrogant interview about the new Justice League movie, along with his co-stars. The Mercury News published a story following his interview where they asked,  Does Ben Affleck really want to stop people from writing him off as an arrogant male movie star who lacks the character or good sense to move past his difficult associations with sexual harassment? Does he really want people to believe he can  be part of the solution  to ending a Hollywood culture that long allowed rich and powerful men like Harvey Weinstein to sexually mistreat women?Does he at least want to save his new movie  Justice League  from more bad press, after critics gave it generally negative reviews?Then Affleck better shut up, especially after his latest cringe-worthy comments surfaced.For an MTV  Justice League  cast interview last week, the Batman actor jauntily chomped his way through a big wad a gum while cracking a couple jokes that appeared to reference the sexual misconduct engulfing his industry, the Huffington Post reported. We could use more women!  Affleck said, perhaps trying to sound like he wanted to correct Hollywood s notorious gender disparity in movie narratives.But when his co-star Ray Fisher, who plays Cyborg in the film, was asked what would happen if Supergirl teamed up with the  Justice League,  the younger actor said in a very PR-friendly way,  I think it would create a different dynamic. That s when Affleck, failing to read the room or to grasp his own lack of charm in this situation, blurted out.  You following the news at all? He broke into a smile, chomping his gum some more, apparently thinking he was being very clever in referencing the sexual misconduct crisis that has engulfed his industry.Here s the arrogant and NOT funny interview: pic.twitter.com/o3bMi4WWQ5    (@stormpiIott) November 13, 2017Even the hard-core leftist publication Slate, gives their readers a list of movies they beleive will be affected by the Weinstein scandal and those who were close to the accused rapist, who are also facing sexual misconduct charges. The New York Times, however, has chosen to ignore Affleck s bad behavior in their review, however. We re pretty sure that given their history of bashing conservatives, if Affleck wasn t a mega-Democrat donor, his name would ve been the focus of the New York Times headline From Slate   Justice League (debut- November 17)  The Justice League press tour was going to be plenty difficult even before the Weinstein scandal went wide: As the movie underwent a director switch and major reshoots, rumors flew that Warner Bros. might be looking to bump an erratic Ben Affleck from his perch as Batman. Now, Affleck has been implicated in the Weinstein scandal by actress Rose McGowan, who claims the actor knew that Weinstein had assaulted her two decades ago, even though his recent statement on the matter pled na vet . McGowan s tweet  Ben Affleck fuck off  went viral and prompted renewed scrutiny of the actor s own behavior; Affleck has since apologized to actress Hilarie Burton for groping her during a long-ago TRL appearance.NYT s    Justice League,  the newest DC Comics superhero jam directed by Zack Snyder, is looser, goosier and certainly more watchable than the last one. The bar could scarcely have been lower given that the previous movie,  Batman v Superman: Dawn of Justice,  was such an interminable slog. The superhero and villain dynamic is much the same (slayers going to slay, etc.), but there are a few fresh faces now and Wonder Woman has more to do than play backup. The story is a confusion of noise, visual clutter and murderous digital gnats, but every so often a glimmer of life flickers through.The last time he fronted a movie, Superman (Henry Cavill) seemed to die, a plot twist that not even the most credulous viewer could buy. So, of course he s back in this one, eventually, although first the band needs to get together. Having seen trouble on the horizon, Batman, a.k.a. Bruce Wayne   played with a sepulchral growl and bespoke stubble by Ben Affleck   takes the lead on this enterprise. He s the insistent manager as well as the scowling host, the guy with the cool digs, smooth rides with blinking screens ( critical damage  reads one with great comic-book sincerity) and suave butler (Jeremy Irons as Alfred). He s also pretty much of a yawn.The pumped-up Mr. Affleck again fills out the bat suit from ripped stem to stern, but his costume remains grievously larger than Batman s (or Bruce s) personality. Bat-Bruce clearly has some kind of unrequited thing for Wonder Woman, a.k.a. Diana Prince (Gal Gadot, a charming super-presence), which leads him to stammer like a teenager. (She s got other things on her mind.) He has money and a modest sense of humor, including about his wealth, which inspires one of the movie s few decent laughs. Mr. Affleck, a generally appealing actor who can plumb the depths when pushed ( Gone Girl ), needs something more substantial (or just more jokes) if his Batman is ever going to work.Cyborg isn t as buoyant a presence, which makes sense for a character who s been partly cobbled together from scraps and a sob story that Mr. Fisher puts across with bowed head and palpable heaviness. The hoodie he sometimes wears, which can t help but evoke Trayvon Martin, imparts a larger meaning that the movie doesn t or can t explore. Like the references to a coming world catastrophe that suggestively shudders with wider implications, the hoodie suggests filmmakers who are still struggling to keep an eye on the offscreen world while spinning a fictional universe that can somehow offer a brief escape from it. ',\n",
       "  'label': 1,\n",
       "  'distance': 1.1944177150726318},\n",
       " {'text': \"Anthony Bourdain pulled no punches in one of his final interviews as the celebrity chef slammed Bill Clinton for being 'rapey, gropey and disgusting' and spoke of how he imagined Harvey Weinstein dying alone in a bathtub.  The globe-trotting food chronicler, who hanged himself in a French hotel in June, gave a lengthy and wide-ranging interview to journalist Maria Bustillos for her recently launched magazine Popula.  The interview was conducted in one of Bourdain's favorite Irish pubs in New York back in February and was only published on Sunday. It covered everything from Weinstein's downfall, the Clinton-Trump election and even Jared Kushner's eyebrows.  Bourdain - one of the most outspoken male supporters of the #MeToo movement - touched on Bill Clinton's sexual misconduct allegations, saying it would not have flown today.  Anthony Bourdain, who took his own life in France in June, gave a lengthy and wide-ranging interview to journalist Maria Bustillos for her recently launched magazine Popula  'Bill Clinton, look, the bimbo eruptions - it was f***king monstrous,' Bourdain said, before describing the former presidents as 'a piece of s**t, entitled, rapey, gropey, grabby, disgusting'.  Bourdain went on to condemn the way Clinton and wife Hillary 'destroyed these women' who came forward with the allegations.  'He is a very charming man, I met him, he's f**king magnetic. As is (Hillary). When you're in the room, you think wow, she's really warm and nice and funny. But the way they efficiently dismantled, destroyed, and shamelessly discredited these women for speaking their truth.'  Bourdain, who had been dating Italian actress Asia Argento - one of Weinstein's first accusers, also spoke of Hillary's response to the wave of sexual assault allegations leveled against the Hollywood producer.  Soon after the allegations started piling up about Weinstein, Hillary said she was 'appalled' and denied having any knowledge of what was happening behind closed doors.  'It was something that was just intolerable in every way,' Hillary said at the time. 'And, you know, like so many people who've come forward and spoken out, this was a different side of a person who I and many others had known in the past.'  Bourdain - one of the most outspoken male supporters of the #MeToo movement - touched on Bill Clinton's sexual misconduct allegations, slamming the former president and his wife Hillary for the way they 'destroyed' those women  Weinstein hosted events and donated personally to Clinton ever since she first ran for public office back in 1999 as a senator for the state of New York.  Bourdain publicly slammed Hillary on Twitter calling her response 'shameful in its deflection and its disingenuousness'.  When asked about Clinton's response in his February interview, Bourdain said: 'I will tell you that as frightening as that was at times, when I sat there with Asia, as she texted her sisters… watching the Clinton apology on Weinstein, and (Asia's) watching this statement, there was a lot of anticipation.  'People were really hoping she'd come out with a… I don't know. Let's just say with something different. I immediately tweeted my disappointment, very much shaped by what I saw around me. And I will tell you, that was really f**king frightening, the reaction to that. You know, I voted for her.  'I was really disappointed with the statement. But even by expressing that (on Twitter), the way that my comment was turned, very neatly - suddenly I wasn't expressing disappointment in her statement; I was blaming her for Harvey Weinstein's crimes. The way that turned very nicely was a good bit of artistry and deeply frightening to me.'  Specifically on Weinstein, Bourdain said while he would have liked to see the producer 'beaten to death in his cell', he had imagined something much different.  'My theory of how he goes is he's brushing his teeth in a bathroom, he's naked in his famous bathrobe, which is flapping open, he's holding his cell phone in one hand because you never know who on the Weinstein board has betrayed him recently, and he's brushing his teeth,' Bourdain said.  Specifically on Weinstein, Bourdain said while he would have liked to see the producer 'beaten to death in his cell', he had imagined him dying alone in his bathtub dressed in a robe  Bourdain, who had been dating Italian actress Asia Argento - one of Weinstein's first accusers, mentioned that he was sitting next to his girlfriend as they listened to Hillary Clinton respond to the allegations  'He suddenly gets a massive f**king stroke - he stumbles backwards into the bathtub, where he finds himself with his robe open feet sticking out of the tub, and in his last moments of consciousness as he scrolls through his contacts list trying to figure out who he can call, who will actually answer the phone.'  The interview also covered current politics in the Trump-era with Bourdain saying he would be filling to compromise his principles in exchange for some 'f**king competency' and for someone who has an understanding of how government works.  'It's like, that's okay, cause Jared will brief me later. Does Jared tweeze his eyebrows? They look manscaped. Those are not natural eyebrows. It's like Howdy Doody time,' Bourdain said.  'Can you see eight guys standing around, and Jared's out of the room? And they're all co-conspirators, they're all saying, 'ey don't worry bout Jared, he's f**kin' solid, the guy will stand up, he ain't gonna say nothin'.  'No one has ever said that! That f**kin little punk is gonna squeal, just show him a tray of jail food, the guy will f**kin shit himself. That kid was a born snitch.'  The lengthy interview with Bourdain was conducted months before he took his life in early June in eastern France where he was working on an episode of his show.  Bourdain received several posthumous Emmy nominations last Thursday for his CNN series 'Anthony Bourdain: Parts Unknown'.\",\n",
       "  'label': 1,\n",
       "  'distance': 1.2074379920959473},\n",
       " {'text': 'The disgraced anti-Trump Hollywood producer, billionaire, and mega-Democrat donor Harvey Weinstein is going to have one hell of a time refuting this disgusting bombshell audio that was recorded by one of his victims, model Ambra Battilana Gutierrez.The audio starts with Harvey Weinstein pleading with model Ambra Battilana Gutierrez in the hallway of the hotel where Weinstein apparently has a room, to come and watch him take a shower.Gutierrez is in the hallway of the hotel where Weinstein has a room. Weinstein can be heard begging and coercing her to come into his room. Weinstein s comments are in red: What do we have to do here? Nothing, I m going to take a shower. You sit there and have a drink. Water.I don t drink.Then have a glass of water.Can I stay on the bar?No. You must come here now. No.Please?No, I don t want to.I m not doing anything with you. Now you re embarrassing me. I m sorry. I cannot.No, come in here.Well, yesterday was kind of aggressive for me. I need to know a person can t be touched.I know. I won t do a thing. Please, I swear, I won t. Just sit with me. Don t embarrass me in the hotel. I m here all the time.I know, but I don t want to.Please, sit there. Please! One minute. I ask you. Please. Go to the bathroom.Please, I don t want to do something I don t want to.Go to the bathroom. Hey, come here! Listen to me!I want to go downstairs.I m not going to do anything. You ll never see me again after this. Okay? That s it. If you embarrass me in this hotel I m not embarrassing you. It s just that, I don t. I don t feel comfortable. It s not nice.Honey, don t have a fight with me here in the hallway! Please, I m not gonna do anything. I swear on my children. Please come in. Please. On everything. I m the vainest guy!I m feeling very uncomfortable right now.Please come in now. And one minute. And if you wanna leave when the guy brings up my jacket, you can go.Why yesterday you touched my breasts?Oh, please! I m sorry. Just come on. I m used to that.You re used to that?Yes, come in.No, but I m not used to that.I won t do it again. Come on. Sit. Sit here for a minute, please. If you do this now. You will embarrass me. Never call me again. Okay? I promise you. I won t do anything. I will never do another thing to you again. The guys coming to bring my jacket. You can leave.I won t do it again. Please. Please! 5 minutes. Don t ruin your friendship with me for 5 minutes. I know, but it s kinda like it s too much for me.Please, you re making a big scene here.I know, but I wanna leave.Okay. Leave. Goodbye.Listen here:Weinstein, in conversation with Gutierrez, admits to groping her. Here s the audio: https://t.co/zSQbK5NV0c pic.twitter.com/vmrrSUp43w  The New Yorker (@NewYorker) October 10, 2017In March, 2015, Ambra Battilana Gutierrez told officers of the N.Y.P.D that Weinstein had sexually assaulted her: https://t.co/zSQbK5NV0c pic.twitter.com/LlYWPzatof  The New Yorker (@NewYorker) October 10, 2017Sorvino says that she felt afraid and intimated, and that Weinstein s conduct had significant impact on her work: https://t.co/zSQbK5NV0c pic.twitter.com/R84y78kEDG  The New Yorker (@NewYorker) October 10, 2017',\n",
       "  'label': 1,\n",
       "  'distance': 1.2116031646728516},\n",
       " {'text': \"Harvey Weinstein s wife, Georgina Chapman, has announced that she is leaving the movie mogul after a string of woman claimed that he had sexually harassed or assaulted her. My heart breaks for all the women who have suffered tremendous pain because of these unforgivable actions. I have chosen to leave my husband,  she told People. Caring for my young children is my first priority and I ask the media for privacy at this time.  To my wonderful husband  #happyfathersday #weloveyou  A post shared by Georgina Chapman (@georginachapmanmarchesa) on Jun 18, 2017 at 7:49pm PDTAt the same time as Chapman made the announcement, Weinstein made a departure of his own   to Europe, by private jet. There he will undergo therapy for sex addiction and behavioral issues, TMZ reported.Weinstein also hopes that he will still be able to serve the Weinstein Company, from which he was fired by the board on Sunday, in some capacity.His legal team are in talks with the company, and according to an insider, he  wants to come back with fresh, new ideas . Chapman, 41, met Weinstein, 65, in 2003 and they married four years later, going on to have two children, India Pearl, seven, and Dashiell Max Robert, four.She is also the co-founder of high-end women s fashion line Marchesa   and before the announcement of her split from Weinstein, sources said that she was struggling to save the brand from being tarnished by her husband s allegations. But leaving him might present other problems for the beleaguered British designer. Another day playing dress up on @projectrunwayallstars..,Channeling a little Ginger #sharonstone #casino #projectrunwayallstars #bighairA post shared by Georgina Chapman (@georginachapmanmarchesa) on Aug 25, 2017 at 4:59pm PDTA source told People that she is terrified that the line, which is loved by many of the women who have starred in her husband s films, will founder without his help. Glam squad .action! #projectrunwayallstars #bighair #glammakeup #marchesaA post shared by Georgina Chapman (@georginachapmanmarchesa) on Aug 24, 2017 at 5:18pm PDTThat s because he   as one of the heaviest hitters in Hollywood   has access to the A-list stars that can keep the brand in the public eye.Chapman posted this gorgeous picture of Nicole Kidman wearing her a dress from her fashion line: Wow the gorgeous @nicolekidman in the @hollywoodreporter!!! #marchesa #hollywoodreporterA post shared by Georgina Chapman (@georginachapmanmarchesa) on Jun 7, 2017 at 3:34pm PDTHollywood icon Bette Midler is seen wearing Marchesa here: Thank you thank you @bettemidler for looking absolutely divine in custom #marchesa at the opening night of @hellodollybway!! #bettemidler #hellodollyA post shared by Georgina Chapman (@georginachapmanmarchesa) on Apr 21, 2017 at 6:34pm PDTA TV fashion source said:  Harvey is the one with all the friends. It s going to be a tough time for her and Marchesa . Shades of pink  Thank you darling @sophiabush and @normancook for looking stunning in #marchesa at tonight's @sagawards!!! #sags #sophiabush #kaleycuocoA post shared by Georgina Chapman (@georginachapmanmarchesa) on Jan 29, 2017 at 7:58pm PSTA New York fashion publicist who did not want to be named told the Hollywood reporter:  No star is ever going to want to wear the brand again.  Another gorgeous shot of The Duchess in #marchesanotte  The look is available on @farfetch!!! #duchessofcambridgeA post shared by Georgina Chapman (@georginachapmanmarchesa) on Apr 4, 2017 at 3:02pm PDTWeinstein is good friends with Vogue editor Anna Wintour and the two have co-hosted fashion and Democratic political fundraising events.Chapman s departure will likely come as a shock to Weinstein, who had boasted last week that his wife was  standing by me 100 percent .He has also said she will be one of the people to  kick my a**  and help him become a better man.The couple was yesterday said to be holed up in a Los Angeles hotel together.The Weinstein controversy showed no signs of winding down on Tuesday, as several new actresses came forward to detail how Weinstein had assaulted them.Angelina Jolie said that in 1998, when she was just 23 and promoting her film  Playing By Heart , Weinstein made unwanted advances on her in a hotel room.   Daily Mail \",\n",
       "  'label': 1,\n",
       "  'distance': 1.2157697677612305}]"
      ]
     },
     "execution_count": 23,
     "metadata": {},
     "output_type": "execute_result"
    }
   ],
   "source": [
    "get_related_articles(\"\"\"\n",
    "The Hill   During a recent interview, Clooney describes conservative criticism of Democrats associated with film producer Harvey Weinstein as  a little pot and kettle,  noting the prior sexual harassment allegations levied against conservative figures like Roger Ailes and Bill O Reilly. Yeah, that s a little pot and kettle there, unfortunately. But I think that everything gets politicized these days. The reality is that this is a problem deeply ingrained in our society,  Clooney told The Daily Beast when asked about criticisms coming from conservatives in the days since a New York Times report that detailed accusations of sexual harassment against Weinstein. It was something that was talked about a lot on the left with Roger Ailes, Bill O Reilly, and Donald Trump, and it s something that s going to be talked about a lot on the right with Harvey Weinstein,  Clooney added. I think that rather than politicize it, there should be talk on both sides about the really bad behavior by powerful men and the horrible acts they commit. It s pretty crazy to me. Page Six   A former  ER  actress claims that she was sexually and racially harassed daily on set   and George Clooney helped  blacklist  her from Hollywood when she complained.B.S.Clooney helped blacklist me when I spoke up abt harassment on ER.'women who dont play the game lose career'I did https://t.co/ur466NCkII  Ghoul Please   (@vanessathought) October 10, 2017 Clooney helped blacklist me when I spoke up abt harassment on ER. women who don t play the game lose career I did,  tweeted Vanessa Marquez, who played a nurse on the show s first three seasons.#NewPicWhen ur racially&sexually harassed on set daily&go2your producer(John Wells)for help in '95?U r blacklisted from Hollywood 4Ever #ER pic.twitter.com/ptM06gWW7M  Ghoul Please   (@vanessathought) July 7, 2017She accused actor Eriq La Salle and a crew member of being  p sy grabbers  and said racial abuse about her Mexican heritage came from  Anthony, Noah, Julianna,  referring to cast members, Anthony Edwards, Noah Wyle, and Julianna Margulies.Marquez said she complained to executive producer John Wells. Wells was the boss&I 1st reported it to him.His 1st question: Did George do something to u,  she tweeted.\n",
    "\"\"\" )"
   ]
  }
 ],
 "metadata": {
  "kernelspec": {
   "display_name": "Python 3 (ipykernel)",
   "language": "python",
   "name": "python3"
  },
  "language_info": {
   "codemirror_mode": {
    "name": "ipython",
    "version": 3
   },
   "file_extension": ".py",
   "mimetype": "text/x-python",
   "name": "python",
   "nbconvert_exporter": "python",
   "pygments_lexer": "ipython3",
   "version": "3.9.7"
  }
 },
 "nbformat": 4,
 "nbformat_minor": 2
}
