{
 "cells": [
  {
   "cell_type": "code",
   "execution_count": 66,
   "metadata": {
    "scrolled": true
   },
   "outputs": [
    {
     "data": {
      "text/plain": [
       "dict_items([((0, 0), 1.1), ((1, 0), 4.0), ((2, 0), 7.3), ((0, 1), 2.2), ((1, 1), 5.1), ((2, 1), 8.0), ((0, 2), 3.0), ((1, 2), 6.0), ((2, 2), 9.0)])"
      ]
     },
     "execution_count": 66,
     "metadata": {},
     "output_type": "execute_result"
    }
   ],
   "source": [
    "import numpy as np\n",
    "from scipy.sparse import csr_matrix\n",
    "\n",
    "c = csr_matrix(np.array([[1.1,2.2,3],\n",
    "                         [4,5.1,6],\n",
    "                         [7.3,8,9]])) # construct an example matrix\n",
    "c.todok().items()"
   ]
  },
  {
   "cell_type": "code",
   "execution_count": 76,
   "metadata": {},
   "outputs": [
    {
     "data": {
      "text/plain": [
       "([1.1, 4.0, 7.3, 2.2, 5.1, 8.0, 3.0, 6.0, 9.0],\n",
       " ([0, 1, 2, 0, 1, 2, 0, 1, 2], [0, 0, 0, 1, 1, 1, 2, 2, 2]))"
      ]
     },
     "execution_count": 76,
     "metadata": {},
     "output_type": "execute_result"
    }
   ],
   "source": [
    "_d =  [x[1]  for x in c.todok().items()]\n",
    "_xy = [x[0][0]  for x in c.todok().items()], [x[0][1]  for x in c.todok().items()]\n",
    "_d, _xy"
   ]
  },
  {
   "cell_type": "code",
   "execution_count": 74,
   "metadata": {},
   "outputs": [
    {
     "data": {
      "text/plain": [
       "array([[1.1, 2.2, 3. ],\n",
       "       [4. , 5.1, 6. ],\n",
       "       [7.3, 8. , 9. ]])"
      ]
     },
     "execution_count": 74,
     "metadata": {},
     "output_type": "execute_result"
    }
   ],
   "source": [
    "csr_matrix((_d,_xy)).toarray()"
   ]
  },
  {
   "cell_type": "code",
   "execution_count": 36,
   "metadata": {
    "scrolled": true
   },
   "outputs": [
    {
     "name": "stdout",
     "output_type": "stream",
     "text": [
      "((0, 0), 1)\n",
      "((1, 0), 4)\n",
      "((2, 0), 7)\n",
      "((0, 1), 2)\n",
      "((1, 1), 5)\n",
      "((2, 1), 8)\n",
      "((0, 2), 3)\n",
      "((1, 2), 6)\n",
      "((2, 2), 9)\n",
      "-> ([1, 4, 7, 2, 5, 8, 3, 6, 9], ([0, 1, 2, 0, 1, 2, 0, 1, 2], [0, 0, 0, 1, 1, 1, 2, 2, 2]))\n"
     ]
    },
    {
     "data": {
      "text/plain": [
       "array([[1, 2, 3],\n",
       "       [4, 5, 6],\n",
       "       [7, 8, 9]], dtype=int32)"
      ]
     },
     "execution_count": 36,
     "metadata": {},
     "output_type": "execute_result"
    }
   ],
   "source": [
    "_x=[]\n",
    "_y=[]\n",
    "_d=[]\n",
    "for i,ent in enumerate(c.todok().items()):\n",
    "    print(ent)\n",
    "    _x.append(ent[0][0])\n",
    "    _y.append(ent[0][1])\n",
    "    _d.append(ent[1])\n",
    "    \n",
    "abc = (_d,(_x,_y))\n",
    "print('->',abc)\n",
    "\n",
    "csr_matrix(abc).toarray()"
   ]
  },
  {
   "cell_type": "code",
   "execution_count": 79,
   "metadata": {},
   "outputs": [],
   "source": [
    "import codecs\n",
    "compressor = 'zlib'\n",
    "import io\n",
    "import numpy as np\n",
    "import sqlite3\n",
    "\n",
    "def adapt_array(arr):\n",
    "    \"\"\"\n",
    "    http://stackoverflow.com/a/31312102/190597 (SoulNibbler)\n",
    "    \"\"\"\n",
    "    # zlib uses similar disk size that Matlab v5 .mat files\n",
    "    # bz2 compress 4 times zlib, but storing process is 20 times slower.\n",
    "    out = io.BytesIO()\n",
    "    np.save(out, arr)\n",
    "    out.seek(0)\n",
    "    return sqlite3.Binary(codecs.encode(out.read(),compressor))  # zlib, bz2\n",
    "\n",
    "def convert_array(text):\n",
    "    out = io.BytesIO(text)\n",
    "    out.seek(0)\n",
    "    out = io.BytesIO(codecs.decode(out.read(),compressor))\n",
    "    return np.load(out)"
   ]
  },
  {
   "cell_type": "code",
   "execution_count": 82,
   "metadata": {
    "scrolled": false
   },
   "outputs": [
    {
     "data": {
      "text/plain": [
       "array([[0, 1, 2, 0, 1, 2, 0, 1, 2],\n",
       "       [0, 0, 0, 1, 1, 1, 2, 2, 2]])"
      ]
     },
     "execution_count": 82,
     "metadata": {},
     "output_type": "execute_result"
    }
   ],
   "source": [
    "convert_array(adapt_array(_xy))"
   ]
  },
  {
   "cell_type": "markdown",
   "metadata": {},
   "source": [
    "# TF-IDF"
   ]
  },
  {
   "cell_type": "code",
   "execution_count": 114,
   "metadata": {},
   "outputs": [
    {
     "data": {
      "text/plain": [
       "True"
      ]
     },
     "execution_count": 114,
     "metadata": {},
     "output_type": "execute_result"
    }
   ],
   "source": [
    "import sqlite3\n",
    "from tqdm import tqdm\n",
    "from annoy import AnnoyIndex\n",
    "\n",
    "t = AnnoyIndex(7000, 'angular')\n",
    "t.load('swarog_tfidf.ann')\n"
   ]
  },
  {
   "cell_type": "code",
   "execution_count": 89,
   "metadata": {},
   "outputs": [
    {
     "data": {
      "text/plain": [
       "True"
      ]
     },
     "execution_count": 89,
     "metadata": {},
     "output_type": "execute_result"
    }
   ],
   "source": [
    "t2 = AnnoyIndex(768, 'angular')\n",
    "t2.load('swarog.ann') # super fast, will just mmap the file"
   ]
  },
  {
   "cell_type": "code",
   "execution_count": 121,
   "metadata": {
    "scrolled": true
   },
   "outputs": [
    {
     "name": "stdout",
     "output_type": "stream",
     "text": [
      "[(5001, 'The disaster management act in India prohibits posting messages regarding COVID-19 and would attract punishment to those who donâ€™t obey.', 1)]\n"
     ]
    }
   ],
   "source": [
    "from tqdm import tqdm\n",
    "conn = sqlite3.connect('../swarog.sqlite')\n",
    "c = conn.cursor()\n",
    "\n",
    "c.execute(\"SELECT rowid, body, label from raw limit 1 offset 5000\")\n",
    "print(c.fetchall())\n",
    "\n",
    "conn.close()"
   ]
  },
  {
   "cell_type": "code",
   "execution_count": 122,
   "metadata": {
    "scrolled": false
   },
   "outputs": [
    {
     "data": {
      "text/plain": [
       "([5000, 1306, 5438, 5821, 1271, 4932, 2451, 4952, 2459, 6922],\n",
       " [0.0,\n",
       "  1.1187093257904053,\n",
       "  1.12673819065094,\n",
       "  1.139880895614624,\n",
       "  1.1470364332199097,\n",
       "  1.1535050868988037,\n",
       "  1.162827730178833,\n",
       "  1.172426462173462,\n",
       "  1.1852103471755981,\n",
       "  1.188748836517334])"
      ]
     },
     "execution_count": 122,
     "metadata": {},
     "output_type": "execute_result"
    }
   ],
   "source": [
    "t.get_nns_by_item(5000, 10, search_k=-1, include_distances=True)"
   ]
  },
  {
   "cell_type": "code",
   "execution_count": 129,
   "metadata": {},
   "outputs": [
    {
     "name": "stdout",
     "output_type": "stream",
     "text": [
      "[(6922, 'India spraying pesticides at night to prevent COVID-19.', 1)]\n"
     ]
    }
   ],
   "source": [
    "from tqdm import tqdm\n",
    "conn = sqlite3.connect('../swarog.sqlite')\n",
    "c = conn.cursor()\n",
    "\n",
    "c.execute(\"SELECT rowid-1, body, label from raw limit 1 offset 6922 \")\n",
    "print(c.fetchall())\n",
    "\n",
    "conn.close()"
   ]
  },
  {
   "cell_type": "code",
   "execution_count": 124,
   "metadata": {},
   "outputs": [
    {
     "data": {
      "text/plain": [
       "([5000, 6574, 1705, 7286, 5014, 3205, 5875, 4535, 5830, 7779],\n",
       " [0.0,\n",
       "  0.30667322874069214,\n",
       "  0.3668844997882843,\n",
       "  0.3827296197414398,\n",
       "  0.3927028179168701,\n",
       "  0.3958447575569153,\n",
       "  0.41854533553123474,\n",
       "  0.4232296347618103,\n",
       "  0.4259747564792633,\n",
       "  0.43050748109817505])"
      ]
     },
     "execution_count": 124,
     "metadata": {},
     "output_type": "execute_result"
    }
   ],
   "source": [
    "t2.get_nns_by_item(5000, 10, search_k=-1, include_distances=True)"
   ]
  },
  {
   "cell_type": "code",
   "execution_count": 128,
   "metadata": {},
   "outputs": [
    {
     "name": "stdout",
     "output_type": "stream",
     "text": [
      "[(7779, 'UNICEF advises a certain set of steps to follow for coronavirus.', 1)]\n"
     ]
    }
   ],
   "source": [
    "from tqdm import tqdm\n",
    "conn = sqlite3.connect('../swarog.sqlite')\n",
    "c = conn.cursor()\n",
    "\n",
    "c.execute(\"SELECT rowid-1, body, label from raw limit 1 offset 7779\")\n",
    "print(c.fetchall())\n",
    "\n",
    "conn.close()"
   ]
  }
 ],
 "metadata": {
  "kernelspec": {
   "display_name": "Python 3",
   "language": "python",
   "name": "python3"
  },
  "language_info": {
   "codemirror_mode": {
    "name": "ipython",
    "version": 3
   },
   "file_extension": ".py",
   "mimetype": "text/x-python",
   "name": "python",
   "nbconvert_exporter": "python",
   "pygments_lexer": "ipython3",
   "version": "3.7.3"
  }
 },
 "nbformat": 4,
 "nbformat_minor": 2
}
