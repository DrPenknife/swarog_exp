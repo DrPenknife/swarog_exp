{
 "cells": [
  {
   "cell_type": "code",
   "execution_count": 1,
   "id": "63d958bc",
   "metadata": {},
   "outputs": [],
   "source": [
    "import codecs\n",
    "compressor = 'zlib'\n",
    "import io\n",
    "import numpy as np\n",
    "\n",
    "def adapt_array(arr):\n",
    "    \"\"\"\n",
    "    http://stackoverflow.com/a/31312102/190597 (SoulNibbler)\n",
    "    \"\"\"\n",
    "    # zlib uses similar disk size that Matlab v5 .mat files\n",
    "    # bz2 compress 4 times zlib, but storing process is 20 times slower.\n",
    "    out = io.BytesIO()\n",
    "    np.save(out, arr)\n",
    "    out.seek(0)\n",
    "    return sqlite3.Binary(codecs.encode(out.read(),compressor))  # zlib, bz2\n",
    "\n",
    "def convert_array(text):\n",
    "    out = io.BytesIO(text)\n",
    "    out.seek(0)\n",
    "    out = io.BytesIO(codecs.decode(out.read(),compressor))\n",
    "    return np.load(out)"
   ]
  },
  {
   "cell_type": "code",
   "execution_count": 12,
   "id": "a349959d",
   "metadata": {},
   "outputs": [],
   "source": [
    "import sqlite3\n",
    "def get_text(id):\n",
    "    conn = sqlite3.connect('../swarog.sqlite')\n",
    "    c = conn.cursor()\n",
    "    c.execute(\"SELECT body from raw where rowid = ?\" , [id+1])\n",
    "    rows = c.fetchall()\n",
    "    return rows[0][0]"
   ]
  },
  {
   "cell_type": "markdown",
   "id": "e38abc1d",
   "metadata": {},
   "source": [
    "# BERT annoy index"
   ]
  },
  {
   "cell_type": "code",
   "execution_count": 17,
   "id": "79e37998",
   "metadata": {
    "scrolled": true
   },
   "outputs": [
    {
     "name": "stdout",
     "output_type": "stream",
     "text": [
      "186477\n",
      "indexing...\n"
     ]
    },
    {
     "name": "stderr",
     "output_type": "stream",
     "text": [
      "100%|█████████████████████████████████| 186477/186477 [00:40<00:00, 4631.98it/s]\n"
     ]
    },
    {
     "name": "stdout",
     "output_type": "stream",
     "text": [
      "building model...\n"
     ]
    }
   ],
   "source": [
    "import sqlite3\n",
    "from tqdm import tqdm\n",
    "from annoy import AnnoyIndex\n",
    "\n",
    "conn = sqlite3.connect('../swarog.sqlite')\n",
    "c = conn.cursor()\n",
    "\n",
    "t = AnnoyIndex(768, 'angular')\n",
    "\n",
    "c.execute(\"SELECT MAX(ROWID) as total from bertnp\")\n",
    "rows = c.fetchall()\n",
    "print(rows[0][0])\n",
    "\n",
    "c.execute(\"SELECT ROWID, vec from bertnp\")\n",
    "\n",
    "print(\"indexing...\")\n",
    "for row in tqdm(c,total=rows[0][0]):\n",
    "    _id, _vec = row[0], convert_array(row[1])\n",
    "    t.add_item(_id, _vec)\n",
    "print(\"building model...\")\n",
    "\n",
    "t.build(100)\n",
    "t.save('swarog.ann')\n",
    "\n",
    "conn.commit()\n",
    "conn.close()"
   ]
  },
  {
   "cell_type": "code",
   "execution_count": 2,
   "id": "9c02afbb",
   "metadata": {},
   "outputs": [
    {
     "data": {
      "text/plain": [
       "True"
      ]
     },
     "execution_count": 2,
     "metadata": {},
     "output_type": "execute_result"
    }
   ],
   "source": [
    "from annoy import AnnoyIndex\n",
    "t = AnnoyIndex(768, 'angular')\n",
    "t.load('swarog.ann') # super fast, will just mmap the file"
   ]
  },
  {
   "cell_type": "code",
   "execution_count": 17,
   "id": "03ab2a53",
   "metadata": {},
   "outputs": [
    {
     "data": {
      "text/plain": [
       "([150000, 151602, 162433, 165491, 13793, 16095, 93860, 96659, 161544, 174588],\n",
       " [0.0,\n",
       "  0.23311839997768402,\n",
       "  0.23311839997768402,\n",
       "  0.23311839997768402,\n",
       "  0.28941047191619873,\n",
       "  0.2912265658378601,\n",
       "  0.2951999008655548,\n",
       "  0.2951999008655548,\n",
       "  0.2982422411441803,\n",
       "  0.30512621998786926])"
      ]
     },
     "execution_count": 17,
     "metadata": {},
     "output_type": "execute_result"
    }
   ],
   "source": [
    "t.get_nns_by_item(150000, 10, search_k=-1, include_distances=True)"
   ]
  },
  {
   "cell_type": "markdown",
   "id": "26060337",
   "metadata": {},
   "source": [
    "# TF-IDF extract"
   ]
  },
  {
   "cell_type": "code",
   "execution_count": 1,
   "id": "01456241",
   "metadata": {
    "scrolled": true
   },
   "outputs": [
    {
     "name": "stdout",
     "output_type": "stream",
     "text": [
      "   rowid          dataset  id  \\\n",
      "0      1  covid_fake_news   0   \n",
      "1      2  covid_fake_news   1   \n",
      "2      3  covid_fake_news   2   \n",
      "3      4  covid_fake_news   3   \n",
      "4      5  covid_fake_news   4   \n",
      "\n",
      "                                                body  \n",
      "0  A post claims compulsory vacination violates t...  \n",
      "1  A photo claims that this person is a doctor wh...  \n",
      "2  Post about a video claims that it is a protest...  \n",
      "3  All deaths by respiratory failure and pneumoni...  \n",
      "4  The dean of the College of Biologists of Euska...  \n"
     ]
    }
   ],
   "source": [
    "import pandas as pd\n",
    "import sqlite3\n",
    "\n",
    "# Read sqlite query results into a pandas DataFrame\n",
    "con = sqlite3.connect(\"../../pickles/swarog_data/swarog.sqlite\")\n",
    "df = pd.read_sql_query(\"SELECT rowid,dataset, id, body from raw where body is not null\", con)\n",
    "\n",
    "# Verify that result of SQL query is stored in the dataframe\n",
    "print(df.head())\n",
    "\n",
    "con.close()"
   ]
  },
  {
   "cell_type": "code",
   "execution_count": 42,
   "id": "fd7b90a2",
   "metadata": {},
   "outputs": [
    {
     "data": {
      "text/html": [
       "<div>\n",
       "<style scoped>\n",
       "    .dataframe tbody tr th:only-of-type {\n",
       "        vertical-align: middle;\n",
       "    }\n",
       "\n",
       "    .dataframe tbody tr th {\n",
       "        vertical-align: top;\n",
       "    }\n",
       "\n",
       "    .dataframe thead th {\n",
       "        text-align: right;\n",
       "    }\n",
       "</style>\n",
       "<table border=\"1\" class=\"dataframe\">\n",
       "  <thead>\n",
       "    <tr style=\"text-align: right;\">\n",
       "      <th></th>\n",
       "      <th>rowid</th>\n",
       "      <th>dataset</th>\n",
       "      <th>id</th>\n",
       "      <th>body</th>\n",
       "    </tr>\n",
       "  </thead>\n",
       "  <tbody>\n",
       "    <tr>\n",
       "      <th>0</th>\n",
       "      <td>1</td>\n",
       "      <td>covid_fake_news</td>\n",
       "      <td>0</td>\n",
       "      <td>A post claims compulsory vacination violates t...</td>\n",
       "    </tr>\n",
       "    <tr>\n",
       "      <th>1</th>\n",
       "      <td>2</td>\n",
       "      <td>covid_fake_news</td>\n",
       "      <td>1</td>\n",
       "      <td>A photo claims that this person is a doctor wh...</td>\n",
       "    </tr>\n",
       "    <tr>\n",
       "      <th>2</th>\n",
       "      <td>3</td>\n",
       "      <td>covid_fake_news</td>\n",
       "      <td>2</td>\n",
       "      <td>Post about a video claims that it is a protest...</td>\n",
       "    </tr>\n",
       "    <tr>\n",
       "      <th>3</th>\n",
       "      <td>4</td>\n",
       "      <td>covid_fake_news</td>\n",
       "      <td>3</td>\n",
       "      <td>All deaths by respiratory failure and pneumoni...</td>\n",
       "    </tr>\n",
       "    <tr>\n",
       "      <th>4</th>\n",
       "      <td>5</td>\n",
       "      <td>covid_fake_news</td>\n",
       "      <td>4</td>\n",
       "      <td>The dean of the College of Biologists of Euska...</td>\n",
       "    </tr>\n",
       "  </tbody>\n",
       "</table>\n",
       "</div>"
      ],
      "text/plain": [
       "   rowid          dataset  id  \\\n",
       "0      1  covid_fake_news   0   \n",
       "1      2  covid_fake_news   1   \n",
       "2      3  covid_fake_news   2   \n",
       "3      4  covid_fake_news   3   \n",
       "4      5  covid_fake_news   4   \n",
       "\n",
       "                                                body  \n",
       "0  A post claims compulsory vacination violates t...  \n",
       "1  A photo claims that this person is a doctor wh...  \n",
       "2  Post about a video claims that it is a protest...  \n",
       "3  All deaths by respiratory failure and pneumoni...  \n",
       "4  The dean of the College of Biologists of Euska...  "
      ]
     },
     "execution_count": 42,
     "metadata": {},
     "output_type": "execute_result"
    }
   ],
   "source": [
    "df.head()"
   ]
  },
  {
   "cell_type": "code",
   "execution_count": 2,
   "id": "f159d9e4",
   "metadata": {},
   "outputs": [
    {
     "name": "stderr",
     "output_type": "stream",
     "text": [
      "[nltk_data] Downloading package wordnet to /home/rkozik/nltk_data...\n",
      "[nltk_data]   Package wordnet is already up-to-date!\n",
      "[nltk_data] Downloading package punkt to /home/rkozik/nltk_data...\n",
      "[nltk_data]   Package punkt is already up-to-date!\n"
     ]
    }
   ],
   "source": [
    "from sklearn.feature_extraction.text import TfidfVectorizer\n",
    "from sklearn.metrics.pairwise import linear_kernel\n",
    "from nltk import word_tokenize          \n",
    "from nltk.stem import WordNetLemmatizer\n",
    "import nltk\n",
    "from nltk.corpus import stopwords\n",
    "\n",
    "# Download stopwords list\n",
    "nltk.download('wordnet')\n",
    "nltk.download('punkt')\n",
    "stop_words = set(stopwords.words('english')) \n",
    "\n",
    "# Interface lemma tokenizer from nltk with sklearn\n",
    "class LemmaTokenizer:\n",
    "    ignore_tokens = [',', '.', ';', ':', '\"', '``', \"''\", '`', \"'\"]\n",
    "    def __init__(self):\n",
    "        self.wnl = WordNetLemmatizer()\n",
    "    def __call__(self, doc):\n",
    "        return [self.wnl.lemmatize(t) for t in word_tokenize(doc) if t not in self.ignore_tokens]\n",
    "\n",
    "# Lemmatize the stop words\n",
    "tokenizer=LemmaTokenizer()\n",
    "token_stop = tokenizer(' '.join(stop_words))\n",
    "\n",
    "\n",
    "# Create TF-idf model\n",
    "vectorizer = TfidfVectorizer(stop_words=token_stop)\n",
    "\n",
    "\n",
    "\n",
    "doc_vectors = vectorizer.fit_transform(df['body'])\n",
    "\n",
    "# # Calculate similarity\n",
    "# cosine_similarities = linear_kernel(doc_vectors[0:1], doc_vectors).flatten()\n",
    "# document_scores = [item.item() for item in cosine_similarities[1:]]\n",
    "# # [0.0, 0.287]\n",
    "\n",
    "# document_scores"
   ]
  },
  {
   "cell_type": "code",
   "execution_count": 3,
   "id": "fbcbd26b",
   "metadata": {
    "scrolled": true
   },
   "outputs": [
    {
     "data": {
      "text/plain": [
       "<1x503456 sparse matrix of type '<class 'numpy.float64'>'\n",
       "\twith 21 stored elements in Compressed Sparse Row format>"
      ]
     },
     "execution_count": 3,
     "metadata": {},
     "output_type": "execute_result"
    }
   ],
   "source": [
    "doc_vectors[0]\n"
   ]
  },
  {
   "cell_type": "markdown",
   "id": "b7c70775",
   "metadata": {},
   "source": [
    "# TF-IDF to SQL"
   ]
  },
  {
   "cell_type": "code",
   "execution_count": 109,
   "id": "b0b70b41",
   "metadata": {},
   "outputs": [],
   "source": [
    "import sqlite3\n",
    "conn = sqlite3.connect('../swarog.sqlite')\n",
    "c = conn.cursor()\n",
    "c.execute('''CREATE TABLE stfidf\n",
    "             (dataset TEXT, gid INT, did INT, vec BLOB)''')\n",
    "conn.commit()\n",
    "conn.close()"
   ]
  },
  {
   "cell_type": "code",
   "execution_count": 8,
   "id": "11074b6f",
   "metadata": {},
   "outputs": [],
   "source": [
    "def sparsify(c):\n",
    "    _d =  [x[1]  for x in c.todok().items()]\n",
    "    _xy = [x[0][0]  for x in c.todok().items()], [x[0][1]  for x in c.todok().items()]\n",
    "    return _d, _xy"
   ]
  },
  {
   "cell_type": "code",
   "execution_count": 6,
   "id": "8902a385",
   "metadata": {
    "scrolled": true
   },
   "outputs": [
    {
     "ename": "NameError",
     "evalue": "name 'sparsify' is not defined",
     "output_type": "error",
     "traceback": [
      "\u001b[0;31m---------------------------------------------------------------------------\u001b[0m",
      "\u001b[0;31mNameError\u001b[0m                                 Traceback (most recent call last)",
      "Cell \u001b[0;32mIn [6], line 1\u001b[0m\n\u001b[0;32m----> 1\u001b[0m \u001b[43msparsify\u001b[49m(doc_vectors[\u001b[38;5;241m100\u001b[39m])\n",
      "\u001b[0;31mNameError\u001b[0m: name 'sparsify' is not defined"
     ]
    }
   ],
   "source": [
    "sparsify(doc_vectors[100])"
   ]
  },
  {
   "cell_type": "code",
   "execution_count": 57,
   "id": "6b4956ce",
   "metadata": {},
   "outputs": [],
   "source": [
    "import pickle\n",
    "# SAVE\n",
    "with open('swarog_tfidf.pickle', 'wb') as handle:\n",
    "    pickle.dump(doc_vectors, handle, protocol=pickle.HIGHEST_PROTOCOL)"
   ]
  },
  {
   "cell_type": "code",
   "execution_count": 4,
   "id": "654ad153-f1ee-4eeb-93cb-68e91fd05b21",
   "metadata": {},
   "outputs": [],
   "source": [
    "import pickle\n",
    "# SAVE\n",
    "with open('tfidf_vectorizer_full.pickle', 'wb') as handle:\n",
    "    pickle.dump(vectorizer, handle, protocol=pickle.HIGHEST_PROTOCOL)"
   ]
  },
  {
   "cell_type": "code",
   "execution_count": 124,
   "id": "fa45eda3",
   "metadata": {},
   "outputs": [],
   "source": [
    "import pickle\n",
    "# LOAD\n",
    "with open('tfidf.pickle', 'rb') as handle:\n",
    "    hand = pickle.load(handle)"
   ]
  },
  {
   "cell_type": "code",
   "execution_count": 110,
   "id": "132ceb16",
   "metadata": {},
   "outputs": [
    {
     "name": "stderr",
     "output_type": "stream",
     "text": [
      "100%|██████████████████████████████████████████████████████████████████████████| 185460/185460 [47:51<00:00, 64.58it/s]\n"
     ]
    }
   ],
   "source": [
    "from tqdm import tqdm\n",
    "conn = sqlite3.connect('../swarog.sqlite')\n",
    "c = conn.cursor()\n",
    "for index, row in tqdm(df.iterrows(), total=df.shape[0]):\n",
    "    vec = doc_vectors[index].toarray()[0]\n",
    "    values_to_insert = [(row['dataset'], row['rowid'], index, adapt_array(vec))]\n",
    "    c.executemany(\"\"\"INSERT INTO tfidf(dataset, gid, did, vec) VALUES (?,?,?,?)\"\"\", values_to_insert)\n",
    "    conn.commit()\n",
    "conn.close()"
   ]
  },
  {
   "cell_type": "markdown",
   "id": "457b8b21",
   "metadata": {},
   "source": [
    "# TF-IDF create index"
   ]
  },
  {
   "cell_type": "code",
   "execution_count": 56,
   "id": "2dfab4dc",
   "metadata": {},
   "outputs": [
    {
     "name": "stderr",
     "output_type": "stream",
     "text": [
      "100%|█████████████████████████████████| 185460/185460 [00:26<00:00, 7033.50it/s]\n"
     ]
    },
    {
     "data": {
      "text/plain": [
       "True"
      ]
     },
     "execution_count": 56,
     "metadata": {},
     "output_type": "execute_result"
    }
   ],
   "source": [
    "import sqlite3\n",
    "from tqdm import tqdm\n",
    "from annoy import AnnoyIndex\n",
    "import numpy as np\n",
    "\n",
    "t = AnnoyIndex(500, 'angular')\n",
    "\n",
    "for index, row in tqdm(df.iterrows(), total=df.shape[0]):\n",
    "    vec = doc_vectors[index].toarray()[0]\n",
    "    _vec=np.array(vec)\n",
    "    _vec[np.where(vec > 0)]=1\n",
    "    t.add_item(index, list(_vec))\n",
    "    \n",
    "t.build(50)\n",
    "t.save('swarog_tfidf.ann')\n",
    "\n"
   ]
  },
  {
   "cell_type": "code",
   "execution_count": 34,
   "id": "c30edbb7-3d14-4de2-a9ac-bc1f3a96e560",
   "metadata": {},
   "outputs": [
    {
     "data": {
      "text/plain": [
       "True"
      ]
     },
     "execution_count": 34,
     "metadata": {},
     "output_type": "execute_result"
    }
   ],
   "source": [
    "t.save('swarog_tfidf.ann')\n"
   ]
  },
  {
   "cell_type": "code",
   "execution_count": 50,
   "id": "591b282c-4501-43a9-b651-c307eeba15db",
   "metadata": {},
   "outputs": [
    {
     "data": {
      "text/plain": [
       "(array([1293, 1602, 1643, 2382, 2477, 3262, 3897, 4793, 4799, 4885, 5238,\n",
       "        5372, 6306, 6667, 6719]),)"
      ]
     },
     "execution_count": 50,
     "metadata": {},
     "output_type": "execute_result"
    }
   ],
   "source": [
    "vec = doc_vectors[0].toarray()[0]\n",
    "_vec=np.array(vec)\n",
    "_vec[np.where(vec > 0)]=1\n",
    "np.where(_vec>0)"
   ]
  },
  {
   "cell_type": "code",
   "execution_count": 53,
   "id": "6863a5e8-ca37-4f1e-843f-315a3893e1d1",
   "metadata": {},
   "outputs": [
    {
     "data": {
      "text/plain": [
       "'A post claims compulsory vacination violates the principles of bioethics, that coronavirus doesnâ€™t exist, that the PCR test returns many false positives, and that influenza vaccine is related to COVID-19.'"
      ]
     },
     "execution_count": 53,
     "metadata": {},
     "output_type": "execute_result"
    }
   ],
   "source": [
    "df.iloc[0]['body']"
   ]
  }
 ],
 "metadata": {
  "kernelspec": {
   "display_name": "env.hator",
   "language": "python",
   "name": "env.hator"
  },
  "language_info": {
   "codemirror_mode": {
    "name": "ipython",
    "version": 3
   },
   "file_extension": ".py",
   "mimetype": "text/x-python",
   "name": "python",
   "nbconvert_exporter": "python",
   "pygments_lexer": "ipython3",
   "version": "3.9.7"
  }
 },
 "nbformat": 4,
 "nbformat_minor": 5
}
