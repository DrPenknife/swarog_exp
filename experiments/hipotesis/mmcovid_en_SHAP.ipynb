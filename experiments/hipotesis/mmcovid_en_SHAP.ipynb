{
  "cells": [
    {
      "cell_type": "code",
      "execution_count": null,
      "metadata": {
        "colab": {
          "base_uri": "https://localhost:8080/"
        },
        "id": "b4aefad2",
        "outputId": "139cb058-2d46-4300-f192-b95635f9ec79"
      },
      "outputs": [
        {
          "name": "stdout",
          "output_type": "stream",
          "text": [
            "\u001b[K     |████████████████████████████████| 4.7 MB 5.0 MB/s \n",
            "\u001b[K     |████████████████████████████████| 120 kB 63.7 MB/s \n",
            "\u001b[K     |████████████████████████████████| 6.6 MB 42.8 MB/s \n",
            "\u001b[?25h"
          ]
        }
      ],
      "source": [
        "!pip install transformers --quiet"
      ],
      "id": "b4aefad2"
    },
    {
      "cell_type": "code",
      "execution_count": null,
      "metadata": {
        "colab": {
          "base_uri": "https://localhost:8080/"
        },
        "id": "d503a6af",
        "outputId": "5f771cc8-4e22-4014-b41f-d852312aa6c5"
      },
      "outputs": [
        {
          "name": "stdout",
          "output_type": "stream",
          "text": [
            "--2022-08-28 20:57:54--  https://docs.google.com/uc?export=download&confirm=&id=1fdWdDm8LYw68kIZ6Z7xlT3Re8QqtLWis\n",
            "Resolving docs.google.com (docs.google.com)... 172.217.214.100, 172.217.214.139, 172.217.214.138, ...\n",
            "Connecting to docs.google.com (docs.google.com)|172.217.214.100|:443... connected.\n",
            "HTTP request sent, awaiting response... 303 See Other\n",
            "Location: https://doc-0o-34-docs.googleusercontent.com/docs/securesc/ha0ro937gcuc7l7deffksulhg5h7mbp1/n9skalkne3772hpjen8gda5hqtj92qql/1661720250000/05536367513713019519/*/1fdWdDm8LYw68kIZ6Z7xlT3Re8QqtLWis?e=download&uuid=1b824da5-dd8f-49cd-915f-6df3e3e10219 [following]\n",
            "Warning: wildcards not supported in HTTP.\n",
            "--2022-08-28 20:57:55--  https://doc-0o-34-docs.googleusercontent.com/docs/securesc/ha0ro937gcuc7l7deffksulhg5h7mbp1/n9skalkne3772hpjen8gda5hqtj92qql/1661720250000/05536367513713019519/*/1fdWdDm8LYw68kIZ6Z7xlT3Re8QqtLWis?e=download&uuid=1b824da5-dd8f-49cd-915f-6df3e3e10219\n",
            "Resolving doc-0o-34-docs.googleusercontent.com (doc-0o-34-docs.googleusercontent.com)... 142.250.136.132, 2607:f8b0:4001:c34::84\n",
            "Connecting to doc-0o-34-docs.googleusercontent.com (doc-0o-34-docs.googleusercontent.com)|142.250.136.132|:443... connected.\n",
            "HTTP request sent, awaiting response... 200 OK\n",
            "Length: 9150521 (8.7M) [text/csv]\n",
            "Saving to: ‘mmcovid_en.csv’\n",
            "\n",
            "mmcovid_en.csv      100%[===================>]   8.73M  --.-KB/s    in 0.07s   \n",
            "\n",
            "2022-08-28 20:57:55 (121 MB/s) - ‘mmcovid_en.csv’ saved [9150521/9150521]\n",
            "\n"
          ]
        }
      ],
      "source": [
        "!id=\"1fdWdDm8LYw68kIZ6Z7xlT3Re8QqtLWis\"; conf=$(wget --quiet --save-cookies /tmp/cookies.txt --keep-session-cookies --no-check-certificate 'https://docs.google.com/uc?export=download&id='$id -O- | sed -rn 's/.*confirm=([0-9A-Za-z_]+).*/\\1\\n/p'); wget --load-cookies /tmp/cookies.txt \"https://docs.google.com/uc?export=download&confirm=$conf&id=$id\" -O mmcovid_en.csv && rm -rf /tmp/cookies.txt"
      ],
      "id": "d503a6af"
    },
    {
      "cell_type": "code",
      "execution_count": null,
      "metadata": {
        "colab": {
          "base_uri": "https://localhost:8080/"
        },
        "id": "6f796758",
        "outputId": "115b5b80-39e9-4424-8c97-8011bf91e383"
      },
      "outputs": [
        {
          "name": "stdout",
          "output_type": "stream",
          "text": [
            "labels\n",
            " 0    5304\n",
            "1    2028\n",
            "Name: label, dtype: int64\n",
            "shape  \n",
            " (7332, 4)\n"
          ]
        },
        {
          "name": "stderr",
          "output_type": "stream",
          "text": [
            "100%|██████████| 10/10 [00:00<00:00, 941.14it/s]"
          ]
        },
        {
          "name": "stdout",
          "output_type": "stream",
          "text": [
            "shapes X (7332,) y (7332,)\n"
          ]
        },
        {
          "name": "stderr",
          "output_type": "stream",
          "text": [
            "\n"
          ]
        }
      ],
      "source": [
        "import pandas as pd\n",
        "import numpy as np\n",
        "from tqdm import tqdm\n",
        "from sklearn.model_selection import RepeatedStratifiedKFold\n",
        "\n",
        "data = pd.read_csv(\"mmcovid_en.csv\",sep=\",\")\n",
        "print(\"labels\\n\",data[\"label\"].value_counts())\n",
        "print(\"shape  \\n\",data.shape)\n",
        "\n",
        "bootstrap_size = 0\n",
        "\n",
        "if bootstrap_size != 0:\n",
        "    bootstrap_factor = bootstrap_size / data.shape[0]\n",
        "    bootstrap = np.random.uniform(size=data.shape[0]) < bootstrap_factor\n",
        "    data = data.iloc[bootstrap]\n",
        "\n",
        "    \n",
        "X, y = data[\"text\"].astype(str).values, data[\"label\"].values\n",
        "\n",
        "rskf = RepeatedStratifiedKFold(n_splits=2, n_repeats=5, random_state=1410)\n",
        "foldids = []\n",
        "for fold_idx, (train, test) in tqdm(enumerate(rskf.split(X, y)), total=rskf.get_n_splits()):\n",
        "    foldids.append((fold_idx,train,test))\n",
        "    \n",
        "print(\"shapes X\",X.shape,\"y\", y.shape)"
      ],
      "id": "6f796758"
    },
    {
      "cell_type": "code",
      "execution_count": null,
      "metadata": {
        "colab": {
          "base_uri": "https://localhost:8080/",
          "height": 194,
          "referenced_widgets": [
            "213546fa8f79472895b9499bb82cada2",
            "e6f25153022d4320abbea94e24510146",
            "7dcc9f44f687403aa9eebf1b6b004616",
            "f99aee65bee34fc5ab4446d0ef8f7cb7",
            "3ae6b2f611064eee82e10796ba816f20",
            "d583e405c3f64b06ae437a87d4bbc16e",
            "5d167bb0be814baa8e9e8f9050151e01",
            "14d9207f5c6e419980721a0df2dfeb75",
            "2f9fb3df41924d65a836376e1eac1b44",
            "50df87f96e374c9a833c99e6ccd9fabc",
            "a3c0f0c3d1704459888f2d8308a72206",
            "7e6ba19697a24b09b683c4151308d787",
            "fcaf7e2179fe4f2d8264945600eb3dc7",
            "b7258ff0172d4fab8a42346821b2b245",
            "7005b0a7b0a2448ea1204e7bd3ecdbcc",
            "5c1f72da00c842ee99fffe50350d4383",
            "76ff78c6c5b145deb013718b45f69374",
            "9f2c6f5041f54bdf9c60f9daf25ae511",
            "d2c3df6f8f1049958a5029322611d905",
            "b83e4b41a6c74e28a18dd8cdf8e6a141",
            "ff003e40c05247deb49963815adba4d0",
            "b040675a77a64677a4936712189b34a9",
            "52a1af6d3ce04d8d9345ad7013646e6d",
            "a89af6dd728e47d99b462c1fec1e742d",
            "9092138fd5d140b8a5556cccebb056ed",
            "acac398516594dd5a4765f2dad183562",
            "26cdd5abdd6d41159d46856f03eac299",
            "947b00ac4f1f4cb38921fd8768114ba5",
            "b531086fcc3449e0a25a120d657b2d04",
            "32164c7f1ed14cea817ff870d9d5788c",
            "7958c21b2ee04269b16f77393ea84aca",
            "7eff1e4c064645679fa2b3224a1cc1db",
            "9eb0af6d19e745a588bb737985574d60",
            "05d0776b711a468780d62db8c57185c5",
            "d1a5e817b2bd4696bf76e8648c025bed",
            "3e9fafb6deaa45c4b73444827e39ea5b",
            "1f2e92bc437445e1a0c7e2058633321a",
            "d57c6b30be7040ffabab0d615f1e0f0f",
            "aec04e90e2854626951ddcfb2e1032de",
            "500e100c2ea8406cbbe952bf696fff8d",
            "e9f781bed8e7414d870094d471b1a3f7",
            "911d2126719b4a39b90a2a8f69624f32",
            "e8bda5348caf483a9f776476831d168e",
            "fe917bcb27cb4917a9bd62bfff521a12",
            "94c1cd99437646c3b97a872ac0d3950b",
            "6bc4d609c63d4c0aac3052942cab1b16",
            "e94f77979db6454e8ade118a6d822f27",
            "92b048c2169440b39659a14022e47df3",
            "8e8d9b980e2843d69be5bb80b0aeb275",
            "d7dfe0b7a3ed438ca83a471e34f302c4",
            "84a43b2619f44824b201ff8ee0d7198e",
            "4f432efec1424a1e84c8e48aa262480a",
            "ab64dc24dcc54bbb834507b99080d72d",
            "a094c262ff6b4001bfb1bf55db216b19",
            "6bbd70d5ecdb4bae9126e3ec6d331c7a"
          ]
        },
        "id": "e2c31e30",
        "outputId": "2988c5df-30e5-4b02-9048-f8c26b706b1e"
      },
      "outputs": [
        {
          "name": "stdout",
          "output_type": "stream",
          "text": [
            "using device: cuda\n"
          ]
        },
        {
          "data": {
            "application/vnd.jupyter.widget-view+json": {
              "model_id": "213546fa8f79472895b9499bb82cada2",
              "version_major": 2,
              "version_minor": 0
            },
            "text/plain": [
              "Downloading tokenizer_config.json:   0%|          | 0.00/28.0 [00:00<?, ?B/s]"
            ]
          },
          "metadata": {},
          "output_type": "display_data"
        },
        {
          "data": {
            "application/vnd.jupyter.widget-view+json": {
              "model_id": "7e6ba19697a24b09b683c4151308d787",
              "version_major": 2,
              "version_minor": 0
            },
            "text/plain": [
              "Downloading config.json:   0%|          | 0.00/483 [00:00<?, ?B/s]"
            ]
          },
          "metadata": {},
          "output_type": "display_data"
        },
        {
          "data": {
            "application/vnd.jupyter.widget-view+json": {
              "model_id": "52a1af6d3ce04d8d9345ad7013646e6d",
              "version_major": 2,
              "version_minor": 0
            },
            "text/plain": [
              "Downloading vocab.txt:   0%|          | 0.00/226k [00:00<?, ?B/s]"
            ]
          },
          "metadata": {},
          "output_type": "display_data"
        },
        {
          "data": {
            "application/vnd.jupyter.widget-view+json": {
              "model_id": "05d0776b711a468780d62db8c57185c5",
              "version_major": 2,
              "version_minor": 0
            },
            "text/plain": [
              "Downloading tokenizer.json:   0%|          | 0.00/455k [00:00<?, ?B/s]"
            ]
          },
          "metadata": {},
          "output_type": "display_data"
        },
        {
          "data": {
            "application/vnd.jupyter.widget-view+json": {
              "model_id": "94c1cd99437646c3b97a872ac0d3950b",
              "version_major": 2,
              "version_minor": 0
            },
            "text/plain": [
              "Downloading pytorch_model.bin:   0%|          | 0.00/256M [00:00<?, ?B/s]"
            ]
          },
          "metadata": {},
          "output_type": "display_data"
        }
      ],
      "source": [
        "import transformers\n",
        "transformers.logging.set_verbosity_error()\n",
        "from torch.utils.data import DataLoader \n",
        "\n",
        "from transformers import AutoTokenizer\n",
        "from transformers import AutoModel\n",
        "from transformers import TFDistilBertModel, DistilBertTokenizerFast\n",
        "\n",
        "from sklearn.base import BaseEstimator, TransformerMixin\n",
        "import torch\n",
        "import numpy as np\n",
        "\n",
        "from scipy.sparse import csr_matrix\n",
        "from tqdm import tqdm\n",
        "\n",
        "from sklearn.linear_model import LogisticRegression\n",
        "\n",
        "import tensorflow as tf\n",
        "from tensorflow.keras.layers import Embedding\n",
        "from tensorflow.keras.preprocessing.sequence import pad_sequences\n",
        "from tensorflow.keras.models import Sequential\n",
        "from tensorflow.keras.preprocessing.text import one_hot\n",
        "from tensorflow.keras.layers import LSTM\n",
        "from tensorflow.keras.layers import Dense\n",
        "from tensorflow.keras.layers import Bidirectional\n",
        "from tensorflow.keras.layers import Dropout\n",
        "\n",
        "\n",
        "device = torch.device('cuda') if torch.cuda.is_available() else torch.device('cpu')\n",
        "print(\"using device:\", device)\n",
        "\n",
        "if \"disilbert_model\" not in locals():\n",
        "    disilbert_tokenizer =  AutoTokenizer.from_pretrained(\"distilbert-base-uncased\")\n",
        "    disilbert_model = AutoModel.from_pretrained(\"distilbert-base-uncased\")\n",
        "    handle = disilbert_model.to(device)\n",
        "\n",
        "\n",
        "class BERTEmbeddings(BaseEstimator, TransformerMixin):\n",
        "    def __init__(self):\n",
        "        self.tokenizer =  disilbert_tokenizer\n",
        "        self.model = disilbert_tokenizer\n",
        "        self.max_length = 256\n",
        "        self.model_name = disilbert_model\n",
        "\n",
        "    def fit(self, X=None, y=None):\n",
        "        pass\n",
        "    \n",
        "    def encode(self, txt):\n",
        "        return self.tokenizer(txt, max_length=self.max_length, \n",
        "                              truncation=True, padding=True, return_tensors=\"pt\")\n",
        "\n",
        "    def transform(self, X=None):\n",
        "        dataloader = DataLoader(X, batch_size=4, shuffle=False)\n",
        "        allembeds = []\n",
        "        for batch in tqdm(dataloader):\n",
        "            batchenc = disilbert_tokenizer(batch, max_length=256, truncation=True, padding=True, return_tensors=\"pt\")\n",
        "            input_ids = batchenc['input_ids'].to(device)\n",
        "            attention_mask = batchenc['attention_mask'].to(device)\n",
        "            batchout = disilbert_model(input_ids, attention_mask=attention_mask, output_hidden_states=True)\n",
        "            embeds = [vec[0].cpu().detach().numpy() for vec in batchout[1][-1]]\n",
        "            allembeds.extend(embeds)\n",
        "        return csr_matrix(allembeds)\n",
        "\n",
        "\n",
        "class BertHead(BaseEstimator, TransformerMixin):\n",
        "    def __init__(self,clstype=0, lr=0.001, epochs=9):\n",
        "        self.epochs = epochs\n",
        "        self.clstype = clstype\n",
        "        if self.clstype == 0:\n",
        "          self.head = LogisticRegression(class_weight='auto', max_iter=10000)\n",
        "        if self.clstype == 1:\n",
        "          self.head = Sequential()     \n",
        "          #self.head.add(tf.keras.layers.BatchNormalization())\n",
        "          self.head.add(Dense(768,  activation=\"relu\"))\n",
        "          self.head.add(Dropout(0.4))\n",
        "          self.head.add(Dense(240,  activation=\"relu\"))\n",
        "          self.head.add(Dropout(0.3))\n",
        "          self.head.add(Dense(140, activation='relu'))\n",
        "          self.head.add(Dense(70, activation='relu'))\n",
        "          self.head.add(Dense(140, activation='relu'))\n",
        "          self.head.add(Dense(70, activation='relu'))\n",
        "          self.head.add(Dropout(0.2))\n",
        "          self.head.add(Dense(20, activation='relu'))\n",
        "          self.head.add(Dense(2, activation='softmax'))\n",
        "          self.head.compile(optimizer=tf.keras.optimizers.Adam(learning_rate=lr),\n",
        "              loss=tf.keras.losses.SparseCategoricalCrossentropy(),\n",
        "              metrics=[tf.keras.metrics.SparseCategoricalAccuracy()])\n",
        "\n",
        "    def fit(self, X=None, y=None):\n",
        "        if self.clstype == 0:\n",
        "          self.head.fit(X, y)\n",
        "        if self.clstype == 1:\n",
        "          ratio = y.sum()/len(y)\n",
        "          self.head.fit(X, y, epochs=self.epochs, batch_size=64, verbose=0, class_weight={0:ratio,1:1})\n",
        "\n",
        "\n",
        "    def transform(self, X=None):\n",
        "        pass\n",
        "    \n",
        "    def predict(self, X=None): \n",
        "        if self.clstype == 0:   \n",
        "          return self.head.predict(X)\n",
        "        if self.clstype == 1:\n",
        "          return np.argmax(self.head(X).numpy(), axis=-1)\n",
        "\n",
        "    def predict_proba(self, X=None): \n",
        "        if self.clstype == 0:   \n",
        "          return self.head.predict_proba(X)\n",
        "        if self.clstype == 1:\n",
        "          return self.head(X).numpy()\n",
        "\n"
      ],
      "id": "e2c31e30"
    },
    {
      "cell_type": "code",
      "execution_count": null,
      "metadata": {
        "colab": {
          "base_uri": "https://localhost:8080/"
        },
        "id": "07fe3749",
        "outputId": "9f1c026d-b290-4079-df22-6941cc51d212",
        "scrolled": true
      },
      "outputs": [
        {
          "name": "stderr",
          "output_type": "stream",
          "text": [
            "100%|██████████| 1833/1833 [00:38<00:00, 48.03it/s]\n"
          ]
        }
      ],
      "source": [
        "bert = BERTEmbeddings()\n",
        "X_dstil_numpy = bert.transform(X).toarray()"
      ],
      "id": "07fe3749"
    },
    {
      "cell_type": "code",
      "execution_count": null,
      "metadata": {
        "colab": {
          "base_uri": "https://localhost:8080/"
        },
        "id": "rfTSndw07DWE",
        "outputId": "1e6a2f6d-821c-4af9-9eb7-71e8afc93b65"
      },
      "outputs": [
        {
          "name": "stdout",
          "output_type": "stream",
          "text": [
            "Mounted at /content/drive\n"
          ]
        }
      ],
      "source": [
        "from google.colab import drive\n",
        "import pickle\n",
        "\n",
        "drive.mount('/content/drive')"
      ],
      "id": "rfTSndw07DWE"
    },
    {
      "cell_type": "code",
      "execution_count": null,
      "metadata": {
        "id": "83z9bF9WmPbZ"
      },
      "outputs": [],
      "source": [
        "# SAVE\n",
        "with open('/content/drive/MyDrive/mmcovid_en_BERTEmbeddings.pickle', 'wb') as handle:\n",
        "  pickle.dump(X_dstil_numpy, handle, protocol=pickle.HIGHEST_PROTOCOL)"
      ],
      "id": "83z9bF9WmPbZ"
    },
    {
      "cell_type": "code",
      "execution_count": null,
      "metadata": {
        "id": "7yYLG9d-mSNC"
      },
      "outputs": [],
      "source": [
        "# LOAD\n",
        "with open('/content/drive/MyDrive/mmcovid_en_BERTEmbeddings.pickle', 'rb') as handle:\n",
        "  X_dstil_numpy = pickle.load(handle)"
      ],
      "id": "7yYLG9d-mSNC"
    },
    {
      "cell_type": "code",
      "execution_count": null,
      "metadata": {
        "id": "b737cfcb",
        "scrolled": false
      },
      "outputs": [],
      "source": [
        "from sklearn.metrics import accuracy_score, balanced_accuracy_score, f1_score, precision_score, recall_score, roc_auc_score\n",
        "from imblearn.metrics import geometric_mean_score\n",
        "from IPython.display import clear_output\n",
        "\n",
        "from sklearn.linear_model import LogisticRegression\n",
        "from sklearn.metrics import classification_report\n",
        "\n",
        "scores = {\n",
        "    'Accuracy': {'func': accuracy_score, 'list':[]},\n",
        "    'Balanced Accuracy': {'func': balanced_accuracy_score, 'list':[]},\n",
        "    'F1': {'func': f1_score, 'list':[], 'lab1':[], 'lab2':[]},\n",
        "    'Precision': {'func': precision_score, 'list':[], 'lab1':[], 'lab2':[]},\n",
        "    'Recall': {'func': recall_score, 'list':[], 'lab1':[], 'lab2':[]},\n",
        "    'G-mean': {'func': geometric_mean_score, 'list': []}\n",
        "}\n",
        "\n",
        "def experiment(cls = BertHead(clstype=0)):\n",
        "  for fold,j in enumerate(foldids):\n",
        "      train = foldids[fold][1]\n",
        "      test = foldids[fold][2]\n",
        "      xin, yin = X_dstil_numpy[train], np.array(y[train])\n",
        "      \n",
        "      \n",
        "      cls.fit(xin, yin)\n",
        "      y_pred = cls.predict(X_dstil_numpy[test])\n",
        "\n",
        "      for score_name, score_dict in scores.items():\n",
        "        if score_name in [\"F1\",\"Precision\",\"Recall\"]:\n",
        "          scorval=score_dict['func'](y[test], y_pred, average=None)\n",
        "          score_dict['lab1'].append(scorval[0])\n",
        "          score_dict['lab2'].append(scorval[1])\n",
        "        scorval=score_dict['func'](y[test], y_pred)\n",
        "        score_dict['list'].append(scorval)\n",
        "        print(score_name, scorval)\n",
        "\n",
        "      print(\" \")\n",
        "\n",
        "\n",
        "  clear_output()\n",
        "\n",
        "  for score_name, score_dict in scores.items():\n",
        "      score_dict['avg'] = np.mean(score_dict['list'])\n",
        "      score_dict['std'] = np.std(score_dict['list'])\n",
        "      if score_name in [\"F1\",\"Precision\",\"Recall\"]:\n",
        "        score_dict['lab1avg'] = np.mean(score_dict['lab1'])\n",
        "        score_dict['lab1std'] = np.std(score_dict['lab1'])\n",
        "        score_dict['lab2avg'] = np.mean(score_dict['lab2'])\n",
        "        score_dict['lab2std'] = np.std(score_dict['lab2'])\n",
        "\n",
        "\n",
        "  print(\"%-20s | %-13s | %-13s | %-13s  \" % (\"Metric\",\"Average\",\"Label:Real\",\"Label:Fake\"))\n",
        "\n",
        "  for name in [\"Precision\", \"Recall\", \"F1\"]:\n",
        "    print(\"%-20s | %.3f ± %.3f | %.3f ± %.3f | %.3f ± %.3f   \" % \n",
        "          (name, scores[name]['avg'], scores[name]['std'],\n",
        "          scores[name]['lab1avg'], scores[name]['lab1std'],\n",
        "          scores[name]['lab2avg'], scores[name]['lab2std'])\n",
        "  )\n",
        "\n",
        "  for name in [\"Accuracy\", \"Balanced Accuracy\", \"G-mean\"]:\n",
        "    print(\"%-20s | %.3f ± %.3f | %-13s | %-13s   \" % \n",
        "          (name, scores[name]['avg'], scores[name]['std'],\n",
        "          \"-\",\n",
        "          \"-\")\n",
        "  )\n",
        "  \n",
        "  return cls"
      ],
      "id": "b737cfcb"
    },
    {
      "cell_type": "code",
      "execution_count": null,
      "metadata": {
        "colab": {
          "base_uri": "https://localhost:8080/"
        },
        "id": "mBHPVNhFG7cF",
        "outputId": "120d82b7-f933-4259-f67f-cfd8f2409434"
      },
      "outputs": [
        {
          "name": "stdout",
          "output_type": "stream",
          "text": [
            "Metric               | Average       | Label:Real    | Label:Fake     \n",
            "Precision            | 0.939 ± 0.011 | 0.923 ± 0.005 | 0.939 ± 0.011   \n",
            "Recall               | 0.786 ± 0.017 | 0.980 ± 0.004 | 0.786 ± 0.017   \n",
            "F1                   | 0.855 ± 0.006 | 0.951 ± 0.001 | 0.855 ± 0.006   \n",
            "Accuracy             | 0.926 ± 0.002 | -             | -               \n",
            "Balanced Accuracy    | 0.883 ± 0.007 | -             | -               \n",
            "G-mean               | 0.877 ± 0.008 | -             | -               \n"
          ]
        }
      ],
      "source": [
        "bertlgr = experiment(cls = BertHead(clstype=0))"
      ],
      "id": "mBHPVNhFG7cF"
    },
    {
      "cell_type": "code",
      "execution_count": null,
      "metadata": {
        "id": "nVXuqOb7IfPw"
      },
      "outputs": [],
      "source": [
        "# SAVE\n",
        "import pickle\n",
        "with open('/content/drive/MyDrive/bertlgr.pickle', 'wb') as handle:\n",
        "  pickle.dump(bertlgr, handle, protocol=pickle.HIGHEST_PROTOCOL)"
      ],
      "id": "nVXuqOb7IfPw"
    },
    {
      "cell_type": "code",
      "execution_count": null,
      "metadata": {
        "id": "tHPNiKrUSOJk"
      },
      "outputs": [],
      "source": [
        "# LOAD\n",
        "import pickle\n",
        "with open('/content/drive/MyDrive/bertlgr.pickle', 'rb') as handle:\n",
        "  bertlgr = pickle.load(handle)"
      ],
      "id": "tHPNiKrUSOJk"
    },
    {
      "cell_type": "code",
      "execution_count": null,
      "metadata": {
        "colab": {
          "base_uri": "https://localhost:8080/"
        },
        "id": "Wb3AaDOUNMTE",
        "outputId": "ac29fafa-21cd-4b9d-c994-4739341bb639"
      },
      "outputs": [
        {
          "name": "stdout",
          "output_type": "stream",
          "text": [
            "Metric               | Average       | Label:Real    | Label:Fake     \n",
            "Precision            | 0.817 ± 0.130 | 0.954 ± 0.036 | 0.817 ± 0.130   \n",
            "Recall               | 0.878 ± 0.100 | 0.904 ± 0.079 | 0.878 ± 0.100   \n",
            "F1                   | 0.831 ± 0.026 | 0.925 ± 0.026 | 0.831 ± 0.026   \n",
            "Accuracy             | 0.896 ± 0.030 | -             | -               \n",
            "Balanced Accuracy    | 0.891 ± 0.013 | -             | -               \n",
            "G-mean               | 0.886 ± 0.014 | -             | -               \n"
          ]
        }
      ],
      "source": [
        "bertffn=experiment(cls = BertHead(clstype=1))"
      ],
      "id": "Wb3AaDOUNMTE"
    },
    {
      "cell_type": "markdown",
      "metadata": {
        "id": "NUoOY4v5TBFE"
      },
      "source": [
        "# SHAP"
      ],
      "id": "NUoOY4v5TBFE"
    },
    {
      "cell_type": "code",
      "execution_count": null,
      "metadata": {
        "colab": {
          "base_uri": "https://localhost:8080/"
        },
        "id": "hAGgq9ZQTCxK",
        "outputId": "4984b0e8-7ea1-4130-8c0e-82135b0ad136"
      },
      "outputs": [
        {
          "name": "stdout",
          "output_type": "stream",
          "text": [
            "\u001b[?25l\r\u001b[K     |█                               | 10 kB 32.3 MB/s eta 0:00:01\r\u001b[K     |█▉                              | 20 kB 6.1 MB/s eta 0:00:01\r\u001b[K     |██▊                             | 30 kB 8.7 MB/s eta 0:00:01\r\u001b[K     |███▊                            | 40 kB 4.1 MB/s eta 0:00:01\r\u001b[K     |████▋                           | 51 kB 4.3 MB/s eta 0:00:01\r\u001b[K     |█████▌                          | 61 kB 5.1 MB/s eta 0:00:01\r\u001b[K     |██████▍                         | 71 kB 5.2 MB/s eta 0:00:01\r\u001b[K     |███████▍                        | 81 kB 4.7 MB/s eta 0:00:01\r\u001b[K     |████████▎                       | 92 kB 5.3 MB/s eta 0:00:01\r\u001b[K     |█████████▏                      | 102 kB 5.0 MB/s eta 0:00:01\r\u001b[K     |██████████▏                     | 112 kB 5.0 MB/s eta 0:00:01\r\u001b[K     |███████████                     | 122 kB 5.0 MB/s eta 0:00:01\r\u001b[K     |████████████                    | 133 kB 5.0 MB/s eta 0:00:01\r\u001b[K     |████████████▉                   | 143 kB 5.0 MB/s eta 0:00:01\r\u001b[K     |█████████████▉                  | 153 kB 5.0 MB/s eta 0:00:01\r\u001b[K     |██████████████▊                 | 163 kB 5.0 MB/s eta 0:00:01\r\u001b[K     |███████████████▋                | 174 kB 5.0 MB/s eta 0:00:01\r\u001b[K     |████████████████▋               | 184 kB 5.0 MB/s eta 0:00:01\r\u001b[K     |█████████████████▌              | 194 kB 5.0 MB/s eta 0:00:01\r\u001b[K     |██████████████████▍             | 204 kB 5.0 MB/s eta 0:00:01\r\u001b[K     |███████████████████▎            | 215 kB 5.0 MB/s eta 0:00:01\r\u001b[K     |████████████████████▎           | 225 kB 5.0 MB/s eta 0:00:01\r\u001b[K     |█████████████████████▏          | 235 kB 5.0 MB/s eta 0:00:01\r\u001b[K     |██████████████████████          | 245 kB 5.0 MB/s eta 0:00:01\r\u001b[K     |███████████████████████         | 256 kB 5.0 MB/s eta 0:00:01\r\u001b[K     |████████████████████████        | 266 kB 5.0 MB/s eta 0:00:01\r\u001b[K     |████████████████████████▉       | 276 kB 5.0 MB/s eta 0:00:01\r\u001b[K     |█████████████████████████▊      | 286 kB 5.0 MB/s eta 0:00:01\r\u001b[K     |██████████████████████████▊     | 296 kB 5.0 MB/s eta 0:00:01\r\u001b[K     |███████████████████████████▋    | 307 kB 5.0 MB/s eta 0:00:01\r\u001b[K     |████████████████████████████▌   | 317 kB 5.0 MB/s eta 0:00:01\r\u001b[K     |█████████████████████████████▍  | 327 kB 5.0 MB/s eta 0:00:01\r\u001b[K     |██████████████████████████████▍ | 337 kB 5.0 MB/s eta 0:00:01\r\u001b[K     |███████████████████████████████▎| 348 kB 5.0 MB/s eta 0:00:01\r\u001b[K     |████████████████████████████████| 356 kB 5.0 MB/s \n",
            "\u001b[?25h  Building wheel for shap (setup.py) ... \u001b[?25l\u001b[?25hdone\n"
          ]
        }
      ],
      "source": [
        "! pip install --quiet shap==0.39"
      ],
      "id": "hAGgq9ZQTCxK"
    },
    {
      "cell_type": "code",
      "execution_count": null,
      "metadata": {
        "id": "KI1kIj-LTTJ9"
      },
      "outputs": [],
      "source": [
        "import shap \n",
        "import numpy as np \n",
        "\n",
        "#\n",
        "# funkcje pomocnicze\n",
        "#\n",
        "\n",
        "tokenizer = disilbert_tokenizer\n",
        "bert_emb = disilbert_model\n",
        "\n",
        "def encplus(txt):\n",
        "  arr = []\n",
        "  for t in txt:\n",
        "    batchenc=disilbert_tokenizer.encode_plus(t, max_length=256, truncation=True, padding=True, return_tensors=\"pt\")\n",
        "    input_ids = batchenc['input_ids'].to(device)\n",
        "    attention_mask = batchenc['attention_mask'].to(device)\n",
        "    v = disilbert_model(input_ids, attention_mask=attention_mask, output_hidden_states=True)[1][-1][0][0].cpu().detach().numpy()\n",
        "    arr.append(v)\n",
        "  return np.array(arr)\n",
        "\n",
        "\n",
        "def f2(txt):\n",
        "    # print(\"-\"*50)\n",
        "    # print(txt,flush=True)\n",
        "    #try:\n",
        "    if True:\n",
        "      v = encplus(txt)     \n",
        "      pred = bertlgr.predict_proba(v)\n",
        "      return pred[:,1]\n",
        "    #except Exception as e:\n",
        "    #  print(\"nope..--->\", e)\n",
        "    #  return np.array([0 for i in range(0,len(txt))])\n",
        "\n",
        "def score_and_visualize(text):\n",
        "  p=f2([text])\n",
        "  print(\"Prediction is =>\", \"FAKE\" if p>0.5 else \"Real\", \" p(is_fake)=\",p)\n",
        "\n",
        "  explainer = shap.Explainer(f2 , tokenizer)\n",
        "  shap_values = explainer([text], fixed_context=1)\n",
        "  shap.plots.text(shap_values)\n",
        "  return shap_values\n"
      ],
      "id": "KI1kIj-LTTJ9"
    },
    {
      "cell_type": "markdown",
      "metadata": {
        "id": "Bl_3sMMfCAmX"
      },
      "source": [
        "## Calculating shap values"
      ],
      "id": "Bl_3sMMfCAmX"
    },
    {
      "cell_type": "code",
      "execution_count": null,
      "metadata": {
        "colab": {
          "base_uri": "https://localhost:8080/"
        },
        "id": "wXfGPdveCvxR",
        "outputId": "97fb2f68-3d8d-4d21-9d80-d26c746d0e78"
      },
      "outputs": [
        {
          "name": "stdout",
          "output_type": "stream",
          "text": [
            "153\n"
          ]
        }
      ],
      "source": [
        "#\n",
        "# find instances close to decission border\n",
        "#\n",
        "allpred = bertlgr.predict_proba(X_dstil_numpy)\n",
        "checkit = []\n",
        "checkit_p = []\n",
        "for i,p in enumerate(allpred[:,1]):\n",
        "  if p < 0.50  and p > 0.30:\n",
        "    words = X[i].split(\".\")\n",
        "    if(len(words)>300):\n",
        "      continue\n",
        "    checkit.append(\".\".join(words[:300]))\n",
        "    checkit_p.append(p)\n",
        "\n",
        "print(len(checkit))\n",
        "#checkit = checkit[:20]\n"
      ],
      "id": "wXfGPdveCvxR"
    },
    {
      "cell_type": "code",
      "execution_count": null,
      "metadata": {
        "id": "VaJYuXIlRXqy"
      },
      "outputs": [],
      "source": [
        "#\n",
        "# callculate SHAP values\n",
        "#\n",
        "explainer = shap.Explainer(f2 , tokenizer)"
      ],
      "id": "VaJYuXIlRXqy"
    },
    {
      "cell_type": "code",
      "execution_count": null,
      "metadata": {
        "colab": {
          "base_uri": "https://localhost:8080/"
        },
        "id": "7TAkKn8qSgLF",
        "outputId": "cf17f148-c4df-4f63-88dd-9c505120744a"
      },
      "outputs": [
        {
          "name": "stderr",
          "output_type": "stream",
          "text": [
            "Partition explainer: 154it [07:25,  3.01s/it]\n"
          ]
        }
      ],
      "source": [
        "shap_values = explainer(checkit, fixed_context=1)"
      ],
      "id": "7TAkKn8qSgLF"
    },
    {
      "cell_type": "code",
      "execution_count": null,
      "metadata": {
        "id": "S3K9PE4UDAJY"
      },
      "outputs": [],
      "source": [
        "# SAVE\n",
        "import pickle\n",
        "\n",
        "with open('/content/drive/MyDrive/shap_values.pickle', 'wb') as handle:\n",
        "  pickle.dump(shap_values, handle, protocol=pickle.HIGHEST_PROTOCOL)"
      ],
      "id": "S3K9PE4UDAJY"
    },
    {
      "cell_type": "code",
      "execution_count": null,
      "metadata": {
        "id": "ozy4NSvfyh2L"
      },
      "outputs": [],
      "source": [
        "# LOAD\n",
        "import pickle\n",
        "\n",
        "with open('/content/drive/MyDrive/shap_values.pickle', 'rb') as handle:\n",
        "  shap_values = pickle.load(handle)"
      ],
      "id": "ozy4NSvfyh2L"
    },
    {
      "cell_type": "markdown",
      "metadata": {
        "id": "1Mue9MouSv9s"
      },
      "source": [
        "### Baseline"
      ],
      "id": "1Mue9MouSv9s"
    },
    {
      "cell_type": "code",
      "execution_count": null,
      "metadata": {
        "colab": {
          "base_uri": "https://localhost:8080/"
        },
        "id": "SlaPHuCsSvHj",
        "outputId": "c4c74b68-1a40-4e93-8c88-b999b2f1b9b1"
      },
      "outputs": [
        {
          "name": "stdout",
          "output_type": "stream",
          "text": [
            "                | ACC   | Char. mod.    | Prec. mod.    | Avg. shift    | \n",
            "Rand. removal   |  0.20 |  5.44 ±  3.38 |  6.35 ± 16.18 |  0.09 ±  0.13 |\n"
          ]
        }
      ],
      "source": [
        "changed = []\n",
        "impact = []\n",
        "for i, text in enumerate(checkit):\n",
        "  words = text.split(\" \")\n",
        "  np.random.seed(199)\n",
        "  word = np.random.choice(np.array(words),1)[0]\n",
        "  changed.append(text.replace(word,\" \",1))\n",
        "  \n",
        "changed_p=f2(changed)\n",
        "acc = sum(changed_p > 0.5)/len(changed_p)\n",
        "\n",
        "\n",
        "for i, text in enumerate(checkit):  \n",
        "  levd=levenshtein_distance( checkit[i],changed[i])\n",
        "  impact.append((levd, 100*levd/len(text),np.abs(changed_p[i] - checkit_p[i])))\n",
        "\n",
        "impmean = np.array(impact).mean(axis=0)\n",
        "impstd = np.array(impact).std(axis=0)\n",
        "\n",
        "print(\"%-15s | %-5s | %-13s | %-13s | %-13s | \" % (\" \",\"ACC\",\"Char. mod.\",\"Prec. mod.\",\"Avg. shift\")) \n",
        "print(\"%-15s | %5.2f | %5.2f ± %5.2f | %5.2f ± %5.2f | %5.2f ± %5.2f |\" % \n",
        "      (\"Rand. removal\" , acc, impmean[0], impstd[0], \n",
        "       impmean[1], impstd[1], impmean[2], impstd[2], ))"
      ],
      "id": "SlaPHuCsSvHj"
    },
    {
      "cell_type": "markdown",
      "metadata": {
        "id": "3FKCXJhVCgnm"
      },
      "source": [
        "### Word removal"
      ],
      "id": "3FKCXJhVCgnm"
    },
    {
      "cell_type": "code",
      "execution_count": null,
      "metadata": {
        "colab": {
          "base_uri": "https://localhost:8080/"
        },
        "id": "IOgqBpuHZxle",
        "outputId": "8160a66b-dae8-4e63-c90e-967400404b38"
      },
      "outputs": [
        {
          "name": "stdout",
          "output_type": "stream",
          "text": [
            "                | ACC   | Char. mod.    | Prec. mod.    | Avg. shift    | \n",
            "Word removal    |  0.48 |  3.29 ±  2.85 |  3.90 ±  9.98 |  0.13 ±  0.15 |\n"
          ]
        }
      ],
      "source": [
        "changed = []\n",
        "for i, text in enumerate(checkit):\n",
        "  val = shap_values[i]\n",
        "  df = pd.DataFrame({'v':val.values, 'l':val.data})\n",
        "  df = df.sort_values(by=\"v\", ascending=True)\n",
        "  word = df[:1][\"l\"].values[0]\n",
        "  text2 = text.replace(word,\" \",1)\n",
        "  changed.append(text2)\n",
        "  \n",
        "impact = []\n",
        "changed_p=f2(changed)\n",
        "acc = sum(changed_p > 0.5)/len(changed_p)\n",
        "\n",
        "for i, text in enumerate(checkit):  \n",
        "  levd=levenshtein_distance( checkit[i],changed[i])\n",
        "  impact.append((levd, 100*levd/len(text),np.abs(changed_p[i] - checkit_p[i])))\n",
        "\n",
        " \n",
        "\n",
        "impmean = np.array(impact).mean(axis=0)\n",
        "impstd = np.array(impact).std(axis=0)\n",
        "\n",
        "print(\"%-15s | %-5s | %-13s | %-13s | %-13s | \" % (\" \",\"ACC\",\"Char. mod.\",\"Prec. mod.\",\"Avg. shift\")) \n",
        "print(\"%-15s | %5.2f | %5.2f ± %5.2f | %5.2f ± %5.2f | %5.2f ± %5.2f |\" % \n",
        "      (\"Word removal\" , acc, impmean[0], impstd[0], \n",
        "       impmean[1], impstd[1], impmean[2], impstd[2], ))"
      ],
      "id": "IOgqBpuHZxle"
    },
    {
      "cell_type": "markdown",
      "metadata": {
        "id": "loi2zzxzLSjG"
      },
      "source": [
        "### Word inject"
      ],
      "id": "loi2zzxzLSjG"
    },
    {
      "cell_type": "code",
      "execution_count": null,
      "metadata": {
        "colab": {
          "base_uri": "https://localhost:8080/"
        },
        "id": "BEGl6xQRLoj_",
        "outputId": "9e47f208-869f-498e-cccd-73945d77391c"
      },
      "outputs": [
        {
          "name": "stdout",
          "output_type": "stream",
          "text": [
            "                | ACC   | Char. mod.    | Prec. mod.    | Avg. shift    | \n",
            "Word injection  |  0.39 |  6.80 ±  2.35 |  7.45 ± 17.07 |  0.14 ±  0.19 |\n"
          ]
        }
      ],
      "source": [
        "words = [\"spy\", \"birthday\", \"americans\", \"movie\", \"rep\", \"dev\", \"canceled\", \"prisons\", \"travels\"]\n",
        "changed = []\n",
        "\n",
        "impact = []\n",
        "for i, text in enumerate(checkit):\n",
        "  word = np.random.choice(np.array(words),1)[0]\n",
        "  changed.append(text +\" \"+ word)\n",
        "    \n",
        "changed_p=f2(changed)\n",
        "acc = sum(changed_p > 0.5)/len(changed_p)\n",
        "\n",
        "for i, text in enumerate(checkit):  \n",
        "  levd=levenshtein_distance( checkit[i],changed[i])\n",
        "  impact.append((levd, 100*levd/len(text),np.abs(changed_p[i] - checkit_p[i])))\n",
        "\n",
        "impmean = np.array(impact).mean(axis=0)\n",
        "impstd = np.array(impact).std(axis=0)\n",
        "\n",
        "print(\"%-15s | %-5s | %-13s | %-13s | %-13s | \" % (\" \",\"ACC\",\"Char. mod.\",\"Prec. mod.\",\"Avg. shift\")) \n",
        "print(\"%-15s | %5.2f | %5.2f ± %5.2f | %5.2f ± %5.2f | %5.2f ± %5.2f |\" % \n",
        "      (\"Word injection\" , acc, impmean[0], impstd[0], \n",
        "       impmean[1], impstd[1], impmean[2], impstd[2], ))"
      ],
      "id": "BEGl6xQRLoj_"
    },
    {
      "cell_type": "markdown",
      "metadata": {
        "id": "0zCns6d9dP_e"
      },
      "source": [
        "### Word synonyms"
      ],
      "id": "0zCns6d9dP_e"
    },
    {
      "cell_type": "code",
      "execution_count": null,
      "metadata": {
        "colab": {
          "base_uri": "https://localhost:8080/"
        },
        "id": "GIGRZ_fod-SN",
        "outputId": "10c8516c-8287-4c52-9bec-9b1bbe22e574"
      },
      "outputs": [
        {
          "name": "stdout",
          "output_type": "stream",
          "text": [
            "\u001b[K     |████████████████████████████████| 410 kB 5.2 MB/s \n",
            "\u001b[K     |████████████████████████████████| 50 kB 3.3 MB/s \n",
            "\u001b[?25h  Building wheel for python-Levenshtein (setup.py) ... \u001b[?25l\u001b[?25hdone\n"
          ]
        }
      ],
      "source": [
        "!pip3 install nlpaug --quiet\n",
        "!pip3 install  python-Levenshtein --quiet"
      ],
      "id": "GIGRZ_fod-SN"
    },
    {
      "cell_type": "code",
      "execution_count": null,
      "metadata": {
        "colab": {
          "base_uri": "https://localhost:8080/"
        },
        "id": "_Enq7aS8iVz7",
        "outputId": "3cba0d99-b69b-4f2f-82af-c1a870d42aae"
      },
      "outputs": [
        {
          "name": "stdout",
          "output_type": "stream",
          "text": [
            "\u001b[?25l\r\u001b[K     |▍                               | 10 kB 32.5 MB/s eta 0:00:01\r\u001b[K     |▊                               | 20 kB 8.0 MB/s eta 0:00:01\r\u001b[K     |█▏                              | 30 kB 11.2 MB/s eta 0:00:01\r\u001b[K     |█▌                              | 40 kB 4.3 MB/s eta 0:00:01\r\u001b[K     |█▉                              | 51 kB 3.8 MB/s eta 0:00:01\r\u001b[K     |██▎                             | 61 kB 4.5 MB/s eta 0:00:01\r\u001b[K     |██▋                             | 71 kB 5.2 MB/s eta 0:00:01\r\u001b[K     |███                             | 81 kB 5.5 MB/s eta 0:00:01\r\u001b[K     |███▍                            | 92 kB 6.2 MB/s eta 0:00:01\r\u001b[K     |███▊                            | 102 kB 5.0 MB/s eta 0:00:01\r\u001b[K     |████                            | 112 kB 5.0 MB/s eta 0:00:01\r\u001b[K     |████▌                           | 122 kB 5.0 MB/s eta 0:00:01\r\u001b[K     |████▉                           | 133 kB 5.0 MB/s eta 0:00:01\r\u001b[K     |█████▏                          | 143 kB 5.0 MB/s eta 0:00:01\r\u001b[K     |█████▋                          | 153 kB 5.0 MB/s eta 0:00:01\r\u001b[K     |██████                          | 163 kB 5.0 MB/s eta 0:00:01\r\u001b[K     |██████▎                         | 174 kB 5.0 MB/s eta 0:00:01\r\u001b[K     |██████▊                         | 184 kB 5.0 MB/s eta 0:00:01\r\u001b[K     |███████                         | 194 kB 5.0 MB/s eta 0:00:01\r\u001b[K     |███████▍                        | 204 kB 5.0 MB/s eta 0:00:01\r\u001b[K     |███████▉                        | 215 kB 5.0 MB/s eta 0:00:01\r\u001b[K     |████████▏                       | 225 kB 5.0 MB/s eta 0:00:01\r\u001b[K     |████████▋                       | 235 kB 5.0 MB/s eta 0:00:01\r\u001b[K     |█████████                       | 245 kB 5.0 MB/s eta 0:00:01\r\u001b[K     |█████████▎                      | 256 kB 5.0 MB/s eta 0:00:01\r\u001b[K     |█████████▊                      | 266 kB 5.0 MB/s eta 0:00:01\r\u001b[K     |██████████                      | 276 kB 5.0 MB/s eta 0:00:01\r\u001b[K     |██████████▍                     | 286 kB 5.0 MB/s eta 0:00:01\r\u001b[K     |██████████▉                     | 296 kB 5.0 MB/s eta 0:00:01\r\u001b[K     |███████████▏                    | 307 kB 5.0 MB/s eta 0:00:01\r\u001b[K     |███████████▌                    | 317 kB 5.0 MB/s eta 0:00:01\r\u001b[K     |████████████                    | 327 kB 5.0 MB/s eta 0:00:01\r\u001b[K     |████████████▎                   | 337 kB 5.0 MB/s eta 0:00:01\r\u001b[K     |████████████▋                   | 348 kB 5.0 MB/s eta 0:00:01\r\u001b[K     |█████████████                   | 358 kB 5.0 MB/s eta 0:00:01\r\u001b[K     |█████████████▍                  | 368 kB 5.0 MB/s eta 0:00:01\r\u001b[K     |█████████████▊                  | 378 kB 5.0 MB/s eta 0:00:01\r\u001b[K     |██████████████▏                 | 389 kB 5.0 MB/s eta 0:00:01\r\u001b[K     |██████████████▌                 | 399 kB 5.0 MB/s eta 0:00:01\r\u001b[K     |██████████████▉                 | 409 kB 5.0 MB/s eta 0:00:01\r\u001b[K     |███████████████▎                | 419 kB 5.0 MB/s eta 0:00:01\r\u001b[K     |███████████████▋                | 430 kB 5.0 MB/s eta 0:00:01\r\u001b[K     |████████████████                | 440 kB 5.0 MB/s eta 0:00:01\r\u001b[K     |████████████████▍               | 450 kB 5.0 MB/s eta 0:00:01\r\u001b[K     |████████████████▊               | 460 kB 5.0 MB/s eta 0:00:01\r\u001b[K     |█████████████████▏              | 471 kB 5.0 MB/s eta 0:00:01\r\u001b[K     |█████████████████▌              | 481 kB 5.0 MB/s eta 0:00:01\r\u001b[K     |█████████████████▉              | 491 kB 5.0 MB/s eta 0:00:01\r\u001b[K     |██████████████████▎             | 501 kB 5.0 MB/s eta 0:00:01\r\u001b[K     |██████████████████▋             | 512 kB 5.0 MB/s eta 0:00:01\r\u001b[K     |███████████████████             | 522 kB 5.0 MB/s eta 0:00:01\r\u001b[K     |███████████████████▍            | 532 kB 5.0 MB/s eta 0:00:01\r\u001b[K     |███████████████████▊            | 542 kB 5.0 MB/s eta 0:00:01\r\u001b[K     |████████████████████            | 552 kB 5.0 MB/s eta 0:00:01\r\u001b[K     |████████████████████▌           | 563 kB 5.0 MB/s eta 0:00:01\r\u001b[K     |████████████████████▉           | 573 kB 5.0 MB/s eta 0:00:01\r\u001b[K     |█████████████████████▏          | 583 kB 5.0 MB/s eta 0:00:01\r\u001b[K     |█████████████████████▋          | 593 kB 5.0 MB/s eta 0:00:01\r\u001b[K     |██████████████████████          | 604 kB 5.0 MB/s eta 0:00:01\r\u001b[K     |██████████████████████▎         | 614 kB 5.0 MB/s eta 0:00:01\r\u001b[K     |██████████████████████▊         | 624 kB 5.0 MB/s eta 0:00:01\r\u001b[K     |███████████████████████         | 634 kB 5.0 MB/s eta 0:00:01\r\u001b[K     |███████████████████████▍        | 645 kB 5.0 MB/s eta 0:00:01\r\u001b[K     |███████████████████████▉        | 655 kB 5.0 MB/s eta 0:00:01\r\u001b[K     |████████████████████████▏       | 665 kB 5.0 MB/s eta 0:00:01\r\u001b[K     |████████████████████████▋       | 675 kB 5.0 MB/s eta 0:00:01\r\u001b[K     |█████████████████████████       | 686 kB 5.0 MB/s eta 0:00:01\r\u001b[K     |█████████████████████████▎      | 696 kB 5.0 MB/s eta 0:00:01\r\u001b[K     |█████████████████████████▊      | 706 kB 5.0 MB/s eta 0:00:01\r\u001b[K     |██████████████████████████      | 716 kB 5.0 MB/s eta 0:00:01\r\u001b[K     |██████████████████████████▍     | 727 kB 5.0 MB/s eta 0:00:01\r\u001b[K     |██████████████████████████▉     | 737 kB 5.0 MB/s eta 0:00:01\r\u001b[K     |███████████████████████████▏    | 747 kB 5.0 MB/s eta 0:00:01\r\u001b[K     |███████████████████████████▌    | 757 kB 5.0 MB/s eta 0:00:01\r\u001b[K     |████████████████████████████    | 768 kB 5.0 MB/s eta 0:00:01\r\u001b[K     |████████████████████████████▎   | 778 kB 5.0 MB/s eta 0:00:01\r\u001b[K     |████████████████████████████▋   | 788 kB 5.0 MB/s eta 0:00:01\r\u001b[K     |█████████████████████████████   | 798 kB 5.0 MB/s eta 0:00:01\r\u001b[K     |█████████████████████████████▍  | 808 kB 5.0 MB/s eta 0:00:01\r\u001b[K     |█████████████████████████████▊  | 819 kB 5.0 MB/s eta 0:00:01\r\u001b[K     |██████████████████████████████▏ | 829 kB 5.0 MB/s eta 0:00:01\r\u001b[K     |██████████████████████████████▌ | 839 kB 5.0 MB/s eta 0:00:01\r\u001b[K     |██████████████████████████████▉ | 849 kB 5.0 MB/s eta 0:00:01\r\u001b[K     |███████████████████████████████▎| 860 kB 5.0 MB/s eta 0:00:01\r\u001b[K     |███████████████████████████████▋| 870 kB 5.0 MB/s eta 0:00:01\r\u001b[K     |████████████████████████████████| 880 kB 5.0 MB/s \n",
            "\u001b[?25h  Building wheel for sacremoses (setup.py) ... \u001b[?25l\u001b[?25hdone\n"
          ]
        }
      ],
      "source": [
        "!pip3 install sacremoses --quiet\n"
      ],
      "id": "_Enq7aS8iVz7"
    },
    {
      "cell_type": "code",
      "execution_count": null,
      "metadata": {
        "colab": {
          "base_uri": "https://localhost:8080/"
        },
        "id": "t23_QPFaerFT",
        "outputId": "7d2dbc20-7430-400e-f196-91dd26948e61"
      },
      "outputs": [
        {
          "name": "stderr",
          "output_type": "stream",
          "text": [
            "[nltk_data] Downloading package wordnet to /root/nltk_data...\n",
            "[nltk_data] Downloading package omw-1.4 to /root/nltk_data...\n",
            "[nltk_data] Downloading package averaged_perceptron_tagger to\n",
            "[nltk_data]     /root/nltk_data...\n",
            "[nltk_data]   Unzipping taggers/averaged_perceptron_tagger.zip.\n"
          ]
        },
        {
          "name": "stdout",
          "output_type": "stream",
          "text": [
            "Original:\n",
            "love\n",
            "Augmented Text:\n",
            "['making love']\n"
          ]
        }
      ],
      "source": [
        "import nlpaug.augmenter.word as naw\n",
        "\n",
        "aug = naw.SynonymAug(aug_src='wordnet')\n",
        "text = \"love\"\n",
        "augmented_text = aug.augment(text)\n",
        "print(\"Original:\")\n",
        "print(text)\n",
        "print(\"Augmented Text:\")\n",
        "print(augmented_text)"
      ],
      "id": "t23_QPFaerFT"
    },
    {
      "cell_type": "code",
      "execution_count": null,
      "metadata": {
        "colab": {
          "base_uri": "https://localhost:8080/"
        },
        "id": "Q1xLm1X6fNpY",
        "outputId": "d486dd66-7077-4ecd-ad77-4caf565c0697"
      },
      "outputs": [
        {
          "name": "stdout",
          "output_type": "stream",
          "text": [
            "                | ACC   | Char. mod.    | Prec. mod.    | Avg. shift    | \n",
            "Synonym         |  0.22 | 19.76 ± 41.78 |  4.83 ± 16.70 |  0.07 ±  0.12 |\n"
          ]
        }
      ],
      "source": [
        "changed = []\n",
        "impact = []\n",
        "for i, text in enumerate(checkit):\n",
        "  val = shap_values[i]\n",
        "  df = pd.DataFrame({'v':val.values, 'l':val.data})\n",
        "  df = df.sort_values(by=\"v\", ascending=True)\n",
        "  word = df[:1][\"l\"].values[0]\n",
        "  augmented_text = aug.augment(word)[0]\n",
        "  after=text.replace(word,augmented_text)\n",
        "  changed.append(after)\n",
        "\n",
        "\n",
        "changed_p=f2(changed)\n",
        "acc = sum(changed_p > 0.5)/len(changed_p)\n",
        "\n",
        "\n",
        "for i, text in enumerate(checkit):  \n",
        "  levd=levenshtein_distance( checkit[i],changed[i])\n",
        "  impact.append((levd, 100*levd/len(text),np.abs(changed_p[i] - checkit_p[i])))\n",
        "\n",
        "\n",
        "impmean = np.array(impact).mean(axis=0)\n",
        "impstd = np.array(impact).std(axis=0)\n",
        "\n",
        "print(\"%-15s | %-5s | %-13s | %-13s | %-13s | \" % (\" \",\"ACC\",\"Char. mod.\",\"Prec. mod.\",\"Avg. shift\")) \n",
        "print(\"%-15s | %5.2f | %5.2f ± %5.2f | %5.2f ± %5.2f | %5.2f ± %5.2f |\" % \n",
        "      (\"Synonym\" , acc, impmean[0], impstd[0], \n",
        "       impmean[1], impstd[1], impmean[2], impstd[2], ))"
      ],
      "id": "Q1xLm1X6fNpY"
    },
    {
      "cell_type": "markdown",
      "metadata": {
        "id": "Uv34DiqRg-me"
      },
      "source": [
        "### Agument sentence"
      ],
      "id": "Uv34DiqRg-me"
    },
    {
      "cell_type": "code",
      "execution_count": null,
      "metadata": {
        "id": "B5ub6-yOlOIv"
      },
      "outputs": [],
      "source": [
        "from Levenshtein import distance as levenshtein_distance\n",
        "\n",
        "def change_text(i):\n",
        "  val = shap_values[i]\n",
        "  df = pd.DataFrame({'v':val.values, 'l':val.data})\n",
        "  df = df.sort_values(by=\"v\", ascending=True)\n",
        "  words = df[\"l\"].values[:10]\n",
        "\n",
        "  def hitcount(txt,wlist):\n",
        "    hits = 0\n",
        "    for w in wlist:\n",
        "      if w in txt:\n",
        "        hits=hits+1\n",
        "    return hits\n",
        "\n",
        "  #df \n",
        "  #checkit[0].split(\".\")\n",
        "  sentences = checkit[i].split(\".\")\n",
        "  selected = []\n",
        "  for j, sentence in enumerate(sentences):\n",
        "    ht = hitcount(sentence, words)\n",
        "    selected.append((j,sentence, ht))\n",
        "\n",
        "  scores = pd.DataFrame(selected, columns=[\"pos\",\"s\",\"v\"]).sort_values(by=\"v\", ascending=False)\n",
        "  before = scores[\"s\"].values[0]\n",
        "  pos = scores[\"pos\"].values[0]\n",
        "  after = back_translation_aug.augment(scores[\"s\"].values[0])[0]\n",
        "  levdist = levenshtein_distance(before,after)\n",
        "  #print(before,\"\\n\",after,\"\\n\", levdist,\"\\n\"*3)\n",
        "  sentences[pos] = after\n",
        "  return \".\".join(sentences), levdist\n"
      ],
      "id": "B5ub6-yOlOIv"
    },
    {
      "cell_type": "code",
      "execution_count": null,
      "metadata": {
        "colab": {
          "background_save": true
        },
        "id": "R4LsEIN0g9X3",
        "outputId": "a1666f72-f94f-4cc0-8984-b5e819bd2dd1"
      },
      "outputs": [
        {
          "name": "stdout",
          "output_type": "stream",
          "text": [
            "                | ACC   | Char. mod.    | Prec. mod.    | Avg. shift    | \n",
            "Sent. agu.      |  0.36 | 37.53 ± 51.80 | 17.06 ± 44.66 |  0.16 ±  0.16 |\n"
          ]
        }
      ],
      "source": [
        "changed = []\n",
        "impact = []\n",
        "for i, text in enumerate(checkit):\n",
        "  new_text, num_changes = change_text(i)\n",
        "  changed.append(new_text)\n",
        "\n",
        "changed_p=f2(changed)\n",
        "acc = sum(changed_p > 0.5)/len(changed_p)\n",
        "\n",
        "for i, text in enumerate(checkit):  \n",
        "  levd=levenshtein_distance( checkit[i].lower(),changed[i].lower())\n",
        "  impact.append((levd, 100*levd/len(text),np.abs(changed_p[i] - checkit_p[i])))\n",
        "\n",
        "\n",
        "\n",
        "impmean = np.array(impact).mean(axis=0)\n",
        "impstd = np.array(impact).std(axis=0)\n",
        "\n",
        "print(\"%-15s | %-5s | %-13s | %-13s | %-13s | \" % (\" \",\"ACC\",\"Char. mod.\",\"Prec. mod.\",\"Avg. shift\")) \n",
        "print(\"%-15s | %5.2f | %5.2f ± %5.2f | %5.2f ± %5.2f | %5.2f ± %5.2f |\" % \n",
        "      (\"Sent. agu.\" , acc, impmean[0], impstd[0], \n",
        "       impmean[1], impstd[1], impmean[2], impstd[2], ))"
      ],
      "id": "R4LsEIN0g9X3"
    },
    {
      "cell_type": "markdown",
      "metadata": {
        "id": "hAqvFL_cdSYi"
      },
      "source": [
        "### plots"
      ],
      "id": "hAqvFL_cdSYi"
    },
    {
      "cell_type": "code",
      "execution_count": null,
      "metadata": {
        "colab": {
          "base_uri": "https://localhost:8080/",
          "height": 162,
          "referenced_widgets": [
            "37d6966cbf4a4927809798d95d29c9a8",
            "fd78788baffd4c609e093e8a3b4add30",
            "a36d3f0df3684744bfef849e5519bef9",
            "a3f14175b9b94296b680b4d74c2b032f",
            "4d6bcb8039914bf7b10dfc443fc85c73",
            "a989492ed4e54ce4b4c5d127efb3fe27",
            "258e9dc946e0486abab2f56c1ec51695",
            "fb10a46178aa4a539df2fd3dfe31d891",
            "7015b126de0c447d88dfe0684c63e350",
            "0ebb0ef722004c8da22dfb76f4915106",
            "60f4fcf5d0384c6d84cf09dc09d05956",
            "0b210364b3224df195fee290a0d868cf",
            "273205e7086b438291632405adc48190",
            "604971655da74bd1b1e2c96867d7421e",
            "c14263f75de84b948ac0cbef659832a5",
            "286f85587be9481bb0f41b5b4ee160dd",
            "c4bbff25a26848b98e9991192efa38fc",
            "6b5caca9f53c4212b26d27c2d5605462",
            "96520e49b232476f864ab4813b577240",
            "d5c589f4c0f04388897e27f3ab8c4a97",
            "bb7ff38f257643d58646ed966a065ddb",
            "24b3fbb7d68743079446ec95ecdfa1ea",
            "be5d30f2a2fb48c8b213e4541adef649",
            "a66b499ee4b44d48a6c4874283c59fd9",
            "10fabee83d9a4d4cab3b2c0fdfbbc591",
            "e305028db883430f946cd7cb5e8a2f6b",
            "d28bfca89a8749cbb8f22d9b6eeb44ca",
            "8787d63a06174b248eeeafdf6f13c463",
            "dc4b4c4e7c574094a86ee62ba28895b3",
            "d86fe76bee2c436b9d181588c711190d",
            "c001aad9162042bebde6d9f74d9749af",
            "00f60700532f4b819821ec2451a912aa",
            "e64337f1ec4b4f8ca16e6a1b7b65197a",
            "573c425de7e44e23a75c31fc71abc9a2",
            "531cdc4756ac42dfa1f962fc9eb90f68",
            "74c1495d398a43e98c37d9c0f70143c3",
            "694322ffc84244df8b7a66603fa809f5",
            "1b4e1edadc1e454485d4defd5da94412",
            "00c7ed5d85134f72865853e66f2b3fb5",
            "bd007ec53e1f4a11af37e09e8225570d",
            "c4053a2cc6e947c2994e9301dee2b01b",
            "c72ddb4ea6024c50b0771c992f299326",
            "a30682aac57242ab9eb3a101fd2ef1f2",
            "81de34571eae4652949971ff87026749"
          ]
        },
        "id": "-eCxNd2Vh1zA",
        "outputId": "9bac4085-59c0-4061-87a3-646a3af50301"
      },
      "outputs": [
        {
          "data": {
            "application/vnd.jupyter.widget-view+json": {
              "model_id": "37d6966cbf4a4927809798d95d29c9a8",
              "version_major": 2,
              "version_minor": 0
            },
            "text/plain": [
              "Downloading tokenizer_config.json:   0%|          | 0.00/67.0 [00:00<?, ?B/s]"
            ]
          },
          "metadata": {},
          "output_type": "display_data"
        },
        {
          "data": {
            "application/vnd.jupyter.widget-view+json": {
              "model_id": "0b210364b3224df195fee290a0d868cf",
              "version_major": 2,
              "version_minor": 0
            },
            "text/plain": [
              "Downloading vocab-src.json:   0%|          | 0.00/829k [00:00<?, ?B/s]"
            ]
          },
          "metadata": {},
          "output_type": "display_data"
        },
        {
          "data": {
            "application/vnd.jupyter.widget-view+json": {
              "model_id": "be5d30f2a2fb48c8b213e4541adef649",
              "version_major": 2,
              "version_minor": 0
            },
            "text/plain": [
              "Downloading vocab-tgt.json:   0%|          | 0.00/829k [00:00<?, ?B/s]"
            ]
          },
          "metadata": {},
          "output_type": "display_data"
        },
        {
          "data": {
            "application/vnd.jupyter.widget-view+json": {
              "model_id": "573c425de7e44e23a75c31fc71abc9a2",
              "version_major": 2,
              "version_minor": 0
            },
            "text/plain": [
              "Downloading merges.txt:   0%|          | 0.00/308k [00:00<?, ?B/s]"
            ]
          },
          "metadata": {},
          "output_type": "display_data"
        },
        {
          "data": {
            "text/plain": [
              "['The speedy brown fox leapt over the lazy dog']"
            ]
          },
          "execution_count": 76,
          "metadata": {},
          "output_type": "execute_result"
        }
      ],
      "source": [
        "import nlpaug.augmenter.word as naw\n",
        "\n",
        "text = 'The quick brown fox jumped over the lazy dog'\n",
        "back_translation_aug = naw.BackTranslationAug(\n",
        "    from_model_name='facebook/wmt19-en-de', \n",
        "    to_model_name='facebook/wmt19-de-en'\n",
        ")\n",
        "back_translation_aug.augment(text)"
      ],
      "id": "-eCxNd2Vh1zA"
    },
    {
      "cell_type": "code",
      "execution_count": null,
      "metadata": {
        "colab": {
          "base_uri": "https://localhost:8080/",
          "height": 453
        },
        "id": "QXHfy0C4K7cG",
        "outputId": "08510a54-2ebb-4cd3-f81f-8459027fe7fc"
      },
      "outputs": [
        {
          "name": "stderr",
          "output_type": "stream",
          "text": [
            "Glyph 12290 missing from current font.\n",
            "Glyph 12290 missing from current font.\n"
          ]
        },
        {
          "data": {
            "image/png": "[encoded data removed]",
            "text/plain": [
              "<Figure size 576x468 with 1 Axes>"
            ]
          },
          "metadata": {},
          "output_type": "display_data"
        }
      ],
      "source": [
        "shap.plots.bar(shap_values.mean(0), order=shap.Explanation.argsort.flip)"
      ],
      "id": "QXHfy0C4K7cG"
    },
    {
      "cell_type": "markdown",
      "metadata": {
        "id": "68TtQaKiHcFq"
      },
      "source": [
        "# Quantitative assessment"
      ],
      "id": "68TtQaKiHcFq"
    },
    {
      "cell_type": "code",
      "execution_count": null,
      "metadata": {
        "colab": {
          "base_uri": "https://localhost:8080/",
          "height": 361
        },
        "id": "FldC3yJIVhYd",
        "outputId": "3913251f-4268-4315-9751-d95dc23908d5"
      },
      "outputs": [
        {
          "name": "stdout",
          "output_type": "stream",
          "text": [
            "Prediction is => Real  p(is_fake)= [0.46252666]\n"
          ]
        },
        {
          "data": {
            "text/html": [
              "<br/><b>0th instance:</b><br/>"
            ],
            "text/plain": [
              "<IPython.core.display.HTML object>"
            ]
          },
          "metadata": {},
          "output_type": "display_data"
        },
        {
          "data": {
            "text/html": [
              "<svg width=\"100%\" height=\"80px\"><line x1=\"0\" y1=\"33\" x2=\"100%\" y2=\"33\" style=\"stroke:rgb(150,150,150);stroke-width:1\" /><line x1=\"67.524711%\" y1=\"33\" x2=\"67.524711%\" y2=\"37\" style=\"stroke:rgb(150,150,150);stroke-width:1\" /><text x=\"67.524711%\" y=\"27\" font-size=\"12px\" fill=\"rgb(120,120,120)\" dominant-baseline=\"bottom\" text-anchor=\"middle\">0.944962</text><text x=\"67.524711%\" y=\"10\" font-size=\"12px\" fill=\"rgb(120,120,120)\" dominant-baseline=\"bottom\" text-anchor=\"middle\">base value</text><line x1=\"53.238996%\" y1=\"33\" x2=\"53.238996%\" y2=\"37\" style=\"stroke:rgb(150,150,150);stroke-width:1\" /><text x=\"53.238996%\" y=\"27\" font-size=\"12px\" fill=\"rgb(120,120,120)\" dominant-baseline=\"bottom\" text-anchor=\"middle\">0.748327</text><line x1=\"38.953282%\" y1=\"33\" x2=\"38.953282%\" y2=\"37\" style=\"stroke:rgb(150,150,150);stroke-width:1\" /><text x=\"38.953282%\" y=\"27\" font-size=\"12px\" fill=\"rgb(120,120,120)\" dominant-baseline=\"bottom\" text-anchor=\"middle\">0.551693</text><line x1=\"24.667568%\" y1=\"33\" x2=\"24.667568%\" y2=\"37\" style=\"stroke:rgb(150,150,150);stroke-width:1\" /><text x=\"24.667568%\" y=\"27\" font-size=\"12px\" fill=\"rgb(120,120,120)\" dominant-baseline=\"bottom\" text-anchor=\"middle\">0.355058</text><line x1=\"10.381854%\" y1=\"33\" x2=\"10.381854%\" y2=\"37\" style=\"stroke:rgb(150,150,150);stroke-width:1\" /><text x=\"10.381854%\" y=\"27\" font-size=\"12px\" fill=\"rgb(120,120,120)\" dominant-baseline=\"bottom\" text-anchor=\"middle\">0.158423</text><line x1=\"81.810425%\" y1=\"33\" x2=\"81.810425%\" y2=\"37\" style=\"stroke:rgb(150,150,150);stroke-width:1\" /><text x=\"81.810425%\" y=\"27\" font-size=\"12px\" fill=\"rgb(120,120,120)\" dominant-baseline=\"bottom\" text-anchor=\"middle\">1.141597</text><line x1=\"32.475289%\" y1=\"33\" x2=\"32.475289%\" y2=\"37\" style=\"stroke:rgb(150,150,150);stroke-width:1\" /><text x=\"32.475289%\" y=\"27\" font-size=\"13px\" style=\"stroke:#ffffff;stroke-width:8px;\" font-weight=\"bold\" fill=\"rgb(255,255,255)\" dominant-baseline=\"bottom\" text-anchor=\"middle\">0.462527</text><text x=\"32.475289%\" y=\"27\" font-size=\"13px\" font-weight=\"bold\" fill=\"rgb(0,0,0)\" dominant-baseline=\"bottom\" text-anchor=\"middle\">0.462527</text><text x=\"32.475289%\" y=\"10\" font-size=\"12px\" fill=\"rgb(120,120,120)\" dominant-baseline=\"bottom\" text-anchor=\"middle\">f(x)</text><rect x=\"8.333333333333336%\" width=\"24.14195593495862%\" y=\"40\" height=\"18\" style=\"fill:rgb(255.0, 0.0, 81.08083606031792); stroke-width:0; stroke:rgb(0,0,0)\" /><line x1=\"24.55240664459139%\" x2=\"32.47528926829195%\" y1=\"60\" y2=\"60\" id=\"_fb_hiahjrmgvwiilfpwreon_ind_22\" style=\"stroke:rgb(255.0, 0.0, 81.08083606031792);stroke-width:2; opacity: 0\"/><text x=\"28.513847956441673%\" y=\"71\" font-size=\"12px\" id=\"_fs_hiahjrmgvwiilfpwreon_ind_22\" fill=\"rgb(255.0, 0.0, 81.08083606031792)\" style=\"opacity: 0\" dominant-baseline=\"middle\" text-anchor=\"middle\">0.109</text><svg x=\"24.55240664459139%\" y=\"40\" height=\"20\" width=\"7.922882623700563%\">  <svg x=\"0\" y=\"0\" width=\"100%\" height=\"100%\">    <text x=\"50%\" y=\"9\" font-size=\"12px\" fill=\"rgb(255,255,255)\" dominant-baseline=\"middle\" text-anchor=\"middle\">Leave the masks for people who really need them, like the sick or health care professionals.</text>  </svg></svg><line x1=\"20.054373420392288%\" x2=\"24.55240664459139%\" y1=\"60\" y2=\"60\" id=\"_fb_hiahjrmgvwiilfpwreon_ind_4\" style=\"stroke:rgb(255.0, 0.0, 81.08083606031792);stroke-width:2; opacity: 0\"/><text x=\"22.30339003249184%\" y=\"71\" font-size=\"12px\" id=\"_fs_hiahjrmgvwiilfpwreon_ind_4\" fill=\"rgb(255.0, 0.0, 81.08083606031792)\" style=\"opacity: 0\" dominant-baseline=\"middle\" text-anchor=\"middle\">0.062</text><svg x=\"20.054373420392288%\" y=\"40\" height=\"20\" width=\"4.4980332241991015%\">  <svg x=\"0\" y=\"0\" width=\"100%\" height=\"100%\">    <text x=\"50%\" y=\"9\" font-size=\"12px\" fill=\"rgb(255,255,255)\" dominant-baseline=\"middle\" text-anchor=\"middle\">to protect yourself right</text>  </svg></svg><line x1=\"16.092932108542005%\" x2=\"20.054373420392288%\" y1=\"60\" y2=\"60\" id=\"_fb_hiahjrmgvwiilfpwreon_ind_21\" style=\"stroke:rgb(255.0, 0.0, 81.08083606031792);stroke-width:2; opacity: 0\"/><text x=\"18.07365276446715%\" y=\"71\" font-size=\"12px\" id=\"_fs_hiahjrmgvwiilfpwreon_ind_21\" fill=\"rgb(255.0, 0.0, 81.08083606031792)\" style=\"opacity: 0\" dominant-baseline=\"middle\" text-anchor=\"middle\">0.055</text><svg x=\"16.092932108542005%\" y=\"40\" height=\"20\" width=\"3.961441311850283%\">  <svg x=\"0\" y=\"0\" width=\"100%\" height=\"100%\">    <text x=\"50%\" y=\"9\" font-size=\"12px\" fill=\"rgb(255,255,255)\" dominant-baseline=\"middle\" text-anchor=\"middle\">that health care workeres are improvising.</text>  </svg></svg><line x1=\"13.50989372838266%\" x2=\"16.092932108542005%\" y1=\"60\" y2=\"60\" id=\"_fb_hiahjrmgvwiilfpwreon_ind_15\" style=\"stroke:rgb(255.0, 0.0, 81.08083606031792);stroke-width:2; opacity: 0\"/><text x=\"14.801412918462333%\" y=\"71\" font-size=\"12px\" id=\"_fs_hiahjrmgvwiilfpwreon_ind_15\" fill=\"rgb(255.0, 0.0, 81.08083606031792)\" style=\"opacity: 0\" dominant-baseline=\"middle\" text-anchor=\"middle\">0.036</text><svg x=\"13.50989372838266%\" y=\"40\" height=\"20\" width=\"2.583038380159344%\">  <svg x=\"0\" y=\"0\" width=\"100%\" height=\"100%\">    <text x=\"50%\" y=\"9\" font-size=\"12px\" fill=\"rgb(255,255,255)\" dominant-baseline=\"middle\" text-anchor=\"middle\">’re healthy won</text>  </svg></svg><line x1=\"11.529173072457523%\" x2=\"13.50989372838266%\" y1=\"60\" y2=\"60\" id=\"_fb_hiahjrmgvwiilfpwreon_ind_20\" style=\"stroke:rgb(255.0, 0.0, 81.08083606031792);stroke-width:2; opacity: 0\"/><text x=\"12.51953340042009%\" y=\"71\" font-size=\"12px\" id=\"_fs_hiahjrmgvwiilfpwreon_ind_20\" fill=\"rgb(255.0, 0.0, 81.08083606031792)\" style=\"opacity: 0\" dominant-baseline=\"middle\" text-anchor=\"middle\">0.027</text><svg x=\"11.529173072457523%\" y=\"40\" height=\"20\" width=\"1.980720655925138%\">  <svg x=\"0\" y=\"0\" width=\"100%\" height=\"100%\">    <text x=\"50%\" y=\"9\" font-size=\"12px\" fill=\"rgb(255,255,255)\" dominant-baseline=\"middle\" text-anchor=\"middle\">S.</text>  </svg></svg><line x1=\"10.38688583960354%\" x2=\"11.529173072457523%\" y1=\"60\" y2=\"60\" id=\"_fb_hiahjrmgvwiilfpwreon_ind_11\" style=\"stroke:rgb(255.0, 0.0, 81.08083606031792);stroke-width:2; opacity: 0\"/><text x=\"10.95802945603053%\" y=\"71\" font-size=\"12px\" id=\"_fs_hiahjrmgvwiilfpwreon_ind_11\" fill=\"rgb(255.0, 0.0, 81.08083606031792)\" style=\"opacity: 0\" dominant-baseline=\"middle\" text-anchor=\"middle\">0.016</text><svg x=\"10.38688583960354%\" y=\"40\" height=\"20\" width=\"1.1422872328539828%\">  <svg x=\"0\" y=\"0\" width=\"100%\" height=\"100%\">    <text x=\"50%\" y=\"9\" font-size=\"12px\" fill=\"rgb(255,255,255)\" dominant-baseline=\"middle\" text-anchor=\"middle\">DON’T wear a mask unless you’re sick.</text>  </svg></svg><line x1=\"9.323693661295893%\" x2=\"10.38688583960354%\" y1=\"60\" y2=\"60\" id=\"_fb_hiahjrmgvwiilfpwreon_ind_8\" style=\"stroke:rgb(255.0, 0.0, 81.08083606031792);stroke-width:2; opacity: 0\"/><text x=\"9.855289750449717%\" y=\"71\" font-size=\"12px\" id=\"_fs_hiahjrmgvwiilfpwreon_ind_8\" fill=\"rgb(255.0, 0.0, 81.08083606031792)\" style=\"opacity: 0\" dominant-baseline=\"middle\" text-anchor=\"middle\">0.015</text><svg x=\"9.323693661295893%\" y=\"40\" height=\"20\" width=\"1.0631921783076468%\">  <svg x=\"0\" y=\"0\" width=\"100%\" height=\"100%\">    <text x=\"50%\" y=\"9\" font-size=\"12px\" fill=\"rgb(255,255,255)\" dominant-baseline=\"middle\" text-anchor=\"middle\">Don’ts for Everyone DO wash your hands for at least 20 seconds, several times a day.</text>  </svg></svg><line x1=\"8.333333333333327%\" x2=\"9.323693661295893%\" y1=\"60\" y2=\"60\" id=\"_fb_hiahjrmgvwiilfpwreon_ind_19\" style=\"stroke:rgb(255.0, 0.0, 81.08083606031792);stroke-width:2; opacity: 0\"/><text x=\"8.82851349731461%\" y=\"71\" font-size=\"12px\" id=\"_fs_hiahjrmgvwiilfpwreon_ind_19\" fill=\"rgb(255.0, 0.0, 81.08083606031792)\" style=\"opacity: 0\" dominant-baseline=\"middle\" text-anchor=\"middle\">0.014</text><svg x=\"8.333333333333327%\" y=\"40\" height=\"20\" width=\"0.9903603279625663%\">  <svg x=\"0\" y=\"0\" width=\"100%\" height=\"100%\">    <text x=\"50%\" y=\"9\" font-size=\"12px\" fill=\"rgb(255,255,255)\" dominant-baseline=\"middle\" text-anchor=\"middle\">high in the U.</text>  </svg></svg><g transform=\"translate(0,0)\">  <svg x=\"24.55240664459139%\" y=\"40\" height=\"18\" overflow=\"visible\" width=\"30\">    <path d=\"M 0 -9 l 6 18 L 0 25\" fill=\"none\" style=\"stroke:rgb(255.0, 0.0, 81.08083606031792);stroke-width:2\" />  </svg></g><g transform=\"translate(2,0)\">  <svg x=\"24.55240664459139%\" y=\"40\" height=\"18\" overflow=\"visible\" width=\"30\">    <path d=\"M 0 -9 l 6 18 L 0 25\" fill=\"none\" style=\"stroke:rgb(255.0, 0.0, 81.08083606031792);stroke-width:2\" />  </svg></g><g transform=\"translate(4,0)\">  <svg x=\"24.55240664459139%\" y=\"40\" height=\"18\" overflow=\"visible\" width=\"30\">    <path d=\"M 0 -9 l 6 18 L 0 25\" fill=\"none\" style=\"stroke:rgb(255.0, 0.0, 81.08083606031792);stroke-width:2\" />  </svg></g><g transform=\"translate(6,0)\">  <svg x=\"24.55240664459139%\" y=\"40\" height=\"18\" overflow=\"visible\" width=\"30\">    <path d=\"M 0 -9 l 6 18 L 0 25\" fill=\"none\" style=\"stroke:rgb(255.0, 0.0, 81.08083606031792);stroke-width:2\" />  </svg></g><g transform=\"translate(-8,0)\">  <svg x=\"24.55240664459139%\" y=\"40\" height=\"18\" overflow=\"visible\" width=\"30\">    <path d=\"M 0 -9 l 6 18 L 0 25\" fill=\"none\" style=\"stroke:rgb(255.0, 0.0, 81.08083606031792);stroke-width:2\" />  </svg></g><g transform=\"translate(-6,0)\">  <svg x=\"24.55240664459139%\" y=\"40\" height=\"18\" overflow=\"visible\" width=\"30\">    <path d=\"M 0 -9 l 6 18 L 0 25\" fill=\"none\" style=\"stroke:rgb(255.0, 0.0, 81.08083606031792);stroke-width:2\" />  </svg></g><g transform=\"translate(-4,0)\">  <svg x=\"24.55240664459139%\" y=\"40\" height=\"18\" overflow=\"visible\" width=\"30\">    <path d=\"M 0 -9 l 6 18 L 0 25\" fill=\"none\" style=\"stroke:rgb(255.0, 0.0, 81.08083606031792);stroke-width:2\" />  </svg></g><g transform=\"translate(-2,0)\">  <svg x=\"24.55240664459139%\" y=\"40\" height=\"18\" overflow=\"visible\" width=\"30\">    <path d=\"M 0 -9 l 6 18 L 0 25\" fill=\"none\" style=\"stroke:rgb(255.0, 0.0, 81.08083606031792);stroke-width:2\" />  </svg></g><g transform=\"translate(0,0)\">  <svg x=\"20.054373420392288%\" y=\"40\" height=\"18\" overflow=\"visible\" width=\"30\">    <path d=\"M 0 -9 l 6 18 L 0 25\" fill=\"none\" style=\"stroke:rgb(255.0, 0.0, 81.08083606031792);stroke-width:2\" />  </svg></g><g transform=\"translate(2,0)\">  <svg x=\"20.054373420392288%\" y=\"40\" height=\"18\" overflow=\"visible\" width=\"30\">    <path d=\"M 0 -9 l 6 18 L 0 25\" fill=\"none\" style=\"stroke:rgb(255.0, 0.0, 81.08083606031792);stroke-width:2\" />  </svg></g><g transform=\"translate(4,0)\">  <svg x=\"20.054373420392288%\" y=\"40\" height=\"18\" overflow=\"visible\" width=\"30\">    <path d=\"M 0 -9 l 6 18 L 0 25\" fill=\"none\" style=\"stroke:rgb(255.0, 0.0, 81.08083606031792);stroke-width:2\" />  </svg></g><g transform=\"translate(6,0)\">  <svg x=\"20.054373420392288%\" y=\"40\" height=\"18\" overflow=\"visible\" width=\"30\">    <path d=\"M 0 -9 l 6 18 L 0 25\" fill=\"none\" style=\"stroke:rgb(255.0, 0.0, 81.08083606031792);stroke-width:2\" />  </svg></g><g transform=\"translate(-8,0)\">  <svg x=\"20.054373420392288%\" y=\"40\" height=\"18\" overflow=\"visible\" width=\"30\">    <path d=\"M 0 -9 l 6 18 L 0 25\" fill=\"none\" style=\"stroke:rgb(255.0, 0.0, 81.08083606031792);stroke-width:2\" />  </svg></g><g transform=\"translate(-6,0)\">  <svg x=\"20.054373420392288%\" y=\"40\" height=\"18\" overflow=\"visible\" width=\"30\">    <path d=\"M 0 -9 l 6 18 L 0 25\" fill=\"none\" style=\"stroke:rgb(255.0, 0.0, 81.08083606031792);stroke-width:2\" />  </svg></g><g transform=\"translate(-4,0)\">  <svg x=\"20.054373420392288%\" y=\"40\" height=\"18\" overflow=\"visible\" width=\"30\">    <path d=\"M 0 -9 l 6 18 L 0 25\" fill=\"none\" style=\"stroke:rgb(255.0, 0.0, 81.08083606031792);stroke-width:2\" />  </svg></g><g transform=\"translate(-2,0)\">  <svg x=\"20.054373420392288%\" y=\"40\" height=\"18\" overflow=\"visible\" width=\"30\">    <path d=\"M 0 -9 l 6 18 L 0 25\" fill=\"none\" style=\"stroke:rgb(255.0, 0.0, 81.08083606031792);stroke-width:2\" />  </svg></g><g transform=\"translate(0,0)\">  <svg x=\"16.092932108542005%\" y=\"40\" height=\"18\" overflow=\"visible\" width=\"30\">    <path d=\"M 0 -9 l 6 18 L 0 25\" fill=\"none\" style=\"stroke:rgb(255.0, 0.0, 81.08083606031792);stroke-width:2\" />  </svg></g><g transform=\"translate(2,0)\">  <svg x=\"16.092932108542005%\" y=\"40\" height=\"18\" overflow=\"visible\" width=\"30\">    <path d=\"M 0 -9 l 6 18 L 0 25\" fill=\"none\" style=\"stroke:rgb(255.0, 0.0, 81.08083606031792);stroke-width:2\" />  </svg></g><g transform=\"translate(4,0)\">  <svg x=\"16.092932108542005%\" y=\"40\" height=\"18\" overflow=\"visible\" width=\"30\">    <path d=\"M 0 -9 l 6 18 L 0 25\" fill=\"none\" style=\"stroke:rgb(255.0, 0.0, 81.08083606031792);stroke-width:2\" />  </svg></g><g transform=\"translate(6,0)\">  <svg x=\"16.092932108542005%\" y=\"40\" height=\"18\" overflow=\"visible\" width=\"30\">    <path d=\"M 0 -9 l 6 18 L 0 25\" fill=\"none\" style=\"stroke:rgb(255.0, 0.0, 81.08083606031792);stroke-width:2\" />  </svg></g><g transform=\"translate(-8,0)\">  <svg x=\"16.092932108542005%\" y=\"40\" height=\"18\" overflow=\"visible\" width=\"30\">    <path d=\"M 0 -9 l 6 18 L 0 25\" fill=\"none\" style=\"stroke:rgb(255.0, 0.0, 81.08083606031792);stroke-width:2\" />  </svg></g><g transform=\"translate(-6,0)\">  <svg x=\"16.092932108542005%\" y=\"40\" height=\"18\" overflow=\"visible\" width=\"30\">    <path d=\"M 0 -9 l 6 18 L 0 25\" fill=\"none\" style=\"stroke:rgb(255.0, 0.0, 81.08083606031792);stroke-width:2\" />  </svg></g><g transform=\"translate(-4,0)\">  <svg x=\"16.092932108542005%\" y=\"40\" height=\"18\" overflow=\"visible\" width=\"30\">    <path d=\"M 0 -9 l 6 18 L 0 25\" fill=\"none\" style=\"stroke:rgb(255.0, 0.0, 81.08083606031792);stroke-width:2\" />  </svg></g><g transform=\"translate(-2,0)\">  <svg x=\"16.092932108542005%\" y=\"40\" height=\"18\" overflow=\"visible\" width=\"30\">    <path d=\"M 0 -9 l 6 18 L 0 25\" fill=\"none\" style=\"stroke:rgb(255.0, 0.0, 81.08083606031792);stroke-width:2\" />  </svg></g><g transform=\"translate(0,0)\">  <svg x=\"13.50989372838266%\" y=\"40\" height=\"18\" overflow=\"visible\" width=\"30\">    <path d=\"M 0 -9 l 6 18 L 0 25\" fill=\"none\" style=\"stroke:rgb(255.0, 0.0, 81.08083606031792);stroke-width:2\" />  </svg></g><g transform=\"translate(2,0)\">  <svg x=\"13.50989372838266%\" y=\"40\" height=\"18\" overflow=\"visible\" width=\"30\">    <path d=\"M 0 -9 l 6 18 L 0 25\" fill=\"none\" style=\"stroke:rgb(255.0, 0.0, 81.08083606031792);stroke-width:2\" />  </svg></g><g transform=\"translate(4,0)\">  <svg x=\"13.50989372838266%\" y=\"40\" height=\"18\" overflow=\"visible\" width=\"30\">    <path d=\"M 0 -9 l 6 18 L 0 25\" fill=\"none\" style=\"stroke:rgb(255.0, 0.0, 81.08083606031792);stroke-width:2\" />  </svg></g><g transform=\"translate(6,0)\">  <svg x=\"13.50989372838266%\" y=\"40\" height=\"18\" overflow=\"visible\" width=\"30\">    <path d=\"M 0 -9 l 6 18 L 0 25\" fill=\"none\" style=\"stroke:rgb(255.0, 0.0, 81.08083606031792);stroke-width:2\" />  </svg></g><g transform=\"translate(-8,0)\">  <svg x=\"13.50989372838266%\" y=\"40\" height=\"18\" overflow=\"visible\" width=\"30\">    <path d=\"M 0 -9 l 6 18 L 0 25\" fill=\"none\" style=\"stroke:rgb(255.0, 0.0, 81.08083606031792);stroke-width:2\" />  </svg></g><g transform=\"translate(-6,0)\">  <svg x=\"13.50989372838266%\" y=\"40\" height=\"18\" overflow=\"visible\" width=\"30\">    <path d=\"M 0 -9 l 6 18 L 0 25\" fill=\"none\" style=\"stroke:rgb(255.0, 0.0, 81.08083606031792);stroke-width:2\" />  </svg></g><g transform=\"translate(-4,0)\">  <svg x=\"13.50989372838266%\" y=\"40\" height=\"18\" overflow=\"visible\" width=\"30\">    <path d=\"M 0 -9 l 6 18 L 0 25\" fill=\"none\" style=\"stroke:rgb(255.0, 0.0, 81.08083606031792);stroke-width:2\" />  </svg></g><g transform=\"translate(-2,0)\">  <svg x=\"13.50989372838266%\" y=\"40\" height=\"18\" overflow=\"visible\" width=\"30\">    <path d=\"M 0 -9 l 6 18 L 0 25\" fill=\"none\" style=\"stroke:rgb(255.0, 0.0, 81.08083606031792);stroke-width:2\" />  </svg></g><g transform=\"translate(0,0)\">  <svg x=\"11.529173072457523%\" y=\"40\" height=\"18\" overflow=\"visible\" width=\"30\">    <path d=\"M 0 -9 l 6 18 L 0 25\" fill=\"none\" style=\"stroke:rgb(255.0, 0.0, 81.08083606031792);stroke-width:2\" />  </svg></g><g transform=\"translate(2,0)\">  <svg x=\"11.529173072457523%\" y=\"40\" height=\"18\" overflow=\"visible\" width=\"30\">    <path d=\"M 0 -9 l 6 18 L 0 25\" fill=\"none\" style=\"stroke:rgb(255.0, 0.0, 81.08083606031792);stroke-width:2\" />  </svg></g><g transform=\"translate(4,0)\">  <svg x=\"11.529173072457523%\" y=\"40\" height=\"18\" overflow=\"visible\" width=\"30\">    <path d=\"M 0 -9 l 6 18 L 0 25\" fill=\"none\" style=\"stroke:rgb(255.0, 0.0, 81.08083606031792);stroke-width:2\" />  </svg></g><g transform=\"translate(6,0)\">  <svg x=\"11.529173072457523%\" y=\"40\" height=\"18\" overflow=\"visible\" width=\"30\">    <path d=\"M 0 -9 l 6 18 L 0 25\" fill=\"none\" style=\"stroke:rgb(255.0, 0.0, 81.08083606031792);stroke-width:2\" />  </svg></g><g transform=\"translate(-8,0)\">  <svg x=\"11.529173072457523%\" y=\"40\" height=\"18\" overflow=\"visible\" width=\"30\">    <path d=\"M 0 -9 l 6 18 L 0 25\" fill=\"none\" style=\"stroke:rgb(255.0, 0.0, 81.08083606031792);stroke-width:2\" />  </svg></g><g transform=\"translate(-6,0)\">  <svg x=\"11.529173072457523%\" y=\"40\" height=\"18\" overflow=\"visible\" width=\"30\">    <path d=\"M 0 -9 l 6 18 L 0 25\" fill=\"none\" style=\"stroke:rgb(255.0, 0.0, 81.08083606031792);stroke-width:2\" />  </svg></g><g transform=\"translate(-4,0)\">  <svg x=\"11.529173072457523%\" y=\"40\" height=\"18\" overflow=\"visible\" width=\"30\">    <path d=\"M 0 -9 l 6 18 L 0 25\" fill=\"none\" style=\"stroke:rgb(255.0, 0.0, 81.08083606031792);stroke-width:2\" />  </svg></g><g transform=\"translate(-2,0)\">  <svg x=\"11.529173072457523%\" y=\"40\" height=\"18\" overflow=\"visible\" width=\"30\">    <path d=\"M 0 -9 l 6 18 L 0 25\" fill=\"none\" style=\"stroke:rgb(255.0, 0.0, 81.08083606031792);stroke-width:2\" />  </svg></g><g transform=\"translate(0,0)\">  <svg x=\"10.38688583960354%\" y=\"40\" height=\"18\" overflow=\"visible\" width=\"30\">    <path d=\"M 0 -9 l 6 18 L 0 25\" fill=\"none\" style=\"stroke:rgb(255.0, 0.0, 81.08083606031792);stroke-width:2\" />  </svg></g><g transform=\"translate(2,0)\">  <svg x=\"10.38688583960354%\" y=\"40\" height=\"18\" overflow=\"visible\" width=\"30\">    <path d=\"M 0 -9 l 6 18 L 0 25\" fill=\"none\" style=\"stroke:rgb(255.0, 0.0, 81.08083606031792);stroke-width:2\" />  </svg></g><g transform=\"translate(4,0)\">  <svg x=\"10.38688583960354%\" y=\"40\" height=\"18\" overflow=\"visible\" width=\"30\">    <path d=\"M 0 -9 l 6 18 L 0 25\" fill=\"none\" style=\"stroke:rgb(255.0, 0.0, 81.08083606031792);stroke-width:2\" />  </svg></g><g transform=\"translate(6,0)\">  <svg x=\"10.38688583960354%\" y=\"40\" height=\"18\" overflow=\"visible\" width=\"30\">    <path d=\"M 0 -9 l 6 18 L 0 25\" fill=\"none\" style=\"stroke:rgb(255.0, 0.0, 81.08083606031792);stroke-width:2\" />  </svg></g><g transform=\"translate(-8,0)\">  <svg x=\"10.38688583960354%\" y=\"40\" height=\"18\" overflow=\"visible\" width=\"30\">    <path d=\"M 0 -9 l 6 18 L 0 25\" fill=\"none\" style=\"stroke:rgb(255.0, 0.0, 81.08083606031792);stroke-width:2\" />  </svg></g><g transform=\"translate(-6,0)\">  <svg x=\"10.38688583960354%\" y=\"40\" height=\"18\" overflow=\"visible\" width=\"30\">    <path d=\"M 0 -9 l 6 18 L 0 25\" fill=\"none\" style=\"stroke:rgb(255.0, 0.0, 81.08083606031792);stroke-width:2\" />  </svg></g><g transform=\"translate(-4,0)\">  <svg x=\"10.38688583960354%\" y=\"40\" height=\"18\" overflow=\"visible\" width=\"30\">    <path d=\"M 0 -9 l 6 18 L 0 25\" fill=\"none\" style=\"stroke:rgb(255.0, 0.0, 81.08083606031792);stroke-width:2\" />  </svg></g><g transform=\"translate(-2,0)\">  <svg x=\"10.38688583960354%\" y=\"40\" height=\"18\" overflow=\"visible\" width=\"30\">    <path d=\"M 0 -9 l 6 18 L 0 25\" fill=\"none\" style=\"stroke:rgb(255.0, 0.0, 81.08083606031792);stroke-width:2\" />  </svg></g><g transform=\"translate(0,0)\">  <svg x=\"9.323693661295893%\" y=\"40\" height=\"18\" overflow=\"visible\" width=\"30\">    <path d=\"M 0 -9 l 6 18 L 0 25\" fill=\"none\" style=\"stroke:rgb(255.0, 0.0, 81.08083606031792);stroke-width:2\" />  </svg></g><g transform=\"translate(2,0)\">  <svg x=\"9.323693661295893%\" y=\"40\" height=\"18\" overflow=\"visible\" width=\"30\">    <path d=\"M 0 -9 l 6 18 L 0 25\" fill=\"none\" style=\"stroke:rgb(255.0, 0.0, 81.08083606031792);stroke-width:2\" />  </svg></g><g transform=\"translate(4,0)\">  <svg x=\"9.323693661295893%\" y=\"40\" height=\"18\" overflow=\"visible\" width=\"30\">    <path d=\"M 0 -9 l 6 18 L 0 25\" fill=\"none\" style=\"stroke:rgb(255.0, 0.0, 81.08083606031792);stroke-width:2\" />  </svg></g><g transform=\"translate(6,0)\">  <svg x=\"9.323693661295893%\" y=\"40\" height=\"18\" overflow=\"visible\" width=\"30\">    <path d=\"M 0 -9 l 6 18 L 0 25\" fill=\"none\" style=\"stroke:rgb(255.0, 0.0, 81.08083606031792);stroke-width:2\" />  </svg></g><g transform=\"translate(-8,0)\">  <svg x=\"9.323693661295893%\" y=\"40\" height=\"18\" overflow=\"visible\" width=\"30\">    <path d=\"M 0 -9 l 6 18 L 0 25\" fill=\"none\" style=\"stroke:rgb(255.0, 0.0, 81.08083606031792);stroke-width:2\" />  </svg></g><g transform=\"translate(-6,0)\">  <svg x=\"9.323693661295893%\" y=\"40\" height=\"18\" overflow=\"visible\" width=\"30\">    <path d=\"M 0 -9 l 6 18 L 0 25\" fill=\"none\" style=\"stroke:rgb(255.0, 0.0, 81.08083606031792);stroke-width:2\" />  </svg></g><g transform=\"translate(-4,0)\">  <svg x=\"9.323693661295893%\" y=\"40\" height=\"18\" overflow=\"visible\" width=\"30\">    <path d=\"M 0 -9 l 6 18 L 0 25\" fill=\"none\" style=\"stroke:rgb(255.0, 0.0, 81.08083606031792);stroke-width:2\" />  </svg></g><g transform=\"translate(-2,0)\">  <svg x=\"9.323693661295893%\" y=\"40\" height=\"18\" overflow=\"visible\" width=\"30\">    <path d=\"M 0 -9 l 6 18 L 0 25\" fill=\"none\" style=\"stroke:rgb(255.0, 0.0, 81.08083606031792);stroke-width:2\" />  </svg></g><rect transform=\"translate(-8,0)\" x=\"32.47528926829195%\" y=\"40\" width=\"8\" height=\"18\" style=\"fill:rgb(255.0, 0.0, 81.08083606031792)\"/><g transform=\"translate(-11.5,0)\">  <svg x=\"8.333333333333336%\" y=\"40\" height=\"18\" overflow=\"visible\" width=\"30\">    <path d=\"M 10 -9 l 6 18 L 10 25 L 0 25 L 0 -9\" fill=\"#ffffff\" style=\"stroke:rgb(255,255,255);stroke-width:2\" />  </svg></g><g transform=\"translate(-1.5,0)\">  <svg x=\"32.47528926829195%\" y=\"40\" height=\"18\" overflow=\"visible\" width=\"30\">    <path d=\"M 0 -9 l 6 18 L 0 25\" fill=\"none\" style=\"stroke:rgb(255, 195, 213);stroke-width:2\" />  </svg></g><rect x=\"24.55240664459139%\" y=\"40\" height=\"20\" width=\"7.922882623700563%\"      onmouseover=\"document.getElementById('_tp_hiahjrmgvwiilfpwreon_ind_22').style.textDecoration = 'underline';document.getElementById('_fs_hiahjrmgvwiilfpwreon_ind_22').style.opacity = 1;document.getElementById('_fb_hiahjrmgvwiilfpwreon_ind_22').style.opacity = 1;\"      onmouseout=\"document.getElementById('_tp_hiahjrmgvwiilfpwreon_ind_22').style.textDecoration = 'none';document.getElementById('_fs_hiahjrmgvwiilfpwreon_ind_22').style.opacity = 0;document.getElementById('_fb_hiahjrmgvwiilfpwreon_ind_22').style.opacity = 0;\" style=\"fill:rgb(0,0,0,0)\" /><g transform=\"translate(-1.5,0)\">  <svg x=\"24.55240664459139%\" y=\"40\" height=\"18\" overflow=\"visible\" width=\"30\">    <path d=\"M 0 -9 l 6 18 L 0 25\" fill=\"none\" style=\"stroke:rgb(255, 195, 213);stroke-width:2\" />  </svg></g><rect x=\"20.054373420392288%\" y=\"40\" height=\"20\" width=\"4.4980332241991015%\"      onmouseover=\"document.getElementById('_tp_hiahjrmgvwiilfpwreon_ind_4').style.textDecoration = 'underline';document.getElementById('_fs_hiahjrmgvwiilfpwreon_ind_4').style.opacity = 1;document.getElementById('_fb_hiahjrmgvwiilfpwreon_ind_4').style.opacity = 1;\"      onmouseout=\"document.getElementById('_tp_hiahjrmgvwiilfpwreon_ind_4').style.textDecoration = 'none';document.getElementById('_fs_hiahjrmgvwiilfpwreon_ind_4').style.opacity = 0;document.getElementById('_fb_hiahjrmgvwiilfpwreon_ind_4').style.opacity = 0;\" style=\"fill:rgb(0,0,0,0)\" /><g transform=\"translate(-1.5,0)\">  <svg x=\"20.054373420392288%\" y=\"40\" height=\"18\" overflow=\"visible\" width=\"30\">    <path d=\"M 0 -9 l 6 18 L 0 25\" fill=\"none\" style=\"stroke:rgb(255, 195, 213);stroke-width:2\" />  </svg></g><rect x=\"16.092932108542005%\" y=\"40\" height=\"20\" width=\"3.961441311850283%\"      onmouseover=\"document.getElementById('_tp_hiahjrmgvwiilfpwreon_ind_21').style.textDecoration = 'underline';document.getElementById('_fs_hiahjrmgvwiilfpwreon_ind_21').style.opacity = 1;document.getElementById('_fb_hiahjrmgvwiilfpwreon_ind_21').style.opacity = 1;\"      onmouseout=\"document.getElementById('_tp_hiahjrmgvwiilfpwreon_ind_21').style.textDecoration = 'none';document.getElementById('_fs_hiahjrmgvwiilfpwreon_ind_21').style.opacity = 0;document.getElementById('_fb_hiahjrmgvwiilfpwreon_ind_21').style.opacity = 0;\" style=\"fill:rgb(0,0,0,0)\" /><g transform=\"translate(-1.5,0)\">  <svg x=\"16.092932108542005%\" y=\"40\" height=\"18\" overflow=\"visible\" width=\"30\">    <path d=\"M 0 -9 l 6 18 L 0 25\" fill=\"none\" style=\"stroke:rgb(255, 195, 213);stroke-width:2\" />  </svg></g><rect x=\"13.50989372838266%\" y=\"40\" height=\"20\" width=\"2.583038380159344%\"      onmouseover=\"document.getElementById('_tp_hiahjrmgvwiilfpwreon_ind_15').style.textDecoration = 'underline';document.getElementById('_fs_hiahjrmgvwiilfpwreon_ind_15').style.opacity = 1;document.getElementById('_fb_hiahjrmgvwiilfpwreon_ind_15').style.opacity = 1;\"      onmouseout=\"document.getElementById('_tp_hiahjrmgvwiilfpwreon_ind_15').style.textDecoration = 'none';document.getElementById('_fs_hiahjrmgvwiilfpwreon_ind_15').style.opacity = 0;document.getElementById('_fb_hiahjrmgvwiilfpwreon_ind_15').style.opacity = 0;\" style=\"fill:rgb(0,0,0,0)\" /><g transform=\"translate(-1.5,0)\">  <svg x=\"13.50989372838266%\" y=\"40\" height=\"18\" overflow=\"visible\" width=\"30\">    <path d=\"M 0 -9 l 6 18 L 0 25\" fill=\"none\" style=\"stroke:rgb(255, 195, 213);stroke-width:2\" />  </svg></g><rect x=\"11.529173072457523%\" y=\"40\" height=\"20\" width=\"1.980720655925138%\"      onmouseover=\"document.getElementById('_tp_hiahjrmgvwiilfpwreon_ind_20').style.textDecoration = 'underline';document.getElementById('_fs_hiahjrmgvwiilfpwreon_ind_20').style.opacity = 1;document.getElementById('_fb_hiahjrmgvwiilfpwreon_ind_20').style.opacity = 1;\"      onmouseout=\"document.getElementById('_tp_hiahjrmgvwiilfpwreon_ind_20').style.textDecoration = 'none';document.getElementById('_fs_hiahjrmgvwiilfpwreon_ind_20').style.opacity = 0;document.getElementById('_fb_hiahjrmgvwiilfpwreon_ind_20').style.opacity = 0;\" style=\"fill:rgb(0,0,0,0)\" /><g transform=\"translate(-1.5,0)\">  <svg x=\"11.529173072457523%\" y=\"40\" height=\"18\" overflow=\"visible\" width=\"30\">    <path d=\"M 0 -9 l 6 18 L 0 25\" fill=\"none\" style=\"stroke:rgb(255, 195, 213);stroke-width:2\" />  </svg></g><rect x=\"10.38688583960354%\" y=\"40\" height=\"20\" width=\"1.1422872328539828%\"      onmouseover=\"document.getElementById('_tp_hiahjrmgvwiilfpwreon_ind_11').style.textDecoration = 'underline';document.getElementById('_fs_hiahjrmgvwiilfpwreon_ind_11').style.opacity = 1;document.getElementById('_fb_hiahjrmgvwiilfpwreon_ind_11').style.opacity = 1;\"      onmouseout=\"document.getElementById('_tp_hiahjrmgvwiilfpwreon_ind_11').style.textDecoration = 'none';document.getElementById('_fs_hiahjrmgvwiilfpwreon_ind_11').style.opacity = 0;document.getElementById('_fb_hiahjrmgvwiilfpwreon_ind_11').style.opacity = 0;\" style=\"fill:rgb(0,0,0,0)\" /><g transform=\"translate(-1.5,0)\">  <svg x=\"10.38688583960354%\" y=\"40\" height=\"18\" overflow=\"visible\" width=\"30\">    <path d=\"M 0 -9 l 6 18 L 0 25\" fill=\"none\" style=\"stroke:rgb(255, 195, 213);stroke-width:2\" />  </svg></g><rect x=\"9.323693661295893%\" y=\"40\" height=\"20\" width=\"1.0631921783076468%\"      onmouseover=\"document.getElementById('_tp_hiahjrmgvwiilfpwreon_ind_8').style.textDecoration = 'underline';document.getElementById('_fs_hiahjrmgvwiilfpwreon_ind_8').style.opacity = 1;document.getElementById('_fb_hiahjrmgvwiilfpwreon_ind_8').style.opacity = 1;\"      onmouseout=\"document.getElementById('_tp_hiahjrmgvwiilfpwreon_ind_8').style.textDecoration = 'none';document.getElementById('_fs_hiahjrmgvwiilfpwreon_ind_8').style.opacity = 0;document.getElementById('_fb_hiahjrmgvwiilfpwreon_ind_8').style.opacity = 0;\" style=\"fill:rgb(0,0,0,0)\" /><rect x=\"8.333333333333327%\" y=\"40\" height=\"20\" width=\"0.9903603279625663%\"      onmouseover=\"document.getElementById('_tp_hiahjrmgvwiilfpwreon_ind_19').style.textDecoration = 'underline';document.getElementById('_fs_hiahjrmgvwiilfpwreon_ind_19').style.opacity = 1;document.getElementById('_fb_hiahjrmgvwiilfpwreon_ind_19').style.opacity = 1;\"      onmouseout=\"document.getElementById('_tp_hiahjrmgvwiilfpwreon_ind_19').style.textDecoration = 'none';document.getElementById('_fs_hiahjrmgvwiilfpwreon_ind_19').style.opacity = 0;document.getElementById('_fb_hiahjrmgvwiilfpwreon_ind_19').style.opacity = 0;\" style=\"fill:rgb(0,0,0,0)\" /><rect x=\"32.47528926829195%\" width=\"59.19137739837472%\" y=\"40\" height=\"18\" style=\"fill:rgb(0.0, 138.56128015770727, 250.76166088685727); stroke-width:0; stroke:rgb(0,0,0)\" /><line x1=\"32.47528926829195%\" x2=\"44.283656300442274%\" y1=\"60\" y2=\"60\" id=\"_fb_hiahjrmgvwiilfpwreon_ind_17\" style=\"stroke:rgb(0.0, 138.56128015770727, 250.76166088685727);stroke-width:2; opacity: 0\"/><text x=\"38.37947278436711%\" y=\"71\" font-size=\"12px\" fill=\"rgb(0.0, 138.56128015770727, 250.76166088685727)\" id=\"_fs_hiahjrmgvwiilfpwreon_ind_17\" style=\"opacity: 0\" dominant-baseline=\"middle\" text-anchor=\"middle\">-0.163</text><svg x=\"32.47528926829195%\" y=\"40\" height=\"20\" width=\"11.808367032150322%\">  <svg x=\"0\" y=\"0\" width=\"100%\" height=\"100%\">    <text x=\"50%\" y=\"9\" font-size=\"12px\" fill=\"rgb(255,255,255)\" dominant-baseline=\"middle\" text-anchor=\"middle\">Demand has</text>  </svg></svg><line x1=\"44.283656300442274%\" x2=\"50.775962358849185%\" y1=\"60\" y2=\"60\" id=\"_fb_hiahjrmgvwiilfpwreon_ind_2\" style=\"stroke:rgb(0.0, 138.56128015770727, 250.76166088685727);stroke-width:2; opacity: 0\"/><text x=\"47.52980932964573%\" y=\"71\" font-size=\"12px\" fill=\"rgb(0.0, 138.56128015770727, 250.76166088685727)\" id=\"_fs_hiahjrmgvwiilfpwreon_ind_2\" style=\"opacity: 0\" dominant-baseline=\"middle\" text-anchor=\"middle\">-0.089</text><svg x=\"44.283656300442274%\" y=\"40\" height=\"20\" width=\"6.4923060584069106%\">  <svg x=\"0\" y=\"0\" width=\"100%\" height=\"100%\">    <text x=\"50%\" y=\"9\" font-size=\"12px\" fill=\"rgb(255,255,255)\" dominant-baseline=\"middle\" text-anchor=\"middle\">Feb. 28, 2020 -- With cases in all 50 states and the District of Columbia, coronavirus (and COVID-19, the disease it causes) is spreading rapidly in the United States.</text>  </svg></svg><line x1=\"50.775962358849185%\" x2=\"57.13663999796149%\" y1=\"60\" y2=\"60\" id=\"_fb_hiahjrmgvwiilfpwreon_ind_1\" style=\"stroke:rgb(0.0, 138.56128015770727, 250.76166088685727);stroke-width:2; opacity: 0\"/><text x=\"53.95630117840534%\" y=\"71\" font-size=\"12px\" fill=\"rgb(0.0, 138.56128015770727, 250.76166088685727)\" id=\"_fs_hiahjrmgvwiilfpwreon_ind_1\" style=\"opacity: 0\" dominant-baseline=\"middle\" text-anchor=\"middle\">-0.088</text><svg x=\"50.775962358849185%\" y=\"40\" height=\"20\" width=\"6.360677639112303%\">  <svg x=\"0\" y=\"0\" width=\"100%\" height=\"100%\">    <text x=\"50%\" y=\"9\" font-size=\"12px\" fill=\"rgb(255,255,255)\" dominant-baseline=\"middle\" text-anchor=\"middle\">Editor's Note: This story was most recently updated March 26, 2020. For the latest updates on the 2020 coronavirus outbreak, see our news coverage.</text>  </svg></svg><line x1=\"57.13663999796149%\" x2=\"62.561194388285124%\" y1=\"60\" y2=\"60\" id=\"_fb_hiahjrmgvwiilfpwreon_ind_9\" style=\"stroke:rgb(0.0, 138.56128015770727, 250.76166088685727);stroke-width:2; opacity: 0\"/><text x=\"59.848917193123306%\" y=\"71\" font-size=\"12px\" fill=\"rgb(0.0, 138.56128015770727, 250.76166088685727)\" id=\"_fs_hiahjrmgvwiilfpwreon_ind_9\" style=\"opacity: 0\" dominant-baseline=\"middle\" text-anchor=\"middle\">-0.075</text><svg x=\"57.13663999796149%\" y=\"40\" height=\"20\" width=\"5.424554390323635%\">  <svg x=\"0\" y=\"0\" width=\"100%\" height=\"100%\">    <text x=\"50%\" y=\"9\" font-size=\"12px\" fill=\"rgb(255,255,255)\" dominant-baseline=\"middle\" text-anchor=\"middle\">Use soap and water or a hand sanitizer with at least 60% alcohol: Before cooking or eating After using the bathroom After blowing your nose, coughing, or sneezing DON’T touch your eyes, nose, and mouth.</text>  </svg></svg><line x1=\"62.561194388285124%\" x2=\"67.95870475447602%\" y1=\"60\" y2=\"60\" id=\"_fb_hiahjrmgvwiilfpwreon_ind_18\" style=\"stroke:rgb(0.0, 138.56128015770727, 250.76166088685727);stroke-width:2; opacity: 0\"/><text x=\"65.25994957138057%\" y=\"71\" font-size=\"12px\" fill=\"rgb(0.0, 138.56128015770727, 250.76166088685727)\" id=\"_fs_hiahjrmgvwiilfpwreon_ind_18\" style=\"opacity: 0\" dominant-baseline=\"middle\" text-anchor=\"middle\">-0.074</text><svg x=\"62.561194388285124%\" y=\"40\" height=\"20\" width=\"5.397510366190893%\">  <svg x=\"0\" y=\"0\" width=\"100%\" height=\"100%\">    <text x=\"50%\" y=\"9\" font-size=\"12px\" fill=\"rgb(255,255,255)\" dominant-baseline=\"middle\" text-anchor=\"middle\">been so</text>  </svg></svg><line x1=\"67.95870475447602%\" x2=\"73.1556753381853%\" y1=\"60\" y2=\"60\" id=\"_fb_hiahjrmgvwiilfpwreon_ind_5\" style=\"stroke:rgb(0.0, 138.56128015770727, 250.76166088685727);stroke-width:2; opacity: 0\"/><text x=\"70.55719004633066%\" y=\"71\" font-size=\"12px\" fill=\"rgb(0.0, 138.56128015770727, 250.76166088685727)\" id=\"_fs_hiahjrmgvwiilfpwreon_ind_5\" style=\"opacity: 0\" dominant-baseline=\"middle\" text-anchor=\"middle\">-0.072</text><svg x=\"67.95870475447602%\" y=\"40\" height=\"20\" width=\"5.196970583709287%\">  <svg x=\"0\" y=\"0\" width=\"100%\" height=\"100%\">    <text x=\"50%\" y=\"9\" font-size=\"12px\" fill=\"rgb(255,255,255)\" dominant-baseline=\"middle\" text-anchor=\"middle\">now:</text>  </svg></svg><line x1=\"73.1556753381853%\" x2=\"76.62248611672338%\" y1=\"60\" y2=\"60\" id=\"_fb_hiahjrmgvwiilfpwreon_ind_6\" style=\"stroke:rgb(0.0, 138.56128015770727, 250.76166088685727);stroke-width:2; opacity: 0\"/><text x=\"74.88908072745434%\" y=\"71\" font-size=\"12px\" fill=\"rgb(0.0, 138.56128015770727, 250.76166088685727)\" id=\"_fs_hiahjrmgvwiilfpwreon_ind_6\" style=\"opacity: 0\" dominant-baseline=\"middle\" text-anchor=\"middle\">-0.048</text><svg x=\"73.1556753381853%\" y=\"40\" height=\"20\" width=\"3.4668107785380755%\">  <svg x=\"0\" y=\"0\" width=\"100%\" height=\"100%\">    <text x=\"50%\" y=\"9\" font-size=\"12px\" fill=\"rgb(255,255,255)\" dominant-baseline=\"middle\" text-anchor=\"middle\">Dos</text>  </svg></svg><line x1=\"76.62248611672338%\" x2=\"79.57671562985772%\" y1=\"60\" y2=\"60\" id=\"_fb_hiahjrmgvwiilfpwreon_ind_14\" style=\"stroke:rgb(0.0, 138.56128015770727, 250.76166088685727);stroke-width:2; opacity: 0\"/><text x=\"78.09960087329054%\" y=\"71\" font-size=\"12px\" fill=\"rgb(0.0, 138.56128015770727, 250.76166088685727)\" id=\"_fs_hiahjrmgvwiilfpwreon_ind_14\" style=\"opacity: 0\" dominant-baseline=\"middle\" text-anchor=\"middle\">-0.041</text><svg x=\"76.62248611672338%\" y=\"40\" height=\"20\" width=\"2.9542295131343366%\">  <svg x=\"0\" y=\"0\" width=\"100%\" height=\"100%\">    <text x=\"50%\" y=\"9\" font-size=\"12px\" fill=\"rgb(255,255,255)\" dominant-baseline=\"middle\" text-anchor=\"middle\">wearing one when you</text>  </svg></svg><line x1=\"79.57671562985772%\" x2=\"82.40425817709354%\" y1=\"60\" y2=\"60\" id=\"_fb_hiahjrmgvwiilfpwreon_ind_10\" style=\"stroke:rgb(0.0, 138.56128015770727, 250.76166088685727);stroke-width:2; opacity: 0\"/><text x=\"80.99048690347563%\" y=\"71\" font-size=\"12px\" fill=\"rgb(0.0, 138.56128015770727, 250.76166088685727)\" id=\"_fs_hiahjrmgvwiilfpwreon_ind_10\" style=\"opacity: 0\" dominant-baseline=\"middle\" text-anchor=\"middle\">-0.039</text><svg x=\"79.57671562985772%\" y=\"40\" height=\"20\" width=\"2.827542547235822%\">  <svg x=\"0\" y=\"0\" width=\"100%\" height=\"100%\">    <text x=\"50%\" y=\"9\" font-size=\"12px\" fill=\"rgb(255,255,255)\" dominant-baseline=\"middle\" text-anchor=\"middle\">If you have somehow come into contact with the virus, touching your face can help it enter your body. DO learn the symptoms, which are similar to flu and may not emerge until 14 days after exposure: Fever Cough Shortness of breath Most cases do not start with a runny nose.</text>  </svg></svg><line x1=\"82.40425817709354%\" x2=\"84.92423629523994%\" y1=\"60\" y2=\"60\" id=\"_fb_hiahjrmgvwiilfpwreon_ind_7\" style=\"stroke:rgb(0.0, 138.56128015770727, 250.76166088685727);stroke-width:2; opacity: 0\"/><text x=\"83.66424723616674%\" y=\"71\" font-size=\"12px\" fill=\"rgb(0.0, 138.56128015770727, 250.76166088685727)\" id=\"_fs_hiahjrmgvwiilfpwreon_ind_7\" style=\"opacity: 0\" dominant-baseline=\"middle\" text-anchor=\"middle\">-0.035</text><svg x=\"82.40425817709354%\" y=\"40\" height=\"20\" width=\"2.5199781181463976%\">  <svg x=\"0\" y=\"0\" width=\"100%\" height=\"100%\">    <text x=\"50%\" y=\"9\" font-size=\"12px\" fill=\"rgb(255,255,255)\" dominant-baseline=\"middle\" text-anchor=\"middle\">and</text>  </svg></svg><line x1=\"84.92423629523994%\" x2=\"87.34544085054125%\" y1=\"60\" y2=\"60\" id=\"_fb_hiahjrmgvwiilfpwreon_ind_3\" style=\"stroke:rgb(0.0, 138.56128015770727, 250.76166088685727);stroke-width:2; opacity: 0\"/><text x=\"86.1348385728906%\" y=\"71\" font-size=\"12px\" fill=\"rgb(0.0, 138.56128015770727, 250.76166088685727)\" id=\"_fs_hiahjrmgvwiilfpwreon_ind_3\" style=\"opacity: 0\" dominant-baseline=\"middle\" text-anchor=\"middle\">-0.033</text><svg x=\"84.92423629523994%\" y=\"40\" height=\"20\" width=\"2.4212045553013155%\">  <svg x=\"0\" y=\"0\" width=\"100%\" height=\"100%\">    <text x=\"50%\" y=\"9\" font-size=\"12px\" fill=\"rgb(255,255,255)\" dominant-baseline=\"middle\" text-anchor=\"middle\">Here’s what you need to know</text>  </svg></svg><line x1=\"87.34544085054125%\" x2=\"89.57042279195703%\" y1=\"60\" y2=\"60\" id=\"_fb_hiahjrmgvwiilfpwreon_ind_12\" style=\"stroke:rgb(0.0, 138.56128015770727, 250.76166088685727);stroke-width:2; opacity: 0\"/><text x=\"88.45793182124913%\" y=\"71\" font-size=\"12px\" fill=\"rgb(0.0, 138.56128015770727, 250.76166088685727)\" id=\"_fs_hiahjrmgvwiilfpwreon_ind_12\" style=\"opacity: 0\" dominant-baseline=\"middle\" text-anchor=\"middle\">-0.031</text><svg x=\"87.34544085054125%\" y=\"40\" height=\"20\" width=\"2.224981941415777%\">  <svg x=\"0\" y=\"0\" width=\"100%\" height=\"100%\">    <text x=\"50%\" y=\"9\" font-size=\"12px\" fill=\"rgb(255,255,255)\" dominant-baseline=\"middle\" text-anchor=\"middle\">Masks help protect others from catching the virus,</text>  </svg></svg><line x1=\"89.57042279195703%\" x2=\"90.78538300515834%\" y1=\"60\" y2=\"60\" id=\"_fb_hiahjrmgvwiilfpwreon_ind_16\" style=\"stroke:rgb(0.0, 138.56128015770727, 250.76166088685727);stroke-width:2; opacity: 0\"/><text x=\"90.17790289855768%\" y=\"71\" font-size=\"12px\" fill=\"rgb(0.0, 138.56128015770727, 250.76166088685727)\" id=\"_fs_hiahjrmgvwiilfpwreon_ind_16\" style=\"opacity: 0\" dominant-baseline=\"middle\" text-anchor=\"middle\">-0.017</text><svg x=\"89.57042279195703%\" y=\"40\" height=\"20\" width=\"1.2149602132013086%\">  <svg x=\"0\" y=\"0\" width=\"100%\" height=\"100%\">    <text x=\"50%\" y=\"9\" font-size=\"12px\" fill=\"rgb(255,255,255)\" dominant-baseline=\"middle\" text-anchor=\"middle\">’t do much.</text>  </svg></svg><line x1=\"90.78538300515834%\" x2=\"91.66666666666664%\" y1=\"60\" y2=\"60\" id=\"_fb_hiahjrmgvwiilfpwreon_ind_13\" style=\"stroke:rgb(0.0, 138.56128015770727, 250.76166088685727);stroke-width:2; opacity: 0\"/><text x=\"91.22602483591248%\" y=\"71\" font-size=\"12px\" fill=\"rgb(0.0, 138.56128015770727, 250.76166088685727)\" id=\"_fs_hiahjrmgvwiilfpwreon_ind_13\" style=\"opacity: 0\" dominant-baseline=\"middle\" text-anchor=\"middle\">-0.012</text><svg x=\"90.78538300515834%\" y=\"40\" height=\"20\" width=\"0.8812836615083057%\">  <svg x=\"0\" y=\"0\" width=\"100%\" height=\"100%\">    <text x=\"50%\" y=\"9\" font-size=\"12px\" fill=\"rgb(255,255,255)\" dominant-baseline=\"middle\" text-anchor=\"middle\">but</text>  </svg></svg><line x1=\"91.66666666666664%\" x2=\"91.66666666666666%\" y1=\"60\" y2=\"60\" id=\"_fb_hiahjrmgvwiilfpwreon_ind_25\" style=\"stroke:rgb(0.0, 138.56128015770727, 250.76166088685727);stroke-width:2; opacity: 0\"/><text x=\"91.66666666666666%\" y=\"71\" font-size=\"12px\" fill=\"rgb(0.0, 138.56128015770727, 250.76166088685727)\" id=\"_fs_hiahjrmgvwiilfpwreon_ind_25\" style=\"opacity: 0\" dominant-baseline=\"middle\" text-anchor=\"middle\">-0.0</text><svg x=\"91.66666666666664%\" y=\"40\" height=\"20\" width=\"1.4210854715202004e-14%\">  <svg x=\"0\" y=\"0\" width=\"100%\" height=\"100%\">    <text x=\"50%\" y=\"9\" font-size=\"12px\" fill=\"rgb(255,255,255)\" dominant-baseline=\"middle\" text-anchor=\"middle\"></text>  </svg></svg><line x1=\"91.66666666666666%\" x2=\"91.66666666666667%\" y1=\"60\" y2=\"60\" id=\"_fb_hiahjrmgvwiilfpwreon_ind_0\" style=\"stroke:rgb(0.0, 138.56128015770727, 250.76166088685727);stroke-width:2; opacity: 0\"/><text x=\"91.66666666666666%\" y=\"71\" font-size=\"12px\" fill=\"rgb(0.0, 138.56128015770727, 250.76166088685727)\" id=\"_fs_hiahjrmgvwiilfpwreon_ind_0\" style=\"opacity: 0\" dominant-baseline=\"middle\" text-anchor=\"middle\">-0.0</text><svg x=\"91.66666666666666%\" y=\"40\" height=\"20\" width=\"1.4210854715202004e-14%\">  <svg x=\"0\" y=\"0\" width=\"100%\" height=\"100%\">    <text x=\"50%\" y=\"9\" font-size=\"12px\" fill=\"rgb(255,255,255)\" dominant-baseline=\"middle\" text-anchor=\"middle\"></text>  </svg></svg><line x1=\"91.66666666666667%\" x2=\"91.66666666666667%\" y1=\"60\" y2=\"60\" id=\"_fb_hiahjrmgvwiilfpwreon_ind_23\" style=\"stroke:rgb(0.0, 138.56128015770727, 250.76166088685727);stroke-width:2; opacity: 0\"/><text x=\"91.66666666666667%\" y=\"71\" font-size=\"12px\" fill=\"rgb(0.0, 138.56128015770727, 250.76166088685727)\" id=\"_fs_hiahjrmgvwiilfpwreon_ind_23\" style=\"opacity: 0\" dominant-baseline=\"middle\" text-anchor=\"middle\">-0.0</text><svg x=\"91.66666666666667%\" y=\"40\" height=\"20\" width=\"0.0%\">  <svg x=\"0\" y=\"0\" width=\"100%\" height=\"100%\">    <text x=\"50%\" y=\"9\" font-size=\"12px\" fill=\"rgb(255,255,255)\" dominant-baseline=\"middle\" text-anchor=\"middle\">DO consider taking extra precautions and staying out of public places if you’re over 60 years old, or have a condition, as you have a higher risk of developing the disease. Note that as of now, the highest-risk groups appear to be seniors and people with preexisting conditions like heart disease, chronic respiratory diseases, and diabetes. DON’T assume young people won’t get gravely ill or even die. As of March 16, 38% of all hospitalizations were of people 20-to-54 years old.</text>  </svg></svg><line x1=\"91.66666666666667%\" x2=\"91.66666666666667%\" y1=\"60\" y2=\"60\" id=\"_fb_hiahjrmgvwiilfpwreon_ind_24\" style=\"stroke:rgb(0.0, 138.56128015770727, 250.76166088685727);stroke-width:2; opacity: 0\"/><text x=\"91.66666666666667%\" y=\"71\" font-size=\"12px\" fill=\"rgb(0.0, 138.56128015770727, 250.76166088685727)\" id=\"_fs_hiahjrmgvwiilfpwreon_ind_24\" style=\"opacity: 0\" dominant-baseline=\"middle\" text-anchor=\"middle\">-0.0</text><svg x=\"91.66666666666667%\" y=\"40\" height=\"20\" width=\"0.0%\">  <svg x=\"0\" y=\"0\" width=\"100%\" height=\"100%\">    <text x=\"50%\" y=\"9\" font-size=\"12px\" fill=\"rgb(255,255,255)\" dominant-baseline=\"middle\" text-anchor=\"middle\">DO assume you’ve been exposed, if you live in an area with a lot of community transmission. That’s what New Yorkers have been told. DON’T travel if you have a fever. If you get sick on flight, tell crew immediately. When you get home, contact a health professional.</text>  </svg></svg><g transform=\"translate(-8,0)\">  <svg x=\"44.283656300442274%\" y=\"40\" height=\"18\" overflow=\"visible\" width=\"30\">    <path d=\"M 8 -9 l -6 18 L 8 25\" fill=\"none\" style=\"stroke:rgb(0.0, 138.56128015770727, 250.76166088685727);stroke-width:2\" />  </svg></g><g transform=\"translate(-10,0)\">  <svg x=\"44.283656300442274%\" y=\"40\" height=\"18\" overflow=\"visible\" width=\"30\">    <path d=\"M 8 -9 l -6 18 L 8 25\" fill=\"none\" style=\"stroke:rgb(0.0, 138.56128015770727, 250.76166088685727);stroke-width:2\" />  </svg></g><g transform=\"translate(-12,0)\">  <svg x=\"44.283656300442274%\" y=\"40\" height=\"18\" overflow=\"visible\" width=\"30\">    <path d=\"M 8 -9 l -6 18 L 8 25\" fill=\"none\" style=\"stroke:rgb(0.0, 138.56128015770727, 250.76166088685727);stroke-width:2\" />  </svg></g><g transform=\"translate(-14,0)\">  <svg x=\"44.283656300442274%\" y=\"40\" height=\"18\" overflow=\"visible\" width=\"30\">    <path d=\"M 8 -9 l -6 18 L 8 25\" fill=\"none\" style=\"stroke:rgb(0.0, 138.56128015770727, 250.76166088685727);stroke-width:2\" />  </svg></g><g transform=\"translate(2,0)\">  <svg x=\"44.283656300442274%\" y=\"40\" height=\"18\" overflow=\"visible\" width=\"30\">    <path d=\"M 8 -9 l -6 18 L 8 25\" fill=\"none\" style=\"stroke:rgb(0.0, 138.56128015770727, 250.76166088685727);stroke-width:2\" />  </svg></g><g transform=\"translate(0,0)\">  <svg x=\"44.283656300442274%\" y=\"40\" height=\"18\" overflow=\"visible\" width=\"30\">    <path d=\"M 8 -9 l -6 18 L 8 25\" fill=\"none\" style=\"stroke:rgb(0.0, 138.56128015770727, 250.76166088685727);stroke-width:2\" />  </svg></g><g transform=\"translate(-2,0)\">  <svg x=\"44.283656300442274%\" y=\"40\" height=\"18\" overflow=\"visible\" width=\"30\">    <path d=\"M 8 -9 l -6 18 L 8 25\" fill=\"none\" style=\"stroke:rgb(0.0, 138.56128015770727, 250.76166088685727);stroke-width:2\" />  </svg></g><g transform=\"translate(-4,0)\">  <svg x=\"44.283656300442274%\" y=\"40\" height=\"18\" overflow=\"visible\" width=\"30\">    <path d=\"M 8 -9 l -6 18 L 8 25\" fill=\"none\" style=\"stroke:rgb(0.0, 138.56128015770727, 250.76166088685727);stroke-width:2\" />  </svg></g><g transform=\"translate(-8,0)\">  <svg x=\"50.775962358849185%\" y=\"40\" height=\"18\" overflow=\"visible\" width=\"30\">    <path d=\"M 8 -9 l -6 18 L 8 25\" fill=\"none\" style=\"stroke:rgb(0.0, 138.56128015770727, 250.76166088685727);stroke-width:2\" />  </svg></g><g transform=\"translate(-10,0)\">  <svg x=\"50.775962358849185%\" y=\"40\" height=\"18\" overflow=\"visible\" width=\"30\">    <path d=\"M 8 -9 l -6 18 L 8 25\" fill=\"none\" style=\"stroke:rgb(0.0, 138.56128015770727, 250.76166088685727);stroke-width:2\" />  </svg></g><g transform=\"translate(-12,0)\">  <svg x=\"50.775962358849185%\" y=\"40\" height=\"18\" overflow=\"visible\" width=\"30\">    <path d=\"M 8 -9 l -6 18 L 8 25\" fill=\"none\" style=\"stroke:rgb(0.0, 138.56128015770727, 250.76166088685727);stroke-width:2\" />  </svg></g><g transform=\"translate(-14,0)\">  <svg x=\"50.775962358849185%\" y=\"40\" height=\"18\" overflow=\"visible\" width=\"30\">    <path d=\"M 8 -9 l -6 18 L 8 25\" fill=\"none\" style=\"stroke:rgb(0.0, 138.56128015770727, 250.76166088685727);stroke-width:2\" />  </svg></g><g transform=\"translate(2,0)\">  <svg x=\"50.775962358849185%\" y=\"40\" height=\"18\" overflow=\"visible\" width=\"30\">    <path d=\"M 8 -9 l -6 18 L 8 25\" fill=\"none\" style=\"stroke:rgb(0.0, 138.56128015770727, 250.76166088685727);stroke-width:2\" />  </svg></g><g transform=\"translate(0,0)\">  <svg x=\"50.775962358849185%\" y=\"40\" height=\"18\" overflow=\"visible\" width=\"30\">    <path d=\"M 8 -9 l -6 18 L 8 25\" fill=\"none\" style=\"stroke:rgb(0.0, 138.56128015770727, 250.76166088685727);stroke-width:2\" />  </svg></g><g transform=\"translate(-2,0)\">  <svg x=\"50.775962358849185%\" y=\"40\" height=\"18\" overflow=\"visible\" width=\"30\">    <path d=\"M 8 -9 l -6 18 L 8 25\" fill=\"none\" style=\"stroke:rgb(0.0, 138.56128015770727, 250.76166088685727);stroke-width:2\" />  </svg></g><g transform=\"translate(-4,0)\">  <svg x=\"50.775962358849185%\" y=\"40\" height=\"18\" overflow=\"visible\" width=\"30\">    <path d=\"M 8 -9 l -6 18 L 8 25\" fill=\"none\" style=\"stroke:rgb(0.0, 138.56128015770727, 250.76166088685727);stroke-width:2\" />  </svg></g><g transform=\"translate(-8,0)\">  <svg x=\"57.13663999796149%\" y=\"40\" height=\"18\" overflow=\"visible\" width=\"30\">    <path d=\"M 8 -9 l -6 18 L 8 25\" fill=\"none\" style=\"stroke:rgb(0.0, 138.56128015770727, 250.76166088685727);stroke-width:2\" />  </svg></g><g transform=\"translate(-10,0)\">  <svg x=\"57.13663999796149%\" y=\"40\" height=\"18\" overflow=\"visible\" width=\"30\">    <path d=\"M 8 -9 l -6 18 L 8 25\" fill=\"none\" style=\"stroke:rgb(0.0, 138.56128015770727, 250.76166088685727);stroke-width:2\" />  </svg></g><g transform=\"translate(-12,0)\">  <svg x=\"57.13663999796149%\" y=\"40\" height=\"18\" overflow=\"visible\" width=\"30\">    <path d=\"M 8 -9 l -6 18 L 8 25\" fill=\"none\" style=\"stroke:rgb(0.0, 138.56128015770727, 250.76166088685727);stroke-width:2\" />  </svg></g><g transform=\"translate(-14,0)\">  <svg x=\"57.13663999796149%\" y=\"40\" height=\"18\" overflow=\"visible\" width=\"30\">    <path d=\"M 8 -9 l -6 18 L 8 25\" fill=\"none\" style=\"stroke:rgb(0.0, 138.56128015770727, 250.76166088685727);stroke-width:2\" />  </svg></g><g transform=\"translate(2,0)\">  <svg x=\"57.13663999796149%\" y=\"40\" height=\"18\" overflow=\"visible\" width=\"30\">    <path d=\"M 8 -9 l -6 18 L 8 25\" fill=\"none\" style=\"stroke:rgb(0.0, 138.56128015770727, 250.76166088685727);stroke-width:2\" />  </svg></g><g transform=\"translate(0,0)\">  <svg x=\"57.13663999796149%\" y=\"40\" height=\"18\" overflow=\"visible\" width=\"30\">    <path d=\"M 8 -9 l -6 18 L 8 25\" fill=\"none\" style=\"stroke:rgb(0.0, 138.56128015770727, 250.76166088685727);stroke-width:2\" />  </svg></g><g transform=\"translate(-2,0)\">  <svg x=\"57.13663999796149%\" y=\"40\" height=\"18\" overflow=\"visible\" width=\"30\">    <path d=\"M 8 -9 l -6 18 L 8 25\" fill=\"none\" style=\"stroke:rgb(0.0, 138.56128015770727, 250.76166088685727);stroke-width:2\" />  </svg></g><g transform=\"translate(-4,0)\">  <svg x=\"57.13663999796149%\" y=\"40\" height=\"18\" overflow=\"visible\" width=\"30\">    <path d=\"M 8 -9 l -6 18 L 8 25\" fill=\"none\" style=\"stroke:rgb(0.0, 138.56128015770727, 250.76166088685727);stroke-width:2\" />  </svg></g><g transform=\"translate(-8,0)\">  <svg x=\"62.561194388285124%\" y=\"40\" height=\"18\" overflow=\"visible\" width=\"30\">    <path d=\"M 8 -9 l -6 18 L 8 25\" fill=\"none\" style=\"stroke:rgb(0.0, 138.56128015770727, 250.76166088685727);stroke-width:2\" />  </svg></g><g transform=\"translate(-10,0)\">  <svg x=\"62.561194388285124%\" y=\"40\" height=\"18\" overflow=\"visible\" width=\"30\">    <path d=\"M 8 -9 l -6 18 L 8 25\" fill=\"none\" style=\"stroke:rgb(0.0, 138.56128015770727, 250.76166088685727);stroke-width:2\" />  </svg></g><g transform=\"translate(-12,0)\">  <svg x=\"62.561194388285124%\" y=\"40\" height=\"18\" overflow=\"visible\" width=\"30\">    <path d=\"M 8 -9 l -6 18 L 8 25\" fill=\"none\" style=\"stroke:rgb(0.0, 138.56128015770727, 250.76166088685727);stroke-width:2\" />  </svg></g><g transform=\"translate(-14,0)\">  <svg x=\"62.561194388285124%\" y=\"40\" height=\"18\" overflow=\"visible\" width=\"30\">    <path d=\"M 8 -9 l -6 18 L 8 25\" fill=\"none\" style=\"stroke:rgb(0.0, 138.56128015770727, 250.76166088685727);stroke-width:2\" />  </svg></g><g transform=\"translate(2,0)\">  <svg x=\"62.561194388285124%\" y=\"40\" height=\"18\" overflow=\"visible\" width=\"30\">    <path d=\"M 8 -9 l -6 18 L 8 25\" fill=\"none\" style=\"stroke:rgb(0.0, 138.56128015770727, 250.76166088685727);stroke-width:2\" />  </svg></g><g transform=\"translate(0,0)\">  <svg x=\"62.561194388285124%\" y=\"40\" height=\"18\" overflow=\"visible\" width=\"30\">    <path d=\"M 8 -9 l -6 18 L 8 25\" fill=\"none\" style=\"stroke:rgb(0.0, 138.56128015770727, 250.76166088685727);stroke-width:2\" />  </svg></g><g transform=\"translate(-2,0)\">  <svg x=\"62.561194388285124%\" y=\"40\" height=\"18\" overflow=\"visible\" width=\"30\">    <path d=\"M 8 -9 l -6 18 L 8 25\" fill=\"none\" style=\"stroke:rgb(0.0, 138.56128015770727, 250.76166088685727);stroke-width:2\" />  </svg></g><g transform=\"translate(-4,0)\">  <svg x=\"62.561194388285124%\" y=\"40\" height=\"18\" overflow=\"visible\" width=\"30\">    <path d=\"M 8 -9 l -6 18 L 8 25\" fill=\"none\" style=\"stroke:rgb(0.0, 138.56128015770727, 250.76166088685727);stroke-width:2\" />  </svg></g><g transform=\"translate(-8,0)\">  <svg x=\"67.95870475447602%\" y=\"40\" height=\"18\" overflow=\"visible\" width=\"30\">    <path d=\"M 8 -9 l -6 18 L 8 25\" fill=\"none\" style=\"stroke:rgb(0.0, 138.56128015770727, 250.76166088685727);stroke-width:2\" />  </svg></g><g transform=\"translate(-10,0)\">  <svg x=\"67.95870475447602%\" y=\"40\" height=\"18\" overflow=\"visible\" width=\"30\">    <path d=\"M 8 -9 l -6 18 L 8 25\" fill=\"none\" style=\"stroke:rgb(0.0, 138.56128015770727, 250.76166088685727);stroke-width:2\" />  </svg></g><g transform=\"translate(-12,0)\">  <svg x=\"67.95870475447602%\" y=\"40\" height=\"18\" overflow=\"visible\" width=\"30\">    <path d=\"M 8 -9 l -6 18 L 8 25\" fill=\"none\" style=\"stroke:rgb(0.0, 138.56128015770727, 250.76166088685727);stroke-width:2\" />  </svg></g><g transform=\"translate(-14,0)\">  <svg x=\"67.95870475447602%\" y=\"40\" height=\"18\" overflow=\"visible\" width=\"30\">    <path d=\"M 8 -9 l -6 18 L 8 25\" fill=\"none\" style=\"stroke:rgb(0.0, 138.56128015770727, 250.76166088685727);stroke-width:2\" />  </svg></g><g transform=\"translate(2,0)\">  <svg x=\"67.95870475447602%\" y=\"40\" height=\"18\" overflow=\"visible\" width=\"30\">    <path d=\"M 8 -9 l -6 18 L 8 25\" fill=\"none\" style=\"stroke:rgb(0.0, 138.56128015770727, 250.76166088685727);stroke-width:2\" />  </svg></g><g transform=\"translate(0,0)\">  <svg x=\"67.95870475447602%\" y=\"40\" height=\"18\" overflow=\"visible\" width=\"30\">    <path d=\"M 8 -9 l -6 18 L 8 25\" fill=\"none\" style=\"stroke:rgb(0.0, 138.56128015770727, 250.76166088685727);stroke-width:2\" />  </svg></g><g transform=\"translate(-2,0)\">  <svg x=\"67.95870475447602%\" y=\"40\" height=\"18\" overflow=\"visible\" width=\"30\">    <path d=\"M 8 -9 l -6 18 L 8 25\" fill=\"none\" style=\"stroke:rgb(0.0, 138.56128015770727, 250.76166088685727);stroke-width:2\" />  </svg></g><g transform=\"translate(-4,0)\">  <svg x=\"67.95870475447602%\" y=\"40\" height=\"18\" overflow=\"visible\" width=\"30\">    <path d=\"M 8 -9 l -6 18 L 8 25\" fill=\"none\" style=\"stroke:rgb(0.0, 138.56128015770727, 250.76166088685727);stroke-width:2\" />  </svg></g><g transform=\"translate(-8,0)\">  <svg x=\"73.1556753381853%\" y=\"40\" height=\"18\" overflow=\"visible\" width=\"30\">    <path d=\"M 8 -9 l -6 18 L 8 25\" fill=\"none\" style=\"stroke:rgb(0.0, 138.56128015770727, 250.76166088685727);stroke-width:2\" />  </svg></g><g transform=\"translate(-10,0)\">  <svg x=\"73.1556753381853%\" y=\"40\" height=\"18\" overflow=\"visible\" width=\"30\">    <path d=\"M 8 -9 l -6 18 L 8 25\" fill=\"none\" style=\"stroke:rgb(0.0, 138.56128015770727, 250.76166088685727);stroke-width:2\" />  </svg></g><g transform=\"translate(-12,0)\">  <svg x=\"73.1556753381853%\" y=\"40\" height=\"18\" overflow=\"visible\" width=\"30\">    <path d=\"M 8 -9 l -6 18 L 8 25\" fill=\"none\" style=\"stroke:rgb(0.0, 138.56128015770727, 250.76166088685727);stroke-width:2\" />  </svg></g><g transform=\"translate(-14,0)\">  <svg x=\"73.1556753381853%\" y=\"40\" height=\"18\" overflow=\"visible\" width=\"30\">    <path d=\"M 8 -9 l -6 18 L 8 25\" fill=\"none\" style=\"stroke:rgb(0.0, 138.56128015770727, 250.76166088685727);stroke-width:2\" />  </svg></g><g transform=\"translate(2,0)\">  <svg x=\"73.1556753381853%\" y=\"40\" height=\"18\" overflow=\"visible\" width=\"30\">    <path d=\"M 8 -9 l -6 18 L 8 25\" fill=\"none\" style=\"stroke:rgb(0.0, 138.56128015770727, 250.76166088685727);stroke-width:2\" />  </svg></g><g transform=\"translate(0,0)\">  <svg x=\"73.1556753381853%\" y=\"40\" height=\"18\" overflow=\"visible\" width=\"30\">    <path d=\"M 8 -9 l -6 18 L 8 25\" fill=\"none\" style=\"stroke:rgb(0.0, 138.56128015770727, 250.76166088685727);stroke-width:2\" />  </svg></g><g transform=\"translate(-2,0)\">  <svg x=\"73.1556753381853%\" y=\"40\" height=\"18\" overflow=\"visible\" width=\"30\">    <path d=\"M 8 -9 l -6 18 L 8 25\" fill=\"none\" style=\"stroke:rgb(0.0, 138.56128015770727, 250.76166088685727);stroke-width:2\" />  </svg></g><g transform=\"translate(-4,0)\">  <svg x=\"73.1556753381853%\" y=\"40\" height=\"18\" overflow=\"visible\" width=\"30\">    <path d=\"M 8 -9 l -6 18 L 8 25\" fill=\"none\" style=\"stroke:rgb(0.0, 138.56128015770727, 250.76166088685727);stroke-width:2\" />  </svg></g><g transform=\"translate(-8,0)\">  <svg x=\"76.62248611672338%\" y=\"40\" height=\"18\" overflow=\"visible\" width=\"30\">    <path d=\"M 8 -9 l -6 18 L 8 25\" fill=\"none\" style=\"stroke:rgb(0.0, 138.56128015770727, 250.76166088685727);stroke-width:2\" />  </svg></g><g transform=\"translate(-10,0)\">  <svg x=\"76.62248611672338%\" y=\"40\" height=\"18\" overflow=\"visible\" width=\"30\">    <path d=\"M 8 -9 l -6 18 L 8 25\" fill=\"none\" style=\"stroke:rgb(0.0, 138.56128015770727, 250.76166088685727);stroke-width:2\" />  </svg></g><g transform=\"translate(-12,0)\">  <svg x=\"76.62248611672338%\" y=\"40\" height=\"18\" overflow=\"visible\" width=\"30\">    <path d=\"M 8 -9 l -6 18 L 8 25\" fill=\"none\" style=\"stroke:rgb(0.0, 138.56128015770727, 250.76166088685727);stroke-width:2\" />  </svg></g><g transform=\"translate(-14,0)\">  <svg x=\"76.62248611672338%\" y=\"40\" height=\"18\" overflow=\"visible\" width=\"30\">    <path d=\"M 8 -9 l -6 18 L 8 25\" fill=\"none\" style=\"stroke:rgb(0.0, 138.56128015770727, 250.76166088685727);stroke-width:2\" />  </svg></g><g transform=\"translate(2,0)\">  <svg x=\"76.62248611672338%\" y=\"40\" height=\"18\" overflow=\"visible\" width=\"30\">    <path d=\"M 8 -9 l -6 18 L 8 25\" fill=\"none\" style=\"stroke:rgb(0.0, 138.56128015770727, 250.76166088685727);stroke-width:2\" />  </svg></g><g transform=\"translate(0,0)\">  <svg x=\"76.62248611672338%\" y=\"40\" height=\"18\" overflow=\"visible\" width=\"30\">    <path d=\"M 8 -9 l -6 18 L 8 25\" fill=\"none\" style=\"stroke:rgb(0.0, 138.56128015770727, 250.76166088685727);stroke-width:2\" />  </svg></g><g transform=\"translate(-2,0)\">  <svg x=\"76.62248611672338%\" y=\"40\" height=\"18\" overflow=\"visible\" width=\"30\">    <path d=\"M 8 -9 l -6 18 L 8 25\" fill=\"none\" style=\"stroke:rgb(0.0, 138.56128015770727, 250.76166088685727);stroke-width:2\" />  </svg></g><g transform=\"translate(-4,0)\">  <svg x=\"76.62248611672338%\" y=\"40\" height=\"18\" overflow=\"visible\" width=\"30\">    <path d=\"M 8 -9 l -6 18 L 8 25\" fill=\"none\" style=\"stroke:rgb(0.0, 138.56128015770727, 250.76166088685727);stroke-width:2\" />  </svg></g><g transform=\"translate(-8,0)\">  <svg x=\"79.57671562985772%\" y=\"40\" height=\"18\" overflow=\"visible\" width=\"30\">    <path d=\"M 8 -9 l -6 18 L 8 25\" fill=\"none\" style=\"stroke:rgb(0.0, 138.56128015770727, 250.76166088685727);stroke-width:2\" />  </svg></g><g transform=\"translate(-10,0)\">  <svg x=\"79.57671562985772%\" y=\"40\" height=\"18\" overflow=\"visible\" width=\"30\">    <path d=\"M 8 -9 l -6 18 L 8 25\" fill=\"none\" style=\"stroke:rgb(0.0, 138.56128015770727, 250.76166088685727);stroke-width:2\" />  </svg></g><g transform=\"translate(-12,0)\">  <svg x=\"79.57671562985772%\" y=\"40\" height=\"18\" overflow=\"visible\" width=\"30\">    <path d=\"M 8 -9 l -6 18 L 8 25\" fill=\"none\" style=\"stroke:rgb(0.0, 138.56128015770727, 250.76166088685727);stroke-width:2\" />  </svg></g><g transform=\"translate(-14,0)\">  <svg x=\"79.57671562985772%\" y=\"40\" height=\"18\" overflow=\"visible\" width=\"30\">    <path d=\"M 8 -9 l -6 18 L 8 25\" fill=\"none\" style=\"stroke:rgb(0.0, 138.56128015770727, 250.76166088685727);stroke-width:2\" />  </svg></g><g transform=\"translate(2,0)\">  <svg x=\"79.57671562985772%\" y=\"40\" height=\"18\" overflow=\"visible\" width=\"30\">    <path d=\"M 8 -9 l -6 18 L 8 25\" fill=\"none\" style=\"stroke:rgb(0.0, 138.56128015770727, 250.76166088685727);stroke-width:2\" />  </svg></g><g transform=\"translate(0,0)\">  <svg x=\"79.57671562985772%\" y=\"40\" height=\"18\" overflow=\"visible\" width=\"30\">    <path d=\"M 8 -9 l -6 18 L 8 25\" fill=\"none\" style=\"stroke:rgb(0.0, 138.56128015770727, 250.76166088685727);stroke-width:2\" />  </svg></g><g transform=\"translate(-2,0)\">  <svg x=\"79.57671562985772%\" y=\"40\" height=\"18\" overflow=\"visible\" width=\"30\">    <path d=\"M 8 -9 l -6 18 L 8 25\" fill=\"none\" style=\"stroke:rgb(0.0, 138.56128015770727, 250.76166088685727);stroke-width:2\" />  </svg></g><g transform=\"translate(-4,0)\">  <svg x=\"79.57671562985772%\" y=\"40\" height=\"18\" overflow=\"visible\" width=\"30\">    <path d=\"M 8 -9 l -6 18 L 8 25\" fill=\"none\" style=\"stroke:rgb(0.0, 138.56128015770727, 250.76166088685727);stroke-width:2\" />  </svg></g><g transform=\"translate(-8,0)\">  <svg x=\"82.40425817709354%\" y=\"40\" height=\"18\" overflow=\"visible\" width=\"30\">    <path d=\"M 8 -9 l -6 18 L 8 25\" fill=\"none\" style=\"stroke:rgb(0.0, 138.56128015770727, 250.76166088685727);stroke-width:2\" />  </svg></g><g transform=\"translate(-10,0)\">  <svg x=\"82.40425817709354%\" y=\"40\" height=\"18\" overflow=\"visible\" width=\"30\">    <path d=\"M 8 -9 l -6 18 L 8 25\" fill=\"none\" style=\"stroke:rgb(0.0, 138.56128015770727, 250.76166088685727);stroke-width:2\" />  </svg></g><g transform=\"translate(-12,0)\">  <svg x=\"82.40425817709354%\" y=\"40\" height=\"18\" overflow=\"visible\" width=\"30\">    <path d=\"M 8 -9 l -6 18 L 8 25\" fill=\"none\" style=\"stroke:rgb(0.0, 138.56128015770727, 250.76166088685727);stroke-width:2\" />  </svg></g><g transform=\"translate(-14,0)\">  <svg x=\"82.40425817709354%\" y=\"40\" height=\"18\" overflow=\"visible\" width=\"30\">    <path d=\"M 8 -9 l -6 18 L 8 25\" fill=\"none\" style=\"stroke:rgb(0.0, 138.56128015770727, 250.76166088685727);stroke-width:2\" />  </svg></g><g transform=\"translate(2,0)\">  <svg x=\"82.40425817709354%\" y=\"40\" height=\"18\" overflow=\"visible\" width=\"30\">    <path d=\"M 8 -9 l -6 18 L 8 25\" fill=\"none\" style=\"stroke:rgb(0.0, 138.56128015770727, 250.76166088685727);stroke-width:2\" />  </svg></g><g transform=\"translate(0,0)\">  <svg x=\"82.40425817709354%\" y=\"40\" height=\"18\" overflow=\"visible\" width=\"30\">    <path d=\"M 8 -9 l -6 18 L 8 25\" fill=\"none\" style=\"stroke:rgb(0.0, 138.56128015770727, 250.76166088685727);stroke-width:2\" />  </svg></g><g transform=\"translate(-2,0)\">  <svg x=\"82.40425817709354%\" y=\"40\" height=\"18\" overflow=\"visible\" width=\"30\">    <path d=\"M 8 -9 l -6 18 L 8 25\" fill=\"none\" style=\"stroke:rgb(0.0, 138.56128015770727, 250.76166088685727);stroke-width:2\" />  </svg></g><g transform=\"translate(-4,0)\">  <svg x=\"82.40425817709354%\" y=\"40\" height=\"18\" overflow=\"visible\" width=\"30\">    <path d=\"M 8 -9 l -6 18 L 8 25\" fill=\"none\" style=\"stroke:rgb(0.0, 138.56128015770727, 250.76166088685727);stroke-width:2\" />  </svg></g><g transform=\"translate(-8,0)\">  <svg x=\"84.92423629523994%\" y=\"40\" height=\"18\" overflow=\"visible\" width=\"30\">    <path d=\"M 8 -9 l -6 18 L 8 25\" fill=\"none\" style=\"stroke:rgb(0.0, 138.56128015770727, 250.76166088685727);stroke-width:2\" />  </svg></g><g transform=\"translate(-10,0)\">  <svg x=\"84.92423629523994%\" y=\"40\" height=\"18\" overflow=\"visible\" width=\"30\">    <path d=\"M 8 -9 l -6 18 L 8 25\" fill=\"none\" style=\"stroke:rgb(0.0, 138.56128015770727, 250.76166088685727);stroke-width:2\" />  </svg></g><g transform=\"translate(-12,0)\">  <svg x=\"84.92423629523994%\" y=\"40\" height=\"18\" overflow=\"visible\" width=\"30\">    <path d=\"M 8 -9 l -6 18 L 8 25\" fill=\"none\" style=\"stroke:rgb(0.0, 138.56128015770727, 250.76166088685727);stroke-width:2\" />  </svg></g><g transform=\"translate(-14,0)\">  <svg x=\"84.92423629523994%\" y=\"40\" height=\"18\" overflow=\"visible\" width=\"30\">    <path d=\"M 8 -9 l -6 18 L 8 25\" fill=\"none\" style=\"stroke:rgb(0.0, 138.56128015770727, 250.76166088685727);stroke-width:2\" />  </svg></g><g transform=\"translate(2,0)\">  <svg x=\"84.92423629523994%\" y=\"40\" height=\"18\" overflow=\"visible\" width=\"30\">    <path d=\"M 8 -9 l -6 18 L 8 25\" fill=\"none\" style=\"stroke:rgb(0.0, 138.56128015770727, 250.76166088685727);stroke-width:2\" />  </svg></g><g transform=\"translate(0,0)\">  <svg x=\"84.92423629523994%\" y=\"40\" height=\"18\" overflow=\"visible\" width=\"30\">    <path d=\"M 8 -9 l -6 18 L 8 25\" fill=\"none\" style=\"stroke:rgb(0.0, 138.56128015770727, 250.76166088685727);stroke-width:2\" />  </svg></g><g transform=\"translate(-2,0)\">  <svg x=\"84.92423629523994%\" y=\"40\" height=\"18\" overflow=\"visible\" width=\"30\">    <path d=\"M 8 -9 l -6 18 L 8 25\" fill=\"none\" style=\"stroke:rgb(0.0, 138.56128015770727, 250.76166088685727);stroke-width:2\" />  </svg></g><g transform=\"translate(-4,0)\">  <svg x=\"84.92423629523994%\" y=\"40\" height=\"18\" overflow=\"visible\" width=\"30\">    <path d=\"M 8 -9 l -6 18 L 8 25\" fill=\"none\" style=\"stroke:rgb(0.0, 138.56128015770727, 250.76166088685727);stroke-width:2\" />  </svg></g><g transform=\"translate(-8,0)\">  <svg x=\"87.34544085054125%\" y=\"40\" height=\"18\" overflow=\"visible\" width=\"30\">    <path d=\"M 8 -9 l -6 18 L 8 25\" fill=\"none\" style=\"stroke:rgb(0.0, 138.56128015770727, 250.76166088685727);stroke-width:2\" />  </svg></g><g transform=\"translate(-10,0)\">  <svg x=\"87.34544085054125%\" y=\"40\" height=\"18\" overflow=\"visible\" width=\"30\">    <path d=\"M 8 -9 l -6 18 L 8 25\" fill=\"none\" style=\"stroke:rgb(0.0, 138.56128015770727, 250.76166088685727);stroke-width:2\" />  </svg></g><g transform=\"translate(-12,0)\">  <svg x=\"87.34544085054125%\" y=\"40\" height=\"18\" overflow=\"visible\" width=\"30\">    <path d=\"M 8 -9 l -6 18 L 8 25\" fill=\"none\" style=\"stroke:rgb(0.0, 138.56128015770727, 250.76166088685727);stroke-width:2\" />  </svg></g><g transform=\"translate(-14,0)\">  <svg x=\"87.34544085054125%\" y=\"40\" height=\"18\" overflow=\"visible\" width=\"30\">    <path d=\"M 8 -9 l -6 18 L 8 25\" fill=\"none\" style=\"stroke:rgb(0.0, 138.56128015770727, 250.76166088685727);stroke-width:2\" />  </svg></g><g transform=\"translate(2,0)\">  <svg x=\"87.34544085054125%\" y=\"40\" height=\"18\" overflow=\"visible\" width=\"30\">    <path d=\"M 8 -9 l -6 18 L 8 25\" fill=\"none\" style=\"stroke:rgb(0.0, 138.56128015770727, 250.76166088685727);stroke-width:2\" />  </svg></g><g transform=\"translate(0,0)\">  <svg x=\"87.34544085054125%\" y=\"40\" height=\"18\" overflow=\"visible\" width=\"30\">    <path d=\"M 8 -9 l -6 18 L 8 25\" fill=\"none\" style=\"stroke:rgb(0.0, 138.56128015770727, 250.76166088685727);stroke-width:2\" />  </svg></g><g transform=\"translate(-2,0)\">  <svg x=\"87.34544085054125%\" y=\"40\" height=\"18\" overflow=\"visible\" width=\"30\">    <path d=\"M 8 -9 l -6 18 L 8 25\" fill=\"none\" style=\"stroke:rgb(0.0, 138.56128015770727, 250.76166088685727);stroke-width:2\" />  </svg></g><g transform=\"translate(-4,0)\">  <svg x=\"87.34544085054125%\" y=\"40\" height=\"18\" overflow=\"visible\" width=\"30\">    <path d=\"M 8 -9 l -6 18 L 8 25\" fill=\"none\" style=\"stroke:rgb(0.0, 138.56128015770727, 250.76166088685727);stroke-width:2\" />  </svg></g><g transform=\"translate(-8,0)\">  <svg x=\"89.57042279195703%\" y=\"40\" height=\"18\" overflow=\"visible\" width=\"30\">    <path d=\"M 8 -9 l -6 18 L 8 25\" fill=\"none\" style=\"stroke:rgb(0.0, 138.56128015770727, 250.76166088685727);stroke-width:2\" />  </svg></g><g transform=\"translate(-10,0)\">  <svg x=\"89.57042279195703%\" y=\"40\" height=\"18\" overflow=\"visible\" width=\"30\">    <path d=\"M 8 -9 l -6 18 L 8 25\" fill=\"none\" style=\"stroke:rgb(0.0, 138.56128015770727, 250.76166088685727);stroke-width:2\" />  </svg></g><g transform=\"translate(-12,0)\">  <svg x=\"89.57042279195703%\" y=\"40\" height=\"18\" overflow=\"visible\" width=\"30\">    <path d=\"M 8 -9 l -6 18 L 8 25\" fill=\"none\" style=\"stroke:rgb(0.0, 138.56128015770727, 250.76166088685727);stroke-width:2\" />  </svg></g><g transform=\"translate(-14,0)\">  <svg x=\"89.57042279195703%\" y=\"40\" height=\"18\" overflow=\"visible\" width=\"30\">    <path d=\"M 8 -9 l -6 18 L 8 25\" fill=\"none\" style=\"stroke:rgb(0.0, 138.56128015770727, 250.76166088685727);stroke-width:2\" />  </svg></g><g transform=\"translate(2,0)\">  <svg x=\"89.57042279195703%\" y=\"40\" height=\"18\" overflow=\"visible\" width=\"30\">    <path d=\"M 8 -9 l -6 18 L 8 25\" fill=\"none\" style=\"stroke:rgb(0.0, 138.56128015770727, 250.76166088685727);stroke-width:2\" />  </svg></g><g transform=\"translate(0,0)\">  <svg x=\"89.57042279195703%\" y=\"40\" height=\"18\" overflow=\"visible\" width=\"30\">    <path d=\"M 8 -9 l -6 18 L 8 25\" fill=\"none\" style=\"stroke:rgb(0.0, 138.56128015770727, 250.76166088685727);stroke-width:2\" />  </svg></g><g transform=\"translate(-2,0)\">  <svg x=\"89.57042279195703%\" y=\"40\" height=\"18\" overflow=\"visible\" width=\"30\">    <path d=\"M 8 -9 l -6 18 L 8 25\" fill=\"none\" style=\"stroke:rgb(0.0, 138.56128015770727, 250.76166088685727);stroke-width:2\" />  </svg></g><g transform=\"translate(-4,0)\">  <svg x=\"89.57042279195703%\" y=\"40\" height=\"18\" overflow=\"visible\" width=\"30\">    <path d=\"M 8 -9 l -6 18 L 8 25\" fill=\"none\" style=\"stroke:rgb(0.0, 138.56128015770727, 250.76166088685727);stroke-width:2\" />  </svg></g><g transform=\"translate(-8,0)\">  <svg x=\"90.78538300515834%\" y=\"40\" height=\"18\" overflow=\"visible\" width=\"30\">    <path d=\"M 8 -9 l -6 18 L 8 25\" fill=\"none\" style=\"stroke:rgb(0.0, 138.56128015770727, 250.76166088685727);stroke-width:2\" />  </svg></g><g transform=\"translate(-10,0)\">  <svg x=\"90.78538300515834%\" y=\"40\" height=\"18\" overflow=\"visible\" width=\"30\">    <path d=\"M 8 -9 l -6 18 L 8 25\" fill=\"none\" style=\"stroke:rgb(0.0, 138.56128015770727, 250.76166088685727);stroke-width:2\" />  </svg></g><g transform=\"translate(-12,0)\">  <svg x=\"90.78538300515834%\" y=\"40\" height=\"18\" overflow=\"visible\" width=\"30\">    <path d=\"M 8 -9 l -6 18 L 8 25\" fill=\"none\" style=\"stroke:rgb(0.0, 138.56128015770727, 250.76166088685727);stroke-width:2\" />  </svg></g><g transform=\"translate(-14,0)\">  <svg x=\"90.78538300515834%\" y=\"40\" height=\"18\" overflow=\"visible\" width=\"30\">    <path d=\"M 8 -9 l -6 18 L 8 25\" fill=\"none\" style=\"stroke:rgb(0.0, 138.56128015770727, 250.76166088685727);stroke-width:2\" />  </svg></g><g transform=\"translate(2,0)\">  <svg x=\"90.78538300515834%\" y=\"40\" height=\"18\" overflow=\"visible\" width=\"30\">    <path d=\"M 8 -9 l -6 18 L 8 25\" fill=\"none\" style=\"stroke:rgb(0.0, 138.56128015770727, 250.76166088685727);stroke-width:2\" />  </svg></g><g transform=\"translate(0,0)\">  <svg x=\"90.78538300515834%\" y=\"40\" height=\"18\" overflow=\"visible\" width=\"30\">    <path d=\"M 8 -9 l -6 18 L 8 25\" fill=\"none\" style=\"stroke:rgb(0.0, 138.56128015770727, 250.76166088685727);stroke-width:2\" />  </svg></g><g transform=\"translate(-2,0)\">  <svg x=\"90.78538300515834%\" y=\"40\" height=\"18\" overflow=\"visible\" width=\"30\">    <path d=\"M 8 -9 l -6 18 L 8 25\" fill=\"none\" style=\"stroke:rgb(0.0, 138.56128015770727, 250.76166088685727);stroke-width:2\" />  </svg></g><g transform=\"translate(-4,0)\">  <svg x=\"90.78538300515834%\" y=\"40\" height=\"18\" overflow=\"visible\" width=\"30\">    <path d=\"M 8 -9 l -6 18 L 8 25\" fill=\"none\" style=\"stroke:rgb(0.0, 138.56128015770727, 250.76166088685727);stroke-width:2\" />  </svg></g><g transform=\"translate(-8,0)\">  <svg x=\"91.66666666666664%\" y=\"40\" height=\"18\" overflow=\"visible\" width=\"30\">    <path d=\"M 8 -9 l -6 18 L 8 25\" fill=\"none\" style=\"stroke:rgb(0.0, 138.56128015770727, 250.76166088685727);stroke-width:2\" />  </svg></g><g transform=\"translate(-10,0)\">  <svg x=\"91.66666666666664%\" y=\"40\" height=\"18\" overflow=\"visible\" width=\"30\">    <path d=\"M 8 -9 l -6 18 L 8 25\" fill=\"none\" style=\"stroke:rgb(0.0, 138.56128015770727, 250.76166088685727);stroke-width:2\" />  </svg></g><g transform=\"translate(-12,0)\">  <svg x=\"91.66666666666664%\" y=\"40\" height=\"18\" overflow=\"visible\" width=\"30\">    <path d=\"M 8 -9 l -6 18 L 8 25\" fill=\"none\" style=\"stroke:rgb(0.0, 138.56128015770727, 250.76166088685727);stroke-width:2\" />  </svg></g><g transform=\"translate(-14,0)\">  <svg x=\"91.66666666666664%\" y=\"40\" height=\"18\" overflow=\"visible\" width=\"30\">    <path d=\"M 8 -9 l -6 18 L 8 25\" fill=\"none\" style=\"stroke:rgb(0.0, 138.56128015770727, 250.76166088685727);stroke-width:2\" />  </svg></g><g transform=\"translate(2,0)\">  <svg x=\"91.66666666666664%\" y=\"40\" height=\"18\" overflow=\"visible\" width=\"30\">    <path d=\"M 8 -9 l -6 18 L 8 25\" fill=\"none\" style=\"stroke:rgb(0.0, 138.56128015770727, 250.76166088685727);stroke-width:2\" />  </svg></g><g transform=\"translate(0,0)\">  <svg x=\"91.66666666666664%\" y=\"40\" height=\"18\" overflow=\"visible\" width=\"30\">    <path d=\"M 8 -9 l -6 18 L 8 25\" fill=\"none\" style=\"stroke:rgb(0.0, 138.56128015770727, 250.76166088685727);stroke-width:2\" />  </svg></g><g transform=\"translate(-2,0)\">  <svg x=\"91.66666666666664%\" y=\"40\" height=\"18\" overflow=\"visible\" width=\"30\">    <path d=\"M 8 -9 l -6 18 L 8 25\" fill=\"none\" style=\"stroke:rgb(0.0, 138.56128015770727, 250.76166088685727);stroke-width:2\" />  </svg></g><g transform=\"translate(-4,0)\">  <svg x=\"91.66666666666664%\" y=\"40\" height=\"18\" overflow=\"visible\" width=\"30\">    <path d=\"M 8 -9 l -6 18 L 8 25\" fill=\"none\" style=\"stroke:rgb(0.0, 138.56128015770727, 250.76166088685727);stroke-width:2\" />  </svg></g><g transform=\"translate(-8,0)\">  <svg x=\"91.66666666666666%\" y=\"40\" height=\"18\" overflow=\"visible\" width=\"30\">    <path d=\"M 8 -9 l -6 18 L 8 25\" fill=\"none\" style=\"stroke:rgb(0.0, 138.56128015770727, 250.76166088685727);stroke-width:2\" />  </svg></g><g transform=\"translate(-10,0)\">  <svg x=\"91.66666666666666%\" y=\"40\" height=\"18\" overflow=\"visible\" width=\"30\">    <path d=\"M 8 -9 l -6 18 L 8 25\" fill=\"none\" style=\"stroke:rgb(0.0, 138.56128015770727, 250.76166088685727);stroke-width:2\" />  </svg></g><g transform=\"translate(-12,0)\">  <svg x=\"91.66666666666666%\" y=\"40\" height=\"18\" overflow=\"visible\" width=\"30\">    <path d=\"M 8 -9 l -6 18 L 8 25\" fill=\"none\" style=\"stroke:rgb(0.0, 138.56128015770727, 250.76166088685727);stroke-width:2\" />  </svg></g><g transform=\"translate(-14,0)\">  <svg x=\"91.66666666666666%\" y=\"40\" height=\"18\" overflow=\"visible\" width=\"30\">    <path d=\"M 8 -9 l -6 18 L 8 25\" fill=\"none\" style=\"stroke:rgb(0.0, 138.56128015770727, 250.76166088685727);stroke-width:2\" />  </svg></g><g transform=\"translate(2,0)\">  <svg x=\"91.66666666666666%\" y=\"40\" height=\"18\" overflow=\"visible\" width=\"30\">    <path d=\"M 8 -9 l -6 18 L 8 25\" fill=\"none\" style=\"stroke:rgb(0.0, 138.56128015770727, 250.76166088685727);stroke-width:2\" />  </svg></g><g transform=\"translate(0,0)\">  <svg x=\"91.66666666666666%\" y=\"40\" height=\"18\" overflow=\"visible\" width=\"30\">    <path d=\"M 8 -9 l -6 18 L 8 25\" fill=\"none\" style=\"stroke:rgb(0.0, 138.56128015770727, 250.76166088685727);stroke-width:2\" />  </svg></g><g transform=\"translate(-2,0)\">  <svg x=\"91.66666666666666%\" y=\"40\" height=\"18\" overflow=\"visible\" width=\"30\">    <path d=\"M 8 -9 l -6 18 L 8 25\" fill=\"none\" style=\"stroke:rgb(0.0, 138.56128015770727, 250.76166088685727);stroke-width:2\" />  </svg></g><g transform=\"translate(-4,0)\">  <svg x=\"91.66666666666666%\" y=\"40\" height=\"18\" overflow=\"visible\" width=\"30\">    <path d=\"M 8 -9 l -6 18 L 8 25\" fill=\"none\" style=\"stroke:rgb(0.0, 138.56128015770727, 250.76166088685727);stroke-width:2\" />  </svg></g><g transform=\"translate(-8,0)\">  <svg x=\"91.66666666666667%\" y=\"40\" height=\"18\" overflow=\"visible\" width=\"30\">    <path d=\"M 8 -9 l -6 18 L 8 25\" fill=\"none\" style=\"stroke:rgb(0.0, 138.56128015770727, 250.76166088685727);stroke-width:2\" />  </svg></g><g transform=\"translate(-10,0)\">  <svg x=\"91.66666666666667%\" y=\"40\" height=\"18\" overflow=\"visible\" width=\"30\">    <path d=\"M 8 -9 l -6 18 L 8 25\" fill=\"none\" style=\"stroke:rgb(0.0, 138.56128015770727, 250.76166088685727);stroke-width:2\" />  </svg></g><g transform=\"translate(-12,0)\">  <svg x=\"91.66666666666667%\" y=\"40\" height=\"18\" overflow=\"visible\" width=\"30\">    <path d=\"M 8 -9 l -6 18 L 8 25\" fill=\"none\" style=\"stroke:rgb(0.0, 138.56128015770727, 250.76166088685727);stroke-width:2\" />  </svg></g><g transform=\"translate(-14,0)\">  <svg x=\"91.66666666666667%\" y=\"40\" height=\"18\" overflow=\"visible\" width=\"30\">    <path d=\"M 8 -9 l -6 18 L 8 25\" fill=\"none\" style=\"stroke:rgb(0.0, 138.56128015770727, 250.76166088685727);stroke-width:2\" />  </svg></g><g transform=\"translate(2,0)\">  <svg x=\"91.66666666666667%\" y=\"40\" height=\"18\" overflow=\"visible\" width=\"30\">    <path d=\"M 8 -9 l -6 18 L 8 25\" fill=\"none\" style=\"stroke:rgb(0.0, 138.56128015770727, 250.76166088685727);stroke-width:2\" />  </svg></g><g transform=\"translate(0,0)\">  <svg x=\"91.66666666666667%\" y=\"40\" height=\"18\" overflow=\"visible\" width=\"30\">    <path d=\"M 8 -9 l -6 18 L 8 25\" fill=\"none\" style=\"stroke:rgb(0.0, 138.56128015770727, 250.76166088685727);stroke-width:2\" />  </svg></g><g transform=\"translate(-2,0)\">  <svg x=\"91.66666666666667%\" y=\"40\" height=\"18\" overflow=\"visible\" width=\"30\">    <path d=\"M 8 -9 l -6 18 L 8 25\" fill=\"none\" style=\"stroke:rgb(0.0, 138.56128015770727, 250.76166088685727);stroke-width:2\" />  </svg></g><g transform=\"translate(-4,0)\">  <svg x=\"91.66666666666667%\" y=\"40\" height=\"18\" overflow=\"visible\" width=\"30\">    <path d=\"M 8 -9 l -6 18 L 8 25\" fill=\"none\" style=\"stroke:rgb(0.0, 138.56128015770727, 250.76166088685727);stroke-width:2\" />  </svg></g><g transform=\"translate(-8,0)\">  <svg x=\"91.66666666666667%\" y=\"40\" height=\"18\" overflow=\"visible\" width=\"30\">    <path d=\"M 8 -9 l -6 18 L 8 25\" fill=\"none\" style=\"stroke:rgb(0.0, 138.56128015770727, 250.76166088685727);stroke-width:2\" />  </svg></g><g transform=\"translate(-10,0)\">  <svg x=\"91.66666666666667%\" y=\"40\" height=\"18\" overflow=\"visible\" width=\"30\">    <path d=\"M 8 -9 l -6 18 L 8 25\" fill=\"none\" style=\"stroke:rgb(0.0, 138.56128015770727, 250.76166088685727);stroke-width:2\" />  </svg></g><g transform=\"translate(-12,0)\">  <svg x=\"91.66666666666667%\" y=\"40\" height=\"18\" overflow=\"visible\" width=\"30\">    <path d=\"M 8 -9 l -6 18 L 8 25\" fill=\"none\" style=\"stroke:rgb(0.0, 138.56128015770727, 250.76166088685727);stroke-width:2\" />  </svg></g><g transform=\"translate(-14,0)\">  <svg x=\"91.66666666666667%\" y=\"40\" height=\"18\" overflow=\"visible\" width=\"30\">    <path d=\"M 8 -9 l -6 18 L 8 25\" fill=\"none\" style=\"stroke:rgb(0.0, 138.56128015770727, 250.76166088685727);stroke-width:2\" />  </svg></g><g transform=\"translate(2,0)\">  <svg x=\"91.66666666666667%\" y=\"40\" height=\"18\" overflow=\"visible\" width=\"30\">    <path d=\"M 8 -9 l -6 18 L 8 25\" fill=\"none\" style=\"stroke:rgb(0.0, 138.56128015770727, 250.76166088685727);stroke-width:2\" />  </svg></g><g transform=\"translate(0,0)\">  <svg x=\"91.66666666666667%\" y=\"40\" height=\"18\" overflow=\"visible\" width=\"30\">    <path d=\"M 8 -9 l -6 18 L 8 25\" fill=\"none\" style=\"stroke:rgb(0.0, 138.56128015770727, 250.76166088685727);stroke-width:2\" />  </svg></g><g transform=\"translate(-2,0)\">  <svg x=\"91.66666666666667%\" y=\"40\" height=\"18\" overflow=\"visible\" width=\"30\">    <path d=\"M 8 -9 l -6 18 L 8 25\" fill=\"none\" style=\"stroke:rgb(0.0, 138.56128015770727, 250.76166088685727);stroke-width:2\" />  </svg></g><g transform=\"translate(-4,0)\">  <svg x=\"91.66666666666667%\" y=\"40\" height=\"18\" overflow=\"visible\" width=\"30\">    <path d=\"M 8 -9 l -6 18 L 8 25\" fill=\"none\" style=\"stroke:rgb(0.0, 138.56128015770727, 250.76166088685727);stroke-width:2\" />  </svg></g><rect transform=\"translate(0,0)\" x=\"32.47528926829195%\" y=\"40\" width=\"8\" height=\"18\" style=\"fill:rgb(0.0, 138.56128015770727, 250.76166088685727)\"/><g transform=\"translate(-6.0,0)\">  <svg x=\"91.66666666666667%\" y=\"40\" height=\"18\" overflow=\"visible\" width=\"30\">    <path d=\"M 8 -9 l -6 18 L 8 25 L 20 25 L 20 -9\" fill=\"#ffffff\" style=\"stroke:rgb(255,255,255);stroke-width:2\" />  </svg></g><g transform=\"translate(-6.0,0)\">  <svg x=\"44.283656300442274%\" y=\"40\" height=\"18\" overflow=\"visible\" width=\"30\">    <path d=\"M 8 -9 l -6 18 L 8 25\" fill=\"none\" style=\"stroke:rgb(208, 230, 250);stroke-width:2\" />  </svg></g><rect x=\"32.47528926829195%\" y=\"40\" height=\"20\" width=\"11.808367032150322%\"      onmouseover=\"document.getElementById('_tp_hiahjrmgvwiilfpwreon_ind_17').style.textDecoration = 'underline';document.getElementById('_fs_hiahjrmgvwiilfpwreon_ind_17').style.opacity = 1;document.getElementById('_fb_hiahjrmgvwiilfpwreon_ind_17').style.opacity = 1;\"      onmouseout=\"document.getElementById('_tp_hiahjrmgvwiilfpwreon_ind_17').style.textDecoration = 'none';document.getElementById('_fs_hiahjrmgvwiilfpwreon_ind_17').style.opacity = 0;document.getElementById('_fb_hiahjrmgvwiilfpwreon_ind_17').style.opacity = 0;\" style=\"fill:rgb(0,0,0,0)\" /><g transform=\"translate(-6.0,0)\">  <svg x=\"50.775962358849185%\" y=\"40\" height=\"18\" overflow=\"visible\" width=\"30\">    <path d=\"M 8 -9 l -6 18 L 8 25\" fill=\"none\" style=\"stroke:rgb(208, 230, 250);stroke-width:2\" />  </svg></g><rect x=\"44.283656300442274%\" y=\"40\" height=\"20\" width=\"6.4923060584069106%\"      onmouseover=\"document.getElementById('_tp_hiahjrmgvwiilfpwreon_ind_2').style.textDecoration = 'underline';document.getElementById('_fs_hiahjrmgvwiilfpwreon_ind_2').style.opacity = 1;document.getElementById('_fb_hiahjrmgvwiilfpwreon_ind_2').style.opacity = 1;\"      onmouseout=\"document.getElementById('_tp_hiahjrmgvwiilfpwreon_ind_2').style.textDecoration = 'none';document.getElementById('_fs_hiahjrmgvwiilfpwreon_ind_2').style.opacity = 0;document.getElementById('_fb_hiahjrmgvwiilfpwreon_ind_2').style.opacity = 0;\" style=\"fill:rgb(0,0,0,0)\" /><g transform=\"translate(-6.0,0)\">  <svg x=\"57.13663999796149%\" y=\"40\" height=\"18\" overflow=\"visible\" width=\"30\">    <path d=\"M 8 -9 l -6 18 L 8 25\" fill=\"none\" style=\"stroke:rgb(208, 230, 250);stroke-width:2\" />  </svg></g><rect x=\"50.775962358849185%\" y=\"40\" height=\"20\" width=\"6.360677639112303%\"      onmouseover=\"document.getElementById('_tp_hiahjrmgvwiilfpwreon_ind_1').style.textDecoration = 'underline';document.getElementById('_fs_hiahjrmgvwiilfpwreon_ind_1').style.opacity = 1;document.getElementById('_fb_hiahjrmgvwiilfpwreon_ind_1').style.opacity = 1;\"      onmouseout=\"document.getElementById('_tp_hiahjrmgvwiilfpwreon_ind_1').style.textDecoration = 'none';document.getElementById('_fs_hiahjrmgvwiilfpwreon_ind_1').style.opacity = 0;document.getElementById('_fb_hiahjrmgvwiilfpwreon_ind_1').style.opacity = 0;\" style=\"fill:rgb(0,0,0,0)\" /><g transform=\"translate(-6.0,0)\">  <svg x=\"62.561194388285124%\" y=\"40\" height=\"18\" overflow=\"visible\" width=\"30\">    <path d=\"M 8 -9 l -6 18 L 8 25\" fill=\"none\" style=\"stroke:rgb(208, 230, 250);stroke-width:2\" />  </svg></g><rect x=\"57.13663999796149%\" y=\"40\" height=\"20\" width=\"5.424554390323635%\"      onmouseover=\"document.getElementById('_tp_hiahjrmgvwiilfpwreon_ind_9').style.textDecoration = 'underline';document.getElementById('_fs_hiahjrmgvwiilfpwreon_ind_9').style.opacity = 1;document.getElementById('_fb_hiahjrmgvwiilfpwreon_ind_9').style.opacity = 1;\"      onmouseout=\"document.getElementById('_tp_hiahjrmgvwiilfpwreon_ind_9').style.textDecoration = 'none';document.getElementById('_fs_hiahjrmgvwiilfpwreon_ind_9').style.opacity = 0;document.getElementById('_fb_hiahjrmgvwiilfpwreon_ind_9').style.opacity = 0;\" style=\"fill:rgb(0,0,0,0)\" /><g transform=\"translate(-6.0,0)\">  <svg x=\"67.95870475447602%\" y=\"40\" height=\"18\" overflow=\"visible\" width=\"30\">    <path d=\"M 8 -9 l -6 18 L 8 25\" fill=\"none\" style=\"stroke:rgb(208, 230, 250);stroke-width:2\" />  </svg></g><rect x=\"62.561194388285124%\" y=\"40\" height=\"20\" width=\"5.397510366190893%\"      onmouseover=\"document.getElementById('_tp_hiahjrmgvwiilfpwreon_ind_18').style.textDecoration = 'underline';document.getElementById('_fs_hiahjrmgvwiilfpwreon_ind_18').style.opacity = 1;document.getElementById('_fb_hiahjrmgvwiilfpwreon_ind_18').style.opacity = 1;\"      onmouseout=\"document.getElementById('_tp_hiahjrmgvwiilfpwreon_ind_18').style.textDecoration = 'none';document.getElementById('_fs_hiahjrmgvwiilfpwreon_ind_18').style.opacity = 0;document.getElementById('_fb_hiahjrmgvwiilfpwreon_ind_18').style.opacity = 0;\" style=\"fill:rgb(0,0,0,0)\" /><g transform=\"translate(-6.0,0)\">  <svg x=\"73.1556753381853%\" y=\"40\" height=\"18\" overflow=\"visible\" width=\"30\">    <path d=\"M 8 -9 l -6 18 L 8 25\" fill=\"none\" style=\"stroke:rgb(208, 230, 250);stroke-width:2\" />  </svg></g><rect x=\"67.95870475447602%\" y=\"40\" height=\"20\" width=\"5.196970583709287%\"      onmouseover=\"document.getElementById('_tp_hiahjrmgvwiilfpwreon_ind_5').style.textDecoration = 'underline';document.getElementById('_fs_hiahjrmgvwiilfpwreon_ind_5').style.opacity = 1;document.getElementById('_fb_hiahjrmgvwiilfpwreon_ind_5').style.opacity = 1;\"      onmouseout=\"document.getElementById('_tp_hiahjrmgvwiilfpwreon_ind_5').style.textDecoration = 'none';document.getElementById('_fs_hiahjrmgvwiilfpwreon_ind_5').style.opacity = 0;document.getElementById('_fb_hiahjrmgvwiilfpwreon_ind_5').style.opacity = 0;\" style=\"fill:rgb(0,0,0,0)\" /><g transform=\"translate(-6.0,0)\">  <svg x=\"76.62248611672338%\" y=\"40\" height=\"18\" overflow=\"visible\" width=\"30\">    <path d=\"M 8 -9 l -6 18 L 8 25\" fill=\"none\" style=\"stroke:rgb(208, 230, 250);stroke-width:2\" />  </svg></g><rect x=\"73.1556753381853%\" y=\"40\" height=\"20\" width=\"3.4668107785380755%\"      onmouseover=\"document.getElementById('_tp_hiahjrmgvwiilfpwreon_ind_6').style.textDecoration = 'underline';document.getElementById('_fs_hiahjrmgvwiilfpwreon_ind_6').style.opacity = 1;document.getElementById('_fb_hiahjrmgvwiilfpwreon_ind_6').style.opacity = 1;\"      onmouseout=\"document.getElementById('_tp_hiahjrmgvwiilfpwreon_ind_6').style.textDecoration = 'none';document.getElementById('_fs_hiahjrmgvwiilfpwreon_ind_6').style.opacity = 0;document.getElementById('_fb_hiahjrmgvwiilfpwreon_ind_6').style.opacity = 0;\" style=\"fill:rgb(0,0,0,0)\" /><g transform=\"translate(-6.0,0)\">  <svg x=\"79.57671562985772%\" y=\"40\" height=\"18\" overflow=\"visible\" width=\"30\">    <path d=\"M 8 -9 l -6 18 L 8 25\" fill=\"none\" style=\"stroke:rgb(208, 230, 250);stroke-width:2\" />  </svg></g><rect x=\"76.62248611672338%\" y=\"40\" height=\"20\" width=\"2.9542295131343366%\"      onmouseover=\"document.getElementById('_tp_hiahjrmgvwiilfpwreon_ind_14').style.textDecoration = 'underline';document.getElementById('_fs_hiahjrmgvwiilfpwreon_ind_14').style.opacity = 1;document.getElementById('_fb_hiahjrmgvwiilfpwreon_ind_14').style.opacity = 1;\"      onmouseout=\"document.getElementById('_tp_hiahjrmgvwiilfpwreon_ind_14').style.textDecoration = 'none';document.getElementById('_fs_hiahjrmgvwiilfpwreon_ind_14').style.opacity = 0;document.getElementById('_fb_hiahjrmgvwiilfpwreon_ind_14').style.opacity = 0;\" style=\"fill:rgb(0,0,0,0)\" /><g transform=\"translate(-6.0,0)\">  <svg x=\"82.40425817709354%\" y=\"40\" height=\"18\" overflow=\"visible\" width=\"30\">    <path d=\"M 8 -9 l -6 18 L 8 25\" fill=\"none\" style=\"stroke:rgb(208, 230, 250);stroke-width:2\" />  </svg></g><rect x=\"79.57671562985772%\" y=\"40\" height=\"20\" width=\"2.827542547235822%\"      onmouseover=\"document.getElementById('_tp_hiahjrmgvwiilfpwreon_ind_10').style.textDecoration = 'underline';document.getElementById('_fs_hiahjrmgvwiilfpwreon_ind_10').style.opacity = 1;document.getElementById('_fb_hiahjrmgvwiilfpwreon_ind_10').style.opacity = 1;\"      onmouseout=\"document.getElementById('_tp_hiahjrmgvwiilfpwreon_ind_10').style.textDecoration = 'none';document.getElementById('_fs_hiahjrmgvwiilfpwreon_ind_10').style.opacity = 0;document.getElementById('_fb_hiahjrmgvwiilfpwreon_ind_10').style.opacity = 0;\" style=\"fill:rgb(0,0,0,0)\" /><g transform=\"translate(-6.0,0)\">  <svg x=\"84.92423629523994%\" y=\"40\" height=\"18\" overflow=\"visible\" width=\"30\">    <path d=\"M 8 -9 l -6 18 L 8 25\" fill=\"none\" style=\"stroke:rgb(208, 230, 250);stroke-width:2\" />  </svg></g><rect x=\"82.40425817709354%\" y=\"40\" height=\"20\" width=\"2.5199781181463976%\"      onmouseover=\"document.getElementById('_tp_hiahjrmgvwiilfpwreon_ind_7').style.textDecoration = 'underline';document.getElementById('_fs_hiahjrmgvwiilfpwreon_ind_7').style.opacity = 1;document.getElementById('_fb_hiahjrmgvwiilfpwreon_ind_7').style.opacity = 1;\"      onmouseout=\"document.getElementById('_tp_hiahjrmgvwiilfpwreon_ind_7').style.textDecoration = 'none';document.getElementById('_fs_hiahjrmgvwiilfpwreon_ind_7').style.opacity = 0;document.getElementById('_fb_hiahjrmgvwiilfpwreon_ind_7').style.opacity = 0;\" style=\"fill:rgb(0,0,0,0)\" /><g transform=\"translate(-6.0,0)\">  <svg x=\"87.34544085054125%\" y=\"40\" height=\"18\" overflow=\"visible\" width=\"30\">    <path d=\"M 8 -9 l -6 18 L 8 25\" fill=\"none\" style=\"stroke:rgb(208, 230, 250);stroke-width:2\" />  </svg></g><rect x=\"84.92423629523994%\" y=\"40\" height=\"20\" width=\"2.4212045553013155%\"      onmouseover=\"document.getElementById('_tp_hiahjrmgvwiilfpwreon_ind_3').style.textDecoration = 'underline';document.getElementById('_fs_hiahjrmgvwiilfpwreon_ind_3').style.opacity = 1;document.getElementById('_fb_hiahjrmgvwiilfpwreon_ind_3').style.opacity = 1;\"      onmouseout=\"document.getElementById('_tp_hiahjrmgvwiilfpwreon_ind_3').style.textDecoration = 'none';document.getElementById('_fs_hiahjrmgvwiilfpwreon_ind_3').style.opacity = 0;document.getElementById('_fb_hiahjrmgvwiilfpwreon_ind_3').style.opacity = 0;\" style=\"fill:rgb(0,0,0,0)\" /><g transform=\"translate(-6.0,0)\">  <svg x=\"89.57042279195703%\" y=\"40\" height=\"18\" overflow=\"visible\" width=\"30\">    <path d=\"M 8 -9 l -6 18 L 8 25\" fill=\"none\" style=\"stroke:rgb(208, 230, 250);stroke-width:2\" />  </svg></g><rect x=\"87.34544085054125%\" y=\"40\" height=\"20\" width=\"2.224981941415777%\"      onmouseover=\"document.getElementById('_tp_hiahjrmgvwiilfpwreon_ind_12').style.textDecoration = 'underline';document.getElementById('_fs_hiahjrmgvwiilfpwreon_ind_12').style.opacity = 1;document.getElementById('_fb_hiahjrmgvwiilfpwreon_ind_12').style.opacity = 1;\"      onmouseout=\"document.getElementById('_tp_hiahjrmgvwiilfpwreon_ind_12').style.textDecoration = 'none';document.getElementById('_fs_hiahjrmgvwiilfpwreon_ind_12').style.opacity = 0;document.getElementById('_fb_hiahjrmgvwiilfpwreon_ind_12').style.opacity = 0;\" style=\"fill:rgb(0,0,0,0)\" /><g transform=\"translate(-6.0,0)\">  <svg x=\"90.78538300515834%\" y=\"40\" height=\"18\" overflow=\"visible\" width=\"30\">    <path d=\"M 8 -9 l -6 18 L 8 25\" fill=\"none\" style=\"stroke:rgb(208, 230, 250);stroke-width:2\" />  </svg></g><rect x=\"89.57042279195703%\" y=\"40\" height=\"20\" width=\"1.2149602132013086%\"      onmouseover=\"document.getElementById('_tp_hiahjrmgvwiilfpwreon_ind_16').style.textDecoration = 'underline';document.getElementById('_fs_hiahjrmgvwiilfpwreon_ind_16').style.opacity = 1;document.getElementById('_fb_hiahjrmgvwiilfpwreon_ind_16').style.opacity = 1;\"      onmouseout=\"document.getElementById('_tp_hiahjrmgvwiilfpwreon_ind_16').style.textDecoration = 'none';document.getElementById('_fs_hiahjrmgvwiilfpwreon_ind_16').style.opacity = 0;document.getElementById('_fb_hiahjrmgvwiilfpwreon_ind_16').style.opacity = 0;\" style=\"fill:rgb(0,0,0,0)\" /><g transform=\"translate(-6.0,0)\">  <svg x=\"91.66666666666664%\" y=\"40\" height=\"18\" overflow=\"visible\" width=\"30\">    <path d=\"M 8 -9 l -6 18 L 8 25\" fill=\"none\" style=\"stroke:rgb(208, 230, 250);stroke-width:2\" />  </svg></g><rect x=\"90.78538300515834%\" y=\"40\" height=\"20\" width=\"0.8812836615083057%\"      onmouseover=\"document.getElementById('_tp_hiahjrmgvwiilfpwreon_ind_13').style.textDecoration = 'underline';document.getElementById('_fs_hiahjrmgvwiilfpwreon_ind_13').style.opacity = 1;document.getElementById('_fb_hiahjrmgvwiilfpwreon_ind_13').style.opacity = 1;\"      onmouseout=\"document.getElementById('_tp_hiahjrmgvwiilfpwreon_ind_13').style.textDecoration = 'none';document.getElementById('_fs_hiahjrmgvwiilfpwreon_ind_13').style.opacity = 0;document.getElementById('_fb_hiahjrmgvwiilfpwreon_ind_13').style.opacity = 0;\" style=\"fill:rgb(0,0,0,0)\" /><g transform=\"translate(-6.0,0)\">  <svg x=\"91.66666666666666%\" y=\"40\" height=\"18\" overflow=\"visible\" width=\"30\">    <path d=\"M 8 -9 l -6 18 L 8 25\" fill=\"none\" style=\"stroke:rgb(208, 230, 250);stroke-width:2\" />  </svg></g><rect x=\"91.66666666666664%\" y=\"40\" height=\"20\" width=\"1.4210854715202004e-14%\"      onmouseover=\"document.getElementById('_tp_hiahjrmgvwiilfpwreon_ind_25').style.textDecoration = 'underline';document.getElementById('_fs_hiahjrmgvwiilfpwreon_ind_25').style.opacity = 1;document.getElementById('_fb_hiahjrmgvwiilfpwreon_ind_25').style.opacity = 1;\"      onmouseout=\"document.getElementById('_tp_hiahjrmgvwiilfpwreon_ind_25').style.textDecoration = 'none';document.getElementById('_fs_hiahjrmgvwiilfpwreon_ind_25').style.opacity = 0;document.getElementById('_fb_hiahjrmgvwiilfpwreon_ind_25').style.opacity = 0;\" style=\"fill:rgb(0,0,0,0)\" /><g transform=\"translate(-6.0,0)\">  <svg x=\"91.66666666666667%\" y=\"40\" height=\"18\" overflow=\"visible\" width=\"30\">    <path d=\"M 8 -9 l -6 18 L 8 25\" fill=\"none\" style=\"stroke:rgb(208, 230, 250);stroke-width:2\" />  </svg></g><rect x=\"91.66666666666666%\" y=\"40\" height=\"20\" width=\"1.4210854715202004e-14%\"      onmouseover=\"document.getElementById('_tp_hiahjrmgvwiilfpwreon_ind_0').style.textDecoration = 'underline';document.getElementById('_fs_hiahjrmgvwiilfpwreon_ind_0').style.opacity = 1;document.getElementById('_fb_hiahjrmgvwiilfpwreon_ind_0').style.opacity = 1;\"      onmouseout=\"document.getElementById('_tp_hiahjrmgvwiilfpwreon_ind_0').style.textDecoration = 'none';document.getElementById('_fs_hiahjrmgvwiilfpwreon_ind_0').style.opacity = 0;document.getElementById('_fb_hiahjrmgvwiilfpwreon_ind_0').style.opacity = 0;\" style=\"fill:rgb(0,0,0,0)\" /><g transform=\"translate(-6.0,0)\">  <svg x=\"91.66666666666667%\" y=\"40\" height=\"18\" overflow=\"visible\" width=\"30\">    <path d=\"M 8 -9 l -6 18 L 8 25\" fill=\"none\" style=\"stroke:rgb(208, 230, 250);stroke-width:2\" />  </svg></g><rect x=\"91.66666666666667%\" y=\"40\" height=\"20\" width=\"0.0%\"      onmouseover=\"document.getElementById('_tp_hiahjrmgvwiilfpwreon_ind_23').style.textDecoration = 'underline';document.getElementById('_fs_hiahjrmgvwiilfpwreon_ind_23').style.opacity = 1;document.getElementById('_fb_hiahjrmgvwiilfpwreon_ind_23').style.opacity = 1;\"      onmouseout=\"document.getElementById('_tp_hiahjrmgvwiilfpwreon_ind_23').style.textDecoration = 'none';document.getElementById('_fs_hiahjrmgvwiilfpwreon_ind_23').style.opacity = 0;document.getElementById('_fb_hiahjrmgvwiilfpwreon_ind_23').style.opacity = 0;\" style=\"fill:rgb(0,0,0,0)\" /><rect x=\"91.66666666666667%\" y=\"40\" height=\"20\" width=\"0.0%\"      onmouseover=\"document.getElementById('_tp_hiahjrmgvwiilfpwreon_ind_24').style.textDecoration = 'underline';document.getElementById('_fs_hiahjrmgvwiilfpwreon_ind_24').style.opacity = 1;document.getElementById('_fb_hiahjrmgvwiilfpwreon_ind_24').style.opacity = 1;\"      onmouseout=\"document.getElementById('_tp_hiahjrmgvwiilfpwreon_ind_24').style.textDecoration = 'none';document.getElementById('_fs_hiahjrmgvwiilfpwreon_ind_24').style.opacity = 0;document.getElementById('_fb_hiahjrmgvwiilfpwreon_ind_24').style.opacity = 0;\" style=\"fill:rgb(0,0,0,0)\" /></svg><div style='display: inline; text-align: center;'><div style='display: none; color: #999; padding-top: 0px; font-size: 12px;'>-0.0</div><div id='_tp_hiahjrmgvwiilfpwreon_ind_0'style='display: inline; background: rgba(54.70588235294111, 122.49411764705886, 213.40784313725496, 0.0); border-radius: 3px; padding: 0px'onclick=\"if (this.previousSibling.style.display == 'none') {this.previousSibling.style.display = 'block';this.parentNode.style.display = 'inline-block';} else {this.previousSibling.style.display = 'none';this.parentNode.style.display = 'inline';}\"onmouseover=\"document.getElementById('_fb_hiahjrmgvwiilfpwreon_ind_0').style.opacity = 1; document.getElementById('_fs_hiahjrmgvwiilfpwreon_ind_0').style.opacity = 1;\"onmouseout=\"document.getElementById('_fb_hiahjrmgvwiilfpwreon_ind_0').style.opacity = 0; document.getElementById('_fs_hiahjrmgvwiilfpwreon_ind_0').style.opacity = 0;\"></div></div><div style='display: inline; text-align: center;'><div style='display: none; color: #999; padding-top: 0px; font-size: 12px;'>-0.088 / 32</div><div id='_tp_hiahjrmgvwiilfpwreon_ind_1'style='display: inline; background: rgba(30.0, 136.0, 229.0, 0.5349178055060406); border-radius: 3px; padding: 0px'onclick=\"if (this.previousSibling.style.display == 'none') {this.previousSibling.style.display = 'block';this.parentNode.style.display = 'inline-block';} else {this.previousSibling.style.display = 'none';this.parentNode.style.display = 'inline';}\"onmouseover=\"document.getElementById('_fb_hiahjrmgvwiilfpwreon_ind_1').style.opacity = 1; document.getElementById('_fs_hiahjrmgvwiilfpwreon_ind_1').style.opacity = 1;\"onmouseout=\"document.getElementById('_fb_hiahjrmgvwiilfpwreon_ind_1').style.opacity = 0; document.getElementById('_fs_hiahjrmgvwiilfpwreon_ind_1').style.opacity = 0;\">Editor's Note: This story was most recently updated March 26, 2020. For the latest updates on the 2020 coronavirus outbreak, see our news coverage. </div></div><div style='display: inline; text-align: center;'><div style='display: none; color: #999; padding-top: 0px; font-size: 12px;'>-0.089 / 41</div><div id='_tp_hiahjrmgvwiilfpwreon_ind_2'style='display: inline; background: rgba(30.0, 136.0, 229.0, 0.5506833036244801); border-radius: 3px; padding: 0px'onclick=\"if (this.previousSibling.style.display == 'none') {this.previousSibling.style.display = 'block';this.parentNode.style.display = 'inline-block';} else {this.previousSibling.style.display = 'none';this.parentNode.style.display = 'inline';}\"onmouseover=\"document.getElementById('_fb_hiahjrmgvwiilfpwreon_ind_2').style.opacity = 1; document.getElementById('_fs_hiahjrmgvwiilfpwreon_ind_2').style.opacity = 1;\"onmouseout=\"document.getElementById('_fb_hiahjrmgvwiilfpwreon_ind_2').style.opacity = 0; document.getElementById('_fs_hiahjrmgvwiilfpwreon_ind_2').style.opacity = 0;\">Feb. 28, 2020 -- With cases in all 50 states and the District of Columbia, coronavirus (and COVID-19, the disease it causes) is spreading rapidly in the United States. </div></div><div style='display: inline; text-align: center;'><div style='display: none; color: #999; padding-top: 0px; font-size: 12px;'>-0.033 / 8</div><div id='_tp_hiahjrmgvwiilfpwreon_ind_3'style='display: inline; background: rgba(30.0, 136.0, 229.0, 0.2038423450188156); border-radius: 3px; padding: 0px'onclick=\"if (this.previousSibling.style.display == 'none') {this.previousSibling.style.display = 'block';this.parentNode.style.display = 'inline-block';} else {this.previousSibling.style.display = 'none';this.parentNode.style.display = 'inline';}\"onmouseover=\"document.getElementById('_fb_hiahjrmgvwiilfpwreon_ind_3').style.opacity = 1; document.getElementById('_fs_hiahjrmgvwiilfpwreon_ind_3').style.opacity = 1;\"onmouseout=\"document.getElementById('_fb_hiahjrmgvwiilfpwreon_ind_3').style.opacity = 0; document.getElementById('_fs_hiahjrmgvwiilfpwreon_ind_3').style.opacity = 0;\">Here’s what you need to know </div></div><div style='display: inline; text-align: center;'><div style='display: none; color: #999; padding-top: 0px; font-size: 12px;'>0.062 / 4</div><div id='_tp_hiahjrmgvwiilfpwreon_ind_4'style='display: inline; background: rgba(255.0, 13.0, 87.0, 0.3772628243216479); border-radius: 3px; padding: 0px'onclick=\"if (this.previousSibling.style.display == 'none') {this.previousSibling.style.display = 'block';this.parentNode.style.display = 'inline-block';} else {this.previousSibling.style.display = 'none';this.parentNode.style.display = 'inline';}\"onmouseover=\"document.getElementById('_fb_hiahjrmgvwiilfpwreon_ind_4').style.opacity = 1; document.getElementById('_fs_hiahjrmgvwiilfpwreon_ind_4').style.opacity = 1;\"onmouseout=\"document.getElementById('_fb_hiahjrmgvwiilfpwreon_ind_4').style.opacity = 0; document.getElementById('_fs_hiahjrmgvwiilfpwreon_ind_4').style.opacity = 0;\">to protect yourself right </div></div><div style='display: inline; text-align: center;'><div style='display: none; color: #999; padding-top: 0px; font-size: 12px;'>-0.072 / 2</div><div id='_tp_hiahjrmgvwiilfpwreon_ind_5'style='display: inline; background: rgba(30.0, 136.0, 229.0, 0.440324816795405); border-radius: 3px; padding: 0px'onclick=\"if (this.previousSibling.style.display == 'none') {this.previousSibling.style.display = 'block';this.parentNode.style.display = 'inline-block';} else {this.previousSibling.style.display = 'none';this.parentNode.style.display = 'inline';}\"onmouseover=\"document.getElementById('_fb_hiahjrmgvwiilfpwreon_ind_5').style.opacity = 1; document.getElementById('_fs_hiahjrmgvwiilfpwreon_ind_5').style.opacity = 1;\"onmouseout=\"document.getElementById('_fb_hiahjrmgvwiilfpwreon_ind_5').style.opacity = 0; document.getElementById('_fs_hiahjrmgvwiilfpwreon_ind_5').style.opacity = 0;\">now: </div></div><div style='display: inline; text-align: center;'><div style='display: none; color: #999; padding-top: 0px; font-size: 12px;'>-0.048</div><div id='_tp_hiahjrmgvwiilfpwreon_ind_6'style='display: inline; background: rgba(30.0, 136.0, 229.0, 0.29055258467023176); border-radius: 3px; padding: 0px'onclick=\"if (this.previousSibling.style.display == 'none') {this.previousSibling.style.display = 'block';this.parentNode.style.display = 'inline-block';} else {this.previousSibling.style.display = 'none';this.parentNode.style.display = 'inline';}\"onmouseover=\"document.getElementById('_fb_hiahjrmgvwiilfpwreon_ind_6').style.opacity = 1; document.getElementById('_fs_hiahjrmgvwiilfpwreon_ind_6').style.opacity = 1;\"onmouseout=\"document.getElementById('_fb_hiahjrmgvwiilfpwreon_ind_6').style.opacity = 0; document.getElementById('_fs_hiahjrmgvwiilfpwreon_ind_6').style.opacity = 0;\">Dos </div></div><div style='display: inline; text-align: center;'><div style='display: none; color: #999; padding-top: 0px; font-size: 12px;'>-0.035</div><div id='_tp_hiahjrmgvwiilfpwreon_ind_7'style='display: inline; background: rgba(30.0, 136.0, 229.0, 0.21172509407803525); border-radius: 3px; padding: 0px'onclick=\"if (this.previousSibling.style.display == 'none') {this.previousSibling.style.display = 'block';this.parentNode.style.display = 'inline-block';} else {this.previousSibling.style.display = 'none';this.parentNode.style.display = 'inline';}\"onmouseover=\"document.getElementById('_fb_hiahjrmgvwiilfpwreon_ind_7').style.opacity = 1; document.getElementById('_fs_hiahjrmgvwiilfpwreon_ind_7').style.opacity = 1;\"onmouseout=\"document.getElementById('_fb_hiahjrmgvwiilfpwreon_ind_7').style.opacity = 0; document.getElementById('_fs_hiahjrmgvwiilfpwreon_ind_7').style.opacity = 0;\">and </div></div><div style='display: inline; text-align: center;'><div style='display: none; color: #999; padding-top: 0px; font-size: 12px;'>0.015 / 20</div><div id='_tp_hiahjrmgvwiilfpwreon_ind_8'style='display: inline; background: rgba(255.0, 13.0, 87.0, 0.08560110913052081); border-radius: 3px; padding: 0px'onclick=\"if (this.previousSibling.style.display == 'none') {this.previousSibling.style.display = 'block';this.parentNode.style.display = 'inline-block';} else {this.previousSibling.style.display = 'none';this.parentNode.style.display = 'inline';}\"onmouseover=\"document.getElementById('_fb_hiahjrmgvwiilfpwreon_ind_8').style.opacity = 1; document.getElementById('_fs_hiahjrmgvwiilfpwreon_ind_8').style.opacity = 1;\"onmouseout=\"document.getElementById('_fb_hiahjrmgvwiilfpwreon_ind_8').style.opacity = 0; document.getElementById('_fs_hiahjrmgvwiilfpwreon_ind_8').style.opacity = 0;\">Don’ts for Everyone DO wash your hands for at least 20 seconds, several times a day. </div></div><div style='display: inline; text-align: center;'><div style='display: none; color: #999; padding-top: 0px; font-size: 12px;'>-0.075 / 48</div><div id='_tp_hiahjrmgvwiilfpwreon_ind_9'style='display: inline; background: rgba(30.0, 136.0, 229.0, 0.4560903149138443); border-radius: 3px; padding: 0px'onclick=\"if (this.previousSibling.style.display == 'none') {this.previousSibling.style.display = 'block';this.parentNode.style.display = 'inline-block';} else {this.previousSibling.style.display = 'none';this.parentNode.style.display = 'inline';}\"onmouseover=\"document.getElementById('_fb_hiahjrmgvwiilfpwreon_ind_9').style.opacity = 1; document.getElementById('_fs_hiahjrmgvwiilfpwreon_ind_9').style.opacity = 1;\"onmouseout=\"document.getElementById('_fb_hiahjrmgvwiilfpwreon_ind_9').style.opacity = 0; document.getElementById('_fs_hiahjrmgvwiilfpwreon_ind_9').style.opacity = 0;\">Use soap and water or a hand sanitizer with at least 60% alcohol: Before cooking or eating After using the bathroom After blowing your nose, coughing, or sneezing DON’T touch your eyes, nose, and mouth. </div></div><div style='display: inline; text-align: center;'><div style='display: none; color: #999; padding-top: 0px; font-size: 12px;'>-0.039 / 58</div><div id='_tp_hiahjrmgvwiilfpwreon_ind_10'style='display: inline; background: rgba(30.0, 136.0, 229.0, 0.23537334125569417); border-radius: 3px; padding: 0px'onclick=\"if (this.previousSibling.style.display == 'none') {this.previousSibling.style.display = 'block';this.parentNode.style.display = 'inline-block';} else {this.previousSibling.style.display = 'none';this.parentNode.style.display = 'inline';}\"onmouseover=\"document.getElementById('_fb_hiahjrmgvwiilfpwreon_ind_10').style.opacity = 1; document.getElementById('_fs_hiahjrmgvwiilfpwreon_ind_10').style.opacity = 1;\"onmouseout=\"document.getElementById('_fb_hiahjrmgvwiilfpwreon_ind_10').style.opacity = 0; document.getElementById('_fs_hiahjrmgvwiilfpwreon_ind_10').style.opacity = 0;\">If you have somehow come into contact with the virus, touching your face can help it enter your body. DO learn the symptoms, which are similar to flu and may not emerge until 14 days after exposure: Fever Cough Shortness of breath Most cases do not start with a runny nose. </div></div><div style='display: inline; text-align: center;'><div style='display: none; color: #999; padding-top: 0px; font-size: 12px;'>0.016 / 12</div><div id='_tp_hiahjrmgvwiilfpwreon_ind_11'style='display: inline; background: rgba(255.0, 13.0, 87.0, 0.09348385818974037); border-radius: 3px; padding: 0px'onclick=\"if (this.previousSibling.style.display == 'none') {this.previousSibling.style.display = 'block';this.parentNode.style.display = 'inline-block';} else {this.previousSibling.style.display = 'none';this.parentNode.style.display = 'inline';}\"onmouseover=\"document.getElementById('_fb_hiahjrmgvwiilfpwreon_ind_11').style.opacity = 1; document.getElementById('_fs_hiahjrmgvwiilfpwreon_ind_11').style.opacity = 1;\"onmouseout=\"document.getElementById('_fb_hiahjrmgvwiilfpwreon_ind_11').style.opacity = 0; document.getElementById('_fs_hiahjrmgvwiilfpwreon_ind_11').style.opacity = 0;\">DON’T wear a mask unless you’re sick. </div></div><div style='display: inline; text-align: center;'><div style='display: none; color: #999; padding-top: 0px; font-size: 12px;'>-0.031 / 9</div><div id='_tp_hiahjrmgvwiilfpwreon_ind_12'style='display: inline; background: rgba(30.0, 136.0, 229.0, 0.1880768469003762); border-radius: 3px; padding: 0px'onclick=\"if (this.previousSibling.style.display == 'none') {this.previousSibling.style.display = 'block';this.parentNode.style.display = 'inline-block';} else {this.previousSibling.style.display = 'none';this.parentNode.style.display = 'inline';}\"onmouseover=\"document.getElementById('_fb_hiahjrmgvwiilfpwreon_ind_12').style.opacity = 1; document.getElementById('_fs_hiahjrmgvwiilfpwreon_ind_12').style.opacity = 1;\"onmouseout=\"document.getElementById('_fb_hiahjrmgvwiilfpwreon_ind_12').style.opacity = 0; document.getElementById('_fs_hiahjrmgvwiilfpwreon_ind_12').style.opacity = 0;\">Masks help protect others from catching the virus, </div></div><div style='display: inline; text-align: center;'><div style='display: none; color: #999; padding-top: 0px; font-size: 12px;'>-0.012</div><div id='_tp_hiahjrmgvwiilfpwreon_ind_13'style='display: inline; background: rgba(30.0, 136.0, 229.0, 0.06983561101208147); border-radius: 3px; padding: 0px'onclick=\"if (this.previousSibling.style.display == 'none') {this.previousSibling.style.display = 'block';this.parentNode.style.display = 'inline-block';} else {this.previousSibling.style.display = 'none';this.parentNode.style.display = 'inline';}\"onmouseover=\"document.getElementById('_fb_hiahjrmgvwiilfpwreon_ind_13').style.opacity = 1; document.getElementById('_fs_hiahjrmgvwiilfpwreon_ind_13').style.opacity = 1;\"onmouseout=\"document.getElementById('_fb_hiahjrmgvwiilfpwreon_ind_13').style.opacity = 0; document.getElementById('_fs_hiahjrmgvwiilfpwreon_ind_13').style.opacity = 0;\">but </div></div><div style='display: inline; text-align: center;'><div style='display: none; color: #999; padding-top: 0px; font-size: 12px;'>-0.041 / 4</div><div id='_tp_hiahjrmgvwiilfpwreon_ind_14'style='display: inline; background: rgba(30.0, 136.0, 229.0, 0.25113883937413345); border-radius: 3px; padding: 0px'onclick=\"if (this.previousSibling.style.display == 'none') {this.previousSibling.style.display = 'block';this.parentNode.style.display = 'inline-block';} else {this.previousSibling.style.display = 'none';this.parentNode.style.display = 'inline';}\"onmouseover=\"document.getElementById('_fb_hiahjrmgvwiilfpwreon_ind_14').style.opacity = 1; document.getElementById('_fs_hiahjrmgvwiilfpwreon_ind_14').style.opacity = 1;\"onmouseout=\"document.getElementById('_fb_hiahjrmgvwiilfpwreon_ind_14').style.opacity = 0; document.getElementById('_fs_hiahjrmgvwiilfpwreon_ind_14').style.opacity = 0;\">wearing one when you</div></div><div style='display: inline; text-align: center;'><div style='display: none; color: #999; padding-top: 0px; font-size: 12px;'>0.036 / 4</div><div id='_tp_hiahjrmgvwiilfpwreon_ind_15'style='display: inline; background: rgba(255.0, 13.0, 87.0, 0.2117250940780353); border-radius: 3px; padding: 0px'onclick=\"if (this.previousSibling.style.display == 'none') {this.previousSibling.style.display = 'block';this.parentNode.style.display = 'inline-block';} else {this.previousSibling.style.display = 'none';this.parentNode.style.display = 'inline';}\"onmouseover=\"document.getElementById('_fb_hiahjrmgvwiilfpwreon_ind_15').style.opacity = 1; document.getElementById('_fs_hiahjrmgvwiilfpwreon_ind_15').style.opacity = 1;\"onmouseout=\"document.getElementById('_fb_hiahjrmgvwiilfpwreon_ind_15').style.opacity = 0; document.getElementById('_fs_hiahjrmgvwiilfpwreon_ind_15').style.opacity = 0;\">’re healthy won</div></div><div style='display: inline; text-align: center;'><div style='display: none; color: #999; padding-top: 0px; font-size: 12px;'>-0.017 / 5</div><div id='_tp_hiahjrmgvwiilfpwreon_ind_16'style='display: inline; background: rgba(30.0, 136.0, 229.0, 0.10136660724896014); border-radius: 3px; padding: 0px'onclick=\"if (this.previousSibling.style.display == 'none') {this.previousSibling.style.display = 'block';this.parentNode.style.display = 'inline-block';} else {this.previousSibling.style.display = 'none';this.parentNode.style.display = 'inline';}\"onmouseover=\"document.getElementById('_fb_hiahjrmgvwiilfpwreon_ind_16').style.opacity = 1; document.getElementById('_fs_hiahjrmgvwiilfpwreon_ind_16').style.opacity = 1;\"onmouseout=\"document.getElementById('_fb_hiahjrmgvwiilfpwreon_ind_16').style.opacity = 0; document.getElementById('_fs_hiahjrmgvwiilfpwreon_ind_16').style.opacity = 0;\">’t do much. </div></div><div style='display: inline; text-align: center;'><div style='display: none; color: #999; padding-top: 0px; font-size: 12px;'>-0.163 / 2</div><div id='_tp_hiahjrmgvwiilfpwreon_ind_17'style='display: inline; background: rgba(30.0, 136.0, 229.0, 1.0); border-radius: 3px; padding: 0px'onclick=\"if (this.previousSibling.style.display == 'none') {this.previousSibling.style.display = 'block';this.parentNode.style.display = 'inline-block';} else {this.previousSibling.style.display = 'none';this.parentNode.style.display = 'inline';}\"onmouseover=\"document.getElementById('_fb_hiahjrmgvwiilfpwreon_ind_17').style.opacity = 1; document.getElementById('_fs_hiahjrmgvwiilfpwreon_ind_17').style.opacity = 1;\"onmouseout=\"document.getElementById('_fb_hiahjrmgvwiilfpwreon_ind_17').style.opacity = 0; document.getElementById('_fs_hiahjrmgvwiilfpwreon_ind_17').style.opacity = 0;\">Demand has </div></div><div style='display: inline; text-align: center;'><div style='display: none; color: #999; padding-top: 0px; font-size: 12px;'>-0.074 / 2</div><div id='_tp_hiahjrmgvwiilfpwreon_ind_18'style='display: inline; background: rgba(30.0, 136.0, 229.0, 0.4560903149138443); border-radius: 3px; padding: 0px'onclick=\"if (this.previousSibling.style.display == 'none') {this.previousSibling.style.display = 'block';this.parentNode.style.display = 'inline-block';} else {this.previousSibling.style.display = 'none';this.parentNode.style.display = 'inline';}\"onmouseover=\"document.getElementById('_fb_hiahjrmgvwiilfpwreon_ind_18').style.opacity = 1; document.getElementById('_fs_hiahjrmgvwiilfpwreon_ind_18').style.opacity = 1;\"onmouseout=\"document.getElementById('_fb_hiahjrmgvwiilfpwreon_ind_18').style.opacity = 0; document.getElementById('_fs_hiahjrmgvwiilfpwreon_ind_18').style.opacity = 0;\">been so </div></div><div style='display: inline; text-align: center;'><div style='display: none; color: #999; padding-top: 0px; font-size: 12px;'>0.014 / 5</div><div id='_tp_hiahjrmgvwiilfpwreon_ind_19'style='display: inline; background: rgba(255.0, 13.0, 87.0, 0.07771836007130124); border-radius: 3px; padding: 0px'onclick=\"if (this.previousSibling.style.display == 'none') {this.previousSibling.style.display = 'block';this.parentNode.style.display = 'inline-block';} else {this.previousSibling.style.display = 'none';this.parentNode.style.display = 'inline';}\"onmouseover=\"document.getElementById('_fb_hiahjrmgvwiilfpwreon_ind_19').style.opacity = 1; document.getElementById('_fs_hiahjrmgvwiilfpwreon_ind_19').style.opacity = 1;\"onmouseout=\"document.getElementById('_fb_hiahjrmgvwiilfpwreon_ind_19').style.opacity = 0; document.getElementById('_fs_hiahjrmgvwiilfpwreon_ind_19').style.opacity = 0;\">high in the U.</div></div><div style='display: inline; text-align: center;'><div style='display: none; color: #999; padding-top: 0px; font-size: 12px;'>0.027 / 2</div><div id='_tp_hiahjrmgvwiilfpwreon_ind_20'style='display: inline; background: rgba(255.0, 13.0, 87.0, 0.16442859972271742); border-radius: 3px; padding: 0px'onclick=\"if (this.previousSibling.style.display == 'none') {this.previousSibling.style.display = 'block';this.parentNode.style.display = 'inline-block';} else {this.previousSibling.style.display = 'none';this.parentNode.style.display = 'inline';}\"onmouseover=\"document.getElementById('_fb_hiahjrmgvwiilfpwreon_ind_20').style.opacity = 1; document.getElementById('_fs_hiahjrmgvwiilfpwreon_ind_20').style.opacity = 1;\"onmouseout=\"document.getElementById('_fb_hiahjrmgvwiilfpwreon_ind_20').style.opacity = 0; document.getElementById('_fs_hiahjrmgvwiilfpwreon_ind_20').style.opacity = 0;\">S. </div></div><div style='display: inline; text-align: center;'><div style='display: none; color: #999; padding-top: 0px; font-size: 12px;'>0.055 / 10</div><div id='_tp_hiahjrmgvwiilfpwreon_ind_21'style='display: inline; background: rgba(255.0, 13.0, 87.0, 0.3299663299663301); border-radius: 3px; padding: 0px'onclick=\"if (this.previousSibling.style.display == 'none') {this.previousSibling.style.display = 'block';this.parentNode.style.display = 'inline-block';} else {this.previousSibling.style.display = 'none';this.parentNode.style.display = 'inline';}\"onmouseover=\"document.getElementById('_fb_hiahjrmgvwiilfpwreon_ind_21').style.opacity = 1; document.getElementById('_fs_hiahjrmgvwiilfpwreon_ind_21').style.opacity = 1;\"onmouseout=\"document.getElementById('_fb_hiahjrmgvwiilfpwreon_ind_21').style.opacity = 0; document.getElementById('_fs_hiahjrmgvwiilfpwreon_ind_21').style.opacity = 0;\">that health care workeres are improvising. </div></div><div style='display: inline; text-align: center;'><div style='display: none; color: #999; padding-top: 0px; font-size: 12px;'>0.109 / 18</div><div id='_tp_hiahjrmgvwiilfpwreon_ind_22'style='display: inline; background: rgba(255.0, 13.0, 87.0, 0.6689245395127748); border-radius: 3px; padding: 0px'onclick=\"if (this.previousSibling.style.display == 'none') {this.previousSibling.style.display = 'block';this.parentNode.style.display = 'inline-block';} else {this.previousSibling.style.display = 'none';this.parentNode.style.display = 'inline';}\"onmouseover=\"document.getElementById('_fb_hiahjrmgvwiilfpwreon_ind_22').style.opacity = 1; document.getElementById('_fs_hiahjrmgvwiilfpwreon_ind_22').style.opacity = 1;\"onmouseout=\"document.getElementById('_fb_hiahjrmgvwiilfpwreon_ind_22').style.opacity = 0; document.getElementById('_fs_hiahjrmgvwiilfpwreon_ind_22').style.opacity = 0;\">Leave the masks for people who really need them, like the sick or health care professionals. </div></div><div style='display: inline; text-align: center;'><div style='display: none; color: #999; padding-top: 0px; font-size: 12px;'>-0.0 / 108</div><div id='_tp_hiahjrmgvwiilfpwreon_ind_23'style='display: inline; background: rgba(54.70588235294111, 122.49411764705886, 213.40784313725496, 0.0); border-radius: 3px; padding: 0px'onclick=\"if (this.previousSibling.style.display == 'none') {this.previousSibling.style.display = 'block';this.parentNode.style.display = 'inline-block';} else {this.previousSibling.style.display = 'none';this.parentNode.style.display = 'inline';}\"onmouseover=\"document.getElementById('_fb_hiahjrmgvwiilfpwreon_ind_23').style.opacity = 1; document.getElementById('_fs_hiahjrmgvwiilfpwreon_ind_23').style.opacity = 1;\"onmouseout=\"document.getElementById('_fb_hiahjrmgvwiilfpwreon_ind_23').style.opacity = 0; document.getElementById('_fs_hiahjrmgvwiilfpwreon_ind_23').style.opacity = 0;\">DO consider taking extra precautions and staying out of public places if you’re over 60 years old, or have a condition, as you have a higher risk of developing the disease. Note that as of now, the highest-risk groups appear to be seniors and people with preexisting conditions like heart disease, chronic respiratory diseases, and diabetes. DON’T assume young people won’t get gravely ill or even die. As of March 16, 38% of all hospitalizations were of people 20-to-54 years old. </div></div><div style='display: inline; text-align: center;'><div style='display: none; color: #999; padding-top: 0px; font-size: 12px;'>-0.0 / 63</div><div id='_tp_hiahjrmgvwiilfpwreon_ind_24'style='display: inline; background: rgba(54.70588235294111, 122.49411764705886, 213.40784313725496, 0.0); border-radius: 3px; padding: 0px'onclick=\"if (this.previousSibling.style.display == 'none') {this.previousSibling.style.display = 'block';this.parentNode.style.display = 'inline-block';} else {this.previousSibling.style.display = 'none';this.parentNode.style.display = 'inline';}\"onmouseover=\"document.getElementById('_fb_hiahjrmgvwiilfpwreon_ind_24').style.opacity = 1; document.getElementById('_fs_hiahjrmgvwiilfpwreon_ind_24').style.opacity = 1;\"onmouseout=\"document.getElementById('_fb_hiahjrmgvwiilfpwreon_ind_24').style.opacity = 0; document.getElementById('_fs_hiahjrmgvwiilfpwreon_ind_24').style.opacity = 0;\">DO assume you’ve been exposed, if you live in an area with a lot of community transmission. That’s what New Yorkers have been told. DON’T travel if you have a fever. If you get sick on flight, tell crew immediately. When you get home, contact a health professional.</div></div><div style='display: inline; text-align: center;'><div style='display: none; color: #999; padding-top: 0px; font-size: 12px;'>-0.0</div><div id='_tp_hiahjrmgvwiilfpwreon_ind_25'style='display: inline; background: rgba(54.70588235294111, 122.49411764705886, 213.40784313725496, 0.0); border-radius: 3px; padding: 0px'onclick=\"if (this.previousSibling.style.display == 'none') {this.previousSibling.style.display = 'block';this.parentNode.style.display = 'inline-block';} else {this.previousSibling.style.display = 'none';this.parentNode.style.display = 'inline';}\"onmouseover=\"document.getElementById('_fb_hiahjrmgvwiilfpwreon_ind_25').style.opacity = 1; document.getElementById('_fs_hiahjrmgvwiilfpwreon_ind_25').style.opacity = 1;\"onmouseout=\"document.getElementById('_fb_hiahjrmgvwiilfpwreon_ind_25').style.opacity = 0; document.getElementById('_fs_hiahjrmgvwiilfpwreon_ind_25').style.opacity = 0;\"></div></div>"
            ],
            "text/plain": [
              "<IPython.core.display.HTML object>"
            ]
          },
          "metadata": {},
          "output_type": "display_data"
        }
      ],
      "source": [
        "modtxt = checkit[0]\n",
        "vals = score_and_visualize(modtxt)"
      ],
      "id": "FldC3yJIVhYd"
    },
    {
      "cell_type": "code",
      "execution_count": null,
      "metadata": {
        "colab": {
          "base_uri": "https://localhost:8080/",
          "height": 35
        },
        "id": "7sswCMgftmPi",
        "outputId": "c2cafcf8-8935-47c9-b3d8-1602a882224b"
      },
      "outputs": [
        {
          "data": {
            "application/vnd.google.colaboratory.intrinsic+json": {
              "type": "string"
            },
            "text/plain": [
              "'but '"
            ]
          },
          "execution_count": 102,
          "metadata": {},
          "output_type": "execute_result"
        }
      ],
      "source": [
        "df = pd.DataFrame({'v':vals.values[0], 'l':vals.data[0]})\n",
        "df = df.sort_values(by=\"v\", ascending=True)\n",
        "df[:1][\"l\"].values[0]"
      ],
      "id": "7sswCMgftmPi"
    }
  ],
  "metadata": {
    "accelerator": "GPU",
    "colab": {
      "collapsed_sections": [],
      "name": "mmcovid_en_SHAP.ipynb",
      "provenance": []
    },
    "gpuClass": "standard",
    "kernelspec": {
      "display_name": "Python 3 (ipykernel)",
      "language": "python",
      "name": "python3"
    },
    "language_info": {
      "codemirror_mode": {
        "name": "ipython",
        "version": 3
      },
      "file_extension": ".py",
      "mimetype": "text/x-python",
      "name": "python",
      "nbconvert_exporter": "python",
      "pygments_lexer": "ipython3",
      "version": "3.9.7"
    },
    "widgets": {
      "application/vnd.jupyter.widget-state+json": {
        "00c7ed5d85134f72865853e66f2b3fb5": {
          "model_module": "@jupyter-widgets/base",
          "model_module_version": "1.2.0",
          "model_name": "LayoutModel",
          "state": {
            "_model_module": "@jupyter-widgets/base",
            "_model_module_version": "1.2.0",
            "_model_name": "LayoutModel",
            "_view_count": null,
            "_view_module": "@jupyter-widgets/base",
            "_view_module_version": "1.2.0",
            "_view_name": "LayoutView",
            "align_content": null,
            "align_items": null,
            "align_self": null,
            "border": null,
            "bottom": null,
            "display": null,
            "flex": null,
            "flex_flow": null,
            "grid_area": null,
            "grid_auto_columns": null,
            "grid_auto_flow": null,
            "grid_auto_rows": null,
            "grid_column": null,
            "grid_gap": null,
            "grid_row": null,
            "grid_template_areas": null,
            "grid_template_columns": null,
            "grid_template_rows": null,
            "height": null,
            "justify_content": null,
            "justify_items": null,
            "left": null,
            "margin": null,
            "max_height": null,
            "max_width": null,
            "min_height": null,
            "min_width": null,
            "object_fit": null,
            "object_position": null,
            "order": null,
            "overflow": null,
            "overflow_x": null,
            "overflow_y": null,
            "padding": null,
            "right": null,
            "top": null,
            "visibility": null,
            "width": null
          }
        },
        "00f60700532f4b819821ec2451a912aa": {
          "model_module": "@jupyter-widgets/base",
          "model_module_version": "1.2.0",
          "model_name": "LayoutModel",
          "state": {
            "_model_module": "@jupyter-widgets/base",
            "_model_module_version": "1.2.0",
            "_model_name": "LayoutModel",
            "_view_count": null,
            "_view_module": "@jupyter-widgets/base",
            "_view_module_version": "1.2.0",
            "_view_name": "LayoutView",
            "align_content": null,
            "align_items": null,
            "align_self": null,
            "border": null,
            "bottom": null,
            "display": null,
            "flex": null,
            "flex_flow": null,
            "grid_area": null,
            "grid_auto_columns": null,
            "grid_auto_flow": null,
            "grid_auto_rows": null,
            "grid_column": null,
            "grid_gap": null,
            "grid_row": null,
            "grid_template_areas": null,
            "grid_template_columns": null,
            "grid_template_rows": null,
            "height": null,
            "justify_content": null,
            "justify_items": null,
            "left": null,
            "margin": null,
            "max_height": null,
            "max_width": null,
            "min_height": null,
            "min_width": null,
            "object_fit": null,
            "object_position": null,
            "order": null,
            "overflow": null,
            "overflow_x": null,
            "overflow_y": null,
            "padding": null,
            "right": null,
            "top": null,
            "visibility": null,
            "width": null
          }
        },
        "05d0776b711a468780d62db8c57185c5": {
          "model_module": "@jupyter-widgets/controls",
          "model_module_version": "1.5.0",
          "model_name": "HBoxModel",
          "state": {
            "_dom_classes": [],
            "_model_module": "@jupyter-widgets/controls",
            "_model_module_version": "1.5.0",
            "_model_name": "HBoxModel",
            "_view_count": null,
            "_view_module": "@jupyter-widgets/controls",
            "_view_module_version": "1.5.0",
            "_view_name": "HBoxView",
            "box_style": "",
            "children": [
              "IPY_MODEL_d1a5e817b2bd4696bf76e8648c025bed",
              "IPY_MODEL_3e9fafb6deaa45c4b73444827e39ea5b",
              "IPY_MODEL_1f2e92bc437445e1a0c7e2058633321a"
            ],
            "layout": "IPY_MODEL_d57c6b30be7040ffabab0d615f1e0f0f"
          }
        },
        "0b210364b3224df195fee290a0d868cf": {
          "model_module": "@jupyter-widgets/controls",
          "model_module_version": "1.5.0",
          "model_name": "HBoxModel",
          "state": {
            "_dom_classes": [],
            "_model_module": "@jupyter-widgets/controls",
            "_model_module_version": "1.5.0",
            "_model_name": "HBoxModel",
            "_view_count": null,
            "_view_module": "@jupyter-widgets/controls",
            "_view_module_version": "1.5.0",
            "_view_name": "HBoxView",
            "box_style": "",
            "children": [
              "IPY_MODEL_273205e7086b438291632405adc48190",
              "IPY_MODEL_604971655da74bd1b1e2c96867d7421e",
              "IPY_MODEL_c14263f75de84b948ac0cbef659832a5"
            ],
            "layout": "IPY_MODEL_286f85587be9481bb0f41b5b4ee160dd"
          }
        },
        "0ebb0ef722004c8da22dfb76f4915106": {
          "model_module": "@jupyter-widgets/base",
          "model_module_version": "1.2.0",
          "model_name": "LayoutModel",
          "state": {
            "_model_module": "@jupyter-widgets/base",
            "_model_module_version": "1.2.0",
            "_model_name": "LayoutModel",
            "_view_count": null,
            "_view_module": "@jupyter-widgets/base",
            "_view_module_version": "1.2.0",
            "_view_name": "LayoutView",
            "align_content": null,
            "align_items": null,
            "align_self": null,
            "border": null,
            "bottom": null,
            "display": null,
            "flex": null,
            "flex_flow": null,
            "grid_area": null,
            "grid_auto_columns": null,
            "grid_auto_flow": null,
            "grid_auto_rows": null,
            "grid_column": null,
            "grid_gap": null,
            "grid_row": null,
            "grid_template_areas": null,
            "grid_template_columns": null,
            "grid_template_rows": null,
            "height": null,
            "justify_content": null,
            "justify_items": null,
            "left": null,
            "margin": null,
            "max_height": null,
            "max_width": null,
            "min_height": null,
            "min_width": null,
            "object_fit": null,
            "object_position": null,
            "order": null,
            "overflow": null,
            "overflow_x": null,
            "overflow_y": null,
            "padding": null,
            "right": null,
            "top": null,
            "visibility": null,
            "width": null
          }
        },
        "10fabee83d9a4d4cab3b2c0fdfbbc591": {
          "model_module": "@jupyter-widgets/controls",
          "model_module_version": "1.5.0",
          "model_name": "FloatProgressModel",
          "state": {
            "_dom_classes": [],
            "_model_module": "@jupyter-widgets/controls",
            "_model_module_version": "1.5.0",
            "_model_name": "FloatProgressModel",
            "_view_count": null,
            "_view_module": "@jupyter-widgets/controls",
            "_view_module_version": "1.5.0",
            "_view_name": "ProgressView",
            "bar_style": "success",
            "description": "",
            "description_tooltip": null,
            "layout": "IPY_MODEL_d86fe76bee2c436b9d181588c711190d",
            "max": 848917,
            "min": 0,
            "orientation": "horizontal",
            "style": "IPY_MODEL_c001aad9162042bebde6d9f74d9749af",
            "value": 848917
          }
        },
        "14d9207f5c6e419980721a0df2dfeb75": {
          "model_module": "@jupyter-widgets/base",
          "model_module_version": "1.2.0",
          "model_name": "LayoutModel",
          "state": {
            "_model_module": "@jupyter-widgets/base",
            "_model_module_version": "1.2.0",
            "_model_name": "LayoutModel",
            "_view_count": null,
            "_view_module": "@jupyter-widgets/base",
            "_view_module_version": "1.2.0",
            "_view_name": "LayoutView",
            "align_content": null,
            "align_items": null,
            "align_self": null,
            "border": null,
            "bottom": null,
            "display": null,
            "flex": null,
            "flex_flow": null,
            "grid_area": null,
            "grid_auto_columns": null,
            "grid_auto_flow": null,
            "grid_auto_rows": null,
            "grid_column": null,
            "grid_gap": null,
            "grid_row": null,
            "grid_template_areas": null,
            "grid_template_columns": null,
            "grid_template_rows": null,
            "height": null,
            "justify_content": null,
            "justify_items": null,
            "left": null,
            "margin": null,
            "max_height": null,
            "max_width": null,
            "min_height": null,
            "min_width": null,
            "object_fit": null,
            "object_position": null,
            "order": null,
            "overflow": null,
            "overflow_x": null,
            "overflow_y": null,
            "padding": null,
            "right": null,
            "top": null,
            "visibility": null,
            "width": null
          }
        },
        "1b4e1edadc1e454485d4defd5da94412": {
          "model_module": "@jupyter-widgets/base",
          "model_module_version": "1.2.0",
          "model_name": "LayoutModel",
          "state": {
            "_model_module": "@jupyter-widgets/base",
            "_model_module_version": "1.2.0",
            "_model_name": "LayoutModel",
            "_view_count": null,
            "_view_module": "@jupyter-widgets/base",
            "_view_module_version": "1.2.0",
            "_view_name": "LayoutView",
            "align_content": null,
            "align_items": null,
            "align_self": null,
            "border": null,
            "bottom": null,
            "display": null,
            "flex": null,
            "flex_flow": null,
            "grid_area": null,
            "grid_auto_columns": null,
            "grid_auto_flow": null,
            "grid_auto_rows": null,
            "grid_column": null,
            "grid_gap": null,
            "grid_row": null,
            "grid_template_areas": null,
            "grid_template_columns": null,
            "grid_template_rows": null,
            "height": null,
            "justify_content": null,
            "justify_items": null,
            "left": null,
            "margin": null,
            "max_height": null,
            "max_width": null,
            "min_height": null,
            "min_width": null,
            "object_fit": null,
            "object_position": null,
            "order": null,
            "overflow": null,
            "overflow_x": null,
            "overflow_y": null,
            "padding": null,
            "right": null,
            "top": null,
            "visibility": null,
            "width": null
          }
        },
        "1f2e92bc437445e1a0c7e2058633321a": {
          "model_module": "@jupyter-widgets/controls",
          "model_module_version": "1.5.0",
          "model_name": "HTMLModel",
          "state": {
            "_dom_classes": [],
            "_model_module": "@jupyter-widgets/controls",
            "_model_module_version": "1.5.0",
            "_model_name": "HTMLModel",
            "_view_count": null,
            "_view_module": "@jupyter-widgets/controls",
            "_view_module_version": "1.5.0",
            "_view_name": "HTMLView",
            "description": "",
            "description_tooltip": null,
            "layout": "IPY_MODEL_e8bda5348caf483a9f776476831d168e",
            "placeholder": "​",
            "style": "IPY_MODEL_fe917bcb27cb4917a9bd62bfff521a12",
            "value": " 455k/455k [00:00&lt;00:00, 1.69MB/s]"
          }
        },
        "213546fa8f79472895b9499bb82cada2": {
          "model_module": "@jupyter-widgets/controls",
          "model_module_version": "1.5.0",
          "model_name": "HBoxModel",
          "state": {
            "_dom_classes": [],
            "_model_module": "@jupyter-widgets/controls",
            "_model_module_version": "1.5.0",
            "_model_name": "HBoxModel",
            "_view_count": null,
            "_view_module": "@jupyter-widgets/controls",
            "_view_module_version": "1.5.0",
            "_view_name": "HBoxView",
            "box_style": "",
            "children": [
              "IPY_MODEL_e6f25153022d4320abbea94e24510146",
              "IPY_MODEL_7dcc9f44f687403aa9eebf1b6b004616",
              "IPY_MODEL_f99aee65bee34fc5ab4446d0ef8f7cb7"
            ],
            "layout": "IPY_MODEL_3ae6b2f611064eee82e10796ba816f20"
          }
        },
        "24b3fbb7d68743079446ec95ecdfa1ea": {
          "model_module": "@jupyter-widgets/controls",
          "model_module_version": "1.5.0",
          "model_name": "DescriptionStyleModel",
          "state": {
            "_model_module": "@jupyter-widgets/controls",
            "_model_module_version": "1.5.0",
            "_model_name": "DescriptionStyleModel",
            "_view_count": null,
            "_view_module": "@jupyter-widgets/base",
            "_view_module_version": "1.2.0",
            "_view_name": "StyleView",
            "description_width": ""
          }
        },
        "258e9dc946e0486abab2f56c1ec51695": {
          "model_module": "@jupyter-widgets/controls",
          "model_module_version": "1.5.0",
          "model_name": "DescriptionStyleModel",
          "state": {
            "_model_module": "@jupyter-widgets/controls",
            "_model_module_version": "1.5.0",
            "_model_name": "DescriptionStyleModel",
            "_view_count": null,
            "_view_module": "@jupyter-widgets/base",
            "_view_module_version": "1.2.0",
            "_view_name": "StyleView",
            "description_width": ""
          }
        },
        "26cdd5abdd6d41159d46856f03eac299": {
          "model_module": "@jupyter-widgets/base",
          "model_module_version": "1.2.0",
          "model_name": "LayoutModel",
          "state": {
            "_model_module": "@jupyter-widgets/base",
            "_model_module_version": "1.2.0",
            "_model_name": "LayoutModel",
            "_view_count": null,
            "_view_module": "@jupyter-widgets/base",
            "_view_module_version": "1.2.0",
            "_view_name": "LayoutView",
            "align_content": null,
            "align_items": null,
            "align_self": null,
            "border": null,
            "bottom": null,
            "display": null,
            "flex": null,
            "flex_flow": null,
            "grid_area": null,
            "grid_auto_columns": null,
            "grid_auto_flow": null,
            "grid_auto_rows": null,
            "grid_column": null,
            "grid_gap": null,
            "grid_row": null,
            "grid_template_areas": null,
            "grid_template_columns": null,
            "grid_template_rows": null,
            "height": null,
            "justify_content": null,
            "justify_items": null,
            "left": null,
            "margin": null,
            "max_height": null,
            "max_width": null,
            "min_height": null,
            "min_width": null,
            "object_fit": null,
            "object_position": null,
            "order": null,
            "overflow": null,
            "overflow_x": null,
            "overflow_y": null,
            "padding": null,
            "right": null,
            "top": null,
            "visibility": null,
            "width": null
          }
        },
        "273205e7086b438291632405adc48190": {
          "model_module": "@jupyter-widgets/controls",
          "model_module_version": "1.5.0",
          "model_name": "HTMLModel",
          "state": {
            "_dom_classes": [],
            "_model_module": "@jupyter-widgets/controls",
            "_model_module_version": "1.5.0",
            "_model_name": "HTMLModel",
            "_view_count": null,
            "_view_module": "@jupyter-widgets/controls",
            "_view_module_version": "1.5.0",
            "_view_name": "HTMLView",
            "description": "",
            "description_tooltip": null,
            "layout": "IPY_MODEL_c4bbff25a26848b98e9991192efa38fc",
            "placeholder": "​",
            "style": "IPY_MODEL_6b5caca9f53c4212b26d27c2d5605462",
            "value": "Downloading vocab-src.json: 100%"
          }
        },
        "286f85587be9481bb0f41b5b4ee160dd": {
          "model_module": "@jupyter-widgets/base",
          "model_module_version": "1.2.0",
          "model_name": "LayoutModel",
          "state": {
            "_model_module": "@jupyter-widgets/base",
            "_model_module_version": "1.2.0",
            "_model_name": "LayoutModel",
            "_view_count": null,
            "_view_module": "@jupyter-widgets/base",
            "_view_module_version": "1.2.0",
            "_view_name": "LayoutView",
            "align_content": null,
            "align_items": null,
            "align_self": null,
            "border": null,
            "bottom": null,
            "display": null,
            "flex": null,
            "flex_flow": null,
            "grid_area": null,
            "grid_auto_columns": null,
            "grid_auto_flow": null,
            "grid_auto_rows": null,
            "grid_column": null,
            "grid_gap": null,
            "grid_row": null,
            "grid_template_areas": null,
            "grid_template_columns": null,
            "grid_template_rows": null,
            "height": null,
            "justify_content": null,
            "justify_items": null,
            "left": null,
            "margin": null,
            "max_height": null,
            "max_width": null,
            "min_height": null,
            "min_width": null,
            "object_fit": null,
            "object_position": null,
            "order": null,
            "overflow": null,
            "overflow_x": null,
            "overflow_y": null,
            "padding": null,
            "right": null,
            "top": null,
            "visibility": null,
            "width": null
          }
        },
        "2f9fb3df41924d65a836376e1eac1b44": {
          "model_module": "@jupyter-widgets/controls",
          "model_module_version": "1.5.0",
          "model_name": "ProgressStyleModel",
          "state": {
            "_model_module": "@jupyter-widgets/controls",
            "_model_module_version": "1.5.0",
            "_model_name": "ProgressStyleModel",
            "_view_count": null,
            "_view_module": "@jupyter-widgets/base",
            "_view_module_version": "1.2.0",
            "_view_name": "StyleView",
            "bar_color": null,
            "description_width": ""
          }
        },
        "32164c7f1ed14cea817ff870d9d5788c": {
          "model_module": "@jupyter-widgets/base",
          "model_module_version": "1.2.0",
          "model_name": "LayoutModel",
          "state": {
            "_model_module": "@jupyter-widgets/base",
            "_model_module_version": "1.2.0",
            "_model_name": "LayoutModel",
            "_view_count": null,
            "_view_module": "@jupyter-widgets/base",
            "_view_module_version": "1.2.0",
            "_view_name": "LayoutView",
            "align_content": null,
            "align_items": null,
            "align_self": null,
            "border": null,
            "bottom": null,
            "display": null,
            "flex": null,
            "flex_flow": null,
            "grid_area": null,
            "grid_auto_columns": null,
            "grid_auto_flow": null,
            "grid_auto_rows": null,
            "grid_column": null,
            "grid_gap": null,
            "grid_row": null,
            "grid_template_areas": null,
            "grid_template_columns": null,
            "grid_template_rows": null,
            "height": null,
            "justify_content": null,
            "justify_items": null,
            "left": null,
            "margin": null,
            "max_height": null,
            "max_width": null,
            "min_height": null,
            "min_width": null,
            "object_fit": null,
            "object_position": null,
            "order": null,
            "overflow": null,
            "overflow_x": null,
            "overflow_y": null,
            "padding": null,
            "right": null,
            "top": null,
            "visibility": null,
            "width": null
          }
        },
        "37d6966cbf4a4927809798d95d29c9a8": {
          "model_module": "@jupyter-widgets/controls",
          "model_module_version": "1.5.0",
          "model_name": "HBoxModel",
          "state": {
            "_dom_classes": [],
            "_model_module": "@jupyter-widgets/controls",
            "_model_module_version": "1.5.0",
            "_model_name": "HBoxModel",
            "_view_count": null,
            "_view_module": "@jupyter-widgets/controls",
            "_view_module_version": "1.5.0",
            "_view_name": "HBoxView",
            "box_style": "",
            "children": [
              "IPY_MODEL_fd78788baffd4c609e093e8a3b4add30",
              "IPY_MODEL_a36d3f0df3684744bfef849e5519bef9",
              "IPY_MODEL_a3f14175b9b94296b680b4d74c2b032f"
            ],
            "layout": "IPY_MODEL_4d6bcb8039914bf7b10dfc443fc85c73"
          }
        },
        "3ae6b2f611064eee82e10796ba816f20": {
          "model_module": "@jupyter-widgets/base",
          "model_module_version": "1.2.0",
          "model_name": "LayoutModel",
          "state": {
            "_model_module": "@jupyter-widgets/base",
            "_model_module_version": "1.2.0",
            "_model_name": "LayoutModel",
            "_view_count": null,
            "_view_module": "@jupyter-widgets/base",
            "_view_module_version": "1.2.0",
            "_view_name": "LayoutView",
            "align_content": null,
            "align_items": null,
            "align_self": null,
            "border": null,
            "bottom": null,
            "display": null,
            "flex": null,
            "flex_flow": null,
            "grid_area": null,
            "grid_auto_columns": null,
            "grid_auto_flow": null,
            "grid_auto_rows": null,
            "grid_column": null,
            "grid_gap": null,
            "grid_row": null,
            "grid_template_areas": null,
            "grid_template_columns": null,
            "grid_template_rows": null,
            "height": null,
            "justify_content": null,
            "justify_items": null,
            "left": null,
            "margin": null,
            "max_height": null,
            "max_width": null,
            "min_height": null,
            "min_width": null,
            "object_fit": null,
            "object_position": null,
            "order": null,
            "overflow": null,
            "overflow_x": null,
            "overflow_y": null,
            "padding": null,
            "right": null,
            "top": null,
            "visibility": null,
            "width": null
          }
        },
        "3e9fafb6deaa45c4b73444827e39ea5b": {
          "model_module": "@jupyter-widgets/controls",
          "model_module_version": "1.5.0",
          "model_name": "FloatProgressModel",
          "state": {
            "_dom_classes": [],
            "_model_module": "@jupyter-widgets/controls",
            "_model_module_version": "1.5.0",
            "_model_name": "FloatProgressModel",
            "_view_count": null,
            "_view_module": "@jupyter-widgets/controls",
            "_view_module_version": "1.5.0",
            "_view_name": "ProgressView",
            "bar_style": "success",
            "description": "",
            "description_tooltip": null,
            "layout": "IPY_MODEL_e9f781bed8e7414d870094d471b1a3f7",
            "max": 466062,
            "min": 0,
            "orientation": "horizontal",
            "style": "IPY_MODEL_911d2126719b4a39b90a2a8f69624f32",
            "value": 466062
          }
        },
        "4d6bcb8039914bf7b10dfc443fc85c73": {
          "model_module": "@jupyter-widgets/base",
          "model_module_version": "1.2.0",
          "model_name": "LayoutModel",
          "state": {
            "_model_module": "@jupyter-widgets/base",
            "_model_module_version": "1.2.0",
            "_model_name": "LayoutModel",
            "_view_count": null,
            "_view_module": "@jupyter-widgets/base",
            "_view_module_version": "1.2.0",
            "_view_name": "LayoutView",
            "align_content": null,
            "align_items": null,
            "align_self": null,
            "border": null,
            "bottom": null,
            "display": null,
            "flex": null,
            "flex_flow": null,
            "grid_area": null,
            "grid_auto_columns": null,
            "grid_auto_flow": null,
            "grid_auto_rows": null,
            "grid_column": null,
            "grid_gap": null,
            "grid_row": null,
            "grid_template_areas": null,
            "grid_template_columns": null,
            "grid_template_rows": null,
            "height": null,
            "justify_content": null,
            "justify_items": null,
            "left": null,
            "margin": null,
            "max_height": null,
            "max_width": null,
            "min_height": null,
            "min_width": null,
            "object_fit": null,
            "object_position": null,
            "order": null,
            "overflow": null,
            "overflow_x": null,
            "overflow_y": null,
            "padding": null,
            "right": null,
            "top": null,
            "visibility": null,
            "width": null
          }
        },
        "4f432efec1424a1e84c8e48aa262480a": {
          "model_module": "@jupyter-widgets/base",
          "model_module_version": "1.2.0",
          "model_name": "LayoutModel",
          "state": {
            "_model_module": "@jupyter-widgets/base",
            "_model_module_version": "1.2.0",
            "_model_name": "LayoutModel",
            "_view_count": null,
            "_view_module": "@jupyter-widgets/base",
            "_view_module_version": "1.2.0",
            "_view_name": "LayoutView",
            "align_content": null,
            "align_items": null,
            "align_self": null,
            "border": null,
            "bottom": null,
            "display": null,
            "flex": null,
            "flex_flow": null,
            "grid_area": null,
            "grid_auto_columns": null,
            "grid_auto_flow": null,
            "grid_auto_rows": null,
            "grid_column": null,
            "grid_gap": null,
            "grid_row": null,
            "grid_template_areas": null,
            "grid_template_columns": null,
            "grid_template_rows": null,
            "height": null,
            "justify_content": null,
            "justify_items": null,
            "left": null,
            "margin": null,
            "max_height": null,
            "max_width": null,
            "min_height": null,
            "min_width": null,
            "object_fit": null,
            "object_position": null,
            "order": null,
            "overflow": null,
            "overflow_x": null,
            "overflow_y": null,
            "padding": null,
            "right": null,
            "top": null,
            "visibility": null,
            "width": null
          }
        },
        "500e100c2ea8406cbbe952bf696fff8d": {
          "model_module": "@jupyter-widgets/controls",
          "model_module_version": "1.5.0",
          "model_name": "DescriptionStyleModel",
          "state": {
            "_model_module": "@jupyter-widgets/controls",
            "_model_module_version": "1.5.0",
            "_model_name": "DescriptionStyleModel",
            "_view_count": null,
            "_view_module": "@jupyter-widgets/base",
            "_view_module_version": "1.2.0",
            "_view_name": "StyleView",
            "description_width": ""
          }
        },
        "50df87f96e374c9a833c99e6ccd9fabc": {
          "model_module": "@jupyter-widgets/base",
          "model_module_version": "1.2.0",
          "model_name": "LayoutModel",
          "state": {
            "_model_module": "@jupyter-widgets/base",
            "_model_module_version": "1.2.0",
            "_model_name": "LayoutModel",
            "_view_count": null,
            "_view_module": "@jupyter-widgets/base",
            "_view_module_version": "1.2.0",
            "_view_name": "LayoutView",
            "align_content": null,
            "align_items": null,
            "align_self": null,
            "border": null,
            "bottom": null,
            "display": null,
            "flex": null,
            "flex_flow": null,
            "grid_area": null,
            "grid_auto_columns": null,
            "grid_auto_flow": null,
            "grid_auto_rows": null,
            "grid_column": null,
            "grid_gap": null,
            "grid_row": null,
            "grid_template_areas": null,
            "grid_template_columns": null,
            "grid_template_rows": null,
            "height": null,
            "justify_content": null,
            "justify_items": null,
            "left": null,
            "margin": null,
            "max_height": null,
            "max_width": null,
            "min_height": null,
            "min_width": null,
            "object_fit": null,
            "object_position": null,
            "order": null,
            "overflow": null,
            "overflow_x": null,
            "overflow_y": null,
            "padding": null,
            "right": null,
            "top": null,
            "visibility": null,
            "width": null
          }
        },
        "52a1af6d3ce04d8d9345ad7013646e6d": {
          "model_module": "@jupyter-widgets/controls",
          "model_module_version": "1.5.0",
          "model_name": "HBoxModel",
          "state": {
            "_dom_classes": [],
            "_model_module": "@jupyter-widgets/controls",
            "_model_module_version": "1.5.0",
            "_model_name": "HBoxModel",
            "_view_count": null,
            "_view_module": "@jupyter-widgets/controls",
            "_view_module_version": "1.5.0",
            "_view_name": "HBoxView",
            "box_style": "",
            "children": [
              "IPY_MODEL_a89af6dd728e47d99b462c1fec1e742d",
              "IPY_MODEL_9092138fd5d140b8a5556cccebb056ed",
              "IPY_MODEL_acac398516594dd5a4765f2dad183562"
            ],
            "layout": "IPY_MODEL_26cdd5abdd6d41159d46856f03eac299"
          }
        },
        "531cdc4756ac42dfa1f962fc9eb90f68": {
          "model_module": "@jupyter-widgets/controls",
          "model_module_version": "1.5.0",
          "model_name": "HTMLModel",
          "state": {
            "_dom_classes": [],
            "_model_module": "@jupyter-widgets/controls",
            "_model_module_version": "1.5.0",
            "_model_name": "HTMLModel",
            "_view_count": null,
            "_view_module": "@jupyter-widgets/controls",
            "_view_module_version": "1.5.0",
            "_view_name": "HTMLView",
            "description": "",
            "description_tooltip": null,
            "layout": "IPY_MODEL_00c7ed5d85134f72865853e66f2b3fb5",
            "placeholder": "​",
            "style": "IPY_MODEL_bd007ec53e1f4a11af37e09e8225570d",
            "value": "Downloading merges.txt: 100%"
          }
        },
        "573c425de7e44e23a75c31fc71abc9a2": {
          "model_module": "@jupyter-widgets/controls",
          "model_module_version": "1.5.0",
          "model_name": "HBoxModel",
          "state": {
            "_dom_classes": [],
            "_model_module": "@jupyter-widgets/controls",
            "_model_module_version": "1.5.0",
            "_model_name": "HBoxModel",
            "_view_count": null,
            "_view_module": "@jupyter-widgets/controls",
            "_view_module_version": "1.5.0",
            "_view_name": "HBoxView",
            "box_style": "",
            "children": [
              "IPY_MODEL_531cdc4756ac42dfa1f962fc9eb90f68",
              "IPY_MODEL_74c1495d398a43e98c37d9c0f70143c3",
              "IPY_MODEL_694322ffc84244df8b7a66603fa809f5"
            ],
            "layout": "IPY_MODEL_1b4e1edadc1e454485d4defd5da94412"
          }
        },
        "5c1f72da00c842ee99fffe50350d4383": {
          "model_module": "@jupyter-widgets/base",
          "model_module_version": "1.2.0",
          "model_name": "LayoutModel",
          "state": {
            "_model_module": "@jupyter-widgets/base",
            "_model_module_version": "1.2.0",
            "_model_name": "LayoutModel",
            "_view_count": null,
            "_view_module": "@jupyter-widgets/base",
            "_view_module_version": "1.2.0",
            "_view_name": "LayoutView",
            "align_content": null,
            "align_items": null,
            "align_self": null,
            "border": null,
            "bottom": null,
            "display": null,
            "flex": null,
            "flex_flow": null,
            "grid_area": null,
            "grid_auto_columns": null,
            "grid_auto_flow": null,
            "grid_auto_rows": null,
            "grid_column": null,
            "grid_gap": null,
            "grid_row": null,
            "grid_template_areas": null,
            "grid_template_columns": null,
            "grid_template_rows": null,
            "height": null,
            "justify_content": null,
            "justify_items": null,
            "left": null,
            "margin": null,
            "max_height": null,
            "max_width": null,
            "min_height": null,
            "min_width": null,
            "object_fit": null,
            "object_position": null,
            "order": null,
            "overflow": null,
            "overflow_x": null,
            "overflow_y": null,
            "padding": null,
            "right": null,
            "top": null,
            "visibility": null,
            "width": null
          }
        },
        "5d167bb0be814baa8e9e8f9050151e01": {
          "model_module": "@jupyter-widgets/controls",
          "model_module_version": "1.5.0",
          "model_name": "DescriptionStyleModel",
          "state": {
            "_model_module": "@jupyter-widgets/controls",
            "_model_module_version": "1.5.0",
            "_model_name": "DescriptionStyleModel",
            "_view_count": null,
            "_view_module": "@jupyter-widgets/base",
            "_view_module_version": "1.2.0",
            "_view_name": "StyleView",
            "description_width": ""
          }
        },
        "604971655da74bd1b1e2c96867d7421e": {
          "model_module": "@jupyter-widgets/controls",
          "model_module_version": "1.5.0",
          "model_name": "FloatProgressModel",
          "state": {
            "_dom_classes": [],
            "_model_module": "@jupyter-widgets/controls",
            "_model_module_version": "1.5.0",
            "_model_name": "FloatProgressModel",
            "_view_count": null,
            "_view_module": "@jupyter-widgets/controls",
            "_view_module_version": "1.5.0",
            "_view_name": "ProgressView",
            "bar_style": "success",
            "description": "",
            "description_tooltip": null,
            "layout": "IPY_MODEL_96520e49b232476f864ab4813b577240",
            "max": 848917,
            "min": 0,
            "orientation": "horizontal",
            "style": "IPY_MODEL_d5c589f4c0f04388897e27f3ab8c4a97",
            "value": 848917
          }
        },
        "60f4fcf5d0384c6d84cf09dc09d05956": {
          "model_module": "@jupyter-widgets/controls",
          "model_module_version": "1.5.0",
          "model_name": "DescriptionStyleModel",
          "state": {
            "_model_module": "@jupyter-widgets/controls",
            "_model_module_version": "1.5.0",
            "_model_name": "DescriptionStyleModel",
            "_view_count": null,
            "_view_module": "@jupyter-widgets/base",
            "_view_module_version": "1.2.0",
            "_view_name": "StyleView",
            "description_width": ""
          }
        },
        "694322ffc84244df8b7a66603fa809f5": {
          "model_module": "@jupyter-widgets/controls",
          "model_module_version": "1.5.0",
          "model_name": "HTMLModel",
          "state": {
            "_dom_classes": [],
            "_model_module": "@jupyter-widgets/controls",
            "_model_module_version": "1.5.0",
            "_model_name": "HTMLModel",
            "_view_count": null,
            "_view_module": "@jupyter-widgets/controls",
            "_view_module_version": "1.5.0",
            "_view_name": "HTMLView",
            "description": "",
            "description_tooltip": null,
            "layout": "IPY_MODEL_a30682aac57242ab9eb3a101fd2ef1f2",
            "placeholder": "​",
            "style": "IPY_MODEL_81de34571eae4652949971ff87026749",
            "value": " 308k/308k [00:00&lt;00:00, 656kB/s]"
          }
        },
        "6b5caca9f53c4212b26d27c2d5605462": {
          "model_module": "@jupyter-widgets/controls",
          "model_module_version": "1.5.0",
          "model_name": "DescriptionStyleModel",
          "state": {
            "_model_module": "@jupyter-widgets/controls",
            "_model_module_version": "1.5.0",
            "_model_name": "DescriptionStyleModel",
            "_view_count": null,
            "_view_module": "@jupyter-widgets/base",
            "_view_module_version": "1.2.0",
            "_view_name": "StyleView",
            "description_width": ""
          }
        },
        "6bbd70d5ecdb4bae9126e3ec6d331c7a": {
          "model_module": "@jupyter-widgets/controls",
          "model_module_version": "1.5.0",
          "model_name": "DescriptionStyleModel",
          "state": {
            "_model_module": "@jupyter-widgets/controls",
            "_model_module_version": "1.5.0",
            "_model_name": "DescriptionStyleModel",
            "_view_count": null,
            "_view_module": "@jupyter-widgets/base",
            "_view_module_version": "1.2.0",
            "_view_name": "StyleView",
            "description_width": ""
          }
        },
        "6bc4d609c63d4c0aac3052942cab1b16": {
          "model_module": "@jupyter-widgets/controls",
          "model_module_version": "1.5.0",
          "model_name": "HTMLModel",
          "state": {
            "_dom_classes": [],
            "_model_module": "@jupyter-widgets/controls",
            "_model_module_version": "1.5.0",
            "_model_name": "HTMLModel",
            "_view_count": null,
            "_view_module": "@jupyter-widgets/controls",
            "_view_module_version": "1.5.0",
            "_view_name": "HTMLView",
            "description": "",
            "description_tooltip": null,
            "layout": "IPY_MODEL_d7dfe0b7a3ed438ca83a471e34f302c4",
            "placeholder": "​",
            "style": "IPY_MODEL_84a43b2619f44824b201ff8ee0d7198e",
            "value": "Downloading pytorch_model.bin: 100%"
          }
        },
        "7005b0a7b0a2448ea1204e7bd3ecdbcc": {
          "model_module": "@jupyter-widgets/controls",
          "model_module_version": "1.5.0",
          "model_name": "HTMLModel",
          "state": {
            "_dom_classes": [],
            "_model_module": "@jupyter-widgets/controls",
            "_model_module_version": "1.5.0",
            "_model_name": "HTMLModel",
            "_view_count": null,
            "_view_module": "@jupyter-widgets/controls",
            "_view_module_version": "1.5.0",
            "_view_name": "HTMLView",
            "description": "",
            "description_tooltip": null,
            "layout": "IPY_MODEL_ff003e40c05247deb49963815adba4d0",
            "placeholder": "​",
            "style": "IPY_MODEL_b040675a77a64677a4936712189b34a9",
            "value": " 483/483 [00:00&lt;00:00, 2.84kB/s]"
          }
        },
        "7015b126de0c447d88dfe0684c63e350": {
          "model_module": "@jupyter-widgets/controls",
          "model_module_version": "1.5.0",
          "model_name": "ProgressStyleModel",
          "state": {
            "_model_module": "@jupyter-widgets/controls",
            "_model_module_version": "1.5.0",
            "_model_name": "ProgressStyleModel",
            "_view_count": null,
            "_view_module": "@jupyter-widgets/base",
            "_view_module_version": "1.2.0",
            "_view_name": "StyleView",
            "bar_color": null,
            "description_width": ""
          }
        },
        "74c1495d398a43e98c37d9c0f70143c3": {
          "model_module": "@jupyter-widgets/controls",
          "model_module_version": "1.5.0",
          "model_name": "FloatProgressModel",
          "state": {
            "_dom_classes": [],
            "_model_module": "@jupyter-widgets/controls",
            "_model_module_version": "1.5.0",
            "_model_name": "FloatProgressModel",
            "_view_count": null,
            "_view_module": "@jupyter-widgets/controls",
            "_view_module_version": "1.5.0",
            "_view_name": "ProgressView",
            "bar_style": "success",
            "description": "",
            "description_tooltip": null,
            "layout": "IPY_MODEL_c4053a2cc6e947c2994e9301dee2b01b",
            "max": 315003,
            "min": 0,
            "orientation": "horizontal",
            "style": "IPY_MODEL_c72ddb4ea6024c50b0771c992f299326",
            "value": 315003
          }
        },
        "76ff78c6c5b145deb013718b45f69374": {
          "model_module": "@jupyter-widgets/base",
          "model_module_version": "1.2.0",
          "model_name": "LayoutModel",
          "state": {
            "_model_module": "@jupyter-widgets/base",
            "_model_module_version": "1.2.0",
            "_model_name": "LayoutModel",
            "_view_count": null,
            "_view_module": "@jupyter-widgets/base",
            "_view_module_version": "1.2.0",
            "_view_name": "LayoutView",
            "align_content": null,
            "align_items": null,
            "align_self": null,
            "border": null,
            "bottom": null,
            "display": null,
            "flex": null,
            "flex_flow": null,
            "grid_area": null,
            "grid_auto_columns": null,
            "grid_auto_flow": null,
            "grid_auto_rows": null,
            "grid_column": null,
            "grid_gap": null,
            "grid_row": null,
            "grid_template_areas": null,
            "grid_template_columns": null,
            "grid_template_rows": null,
            "height": null,
            "justify_content": null,
            "justify_items": null,
            "left": null,
            "margin": null,
            "max_height": null,
            "max_width": null,
            "min_height": null,
            "min_width": null,
            "object_fit": null,
            "object_position": null,
            "order": null,
            "overflow": null,
            "overflow_x": null,
            "overflow_y": null,
            "padding": null,
            "right": null,
            "top": null,
            "visibility": null,
            "width": null
          }
        },
        "7958c21b2ee04269b16f77393ea84aca": {
          "model_module": "@jupyter-widgets/controls",
          "model_module_version": "1.5.0",
          "model_name": "ProgressStyleModel",
          "state": {
            "_model_module": "@jupyter-widgets/controls",
            "_model_module_version": "1.5.0",
            "_model_name": "ProgressStyleModel",
            "_view_count": null,
            "_view_module": "@jupyter-widgets/base",
            "_view_module_version": "1.2.0",
            "_view_name": "StyleView",
            "bar_color": null,
            "description_width": ""
          }
        },
        "7dcc9f44f687403aa9eebf1b6b004616": {
          "model_module": "@jupyter-widgets/controls",
          "model_module_version": "1.5.0",
          "model_name": "FloatProgressModel",
          "state": {
            "_dom_classes": [],
            "_model_module": "@jupyter-widgets/controls",
            "_model_module_version": "1.5.0",
            "_model_name": "FloatProgressModel",
            "_view_count": null,
            "_view_module": "@jupyter-widgets/controls",
            "_view_module_version": "1.5.0",
            "_view_name": "ProgressView",
            "bar_style": "success",
            "description": "",
            "description_tooltip": null,
            "layout": "IPY_MODEL_14d9207f5c6e419980721a0df2dfeb75",
            "max": 28,
            "min": 0,
            "orientation": "horizontal",
            "style": "IPY_MODEL_2f9fb3df41924d65a836376e1eac1b44",
            "value": 28
          }
        },
        "7e6ba19697a24b09b683c4151308d787": {
          "model_module": "@jupyter-widgets/controls",
          "model_module_version": "1.5.0",
          "model_name": "HBoxModel",
          "state": {
            "_dom_classes": [],
            "_model_module": "@jupyter-widgets/controls",
            "_model_module_version": "1.5.0",
            "_model_name": "HBoxModel",
            "_view_count": null,
            "_view_module": "@jupyter-widgets/controls",
            "_view_module_version": "1.5.0",
            "_view_name": "HBoxView",
            "box_style": "",
            "children": [
              "IPY_MODEL_fcaf7e2179fe4f2d8264945600eb3dc7",
              "IPY_MODEL_b7258ff0172d4fab8a42346821b2b245",
              "IPY_MODEL_7005b0a7b0a2448ea1204e7bd3ecdbcc"
            ],
            "layout": "IPY_MODEL_5c1f72da00c842ee99fffe50350d4383"
          }
        },
        "7eff1e4c064645679fa2b3224a1cc1db": {
          "model_module": "@jupyter-widgets/base",
          "model_module_version": "1.2.0",
          "model_name": "LayoutModel",
          "state": {
            "_model_module": "@jupyter-widgets/base",
            "_model_module_version": "1.2.0",
            "_model_name": "LayoutModel",
            "_view_count": null,
            "_view_module": "@jupyter-widgets/base",
            "_view_module_version": "1.2.0",
            "_view_name": "LayoutView",
            "align_content": null,
            "align_items": null,
            "align_self": null,
            "border": null,
            "bottom": null,
            "display": null,
            "flex": null,
            "flex_flow": null,
            "grid_area": null,
            "grid_auto_columns": null,
            "grid_auto_flow": null,
            "grid_auto_rows": null,
            "grid_column": null,
            "grid_gap": null,
            "grid_row": null,
            "grid_template_areas": null,
            "grid_template_columns": null,
            "grid_template_rows": null,
            "height": null,
            "justify_content": null,
            "justify_items": null,
            "left": null,
            "margin": null,
            "max_height": null,
            "max_width": null,
            "min_height": null,
            "min_width": null,
            "object_fit": null,
            "object_position": null,
            "order": null,
            "overflow": null,
            "overflow_x": null,
            "overflow_y": null,
            "padding": null,
            "right": null,
            "top": null,
            "visibility": null,
            "width": null
          }
        },
        "81de34571eae4652949971ff87026749": {
          "model_module": "@jupyter-widgets/controls",
          "model_module_version": "1.5.0",
          "model_name": "DescriptionStyleModel",
          "state": {
            "_model_module": "@jupyter-widgets/controls",
            "_model_module_version": "1.5.0",
            "_model_name": "DescriptionStyleModel",
            "_view_count": null,
            "_view_module": "@jupyter-widgets/base",
            "_view_module_version": "1.2.0",
            "_view_name": "StyleView",
            "description_width": ""
          }
        },
        "84a43b2619f44824b201ff8ee0d7198e": {
          "model_module": "@jupyter-widgets/controls",
          "model_module_version": "1.5.0",
          "model_name": "DescriptionStyleModel",
          "state": {
            "_model_module": "@jupyter-widgets/controls",
            "_model_module_version": "1.5.0",
            "_model_name": "DescriptionStyleModel",
            "_view_count": null,
            "_view_module": "@jupyter-widgets/base",
            "_view_module_version": "1.2.0",
            "_view_name": "StyleView",
            "description_width": ""
          }
        },
        "8787d63a06174b248eeeafdf6f13c463": {
          "model_module": "@jupyter-widgets/base",
          "model_module_version": "1.2.0",
          "model_name": "LayoutModel",
          "state": {
            "_model_module": "@jupyter-widgets/base",
            "_model_module_version": "1.2.0",
            "_model_name": "LayoutModel",
            "_view_count": null,
            "_view_module": "@jupyter-widgets/base",
            "_view_module_version": "1.2.0",
            "_view_name": "LayoutView",
            "align_content": null,
            "align_items": null,
            "align_self": null,
            "border": null,
            "bottom": null,
            "display": null,
            "flex": null,
            "flex_flow": null,
            "grid_area": null,
            "grid_auto_columns": null,
            "grid_auto_flow": null,
            "grid_auto_rows": null,
            "grid_column": null,
            "grid_gap": null,
            "grid_row": null,
            "grid_template_areas": null,
            "grid_template_columns": null,
            "grid_template_rows": null,
            "height": null,
            "justify_content": null,
            "justify_items": null,
            "left": null,
            "margin": null,
            "max_height": null,
            "max_width": null,
            "min_height": null,
            "min_width": null,
            "object_fit": null,
            "object_position": null,
            "order": null,
            "overflow": null,
            "overflow_x": null,
            "overflow_y": null,
            "padding": null,
            "right": null,
            "top": null,
            "visibility": null,
            "width": null
          }
        },
        "8e8d9b980e2843d69be5bb80b0aeb275": {
          "model_module": "@jupyter-widgets/base",
          "model_module_version": "1.2.0",
          "model_name": "LayoutModel",
          "state": {
            "_model_module": "@jupyter-widgets/base",
            "_model_module_version": "1.2.0",
            "_model_name": "LayoutModel",
            "_view_count": null,
            "_view_module": "@jupyter-widgets/base",
            "_view_module_version": "1.2.0",
            "_view_name": "LayoutView",
            "align_content": null,
            "align_items": null,
            "align_self": null,
            "border": null,
            "bottom": null,
            "display": null,
            "flex": null,
            "flex_flow": null,
            "grid_area": null,
            "grid_auto_columns": null,
            "grid_auto_flow": null,
            "grid_auto_rows": null,
            "grid_column": null,
            "grid_gap": null,
            "grid_row": null,
            "grid_template_areas": null,
            "grid_template_columns": null,
            "grid_template_rows": null,
            "height": null,
            "justify_content": null,
            "justify_items": null,
            "left": null,
            "margin": null,
            "max_height": null,
            "max_width": null,
            "min_height": null,
            "min_width": null,
            "object_fit": null,
            "object_position": null,
            "order": null,
            "overflow": null,
            "overflow_x": null,
            "overflow_y": null,
            "padding": null,
            "right": null,
            "top": null,
            "visibility": null,
            "width": null
          }
        },
        "9092138fd5d140b8a5556cccebb056ed": {
          "model_module": "@jupyter-widgets/controls",
          "model_module_version": "1.5.0",
          "model_name": "FloatProgressModel",
          "state": {
            "_dom_classes": [],
            "_model_module": "@jupyter-widgets/controls",
            "_model_module_version": "1.5.0",
            "_model_name": "FloatProgressModel",
            "_view_count": null,
            "_view_module": "@jupyter-widgets/controls",
            "_view_module_version": "1.5.0",
            "_view_name": "ProgressView",
            "bar_style": "success",
            "description": "",
            "description_tooltip": null,
            "layout": "IPY_MODEL_32164c7f1ed14cea817ff870d9d5788c",
            "max": 231508,
            "min": 0,
            "orientation": "horizontal",
            "style": "IPY_MODEL_7958c21b2ee04269b16f77393ea84aca",
            "value": 231508
          }
        },
        "911d2126719b4a39b90a2a8f69624f32": {
          "model_module": "@jupyter-widgets/controls",
          "model_module_version": "1.5.0",
          "model_name": "ProgressStyleModel",
          "state": {
            "_model_module": "@jupyter-widgets/controls",
            "_model_module_version": "1.5.0",
            "_model_name": "ProgressStyleModel",
            "_view_count": null,
            "_view_module": "@jupyter-widgets/base",
            "_view_module_version": "1.2.0",
            "_view_name": "StyleView",
            "bar_color": null,
            "description_width": ""
          }
        },
        "92b048c2169440b39659a14022e47df3": {
          "model_module": "@jupyter-widgets/controls",
          "model_module_version": "1.5.0",
          "model_name": "HTMLModel",
          "state": {
            "_dom_classes": [],
            "_model_module": "@jupyter-widgets/controls",
            "_model_module_version": "1.5.0",
            "_model_name": "HTMLModel",
            "_view_count": null,
            "_view_module": "@jupyter-widgets/controls",
            "_view_module_version": "1.5.0",
            "_view_name": "HTMLView",
            "description": "",
            "description_tooltip": null,
            "layout": "IPY_MODEL_a094c262ff6b4001bfb1bf55db216b19",
            "placeholder": "​",
            "style": "IPY_MODEL_6bbd70d5ecdb4bae9126e3ec6d331c7a",
            "value": " 256M/256M [00:11&lt;00:00, 9.63MB/s]"
          }
        },
        "947b00ac4f1f4cb38921fd8768114ba5": {
          "model_module": "@jupyter-widgets/base",
          "model_module_version": "1.2.0",
          "model_name": "LayoutModel",
          "state": {
            "_model_module": "@jupyter-widgets/base",
            "_model_module_version": "1.2.0",
            "_model_name": "LayoutModel",
            "_view_count": null,
            "_view_module": "@jupyter-widgets/base",
            "_view_module_version": "1.2.0",
            "_view_name": "LayoutView",
            "align_content": null,
            "align_items": null,
            "align_self": null,
            "border": null,
            "bottom": null,
            "display": null,
            "flex": null,
            "flex_flow": null,
            "grid_area": null,
            "grid_auto_columns": null,
            "grid_auto_flow": null,
            "grid_auto_rows": null,
            "grid_column": null,
            "grid_gap": null,
            "grid_row": null,
            "grid_template_areas": null,
            "grid_template_columns": null,
            "grid_template_rows": null,
            "height": null,
            "justify_content": null,
            "justify_items": null,
            "left": null,
            "margin": null,
            "max_height": null,
            "max_width": null,
            "min_height": null,
            "min_width": null,
            "object_fit": null,
            "object_position": null,
            "order": null,
            "overflow": null,
            "overflow_x": null,
            "overflow_y": null,
            "padding": null,
            "right": null,
            "top": null,
            "visibility": null,
            "width": null
          }
        },
        "94c1cd99437646c3b97a872ac0d3950b": {
          "model_module": "@jupyter-widgets/controls",
          "model_module_version": "1.5.0",
          "model_name": "HBoxModel",
          "state": {
            "_dom_classes": [],
            "_model_module": "@jupyter-widgets/controls",
            "_model_module_version": "1.5.0",
            "_model_name": "HBoxModel",
            "_view_count": null,
            "_view_module": "@jupyter-widgets/controls",
            "_view_module_version": "1.5.0",
            "_view_name": "HBoxView",
            "box_style": "",
            "children": [
              "IPY_MODEL_6bc4d609c63d4c0aac3052942cab1b16",
              "IPY_MODEL_e94f77979db6454e8ade118a6d822f27",
              "IPY_MODEL_92b048c2169440b39659a14022e47df3"
            ],
            "layout": "IPY_MODEL_8e8d9b980e2843d69be5bb80b0aeb275"
          }
        },
        "96520e49b232476f864ab4813b577240": {
          "model_module": "@jupyter-widgets/base",
          "model_module_version": "1.2.0",
          "model_name": "LayoutModel",
          "state": {
            "_model_module": "@jupyter-widgets/base",
            "_model_module_version": "1.2.0",
            "_model_name": "LayoutModel",
            "_view_count": null,
            "_view_module": "@jupyter-widgets/base",
            "_view_module_version": "1.2.0",
            "_view_name": "LayoutView",
            "align_content": null,
            "align_items": null,
            "align_self": null,
            "border": null,
            "bottom": null,
            "display": null,
            "flex": null,
            "flex_flow": null,
            "grid_area": null,
            "grid_auto_columns": null,
            "grid_auto_flow": null,
            "grid_auto_rows": null,
            "grid_column": null,
            "grid_gap": null,
            "grid_row": null,
            "grid_template_areas": null,
            "grid_template_columns": null,
            "grid_template_rows": null,
            "height": null,
            "justify_content": null,
            "justify_items": null,
            "left": null,
            "margin": null,
            "max_height": null,
            "max_width": null,
            "min_height": null,
            "min_width": null,
            "object_fit": null,
            "object_position": null,
            "order": null,
            "overflow": null,
            "overflow_x": null,
            "overflow_y": null,
            "padding": null,
            "right": null,
            "top": null,
            "visibility": null,
            "width": null
          }
        },
        "9eb0af6d19e745a588bb737985574d60": {
          "model_module": "@jupyter-widgets/controls",
          "model_module_version": "1.5.0",
          "model_name": "DescriptionStyleModel",
          "state": {
            "_model_module": "@jupyter-widgets/controls",
            "_model_module_version": "1.5.0",
            "_model_name": "DescriptionStyleModel",
            "_view_count": null,
            "_view_module": "@jupyter-widgets/base",
            "_view_module_version": "1.2.0",
            "_view_name": "StyleView",
            "description_width": ""
          }
        },
        "9f2c6f5041f54bdf9c60f9daf25ae511": {
          "model_module": "@jupyter-widgets/controls",
          "model_module_version": "1.5.0",
          "model_name": "DescriptionStyleModel",
          "state": {
            "_model_module": "@jupyter-widgets/controls",
            "_model_module_version": "1.5.0",
            "_model_name": "DescriptionStyleModel",
            "_view_count": null,
            "_view_module": "@jupyter-widgets/base",
            "_view_module_version": "1.2.0",
            "_view_name": "StyleView",
            "description_width": ""
          }
        },
        "a094c262ff6b4001bfb1bf55db216b19": {
          "model_module": "@jupyter-widgets/base",
          "model_module_version": "1.2.0",
          "model_name": "LayoutModel",
          "state": {
            "_model_module": "@jupyter-widgets/base",
            "_model_module_version": "1.2.0",
            "_model_name": "LayoutModel",
            "_view_count": null,
            "_view_module": "@jupyter-widgets/base",
            "_view_module_version": "1.2.0",
            "_view_name": "LayoutView",
            "align_content": null,
            "align_items": null,
            "align_self": null,
            "border": null,
            "bottom": null,
            "display": null,
            "flex": null,
            "flex_flow": null,
            "grid_area": null,
            "grid_auto_columns": null,
            "grid_auto_flow": null,
            "grid_auto_rows": null,
            "grid_column": null,
            "grid_gap": null,
            "grid_row": null,
            "grid_template_areas": null,
            "grid_template_columns": null,
            "grid_template_rows": null,
            "height": null,
            "justify_content": null,
            "justify_items": null,
            "left": null,
            "margin": null,
            "max_height": null,
            "max_width": null,
            "min_height": null,
            "min_width": null,
            "object_fit": null,
            "object_position": null,
            "order": null,
            "overflow": null,
            "overflow_x": null,
            "overflow_y": null,
            "padding": null,
            "right": null,
            "top": null,
            "visibility": null,
            "width": null
          }
        },
        "a30682aac57242ab9eb3a101fd2ef1f2": {
          "model_module": "@jupyter-widgets/base",
          "model_module_version": "1.2.0",
          "model_name": "LayoutModel",
          "state": {
            "_model_module": "@jupyter-widgets/base",
            "_model_module_version": "1.2.0",
            "_model_name": "LayoutModel",
            "_view_count": null,
            "_view_module": "@jupyter-widgets/base",
            "_view_module_version": "1.2.0",
            "_view_name": "LayoutView",
            "align_content": null,
            "align_items": null,
            "align_self": null,
            "border": null,
            "bottom": null,
            "display": null,
            "flex": null,
            "flex_flow": null,
            "grid_area": null,
            "grid_auto_columns": null,
            "grid_auto_flow": null,
            "grid_auto_rows": null,
            "grid_column": null,
            "grid_gap": null,
            "grid_row": null,
            "grid_template_areas": null,
            "grid_template_columns": null,
            "grid_template_rows": null,
            "height": null,
            "justify_content": null,
            "justify_items": null,
            "left": null,
            "margin": null,
            "max_height": null,
            "max_width": null,
            "min_height": null,
            "min_width": null,
            "object_fit": null,
            "object_position": null,
            "order": null,
            "overflow": null,
            "overflow_x": null,
            "overflow_y": null,
            "padding": null,
            "right": null,
            "top": null,
            "visibility": null,
            "width": null
          }
        },
        "a36d3f0df3684744bfef849e5519bef9": {
          "model_module": "@jupyter-widgets/controls",
          "model_module_version": "1.5.0",
          "model_name": "FloatProgressModel",
          "state": {
            "_dom_classes": [],
            "_model_module": "@jupyter-widgets/controls",
            "_model_module_version": "1.5.0",
            "_model_name": "FloatProgressModel",
            "_view_count": null,
            "_view_module": "@jupyter-widgets/controls",
            "_view_module_version": "1.5.0",
            "_view_name": "ProgressView",
            "bar_style": "success",
            "description": "",
            "description_tooltip": null,
            "layout": "IPY_MODEL_fb10a46178aa4a539df2fd3dfe31d891",
            "max": 67,
            "min": 0,
            "orientation": "horizontal",
            "style": "IPY_MODEL_7015b126de0c447d88dfe0684c63e350",
            "value": 67
          }
        },
        "a3c0f0c3d1704459888f2d8308a72206": {
          "model_module": "@jupyter-widgets/controls",
          "model_module_version": "1.5.0",
          "model_name": "DescriptionStyleModel",
          "state": {
            "_model_module": "@jupyter-widgets/controls",
            "_model_module_version": "1.5.0",
            "_model_name": "DescriptionStyleModel",
            "_view_count": null,
            "_view_module": "@jupyter-widgets/base",
            "_view_module_version": "1.2.0",
            "_view_name": "StyleView",
            "description_width": ""
          }
        },
        "a3f14175b9b94296b680b4d74c2b032f": {
          "model_module": "@jupyter-widgets/controls",
          "model_module_version": "1.5.0",
          "model_name": "HTMLModel",
          "state": {
            "_dom_classes": [],
            "_model_module": "@jupyter-widgets/controls",
            "_model_module_version": "1.5.0",
            "_model_name": "HTMLModel",
            "_view_count": null,
            "_view_module": "@jupyter-widgets/controls",
            "_view_module_version": "1.5.0",
            "_view_name": "HTMLView",
            "description": "",
            "description_tooltip": null,
            "layout": "IPY_MODEL_0ebb0ef722004c8da22dfb76f4915106",
            "placeholder": "​",
            "style": "IPY_MODEL_60f4fcf5d0384c6d84cf09dc09d05956",
            "value": " 67.0/67.0 [00:00&lt;00:00, 691B/s]"
          }
        },
        "a66b499ee4b44d48a6c4874283c59fd9": {
          "model_module": "@jupyter-widgets/controls",
          "model_module_version": "1.5.0",
          "model_name": "HTMLModel",
          "state": {
            "_dom_classes": [],
            "_model_module": "@jupyter-widgets/controls",
            "_model_module_version": "1.5.0",
            "_model_name": "HTMLModel",
            "_view_count": null,
            "_view_module": "@jupyter-widgets/controls",
            "_view_module_version": "1.5.0",
            "_view_name": "HTMLView",
            "description": "",
            "description_tooltip": null,
            "layout": "IPY_MODEL_8787d63a06174b248eeeafdf6f13c463",
            "placeholder": "​",
            "style": "IPY_MODEL_dc4b4c4e7c574094a86ee62ba28895b3",
            "value": "Downloading vocab-tgt.json: 100%"
          }
        },
        "a89af6dd728e47d99b462c1fec1e742d": {
          "model_module": "@jupyter-widgets/controls",
          "model_module_version": "1.5.0",
          "model_name": "HTMLModel",
          "state": {
            "_dom_classes": [],
            "_model_module": "@jupyter-widgets/controls",
            "_model_module_version": "1.5.0",
            "_model_name": "HTMLModel",
            "_view_count": null,
            "_view_module": "@jupyter-widgets/controls",
            "_view_module_version": "1.5.0",
            "_view_name": "HTMLView",
            "description": "",
            "description_tooltip": null,
            "layout": "IPY_MODEL_947b00ac4f1f4cb38921fd8768114ba5",
            "placeholder": "​",
            "style": "IPY_MODEL_b531086fcc3449e0a25a120d657b2d04",
            "value": "Downloading vocab.txt: 100%"
          }
        },
        "a989492ed4e54ce4b4c5d127efb3fe27": {
          "model_module": "@jupyter-widgets/base",
          "model_module_version": "1.2.0",
          "model_name": "LayoutModel",
          "state": {
            "_model_module": "@jupyter-widgets/base",
            "_model_module_version": "1.2.0",
            "_model_name": "LayoutModel",
            "_view_count": null,
            "_view_module": "@jupyter-widgets/base",
            "_view_module_version": "1.2.0",
            "_view_name": "LayoutView",
            "align_content": null,
            "align_items": null,
            "align_self": null,
            "border": null,
            "bottom": null,
            "display": null,
            "flex": null,
            "flex_flow": null,
            "grid_area": null,
            "grid_auto_columns": null,
            "grid_auto_flow": null,
            "grid_auto_rows": null,
            "grid_column": null,
            "grid_gap": null,
            "grid_row": null,
            "grid_template_areas": null,
            "grid_template_columns": null,
            "grid_template_rows": null,
            "height": null,
            "justify_content": null,
            "justify_items": null,
            "left": null,
            "margin": null,
            "max_height": null,
            "max_width": null,
            "min_height": null,
            "min_width": null,
            "object_fit": null,
            "object_position": null,
            "order": null,
            "overflow": null,
            "overflow_x": null,
            "overflow_y": null,
            "padding": null,
            "right": null,
            "top": null,
            "visibility": null,
            "width": null
          }
        },
        "ab64dc24dcc54bbb834507b99080d72d": {
          "model_module": "@jupyter-widgets/controls",
          "model_module_version": "1.5.0",
          "model_name": "ProgressStyleModel",
          "state": {
            "_model_module": "@jupyter-widgets/controls",
            "_model_module_version": "1.5.0",
            "_model_name": "ProgressStyleModel",
            "_view_count": null,
            "_view_module": "@jupyter-widgets/base",
            "_view_module_version": "1.2.0",
            "_view_name": "StyleView",
            "bar_color": null,
            "description_width": ""
          }
        },
        "acac398516594dd5a4765f2dad183562": {
          "model_module": "@jupyter-widgets/controls",
          "model_module_version": "1.5.0",
          "model_name": "HTMLModel",
          "state": {
            "_dom_classes": [],
            "_model_module": "@jupyter-widgets/controls",
            "_model_module_version": "1.5.0",
            "_model_name": "HTMLModel",
            "_view_count": null,
            "_view_module": "@jupyter-widgets/controls",
            "_view_module_version": "1.5.0",
            "_view_name": "HTMLView",
            "description": "",
            "description_tooltip": null,
            "layout": "IPY_MODEL_7eff1e4c064645679fa2b3224a1cc1db",
            "placeholder": "​",
            "style": "IPY_MODEL_9eb0af6d19e745a588bb737985574d60",
            "value": " 226k/226k [00:00&lt;00:00, 800kB/s]"
          }
        },
        "aec04e90e2854626951ddcfb2e1032de": {
          "model_module": "@jupyter-widgets/base",
          "model_module_version": "1.2.0",
          "model_name": "LayoutModel",
          "state": {
            "_model_module": "@jupyter-widgets/base",
            "_model_module_version": "1.2.0",
            "_model_name": "LayoutModel",
            "_view_count": null,
            "_view_module": "@jupyter-widgets/base",
            "_view_module_version": "1.2.0",
            "_view_name": "LayoutView",
            "align_content": null,
            "align_items": null,
            "align_self": null,
            "border": null,
            "bottom": null,
            "display": null,
            "flex": null,
            "flex_flow": null,
            "grid_area": null,
            "grid_auto_columns": null,
            "grid_auto_flow": null,
            "grid_auto_rows": null,
            "grid_column": null,
            "grid_gap": null,
            "grid_row": null,
            "grid_template_areas": null,
            "grid_template_columns": null,
            "grid_template_rows": null,
            "height": null,
            "justify_content": null,
            "justify_items": null,
            "left": null,
            "margin": null,
            "max_height": null,
            "max_width": null,
            "min_height": null,
            "min_width": null,
            "object_fit": null,
            "object_position": null,
            "order": null,
            "overflow": null,
            "overflow_x": null,
            "overflow_y": null,
            "padding": null,
            "right": null,
            "top": null,
            "visibility": null,
            "width": null
          }
        },
        "b040675a77a64677a4936712189b34a9": {
          "model_module": "@jupyter-widgets/controls",
          "model_module_version": "1.5.0",
          "model_name": "DescriptionStyleModel",
          "state": {
            "_model_module": "@jupyter-widgets/controls",
            "_model_module_version": "1.5.0",
            "_model_name": "DescriptionStyleModel",
            "_view_count": null,
            "_view_module": "@jupyter-widgets/base",
            "_view_module_version": "1.2.0",
            "_view_name": "StyleView",
            "description_width": ""
          }
        },
        "b531086fcc3449e0a25a120d657b2d04": {
          "model_module": "@jupyter-widgets/controls",
          "model_module_version": "1.5.0",
          "model_name": "DescriptionStyleModel",
          "state": {
            "_model_module": "@jupyter-widgets/controls",
            "_model_module_version": "1.5.0",
            "_model_name": "DescriptionStyleModel",
            "_view_count": null,
            "_view_module": "@jupyter-widgets/base",
            "_view_module_version": "1.2.0",
            "_view_name": "StyleView",
            "description_width": ""
          }
        },
        "b7258ff0172d4fab8a42346821b2b245": {
          "model_module": "@jupyter-widgets/controls",
          "model_module_version": "1.5.0",
          "model_name": "FloatProgressModel",
          "state": {
            "_dom_classes": [],
            "_model_module": "@jupyter-widgets/controls",
            "_model_module_version": "1.5.0",
            "_model_name": "FloatProgressModel",
            "_view_count": null,
            "_view_module": "@jupyter-widgets/controls",
            "_view_module_version": "1.5.0",
            "_view_name": "ProgressView",
            "bar_style": "success",
            "description": "",
            "description_tooltip": null,
            "layout": "IPY_MODEL_d2c3df6f8f1049958a5029322611d905",
            "max": 483,
            "min": 0,
            "orientation": "horizontal",
            "style": "IPY_MODEL_b83e4b41a6c74e28a18dd8cdf8e6a141",
            "value": 483
          }
        },
        "b83e4b41a6c74e28a18dd8cdf8e6a141": {
          "model_module": "@jupyter-widgets/controls",
          "model_module_version": "1.5.0",
          "model_name": "ProgressStyleModel",
          "state": {
            "_model_module": "@jupyter-widgets/controls",
            "_model_module_version": "1.5.0",
            "_model_name": "ProgressStyleModel",
            "_view_count": null,
            "_view_module": "@jupyter-widgets/base",
            "_view_module_version": "1.2.0",
            "_view_name": "StyleView",
            "bar_color": null,
            "description_width": ""
          }
        },
        "bb7ff38f257643d58646ed966a065ddb": {
          "model_module": "@jupyter-widgets/base",
          "model_module_version": "1.2.0",
          "model_name": "LayoutModel",
          "state": {
            "_model_module": "@jupyter-widgets/base",
            "_model_module_version": "1.2.0",
            "_model_name": "LayoutModel",
            "_view_count": null,
            "_view_module": "@jupyter-widgets/base",
            "_view_module_version": "1.2.0",
            "_view_name": "LayoutView",
            "align_content": null,
            "align_items": null,
            "align_self": null,
            "border": null,
            "bottom": null,
            "display": null,
            "flex": null,
            "flex_flow": null,
            "grid_area": null,
            "grid_auto_columns": null,
            "grid_auto_flow": null,
            "grid_auto_rows": null,
            "grid_column": null,
            "grid_gap": null,
            "grid_row": null,
            "grid_template_areas": null,
            "grid_template_columns": null,
            "grid_template_rows": null,
            "height": null,
            "justify_content": null,
            "justify_items": null,
            "left": null,
            "margin": null,
            "max_height": null,
            "max_width": null,
            "min_height": null,
            "min_width": null,
            "object_fit": null,
            "object_position": null,
            "order": null,
            "overflow": null,
            "overflow_x": null,
            "overflow_y": null,
            "padding": null,
            "right": null,
            "top": null,
            "visibility": null,
            "width": null
          }
        },
        "bd007ec53e1f4a11af37e09e8225570d": {
          "model_module": "@jupyter-widgets/controls",
          "model_module_version": "1.5.0",
          "model_name": "DescriptionStyleModel",
          "state": {
            "_model_module": "@jupyter-widgets/controls",
            "_model_module_version": "1.5.0",
            "_model_name": "DescriptionStyleModel",
            "_view_count": null,
            "_view_module": "@jupyter-widgets/base",
            "_view_module_version": "1.2.0",
            "_view_name": "StyleView",
            "description_width": ""
          }
        },
        "be5d30f2a2fb48c8b213e4541adef649": {
          "model_module": "@jupyter-widgets/controls",
          "model_module_version": "1.5.0",
          "model_name": "HBoxModel",
          "state": {
            "_dom_classes": [],
            "_model_module": "@jupyter-widgets/controls",
            "_model_module_version": "1.5.0",
            "_model_name": "HBoxModel",
            "_view_count": null,
            "_view_module": "@jupyter-widgets/controls",
            "_view_module_version": "1.5.0",
            "_view_name": "HBoxView",
            "box_style": "",
            "children": [
              "IPY_MODEL_a66b499ee4b44d48a6c4874283c59fd9",
              "IPY_MODEL_10fabee83d9a4d4cab3b2c0fdfbbc591",
              "IPY_MODEL_e305028db883430f946cd7cb5e8a2f6b"
            ],
            "layout": "IPY_MODEL_d28bfca89a8749cbb8f22d9b6eeb44ca"
          }
        },
        "c001aad9162042bebde6d9f74d9749af": {
          "model_module": "@jupyter-widgets/controls",
          "model_module_version": "1.5.0",
          "model_name": "ProgressStyleModel",
          "state": {
            "_model_module": "@jupyter-widgets/controls",
            "_model_module_version": "1.5.0",
            "_model_name": "ProgressStyleModel",
            "_view_count": null,
            "_view_module": "@jupyter-widgets/base",
            "_view_module_version": "1.2.0",
            "_view_name": "StyleView",
            "bar_color": null,
            "description_width": ""
          }
        },
        "c14263f75de84b948ac0cbef659832a5": {
          "model_module": "@jupyter-widgets/controls",
          "model_module_version": "1.5.0",
          "model_name": "HTMLModel",
          "state": {
            "_dom_classes": [],
            "_model_module": "@jupyter-widgets/controls",
            "_model_module_version": "1.5.0",
            "_model_name": "HTMLModel",
            "_view_count": null,
            "_view_module": "@jupyter-widgets/controls",
            "_view_module_version": "1.5.0",
            "_view_name": "HTMLView",
            "description": "",
            "description_tooltip": null,
            "layout": "IPY_MODEL_bb7ff38f257643d58646ed966a065ddb",
            "placeholder": "​",
            "style": "IPY_MODEL_24b3fbb7d68743079446ec95ecdfa1ea",
            "value": " 829k/829k [00:00&lt;00:00, 1.96MB/s]"
          }
        },
        "c4053a2cc6e947c2994e9301dee2b01b": {
          "model_module": "@jupyter-widgets/base",
          "model_module_version": "1.2.0",
          "model_name": "LayoutModel",
          "state": {
            "_model_module": "@jupyter-widgets/base",
            "_model_module_version": "1.2.0",
            "_model_name": "LayoutModel",
            "_view_count": null,
            "_view_module": "@jupyter-widgets/base",
            "_view_module_version": "1.2.0",
            "_view_name": "LayoutView",
            "align_content": null,
            "align_items": null,
            "align_self": null,
            "border": null,
            "bottom": null,
            "display": null,
            "flex": null,
            "flex_flow": null,
            "grid_area": null,
            "grid_auto_columns": null,
            "grid_auto_flow": null,
            "grid_auto_rows": null,
            "grid_column": null,
            "grid_gap": null,
            "grid_row": null,
            "grid_template_areas": null,
            "grid_template_columns": null,
            "grid_template_rows": null,
            "height": null,
            "justify_content": null,
            "justify_items": null,
            "left": null,
            "margin": null,
            "max_height": null,
            "max_width": null,
            "min_height": null,
            "min_width": null,
            "object_fit": null,
            "object_position": null,
            "order": null,
            "overflow": null,
            "overflow_x": null,
            "overflow_y": null,
            "padding": null,
            "right": null,
            "top": null,
            "visibility": null,
            "width": null
          }
        },
        "c4bbff25a26848b98e9991192efa38fc": {
          "model_module": "@jupyter-widgets/base",
          "model_module_version": "1.2.0",
          "model_name": "LayoutModel",
          "state": {
            "_model_module": "@jupyter-widgets/base",
            "_model_module_version": "1.2.0",
            "_model_name": "LayoutModel",
            "_view_count": null,
            "_view_module": "@jupyter-widgets/base",
            "_view_module_version": "1.2.0",
            "_view_name": "LayoutView",
            "align_content": null,
            "align_items": null,
            "align_self": null,
            "border": null,
            "bottom": null,
            "display": null,
            "flex": null,
            "flex_flow": null,
            "grid_area": null,
            "grid_auto_columns": null,
            "grid_auto_flow": null,
            "grid_auto_rows": null,
            "grid_column": null,
            "grid_gap": null,
            "grid_row": null,
            "grid_template_areas": null,
            "grid_template_columns": null,
            "grid_template_rows": null,
            "height": null,
            "justify_content": null,
            "justify_items": null,
            "left": null,
            "margin": null,
            "max_height": null,
            "max_width": null,
            "min_height": null,
            "min_width": null,
            "object_fit": null,
            "object_position": null,
            "order": null,
            "overflow": null,
            "overflow_x": null,
            "overflow_y": null,
            "padding": null,
            "right": null,
            "top": null,
            "visibility": null,
            "width": null
          }
        },
        "c72ddb4ea6024c50b0771c992f299326": {
          "model_module": "@jupyter-widgets/controls",
          "model_module_version": "1.5.0",
          "model_name": "ProgressStyleModel",
          "state": {
            "_model_module": "@jupyter-widgets/controls",
            "_model_module_version": "1.5.0",
            "_model_name": "ProgressStyleModel",
            "_view_count": null,
            "_view_module": "@jupyter-widgets/base",
            "_view_module_version": "1.2.0",
            "_view_name": "StyleView",
            "bar_color": null,
            "description_width": ""
          }
        },
        "d1a5e817b2bd4696bf76e8648c025bed": {
          "model_module": "@jupyter-widgets/controls",
          "model_module_version": "1.5.0",
          "model_name": "HTMLModel",
          "state": {
            "_dom_classes": [],
            "_model_module": "@jupyter-widgets/controls",
            "_model_module_version": "1.5.0",
            "_model_name": "HTMLModel",
            "_view_count": null,
            "_view_module": "@jupyter-widgets/controls",
            "_view_module_version": "1.5.0",
            "_view_name": "HTMLView",
            "description": "",
            "description_tooltip": null,
            "layout": "IPY_MODEL_aec04e90e2854626951ddcfb2e1032de",
            "placeholder": "​",
            "style": "IPY_MODEL_500e100c2ea8406cbbe952bf696fff8d",
            "value": "Downloading tokenizer.json: 100%"
          }
        },
        "d28bfca89a8749cbb8f22d9b6eeb44ca": {
          "model_module": "@jupyter-widgets/base",
          "model_module_version": "1.2.0",
          "model_name": "LayoutModel",
          "state": {
            "_model_module": "@jupyter-widgets/base",
            "_model_module_version": "1.2.0",
            "_model_name": "LayoutModel",
            "_view_count": null,
            "_view_module": "@jupyter-widgets/base",
            "_view_module_version": "1.2.0",
            "_view_name": "LayoutView",
            "align_content": null,
            "align_items": null,
            "align_self": null,
            "border": null,
            "bottom": null,
            "display": null,
            "flex": null,
            "flex_flow": null,
            "grid_area": null,
            "grid_auto_columns": null,
            "grid_auto_flow": null,
            "grid_auto_rows": null,
            "grid_column": null,
            "grid_gap": null,
            "grid_row": null,
            "grid_template_areas": null,
            "grid_template_columns": null,
            "grid_template_rows": null,
            "height": null,
            "justify_content": null,
            "justify_items": null,
            "left": null,
            "margin": null,
            "max_height": null,
            "max_width": null,
            "min_height": null,
            "min_width": null,
            "object_fit": null,
            "object_position": null,
            "order": null,
            "overflow": null,
            "overflow_x": null,
            "overflow_y": null,
            "padding": null,
            "right": null,
            "top": null,
            "visibility": null,
            "width": null
          }
        },
        "d2c3df6f8f1049958a5029322611d905": {
          "model_module": "@jupyter-widgets/base",
          "model_module_version": "1.2.0",
          "model_name": "LayoutModel",
          "state": {
            "_model_module": "@jupyter-widgets/base",
            "_model_module_version": "1.2.0",
            "_model_name": "LayoutModel",
            "_view_count": null,
            "_view_module": "@jupyter-widgets/base",
            "_view_module_version": "1.2.0",
            "_view_name": "LayoutView",
            "align_content": null,
            "align_items": null,
            "align_self": null,
            "border": null,
            "bottom": null,
            "display": null,
            "flex": null,
            "flex_flow": null,
            "grid_area": null,
            "grid_auto_columns": null,
            "grid_auto_flow": null,
            "grid_auto_rows": null,
            "grid_column": null,
            "grid_gap": null,
            "grid_row": null,
            "grid_template_areas": null,
            "grid_template_columns": null,
            "grid_template_rows": null,
            "height": null,
            "justify_content": null,
            "justify_items": null,
            "left": null,
            "margin": null,
            "max_height": null,
            "max_width": null,
            "min_height": null,
            "min_width": null,
            "object_fit": null,
            "object_position": null,
            "order": null,
            "overflow": null,
            "overflow_x": null,
            "overflow_y": null,
            "padding": null,
            "right": null,
            "top": null,
            "visibility": null,
            "width": null
          }
        },
        "d57c6b30be7040ffabab0d615f1e0f0f": {
          "model_module": "@jupyter-widgets/base",
          "model_module_version": "1.2.0",
          "model_name": "LayoutModel",
          "state": {
            "_model_module": "@jupyter-widgets/base",
            "_model_module_version": "1.2.0",
            "_model_name": "LayoutModel",
            "_view_count": null,
            "_view_module": "@jupyter-widgets/base",
            "_view_module_version": "1.2.0",
            "_view_name": "LayoutView",
            "align_content": null,
            "align_items": null,
            "align_self": null,
            "border": null,
            "bottom": null,
            "display": null,
            "flex": null,
            "flex_flow": null,
            "grid_area": null,
            "grid_auto_columns": null,
            "grid_auto_flow": null,
            "grid_auto_rows": null,
            "grid_column": null,
            "grid_gap": null,
            "grid_row": null,
            "grid_template_areas": null,
            "grid_template_columns": null,
            "grid_template_rows": null,
            "height": null,
            "justify_content": null,
            "justify_items": null,
            "left": null,
            "margin": null,
            "max_height": null,
            "max_width": null,
            "min_height": null,
            "min_width": null,
            "object_fit": null,
            "object_position": null,
            "order": null,
            "overflow": null,
            "overflow_x": null,
            "overflow_y": null,
            "padding": null,
            "right": null,
            "top": null,
            "visibility": null,
            "width": null
          }
        },
        "d583e405c3f64b06ae437a87d4bbc16e": {
          "model_module": "@jupyter-widgets/base",
          "model_module_version": "1.2.0",
          "model_name": "LayoutModel",
          "state": {
            "_model_module": "@jupyter-widgets/base",
            "_model_module_version": "1.2.0",
            "_model_name": "LayoutModel",
            "_view_count": null,
            "_view_module": "@jupyter-widgets/base",
            "_view_module_version": "1.2.0",
            "_view_name": "LayoutView",
            "align_content": null,
            "align_items": null,
            "align_self": null,
            "border": null,
            "bottom": null,
            "display": null,
            "flex": null,
            "flex_flow": null,
            "grid_area": null,
            "grid_auto_columns": null,
            "grid_auto_flow": null,
            "grid_auto_rows": null,
            "grid_column": null,
            "grid_gap": null,
            "grid_row": null,
            "grid_template_areas": null,
            "grid_template_columns": null,
            "grid_template_rows": null,
            "height": null,
            "justify_content": null,
            "justify_items": null,
            "left": null,
            "margin": null,
            "max_height": null,
            "max_width": null,
            "min_height": null,
            "min_width": null,
            "object_fit": null,
            "object_position": null,
            "order": null,
            "overflow": null,
            "overflow_x": null,
            "overflow_y": null,
            "padding": null,
            "right": null,
            "top": null,
            "visibility": null,
            "width": null
          }
        },
        "d5c589f4c0f04388897e27f3ab8c4a97": {
          "model_module": "@jupyter-widgets/controls",
          "model_module_version": "1.5.0",
          "model_name": "ProgressStyleModel",
          "state": {
            "_model_module": "@jupyter-widgets/controls",
            "_model_module_version": "1.5.0",
            "_model_name": "ProgressStyleModel",
            "_view_count": null,
            "_view_module": "@jupyter-widgets/base",
            "_view_module_version": "1.2.0",
            "_view_name": "StyleView",
            "bar_color": null,
            "description_width": ""
          }
        },
        "d7dfe0b7a3ed438ca83a471e34f302c4": {
          "model_module": "@jupyter-widgets/base",
          "model_module_version": "1.2.0",
          "model_name": "LayoutModel",
          "state": {
            "_model_module": "@jupyter-widgets/base",
            "_model_module_version": "1.2.0",
            "_model_name": "LayoutModel",
            "_view_count": null,
            "_view_module": "@jupyter-widgets/base",
            "_view_module_version": "1.2.0",
            "_view_name": "LayoutView",
            "align_content": null,
            "align_items": null,
            "align_self": null,
            "border": null,
            "bottom": null,
            "display": null,
            "flex": null,
            "flex_flow": null,
            "grid_area": null,
            "grid_auto_columns": null,
            "grid_auto_flow": null,
            "grid_auto_rows": null,
            "grid_column": null,
            "grid_gap": null,
            "grid_row": null,
            "grid_template_areas": null,
            "grid_template_columns": null,
            "grid_template_rows": null,
            "height": null,
            "justify_content": null,
            "justify_items": null,
            "left": null,
            "margin": null,
            "max_height": null,
            "max_width": null,
            "min_height": null,
            "min_width": null,
            "object_fit": null,
            "object_position": null,
            "order": null,
            "overflow": null,
            "overflow_x": null,
            "overflow_y": null,
            "padding": null,
            "right": null,
            "top": null,
            "visibility": null,
            "width": null
          }
        },
        "d86fe76bee2c436b9d181588c711190d": {
          "model_module": "@jupyter-widgets/base",
          "model_module_version": "1.2.0",
          "model_name": "LayoutModel",
          "state": {
            "_model_module": "@jupyter-widgets/base",
            "_model_module_version": "1.2.0",
            "_model_name": "LayoutModel",
            "_view_count": null,
            "_view_module": "@jupyter-widgets/base",
            "_view_module_version": "1.2.0",
            "_view_name": "LayoutView",
            "align_content": null,
            "align_items": null,
            "align_self": null,
            "border": null,
            "bottom": null,
            "display": null,
            "flex": null,
            "flex_flow": null,
            "grid_area": null,
            "grid_auto_columns": null,
            "grid_auto_flow": null,
            "grid_auto_rows": null,
            "grid_column": null,
            "grid_gap": null,
            "grid_row": null,
            "grid_template_areas": null,
            "grid_template_columns": null,
            "grid_template_rows": null,
            "height": null,
            "justify_content": null,
            "justify_items": null,
            "left": null,
            "margin": null,
            "max_height": null,
            "max_width": null,
            "min_height": null,
            "min_width": null,
            "object_fit": null,
            "object_position": null,
            "order": null,
            "overflow": null,
            "overflow_x": null,
            "overflow_y": null,
            "padding": null,
            "right": null,
            "top": null,
            "visibility": null,
            "width": null
          }
        },
        "dc4b4c4e7c574094a86ee62ba28895b3": {
          "model_module": "@jupyter-widgets/controls",
          "model_module_version": "1.5.0",
          "model_name": "DescriptionStyleModel",
          "state": {
            "_model_module": "@jupyter-widgets/controls",
            "_model_module_version": "1.5.0",
            "_model_name": "DescriptionStyleModel",
            "_view_count": null,
            "_view_module": "@jupyter-widgets/base",
            "_view_module_version": "1.2.0",
            "_view_name": "StyleView",
            "description_width": ""
          }
        },
        "e305028db883430f946cd7cb5e8a2f6b": {
          "model_module": "@jupyter-widgets/controls",
          "model_module_version": "1.5.0",
          "model_name": "HTMLModel",
          "state": {
            "_dom_classes": [],
            "_model_module": "@jupyter-widgets/controls",
            "_model_module_version": "1.5.0",
            "_model_name": "HTMLModel",
            "_view_count": null,
            "_view_module": "@jupyter-widgets/controls",
            "_view_module_version": "1.5.0",
            "_view_name": "HTMLView",
            "description": "",
            "description_tooltip": null,
            "layout": "IPY_MODEL_00f60700532f4b819821ec2451a912aa",
            "placeholder": "​",
            "style": "IPY_MODEL_e64337f1ec4b4f8ca16e6a1b7b65197a",
            "value": " 829k/829k [00:01&lt;00:00, 598kB/s]"
          }
        },
        "e64337f1ec4b4f8ca16e6a1b7b65197a": {
          "model_module": "@jupyter-widgets/controls",
          "model_module_version": "1.5.0",
          "model_name": "DescriptionStyleModel",
          "state": {
            "_model_module": "@jupyter-widgets/controls",
            "_model_module_version": "1.5.0",
            "_model_name": "DescriptionStyleModel",
            "_view_count": null,
            "_view_module": "@jupyter-widgets/base",
            "_view_module_version": "1.2.0",
            "_view_name": "StyleView",
            "description_width": ""
          }
        },
        "e6f25153022d4320abbea94e24510146": {
          "model_module": "@jupyter-widgets/controls",
          "model_module_version": "1.5.0",
          "model_name": "HTMLModel",
          "state": {
            "_dom_classes": [],
            "_model_module": "@jupyter-widgets/controls",
            "_model_module_version": "1.5.0",
            "_model_name": "HTMLModel",
            "_view_count": null,
            "_view_module": "@jupyter-widgets/controls",
            "_view_module_version": "1.5.0",
            "_view_name": "HTMLView",
            "description": "",
            "description_tooltip": null,
            "layout": "IPY_MODEL_d583e405c3f64b06ae437a87d4bbc16e",
            "placeholder": "​",
            "style": "IPY_MODEL_5d167bb0be814baa8e9e8f9050151e01",
            "value": "Downloading tokenizer_config.json: 100%"
          }
        },
        "e8bda5348caf483a9f776476831d168e": {
          "model_module": "@jupyter-widgets/base",
          "model_module_version": "1.2.0",
          "model_name": "LayoutModel",
          "state": {
            "_model_module": "@jupyter-widgets/base",
            "_model_module_version": "1.2.0",
            "_model_name": "LayoutModel",
            "_view_count": null,
            "_view_module": "@jupyter-widgets/base",
            "_view_module_version": "1.2.0",
            "_view_name": "LayoutView",
            "align_content": null,
            "align_items": null,
            "align_self": null,
            "border": null,
            "bottom": null,
            "display": null,
            "flex": null,
            "flex_flow": null,
            "grid_area": null,
            "grid_auto_columns": null,
            "grid_auto_flow": null,
            "grid_auto_rows": null,
            "grid_column": null,
            "grid_gap": null,
            "grid_row": null,
            "grid_template_areas": null,
            "grid_template_columns": null,
            "grid_template_rows": null,
            "height": null,
            "justify_content": null,
            "justify_items": null,
            "left": null,
            "margin": null,
            "max_height": null,
            "max_width": null,
            "min_height": null,
            "min_width": null,
            "object_fit": null,
            "object_position": null,
            "order": null,
            "overflow": null,
            "overflow_x": null,
            "overflow_y": null,
            "padding": null,
            "right": null,
            "top": null,
            "visibility": null,
            "width": null
          }
        },
        "e94f77979db6454e8ade118a6d822f27": {
          "model_module": "@jupyter-widgets/controls",
          "model_module_version": "1.5.0",
          "model_name": "FloatProgressModel",
          "state": {
            "_dom_classes": [],
            "_model_module": "@jupyter-widgets/controls",
            "_model_module_version": "1.5.0",
            "_model_name": "FloatProgressModel",
            "_view_count": null,
            "_view_module": "@jupyter-widgets/controls",
            "_view_module_version": "1.5.0",
            "_view_name": "ProgressView",
            "bar_style": "success",
            "description": "",
            "description_tooltip": null,
            "layout": "IPY_MODEL_4f432efec1424a1e84c8e48aa262480a",
            "max": 267967963,
            "min": 0,
            "orientation": "horizontal",
            "style": "IPY_MODEL_ab64dc24dcc54bbb834507b99080d72d",
            "value": 267967963
          }
        },
        "e9f781bed8e7414d870094d471b1a3f7": {
          "model_module": "@jupyter-widgets/base",
          "model_module_version": "1.2.0",
          "model_name": "LayoutModel",
          "state": {
            "_model_module": "@jupyter-widgets/base",
            "_model_module_version": "1.2.0",
            "_model_name": "LayoutModel",
            "_view_count": null,
            "_view_module": "@jupyter-widgets/base",
            "_view_module_version": "1.2.0",
            "_view_name": "LayoutView",
            "align_content": null,
            "align_items": null,
            "align_self": null,
            "border": null,
            "bottom": null,
            "display": null,
            "flex": null,
            "flex_flow": null,
            "grid_area": null,
            "grid_auto_columns": null,
            "grid_auto_flow": null,
            "grid_auto_rows": null,
            "grid_column": null,
            "grid_gap": null,
            "grid_row": null,
            "grid_template_areas": null,
            "grid_template_columns": null,
            "grid_template_rows": null,
            "height": null,
            "justify_content": null,
            "justify_items": null,
            "left": null,
            "margin": null,
            "max_height": null,
            "max_width": null,
            "min_height": null,
            "min_width": null,
            "object_fit": null,
            "object_position": null,
            "order": null,
            "overflow": null,
            "overflow_x": null,
            "overflow_y": null,
            "padding": null,
            "right": null,
            "top": null,
            "visibility": null,
            "width": null
          }
        },
        "f99aee65bee34fc5ab4446d0ef8f7cb7": {
          "model_module": "@jupyter-widgets/controls",
          "model_module_version": "1.5.0",
          "model_name": "HTMLModel",
          "state": {
            "_dom_classes": [],
            "_model_module": "@jupyter-widgets/controls",
            "_model_module_version": "1.5.0",
            "_model_name": "HTMLModel",
            "_view_count": null,
            "_view_module": "@jupyter-widgets/controls",
            "_view_module_version": "1.5.0",
            "_view_name": "HTMLView",
            "description": "",
            "description_tooltip": null,
            "layout": "IPY_MODEL_50df87f96e374c9a833c99e6ccd9fabc",
            "placeholder": "​",
            "style": "IPY_MODEL_a3c0f0c3d1704459888f2d8308a72206",
            "value": " 28.0/28.0 [00:00&lt;00:00, 211B/s]"
          }
        },
        "fb10a46178aa4a539df2fd3dfe31d891": {
          "model_module": "@jupyter-widgets/base",
          "model_module_version": "1.2.0",
          "model_name": "LayoutModel",
          "state": {
            "_model_module": "@jupyter-widgets/base",
            "_model_module_version": "1.2.0",
            "_model_name": "LayoutModel",
            "_view_count": null,
            "_view_module": "@jupyter-widgets/base",
            "_view_module_version": "1.2.0",
            "_view_name": "LayoutView",
            "align_content": null,
            "align_items": null,
            "align_self": null,
            "border": null,
            "bottom": null,
            "display": null,
            "flex": null,
            "flex_flow": null,
            "grid_area": null,
            "grid_auto_columns": null,
            "grid_auto_flow": null,
            "grid_auto_rows": null,
            "grid_column": null,
            "grid_gap": null,
            "grid_row": null,
            "grid_template_areas": null,
            "grid_template_columns": null,
            "grid_template_rows": null,
            "height": null,
            "justify_content": null,
            "justify_items": null,
            "left": null,
            "margin": null,
            "max_height": null,
            "max_width": null,
            "min_height": null,
            "min_width": null,
            "object_fit": null,
            "object_position": null,
            "order": null,
            "overflow": null,
            "overflow_x": null,
            "overflow_y": null,
            "padding": null,
            "right": null,
            "top": null,
            "visibility": null,
            "width": null
          }
        },
        "fcaf7e2179fe4f2d8264945600eb3dc7": {
          "model_module": "@jupyter-widgets/controls",
          "model_module_version": "1.5.0",
          "model_name": "HTMLModel",
          "state": {
            "_dom_classes": [],
            "_model_module": "@jupyter-widgets/controls",
            "_model_module_version": "1.5.0",
            "_model_name": "HTMLModel",
            "_view_count": null,
            "_view_module": "@jupyter-widgets/controls",
            "_view_module_version": "1.5.0",
            "_view_name": "HTMLView",
            "description": "",
            "description_tooltip": null,
            "layout": "IPY_MODEL_76ff78c6c5b145deb013718b45f69374",
            "placeholder": "​",
            "style": "IPY_MODEL_9f2c6f5041f54bdf9c60f9daf25ae511",
            "value": "Downloading config.json: 100%"
          }
        },
        "fd78788baffd4c609e093e8a3b4add30": {
          "model_module": "@jupyter-widgets/controls",
          "model_module_version": "1.5.0",
          "model_name": "HTMLModel",
          "state": {
            "_dom_classes": [],
            "_model_module": "@jupyter-widgets/controls",
            "_model_module_version": "1.5.0",
            "_model_name": "HTMLModel",
            "_view_count": null,
            "_view_module": "@jupyter-widgets/controls",
            "_view_module_version": "1.5.0",
            "_view_name": "HTMLView",
            "description": "",
            "description_tooltip": null,
            "layout": "IPY_MODEL_a989492ed4e54ce4b4c5d127efb3fe27",
            "placeholder": "​",
            "style": "IPY_MODEL_258e9dc946e0486abab2f56c1ec51695",
            "value": "Downloading tokenizer_config.json: 100%"
          }
        },
        "fe917bcb27cb4917a9bd62bfff521a12": {
          "model_module": "@jupyter-widgets/controls",
          "model_module_version": "1.5.0",
          "model_name": "DescriptionStyleModel",
          "state": {
            "_model_module": "@jupyter-widgets/controls",
            "_model_module_version": "1.5.0",
            "_model_name": "DescriptionStyleModel",
            "_view_count": null,
            "_view_module": "@jupyter-widgets/base",
            "_view_module_version": "1.2.0",
            "_view_name": "StyleView",
            "description_width": ""
          }
        },
        "ff003e40c05247deb49963815adba4d0": {
          "model_module": "@jupyter-widgets/base",
          "model_module_version": "1.2.0",
          "model_name": "LayoutModel",
          "state": {
            "_model_module": "@jupyter-widgets/base",
            "_model_module_version": "1.2.0",
            "_model_name": "LayoutModel",
            "_view_count": null,
            "_view_module": "@jupyter-widgets/base",
            "_view_module_version": "1.2.0",
            "_view_name": "LayoutView",
            "align_content": null,
            "align_items": null,
            "align_self": null,
            "border": null,
            "bottom": null,
            "display": null,
            "flex": null,
            "flex_flow": null,
            "grid_area": null,
            "grid_auto_columns": null,
            "grid_auto_flow": null,
            "grid_auto_rows": null,
            "grid_column": null,
            "grid_gap": null,
            "grid_row": null,
            "grid_template_areas": null,
            "grid_template_columns": null,
            "grid_template_rows": null,
            "height": null,
            "justify_content": null,
            "justify_items": null,
            "left": null,
            "margin": null,
            "max_height": null,
            "max_width": null,
            "min_height": null,
            "min_width": null,
            "object_fit": null,
            "object_position": null,
            "order": null,
            "overflow": null,
            "overflow_x": null,
            "overflow_y": null,
            "padding": null,
            "right": null,
            "top": null,
            "visibility": null,
            "width": null
          }
        }
      }
    }
  },
  "nbformat": 4,
  "nbformat_minor": 5
}