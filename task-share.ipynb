{
 "cells": [
  {
   "cell_type": "code",
   "execution_count": 28,
   "id": "ef15970d",
   "metadata": {},
   "outputs": [
    {
     "data": {
      "text/plain": [
       "matrix([[1., 2., 3.],\n",
       "        [2., 3., 4.]])"
      ]
     },
     "execution_count": 28,
     "metadata": {},
     "output_type": "execute_result"
    }
   ],
   "source": [
    "import numpy as np\n",
    "k=2\n",
    "\n",
    "S = np.zeros((k, 0))\n",
    "\n",
    "a = np.array([1,2])\n",
    "b = np.array([2,3])\n",
    "c = np.array([3,4])\n",
    "\n",
    "S=np.hstack((S,np.matrix(a).T))\n",
    "S=np.hstack((S,np.matrix(b).T))\n",
    "S=np.hstack((S,np.matrix(c).T))\n",
    "#S=np.hstack((S,b.T))\n",
    "S"
   ]
  },
  {
   "cell_type": "code",
   "execution_count": 29,
   "id": "dafbb77c",
   "metadata": {},
   "outputs": [
    {
     "data": {
      "text/plain": [
       "matrix([[1.],\n",
       "        [2.]])"
      ]
     },
     "execution_count": 29,
     "metadata": {},
     "output_type": "execute_result"
    }
   ],
   "source": [
    "S[:,0]"
   ]
  },
  {
   "cell_type": "code",
   "execution_count": 30,
   "id": "b30e820e",
   "metadata": {
    "scrolled": true
   },
   "outputs": [
    {
     "data": {
      "text/plain": [
       "matrix([[1., 2.],\n",
       "        [2., 4.]])"
      ]
     },
     "execution_count": 30,
     "metadata": {},
     "output_type": "execute_result"
    }
   ],
   "source": [
    "S[:,0].dot(S[:,0].T)"
   ]
  },
  {
   "cell_type": "code",
   "execution_count": 35,
   "id": "3abcc3d7",
   "metadata": {},
   "outputs": [
    {
     "data": {
      "text/plain": [
       "matrix([[1, 0],\n",
       "        [0, 1]])"
      ]
     },
     "execution_count": 35,
     "metadata": {},
     "output_type": "execute_result"
    }
   ],
   "source": [
    "D=np.matrix('1 0;0 1')\n",
    "D"
   ]
  },
  {
   "cell_type": "code",
   "execution_count": 36,
   "id": "db2da03f",
   "metadata": {},
   "outputs": [
    {
     "data": {
      "text/plain": [
       "matrix([[1., 0., 2., 0.],\n",
       "        [0., 1., 0., 2.],\n",
       "        [2., 0., 4., 0.],\n",
       "        [0., 2., 0., 4.]])"
      ]
     },
     "execution_count": 36,
     "metadata": {},
     "output_type": "execute_result"
    }
   ],
   "source": [
    "np.kron(S[:,0].dot(S[:,0].T), D)"
   ]
  },
  {
   "cell_type": "code",
   "execution_count": 10,
   "id": "fd77fb7e",
   "metadata": {},
   "outputs": [
    {
     "data": {
      "text/plain": [
       "5"
      ]
     },
     "execution_count": 10,
     "metadata": {},
     "output_type": "execute_result"
    }
   ],
   "source": [
    "a.dot(b)"
   ]
  }
 ],
 "metadata": {
  "kernelspec": {
   "display_name": "Python 3 (ipykernel)",
   "language": "python",
   "name": "python3"
  },
  "language_info": {
   "codemirror_mode": {
    "name": "ipython",
    "version": 3
   },
   "file_extension": ".py",
   "mimetype": "text/x-python",
   "name": "python",
   "nbconvert_exporter": "python",
   "pygments_lexer": "ipython3",
   "version": "3.9.7"
  }
 },
 "nbformat": 4,
 "nbformat_minor": 5
}
