{
 "cells": [
  {
   "cell_type": "code",
   "execution_count": 6,
   "id": "79cd8f90",
   "metadata": {
    "scrolled": true
   },
   "outputs": [
    {
     "name": "stderr",
     "output_type": "stream",
     "text": [
      "/tmp/ipykernel_3903/1890039292.py:66: DtypeWarning: Columns (2,4,5,8,9,10,11,12,13,15,21) have mixed types. Specify dtype option on import or set low_memory=False.\n",
      "  data = pd.read_csv(\"raw/grafn.csv\",sep=\",\")\n"
     ]
    }
   ],
   "source": [
    "import pickle\n",
    "import numpy as np\n",
    "import pandas as pd\n",
    "\n",
    "DATA = {\n",
    "    \"X\" : [],\n",
    "    \"category\" : [],\n",
    "    \"y\" : [],\n",
    "    \"topic\":[]\n",
    "}\n",
    "\n",
    "X=DATA[\"X\"]\n",
    "category=DATA[\"category\"]\n",
    "y=DATA[\"y\"]\n",
    "topic = DATA[\"topic\"]\n",
    "\n",
    "with open('covid_fake_news_BERTEmbeddings.pickle', 'rb') as handle:\n",
    "    dst = pickle.load(handle)\n",
    "    X.extend(dst)\n",
    "    category.extend(np.repeat(0,len(dst)))\n",
    "    data = pd.read_csv(\"raw/covid_fake_news.csv\",sep=\"\\t\")\n",
    "    y.extend(1-data[\"label\"].values)\n",
    "    \n",
    "#     with open('covid_fake_news_categories.pickle', 'rb') as handle:\n",
    "#         top=pickle.load(handle)\n",
    "#         topic.extend(top)\n",
    "    \n",
    "with open('mmcovid_en_BERTEmbeddings.pickle', 'rb') as handle:\n",
    "    dst = pickle.load(handle)\n",
    "    X.extend(dst)\n",
    "    category.extend(np.repeat(1,len(dst)))\n",
    "    data = pd.read_csv(\"raw/mmcovid_en.csv\",sep=\",\")\n",
    "    y.extend(data[\"label\"].values)\n",
    "    \n",
    "\n",
    "with open('pubhealth_BERTEmbeddings.pickle', 'rb') as handle:\n",
    "    dst = pickle.load(handle)\n",
    "    X.extend(dst)\n",
    "    category.extend(np.repeat(2,len(dst)))\n",
    "    data = pd.read_csv(\"raw/pubhealth.csv\",sep=\",\")\n",
    "    y.extend(data[\"label\"].values)\n",
    "\n",
    "    with open('pubhealth_categories.pickle', 'rb') as handle:\n",
    "        top=pickle.load(handle)\n",
    "        topic.extend(top)\n",
    "\n",
    "    \n",
    "with open('qprop_BERTEmbeddings.pickle', 'rb') as handle:\n",
    "    dst = pickle.load(handle)\n",
    "    X.extend(dst)\n",
    "    category.extend(np.repeat(3,len(dst)))\n",
    "    data = pd.read_csv(\"raw/qprop.csv\",sep=\"\\t\")\n",
    "    y.extend(data[\"label\"].values)\n",
    "    \n",
    "with open('isot_BERTEmbeddings.pickle', 'rb') as handle:\n",
    "    dst = pickle.load(handle)\n",
    "    X.extend(dst)\n",
    "    category.extend(np.repeat(4,len(dst)))\n",
    "    data = pd.read_csv(\"raw/isot.csv\",sep=\",\")\n",
    "    y.extend(data[\"label\"].values)\n",
    "    \n",
    "with open('grafn_BERTEmbeddings.pickle', 'rb') as handle:\n",
    "    dst = pickle.load(handle)\n",
    "    X.extend(dst)\n",
    "    category.extend(np.repeat(5,len(dst)))\n",
    "    data = pd.read_csv(\"raw/grafn.csv\",sep=\",\")\n",
    "    y.extend(data[\"label\"].values)\n",
    "    \n",
    "    \n",
    "DATA[\"X\"]=np.array(X)\n",
    "DATA[\"category\"]=np.array(category)\n",
    "DATA[\"y\"]=np.array(y)\n",
    "DATA[\"folds\"] = []\n",
    "DATA[\"topic\"] = np.array(topic)"
   ]
  },
  {
   "cell_type": "code",
   "execution_count": 2,
   "id": "794f2c70",
   "metadata": {},
   "outputs": [],
   "source": [
    "from sklearn.metrics import accuracy_score, balanced_accuracy_score, f1_score, precision_score, recall_score, roc_auc_score\n",
    "from imblearn.metrics import geometric_mean_score\n",
    "from IPython.display import clear_output\n",
    "\n",
    "from sklearn.linear_model import LogisticRegression\n",
    "from sklearn.metrics import classification_report\n",
    "\n",
    "def experiment(foldids, X, y, cls = LogisticRegression(max_iter=10000), fit=True):\n",
    "\n",
    "    scores = {\n",
    "        'Accuracy': {'func': accuracy_score},\n",
    "        'Balanced Accuracy': {'func': balanced_accuracy_score},\n",
    "        'F1': {'func': f1_score},\n",
    "        'Precision': {'func': precision_score},\n",
    "        'Recall': {'func': recall_score},\n",
    "        'G-mean': {'func': geometric_mean_score}\n",
    "    }\n",
    "\n",
    "    for score_name, score_dict in scores.items():\n",
    "        scores[score_name][\"list\"] = []\n",
    "        scores[score_name][\"lab\"] = []\n",
    "\n",
    "    for fold,j in enumerate(foldids):\n",
    "        train = foldids[fold][1]\n",
    "        test = foldids[fold][2]\n",
    "        xin, yin = X[train], np.array(y[train])\n",
    "        \n",
    "        pca = PCA(n_components=128)\n",
    "        pca.fit(xin)\n",
    "        \n",
    "        \n",
    "        if fit == True:\n",
    "            cls.fit(pca.transform(xin), yin)\n",
    "        y_pred = cls.predict(pca.transform(X[test]))\n",
    "        for score_name, score_dict in scores.items():\n",
    "            if score_name in [\"F1\",\"Precision\",\"Recall\"]:\n",
    "                scorvaln = score_dict['func'](y[test], y_pred, average=None)\n",
    "                score_dict['lab'].append(scorvaln)\n",
    "                scorval = score_dict['func'](y[test], y_pred, average=\"weighted\")\n",
    "                score_dict['list'].append(scorval)\n",
    "                #print(score_name, scorval, scorvaln)  \n",
    "            else:\n",
    "                scorval=score_dict['func'](y[test], y_pred)\n",
    "                score_dict['list'].append(scorval)\n",
    "                #print(score_name, scorval)\n",
    "        #print(\" \")\n",
    "\n",
    "    #clear_output()\n",
    "    for score_name, score_dict in scores.items():\n",
    "        score_dict['avg'] = np.mean(score_dict['list'])\n",
    "        score_dict['std'] = np.std(score_dict['list'])\n",
    " \n",
    "    # Print stats\n",
    "    numlabels = scores[\"F1\"][\"lab\"][0].shape[0]\n",
    "    scores[\"F1\"][\"lab\"][0].shape[0] \n",
    "    head = \"| %-20s | %-10s |\" +  numlabels * \" %-10s |\" \n",
    "    headv = [\"Score\", \"Average\"]\n",
    "    headv.extend([\"Kat_\"+str(i+1) for i in range(numlabels)])\n",
    "    row=head % tuple(headv)\n",
    "    print(\"+\"*len(row))\n",
    "    print(row)\n",
    "    print(\"+\"*len(row))\n",
    "    for score_name, score_dict in sorted(scores.items()) :\n",
    "        headv = [score_name, np.mean(score_dict['list'])*100, np.std(score_dict['list'])*100]\n",
    "        for i in range(numlabels):\n",
    "            if score_name in [\"F1\",\"Precision\",\"Recall\"]:\n",
    "                head = \"| %-20s | %4.1f ± %3.1f |\" + numlabels* \" %4.1f ± %3.1f |\"\n",
    "                vals = [v[i] for v in scores[score_name][\"lab\"]]\n",
    "                headv.append(np.mean(vals)*100)\n",
    "                headv.append(np.std(vals)*100)\n",
    "            else:\n",
    "                head = \"| %-20s | %4.1f ± %3.1f |\" + numlabels * \" %-10s |\" \n",
    "                headv.append(\"-\")\n",
    "        print(head % tuple(headv))\n",
    "    print(\"+\"*len(row))\n",
    "    return cls, scores, pca"
   ]
  },
  {
   "cell_type": "markdown",
   "id": "808eb41d",
   "metadata": {},
   "source": [
    "<hr style=\"border: 5px dashed red\">"
   ]
  },
  {
   "cell_type": "markdown",
   "id": "085cab75",
   "metadata": {},
   "source": [
    "# Topic aware"
   ]
  },
  {
   "cell_type": "code",
   "execution_count": 11,
   "id": "411d1508",
   "metadata": {},
   "outputs": [
    {
     "name": "stdout",
     "output_type": "stream",
     "text": [
      "(10075, 768) (10075,) (10075,)\n",
      "fold 0\n",
      "0.818501347291662\n",
      "fold 1\n",
      "0.8200985412740065\n",
      "fold 2\n",
      "0.8165088867408496\n",
      "fold 3\n",
      "0.8222537528710903\n",
      "fold 4\n",
      "0.8245502367750472\n",
      "fold 5\n",
      "0.8148326030612842\n",
      "fold 6\n",
      "0.8131444012312807\n",
      "fold 7\n",
      "0.8149755262908038\n",
      "fold 8\n",
      "0.8145225674508132\n",
      "fold 9\n",
      "0.8136773490417578\n"
     ]
    }
   ],
   "source": [
    "from sklearn.model_selection import RepeatedStratifiedKFold\n",
    "from sklearn.decomposition import PCA\n",
    "\n",
    "t=2\n",
    "X = DATA[\"X\"][DATA[\"category\"] == t]\n",
    "y = DATA[\"y\"][DATA[\"category\"] == t]\n",
    "topics = DATA[\"topic\"]\n",
    "foldids = []\n",
    "\n",
    "print(X.shape, y.shape, topics.shape)\n",
    "\n",
    "rskf = RepeatedStratifiedKFold(n_splits=2, n_repeats=5, random_state=1410)\n",
    "\n",
    "for fold_idx, (train, test) in enumerate(rskf.split(X, y)):\n",
    "    foldids.append((fold_idx,train,test))\n",
    "    \n",
    "for _foldid in range(10):\n",
    "    print(\"fold\",_foldid) \n",
    "    trainX = X[foldids[_foldid][1]]\n",
    "    trainY = y[foldids[_foldid][1]]\n",
    "    \n",
    "    testX = X[foldids[_foldid][2]]\n",
    "    testY = y[foldids[_foldid][2]]\n",
    "    \n",
    "    pca = PCA(n_components=512)\n",
    "    pca.fit(trainX)\n",
    "    \n",
    "    lr = LogisticRegression(max_iter=10000, class_weight='balanced')\n",
    "    lr.fit(pca.transform(trainX), trainY)\n",
    "    \n",
    "    scr = balanced_accuracy_score(testY, lr.predict(pca.transform(testX)))\n",
    "    print(scr)"
   ]
  },
  {
   "cell_type": "code",
   "execution_count": 12,
   "id": "e4f078bd",
   "metadata": {
    "scrolled": false
   },
   "outputs": [
    {
     "name": "stdout",
     "output_type": "stream",
     "text": [
      "fold 0\n",
      "0.7993570184094807\n",
      "fold 1\n",
      "uknown [ Finance ] len= 1 [0]\n",
      "0.7991259461719806\n",
      "fold 2\n",
      "0.7983736595436455\n",
      "fold 3\n",
      "uknown [ Finance ] len= 1 [0]\n",
      "0.8025111560923678\n",
      "fold 4\n",
      "0.8009370890928684\n",
      "fold 5\n",
      "uknown [ Finance ] len= 1 [0]\n",
      "0.7951031370386308\n",
      "fold 6\n",
      "uknown [ Finance ] len= 1 [0]\n",
      "0.7964911527987744\n",
      "fold 7\n",
      "0.802006632041873\n",
      "fold 8\n",
      "0.7949544074482557\n",
      "fold 9\n",
      "uknown [ Finance ] len= 1 [0]\n",
      "0.7952197987560123\n"
     ]
    }
   ],
   "source": [
    "\n",
    "for _foldid in range(10):\n",
    "    print(\"fold\",_foldid)\n",
    "    train_topics = topics[foldids[_foldid][1]]\n",
    "    test_topics = topics[foldids[_foldid][2]]\n",
    "    \n",
    "    trainX = X[foldids[_foldid][1]]\n",
    "    trainY = y[foldids[_foldid][1]]\n",
    "    \n",
    "    testX = X[foldids[_foldid][2]]\n",
    "    testY = y[foldids[_foldid][2]]\n",
    "    \n",
    "    pca = PCA(n_components=512)\n",
    "    pca.fit(trainX)\n",
    "\n",
    "    cls = {}\n",
    "    #print(np.unique(train_topics,return_counts=True))\n",
    "    for topic in np.unique(train_topics):\n",
    "        cls[topic] = LogisticRegression(max_iter=10000, class_weight='balanced')\n",
    "        this_topic = train_topics==topic\n",
    "        if len(np.unique(trainY[this_topic])) > 1:\n",
    "            cls[topic].fit(pca.transform(trainX[this_topic]), trainY[this_topic])\n",
    "        else:\n",
    "            #print(trainY[this_topic])\n",
    "            cls[topic] = np.max(trainY[this_topic])\n",
    "    \n",
    "    pred = []\n",
    "    gt = []\n",
    "    #print(np.unique(test_topics,return_counts=True))\n",
    "    for topic in np.unique(test_topics):\n",
    "        this_topic = test_topics==topic\n",
    "        gt.extend(testY[this_topic])\n",
    "        \n",
    "        if topic in cls:\n",
    "            #print(topic, len(testX[this_topic]))\n",
    "            if isinstance( cls[topic], LogisticRegression):\n",
    "                pr = cls[topic].predict(pca.transform(testX[this_topic]))\n",
    "                pred.extend(pr)\n",
    "            else:\n",
    "                pred.extend(np.repeat(cls[topic],len(testX[this_topic])))\n",
    "        else:\n",
    "            print(\"uknown [\",topic,\"] len=\",len(testX[this_topic]), testY[this_topic])\n",
    "            pred.extend(np.repeat(1,len(testX[this_topic])))\n",
    "    #test = foldids[2]\n",
    "    scr = balanced_accuracy_score(gt, pred)\n",
    "    print(scr)\n",
    "    "
   ]
  },
  {
   "cell_type": "markdown",
   "id": "38f4412b",
   "metadata": {},
   "source": [
    "# KNN\n"
   ]
  },
  {
   "cell_type": "code",
   "execution_count": 16,
   "id": "85c85cf8",
   "metadata": {},
   "outputs": [
    {
     "name": "stdout",
     "output_type": "stream",
     "text": [
      "(10075, 768) (10075,) (10075,)\n",
      "fold 0\n",
      "0.7950116137130148\n",
      "fold 1\n"
     ]
    },
    {
     "ename": "KeyboardInterrupt",
     "evalue": "",
     "output_type": "error",
     "traceback": [
      "\u001b[0;31m---------------------------------------------------------------------------\u001b[0m",
      "\u001b[0;31mKeyboardInterrupt\u001b[0m                         Traceback (most recent call last)",
      "\u001b[0;32m/tmp/ipykernel_3903/2252049043.py\u001b[0m in \u001b[0;36m<module>\u001b[0;34m\u001b[0m\n\u001b[1;32m     38\u001b[0m     repeats=3,avoid_empty_clusters=True)\n\u001b[1;32m     39\u001b[0m \u001b[0;34m\u001b[0m\u001b[0m\n\u001b[0;32m---> 40\u001b[0;31m     \u001b[0massigned_clusters\u001b[0m \u001b[0;34m=\u001b[0m \u001b[0mkclusterer\u001b[0m\u001b[0;34m.\u001b[0m\u001b[0mcluster\u001b[0m\u001b[0;34m(\u001b[0m\u001b[0mtrainX_PCA\u001b[0m\u001b[0;34m,\u001b[0m \u001b[0massign_clusters\u001b[0m\u001b[0;34m=\u001b[0m\u001b[0;32mTrue\u001b[0m\u001b[0;34m)\u001b[0m\u001b[0;34m\u001b[0m\u001b[0;34m\u001b[0m\u001b[0m\n\u001b[0m\u001b[1;32m     41\u001b[0m \u001b[0;34m\u001b[0m\u001b[0m\n\u001b[1;32m     42\u001b[0m     \u001b[0mlr\u001b[0m \u001b[0;34m=\u001b[0m \u001b[0mLogisticRegression\u001b[0m\u001b[0;34m(\u001b[0m\u001b[0mmax_iter\u001b[0m\u001b[0;34m=\u001b[0m\u001b[0;36m10000\u001b[0m\u001b[0;34m,\u001b[0m \u001b[0mclass_weight\u001b[0m\u001b[0;34m=\u001b[0m\u001b[0;34m'balanced'\u001b[0m\u001b[0;34m)\u001b[0m\u001b[0;34m\u001b[0m\u001b[0;34m\u001b[0m\u001b[0m\n",
      "\u001b[0;32m~/anaconda3/lib/python3.9/site-packages/nltk/cluster/util.py\u001b[0m in \u001b[0;36mcluster\u001b[0;34m(self, vectors, assign_clusters, trace)\u001b[0m\n\u001b[1;32m     57\u001b[0m \u001b[0;34m\u001b[0m\u001b[0m\n\u001b[1;32m     58\u001b[0m         \u001b[0;31m# call abstract method to cluster the vectors\u001b[0m\u001b[0;34m\u001b[0m\u001b[0;34m\u001b[0m\u001b[0m\n\u001b[0;32m---> 59\u001b[0;31m         \u001b[0mself\u001b[0m\u001b[0;34m.\u001b[0m\u001b[0mcluster_vectorspace\u001b[0m\u001b[0;34m(\u001b[0m\u001b[0mvectors\u001b[0m\u001b[0;34m,\u001b[0m \u001b[0mtrace\u001b[0m\u001b[0;34m)\u001b[0m\u001b[0;34m\u001b[0m\u001b[0;34m\u001b[0m\u001b[0m\n\u001b[0m\u001b[1;32m     60\u001b[0m \u001b[0;34m\u001b[0m\u001b[0m\n\u001b[1;32m     61\u001b[0m         \u001b[0;31m# assign the vectors to clusters\u001b[0m\u001b[0;34m\u001b[0m\u001b[0;34m\u001b[0m\u001b[0m\n",
      "\u001b[0;32m~/anaconda3/lib/python3.9/site-packages/nltk/cluster/kmeans.py\u001b[0m in \u001b[0;36mcluster_vectorspace\u001b[0;34m(self, vectors, trace)\u001b[0m\n\u001b[1;32m     89\u001b[0m             \u001b[0;32mif\u001b[0m \u001b[0;32mnot\u001b[0m \u001b[0mself\u001b[0m\u001b[0;34m.\u001b[0m\u001b[0m_means\u001b[0m \u001b[0;32mor\u001b[0m \u001b[0mtrial\u001b[0m \u001b[0;34m>\u001b[0m \u001b[0;36m1\u001b[0m\u001b[0;34m:\u001b[0m\u001b[0;34m\u001b[0m\u001b[0;34m\u001b[0m\u001b[0m\n\u001b[1;32m     90\u001b[0m                 \u001b[0mself\u001b[0m\u001b[0;34m.\u001b[0m\u001b[0m_means\u001b[0m \u001b[0;34m=\u001b[0m \u001b[0mself\u001b[0m\u001b[0;34m.\u001b[0m\u001b[0m_rng\u001b[0m\u001b[0;34m.\u001b[0m\u001b[0msample\u001b[0m\u001b[0;34m(\u001b[0m\u001b[0mlist\u001b[0m\u001b[0;34m(\u001b[0m\u001b[0mvectors\u001b[0m\u001b[0;34m)\u001b[0m\u001b[0;34m,\u001b[0m \u001b[0mself\u001b[0m\u001b[0;34m.\u001b[0m\u001b[0m_num_means\u001b[0m\u001b[0;34m)\u001b[0m\u001b[0;34m\u001b[0m\u001b[0;34m\u001b[0m\u001b[0m\n\u001b[0;32m---> 91\u001b[0;31m             \u001b[0mself\u001b[0m\u001b[0;34m.\u001b[0m\u001b[0m_cluster_vectorspace\u001b[0m\u001b[0;34m(\u001b[0m\u001b[0mvectors\u001b[0m\u001b[0;34m,\u001b[0m \u001b[0mtrace\u001b[0m\u001b[0;34m)\u001b[0m\u001b[0;34m\u001b[0m\u001b[0;34m\u001b[0m\u001b[0m\n\u001b[0m\u001b[1;32m     92\u001b[0m             \u001b[0mmeanss\u001b[0m\u001b[0;34m.\u001b[0m\u001b[0mappend\u001b[0m\u001b[0;34m(\u001b[0m\u001b[0mself\u001b[0m\u001b[0;34m.\u001b[0m\u001b[0m_means\u001b[0m\u001b[0;34m)\u001b[0m\u001b[0;34m\u001b[0m\u001b[0;34m\u001b[0m\u001b[0m\n\u001b[1;32m     93\u001b[0m \u001b[0;34m\u001b[0m\u001b[0m\n",
      "\u001b[0;32m~/anaconda3/lib/python3.9/site-packages/nltk/cluster/kmeans.py\u001b[0m in \u001b[0;36m_cluster_vectorspace\u001b[0;34m(self, vectors, trace)\u001b[0m\n\u001b[1;32m    120\u001b[0m                 \u001b[0mclusters\u001b[0m \u001b[0;34m=\u001b[0m \u001b[0;34m[\u001b[0m\u001b[0;34m[\u001b[0m\u001b[0;34m]\u001b[0m \u001b[0;32mfor\u001b[0m \u001b[0mm\u001b[0m \u001b[0;32min\u001b[0m \u001b[0mrange\u001b[0m\u001b[0;34m(\u001b[0m\u001b[0mself\u001b[0m\u001b[0;34m.\u001b[0m\u001b[0m_num_means\u001b[0m\u001b[0;34m)\u001b[0m\u001b[0;34m]\u001b[0m\u001b[0;34m\u001b[0m\u001b[0;34m\u001b[0m\u001b[0m\n\u001b[1;32m    121\u001b[0m                 \u001b[0;32mfor\u001b[0m \u001b[0mvector\u001b[0m \u001b[0;32min\u001b[0m \u001b[0mvectors\u001b[0m\u001b[0;34m:\u001b[0m\u001b[0;34m\u001b[0m\u001b[0;34m\u001b[0m\u001b[0m\n\u001b[0;32m--> 122\u001b[0;31m                     \u001b[0mindex\u001b[0m \u001b[0;34m=\u001b[0m \u001b[0mself\u001b[0m\u001b[0;34m.\u001b[0m\u001b[0mclassify_vectorspace\u001b[0m\u001b[0;34m(\u001b[0m\u001b[0mvector\u001b[0m\u001b[0;34m)\u001b[0m\u001b[0;34m\u001b[0m\u001b[0;34m\u001b[0m\u001b[0m\n\u001b[0m\u001b[1;32m    123\u001b[0m                     \u001b[0mclusters\u001b[0m\u001b[0;34m[\u001b[0m\u001b[0mindex\u001b[0m\u001b[0;34m]\u001b[0m\u001b[0;34m.\u001b[0m\u001b[0mappend\u001b[0m\u001b[0;34m(\u001b[0m\u001b[0mvector\u001b[0m\u001b[0;34m)\u001b[0m\u001b[0;34m\u001b[0m\u001b[0;34m\u001b[0m\u001b[0m\n\u001b[1;32m    124\u001b[0m \u001b[0;34m\u001b[0m\u001b[0m\n",
      "\u001b[0;32m~/anaconda3/lib/python3.9/site-packages/nltk/cluster/kmeans.py\u001b[0m in \u001b[0;36mclassify_vectorspace\u001b[0;34m(self, vector)\u001b[0m\n\u001b[1;32m    145\u001b[0m         \u001b[0;32mfor\u001b[0m \u001b[0mindex\u001b[0m \u001b[0;32min\u001b[0m \u001b[0mrange\u001b[0m\u001b[0;34m(\u001b[0m\u001b[0mlen\u001b[0m\u001b[0;34m(\u001b[0m\u001b[0mself\u001b[0m\u001b[0;34m.\u001b[0m\u001b[0m_means\u001b[0m\u001b[0;34m)\u001b[0m\u001b[0;34m)\u001b[0m\u001b[0;34m:\u001b[0m\u001b[0;34m\u001b[0m\u001b[0;34m\u001b[0m\u001b[0m\n\u001b[1;32m    146\u001b[0m             \u001b[0mmean\u001b[0m \u001b[0;34m=\u001b[0m \u001b[0mself\u001b[0m\u001b[0;34m.\u001b[0m\u001b[0m_means\u001b[0m\u001b[0;34m[\u001b[0m\u001b[0mindex\u001b[0m\u001b[0;34m]\u001b[0m\u001b[0;34m\u001b[0m\u001b[0;34m\u001b[0m\u001b[0m\n\u001b[0;32m--> 147\u001b[0;31m             \u001b[0mdist\u001b[0m \u001b[0;34m=\u001b[0m \u001b[0mself\u001b[0m\u001b[0;34m.\u001b[0m\u001b[0m_distance\u001b[0m\u001b[0;34m(\u001b[0m\u001b[0mvector\u001b[0m\u001b[0;34m,\u001b[0m \u001b[0mmean\u001b[0m\u001b[0;34m)\u001b[0m\u001b[0;34m\u001b[0m\u001b[0;34m\u001b[0m\u001b[0m\n\u001b[0m\u001b[1;32m    148\u001b[0m             \u001b[0;32mif\u001b[0m \u001b[0mbest_distance\u001b[0m \u001b[0;32mis\u001b[0m \u001b[0;32mNone\u001b[0m \u001b[0;32mor\u001b[0m \u001b[0mdist\u001b[0m \u001b[0;34m<\u001b[0m \u001b[0mbest_distance\u001b[0m\u001b[0;34m:\u001b[0m\u001b[0;34m\u001b[0m\u001b[0;34m\u001b[0m\u001b[0m\n\u001b[1;32m    149\u001b[0m                 \u001b[0mbest_index\u001b[0m\u001b[0;34m,\u001b[0m \u001b[0mbest_distance\u001b[0m \u001b[0;34m=\u001b[0m \u001b[0mindex\u001b[0m\u001b[0;34m,\u001b[0m \u001b[0mdist\u001b[0m\u001b[0;34m\u001b[0m\u001b[0;34m\u001b[0m\u001b[0m\n",
      "\u001b[0;31mKeyboardInterrupt\u001b[0m: "
     ]
    }
   ],
   "source": [
    "from sklearn.model_selection import RepeatedStratifiedKFold\n",
    "from sklearn.decomposition import PCA\n",
    "\n",
    "\n",
    "## Import libraries\n",
    "from nltk.cluster import KMeansClusterer\n",
    "import nltk\n",
    "\n",
    "\n",
    "t=2\n",
    "X = DATA[\"X\"][DATA[\"category\"] == t]\n",
    "y = DATA[\"y\"][DATA[\"category\"] == t]\n",
    "topics = DATA[\"topic\"]\n",
    "foldids = []\n",
    "\n",
    "print(X.shape, y.shape, topics.shape)\n",
    "\n",
    "rskf = RepeatedStratifiedKFold(n_splits=2, n_repeats=5, random_state=1410)\n",
    "\n",
    "for fold_idx, (train, test) in enumerate(rskf.split(X, y)):\n",
    "    foldids.append((fold_idx,train,test))\n",
    "    \n",
    "for _foldid in range(10):\n",
    "    print(\"fold\",_foldid) \n",
    "    trainX = X[foldids[_foldid][1]]\n",
    "    trainY = y[foldids[_foldid][1]]\n",
    "    \n",
    "    testX = X[foldids[_foldid][2]]\n",
    "    testY = y[foldids[_foldid][2]]\n",
    "    \n",
    "    pca = PCA(n_components=64)\n",
    "    pca.fit(trainX)\n",
    "    \n",
    "    trainX_PCA = pca.transform(testX)\n",
    "    \n",
    "    kclusterer = KMeansClusterer(\n",
    "    15, distance=nltk.cluster.util.cosine_distance,\n",
    "    repeats=3,avoid_empty_clusters=True)\n",
    "    \n",
    "    assigned_clusters = kclusterer.cluster(trainX_PCA, assign_clusters=True)\n",
    "    \n",
    "    lr = LogisticRegression(max_iter=10000, class_weight='balanced')\n",
    "    lr.fit(pca.transform(trainX), trainY)\n",
    "    \n",
    "    scr = balanced_accuracy_score(testY, lr.predict(pca.transform(testX)))\n",
    "    print(scr)"
   ]
  },
  {
   "cell_type": "markdown",
   "id": "802f574d",
   "metadata": {},
   "source": [
    "# Single Task Performance"
   ]
  },
  {
   "cell_type": "code",
   "execution_count": 28,
   "id": "f5479333",
   "metadata": {},
   "outputs": [
    {
     "name": "stdout",
     "output_type": "stream",
     "text": [
      "TASK 0\n",
      "+++++++++++++++++++++++++++++++++++++++++++++++++++++++++++++++\n",
      "| Score                | Average    | Kat_1      | Kat_2      |\n",
      "+++++++++++++++++++++++++++++++++++++++++++++++++++++++++++++++\n",
      "| Accuracy             | 91.8 ± 0.3 | -          | -          |\n",
      "| Balanced Accuracy    | 89.1 ± 0.8 | -          | -          |\n",
      "| F1                   | 93.3 ± 0.2 | 52.0 ± 1.0 | 95.5 ± 0.2 |\n",
      "| G-mean               | 89.0 ± 0.8 | -          | -          |\n",
      "| Precision            | 96.0 ± 0.1 | 37.3 ± 1.0 | 99.2 ± 0.1 |\n",
      "| Recall               | 91.8 ± 0.3 | 86.0 ± 1.7 | 92.2 ± 0.4 |\n",
      "+++++++++++++++++++++++++++++++++++++++++++++++++++++++++++++++\n",
      "TASK 1\n",
      "+++++++++++++++++++++++++++++++++++++++++++++++++++++++++++++++\n",
      "| Score                | Average    | Kat_1      | Kat_2      |\n",
      "+++++++++++++++++++++++++++++++++++++++++++++++++++++++++++++++\n",
      "| Accuracy             | 87.3 ± 1.4 | -          | -          |\n",
      "| Balanced Accuracy    | 88.6 ± 0.6 | -          | -          |\n",
      "| F1                   | 87.7 ± 1.2 | 90.7 ± 1.2 | 80.0 ± 1.2 |\n",
      "| G-mean               | 88.5 ± 0.7 | -          | -          |\n",
      "| Precision            | 89.6 ± 0.6 | 96.5 ± 1.5 | 71.6 ± 5.8 |\n",
      "| Recall               | 87.3 ± 1.4 | 85.7 ± 3.6 | 91.5 ± 4.6 |\n",
      "+++++++++++++++++++++++++++++++++++++++++++++++++++++++++++++++\n",
      "TASK 2\n",
      "+++++++++++++++++++++++++++++++++++++++++++++++++++++++++++++++\n",
      "| Score                | Average    | Kat_1      | Kat_2      |\n",
      "+++++++++++++++++++++++++++++++++++++++++++++++++++++++++++++++\n",
      "| Accuracy             | 80.1 ± 0.6 | -          | -          |\n",
      "| Balanced Accuracy    | 80.8 ± 0.5 | -          | -          |\n",
      "| F1                   | 80.4 ± 0.5 | 75.9 ± 0.6 | 83.1 ± 0.5 |\n",
      "| G-mean               | 80.8 ± 0.5 | -          | -          |\n",
      "| Precision            | 81.6 ± 0.5 | 69.5 ± 0.8 | 88.8 ± 0.3 |\n",
      "| Recall               | 80.1 ± 0.6 | 83.5 ± 0.4 | 78.1 ± 0.7 |\n",
      "+++++++++++++++++++++++++++++++++++++++++++++++++++++++++++++++\n",
      "TASK 3\n",
      "+++++++++++++++++++++++++++++++++++++++++++++++++++++++++++++++\n",
      "| Score                | Average    | Kat_1      | Kat_2      |\n",
      "+++++++++++++++++++++++++++++++++++++++++++++++++++++++++++++++\n",
      "| Accuracy             | 86.2 ± 0.3 | -          | -          |\n",
      "| Balanced Accuracy    | 86.4 ± 0.2 | -          | -          |\n",
      "| F1                   | 88.0 ± 0.2 | 91.7 ± 0.2 | 58.5 ± 0.4 |\n",
      "| G-mean               | 86.4 ± 0.2 | -          | -          |\n",
      "| Precision            | 92.1 ± 0.0 | 98.1 ± 0.1 | 44.1 ± 0.5 |\n",
      "| Recall               | 86.2 ± 0.3 | 86.2 ± 0.4 | 86.6 ± 0.6 |\n",
      "+++++++++++++++++++++++++++++++++++++++++++++++++++++++++++++++\n",
      "TASK 4\n",
      "+++++++++++++++++++++++++++++++++++++++++++++++++++++++++++++++\n",
      "| Score                | Average    | Kat_1      | Kat_2      |\n",
      "+++++++++++++++++++++++++++++++++++++++++++++++++++++++++++++++\n",
      "| Accuracy             | 99.2 ± 0.0 | -          | -          |\n",
      "| Balanced Accuracy    | 99.2 ± 0.0 | -          | -          |\n",
      "| F1                   | 99.2 ± 0.0 | 99.2 ± 0.1 | 99.3 ± 0.0 |\n",
      "| G-mean               | 99.2 ± 0.0 | -          | -          |\n",
      "| Precision            | 99.2 ± 0.0 | 99.1 ± 0.1 | 99.4 ± 0.1 |\n",
      "| Recall               | 99.2 ± 0.0 | 99.3 ± 0.1 | 99.1 ± 0.1 |\n",
      "+++++++++++++++++++++++++++++++++++++++++++++++++++++++++++++++\n",
      "TASK 5\n",
      "+++++++++++++++++++++++++++++++++++++++++++++++++++++++++++++++\n",
      "| Score                | Average    | Kat_1      | Kat_2      |\n",
      "+++++++++++++++++++++++++++++++++++++++++++++++++++++++++++++++\n",
      "| Accuracy             | 84.2 ± 0.3 | -          | -          |\n",
      "| Balanced Accuracy    | 84.7 ± 0.3 | -          | -          |\n",
      "| F1                   | 85.2 ± 0.2 | 89.4 ± 0.2 | 68.8 ± 0.4 |\n",
      "| G-mean               | 84.7 ± 0.3 | -          | -          |\n",
      "| Precision            | 88.0 ± 0.2 | 95.8 ± 0.1 | 57.5 ± 0.5 |\n",
      "| Recall               | 84.2 ± 0.3 | 83.9 ± 0.4 | 85.6 ± 0.6 |\n",
      "+++++++++++++++++++++++++++++++++++++++++++++++++++++++++++++++\n"
     ]
    }
   ],
   "source": [
    "import pandas as pd\n",
    "import numpy as np\n",
    "from tqdm import tqdm\n",
    "from sklearn.model_selection import RepeatedStratifiedKFold\n",
    "\n",
    "from sklearn.decomposition import PCA\n",
    "\n",
    "DATA[\"folds\"] = []\n",
    "rskf = RepeatedStratifiedKFold(n_splits=2, n_repeats=5, random_state=1410)\n",
    "\n",
    "stl=[]\n",
    "\n",
    "for t in range(np.max(DATA[\"category\"]+1)):\n",
    "    print(\"TASK\",t)\n",
    "    X = DATA[\"X\"][DATA[\"category\"] == t]\n",
    "    y = DATA[\"y\"][DATA[\"category\"] == t]\n",
    "\n",
    "    foldids = []\n",
    "    for fold_idx, (train, test) in enumerate(rskf.split(X, y)):\n",
    "        foldids.append((fold_idx,train,test))\n",
    "\n",
    "    #print(\"shapes X\",X.shape,\"y\", y.shape)\n",
    "    DATA[\"folds\"].append(foldids)\n",
    "    model1, scores1, pca = experiment(foldids, X, y, \n",
    "                                 LogisticRegression(max_iter=10000, class_weight='balanced'))\n",
    "    stl.append((model1,pca,scores1))"
   ]
  },
  {
   "cell_type": "code",
   "execution_count": 29,
   "id": "4173836e",
   "metadata": {
    "scrolled": true
   },
   "outputs": [
    {
     "name": "stdout",
     "output_type": "stream",
     "text": [
      "STL- 0\n",
      "STL- 1\n",
      "STL- 2\n",
      "STL- 3\n",
      "STL- 4\n",
      "STL- 5\n"
     ]
    }
   ],
   "source": [
    "#\n",
    "# Checking how it generalises...\n",
    "#\n",
    "\n",
    "T = np.max(DATA[\"category\"])+1\n",
    "d = 128\n",
    "\n",
    "stl_bacs = [[] for b in range(T)]\n",
    "\n",
    "ft = 0\n",
    "\n",
    "for ft in range(6):\n",
    "    print(\"STL-\",ft)\n",
    "    for _foldid in range(10):\n",
    "        #print(\"fold\",_foldid)\n",
    "\n",
    "        ##### Test\n",
    "        for task in range(T):\n",
    "            X = DATA[\"X\"][DATA[\"category\"] == task]\n",
    "            y = DATA[\"y\"][DATA[\"category\"] == task]\n",
    "            foldids = DATA[\"folds\"][task]\n",
    "\n",
    "            train = foldids[_foldid][1]\n",
    "            test = foldids[_foldid][2]    \n",
    "\n",
    "            X=stl[ft][1].transform(X[test])\n",
    "\n",
    "            #print(np.unique(domain_pred, return_counts=True))\n",
    "            #print(\"task\",task, pred_task_id)\n",
    "\n",
    "            pred=stl[ft][0].predict(X)\n",
    "            bac = balanced_accuracy_score(y[test], pred)\n",
    "            #print(task,bac)\n",
    "            stl_bacs[task].append(bac)\n",
    "            \n"
   ]
  },
  {
   "cell_type": "code",
   "execution_count": 30,
   "id": "cb5435f3",
   "metadata": {
    "scrolled": false
   },
   "outputs": [
    {
     "name": "stdout",
     "output_type": "stream",
     "text": [
      "STL-0\n",
      "  task_0 0.927078494361103\n",
      "  task_1 0.5414514857642718\n",
      "  task_2 0.45064045055821367\n",
      "  task_3 0.5044609576031202\n",
      "  task_4 0.6221134462217128\n",
      "  task_5 0.6154223300948131\n",
      "STL-1\n",
      "  task_0 0.5584537069265576\n",
      "  task_1 0.8964206984568976\n",
      "  task_2 0.4517635456549483\n",
      "  task_3 0.5139227288548556\n",
      "  task_4 0.5084479057895348\n",
      "  task_5 0.5204635108481261\n",
      "STL-2\n",
      "  task_0 0.48362146553791147\n",
      "  task_1 0.45311070009156484\n",
      "  task_2 0.8153233839041322\n",
      "  task_3 0.3093158920830715\n",
      "  task_4 0.3593799253764745\n",
      "  task_5 0.3620544166877425\n",
      "STL-3\n",
      "  task_0 0.44193302930744843\n",
      "  task_1 0.5122527526903893\n",
      "  task_2 0.2623859811041931\n",
      "  task_3 0.8689419493052505\n",
      "  task_4 0.6658130468693861\n",
      "  task_5 0.7668446820647884\n",
      "STL-4\n",
      "  task_0 0.46337201645076886\n",
      "  task_1 0.5152162833268753\n",
      "  task_2 0.20535026784605206\n",
      "  task_3 0.8003166607955983\n",
      "  task_4 0.9930449164452314\n",
      "  task_5 0.6713233124290622\n",
      "STL-5\n",
      "  task_0 0.4844049735132777\n",
      "  task_1 0.4973487618519837\n",
      "  task_2 0.3464135896097048\n",
      "  task_3 0.7270570722438792\n",
      "  task_4 0.5292909634236239\n",
      "  task_5 0.8507378180027185\n"
     ]
    }
   ],
   "source": [
    "stl_corrmat = [[] for b in range(T)]\n",
    "for c in range(6):\n",
    "    print(f\"STL-{c}\")\n",
    "    for rr in range(T):\n",
    "        mm = np.mean(stl_bacs[c][rr*10:(rr*10+10)])\n",
    "        stl_corrmat[c].append(mm)\n",
    "        print(f\"  task_{rr}\",mm)"
   ]
  },
  {
   "cell_type": "code",
   "execution_count": 31,
   "id": "3ebe3fd7",
   "metadata": {},
   "outputs": [
    {
     "data": {
      "image/png": "[encoded data removed]",
      "text/plain": [
       "<Figure size 432x288 with 2 Axes>"
      ]
     },
     "metadata": {
      "needs_background": "light"
     },
     "output_type": "display_data"
    }
   ],
   "source": [
    "import numpy as np\n",
    "import seaborn as sns\n",
    "import matplotlib.pylab as plt\n",
    "\n",
    "uniform_data = np.array(stl_corrmat)\n",
    "ax = sns.heatmap(uniform_data, linewidth=0.5)\n",
    "ax.set(xlabel='Dataset', ylabel='Classifier')\n",
    "plt.show()"
   ]
  },
  {
   "cell_type": "code",
   "execution_count": 32,
   "id": "379ab0b8",
   "metadata": {
    "scrolled": false
   },
   "outputs": [
    {
     "name": "stdout",
     "output_type": "stream",
     "text": [
      "61.0 ± 15.41 &\n",
      "57.5 ± 14.72 &\n",
      "46.4 ± 16.80 &\n",
      "58.6 ± 20.42 &\n",
      "60.8 ± 25.20 &\n",
      "57.3 ± 16.72 &\n",
      "---\n",
      "56.93192533915356 19.209019709861153\n"
     ]
    }
   ],
   "source": [
    "for t in range(T):\n",
    "    print(\"%3.1f ± %3.2f &\" % (np.mean(stl_bacs[t])*100, 100*np.std(stl_bacs[t])) )\n",
    "\n",
    "print(\"---\")\n",
    "print(np.mean(np.array(stl_bacs).flatten())*100, np.std(np.array(stl_bacs).flatten())*100)"
   ]
  },
  {
   "cell_type": "code",
   "execution_count": 33,
   "id": "67cd4ebd",
   "metadata": {},
   "outputs": [
    {
     "name": "stderr",
     "output_type": "stream",
     "text": [
      "/tmp/ipykernel_4317/2081165960.py:10: UserWarning: Matplotlib is currently using module://matplotlib_inline.backend_inline, which is a non-GUI backend, so cannot show the figure.\n",
      "  fig.show()\n"
     ]
    },
    {
     "data": {
      "image/png": "[encoded data removed]",
      "text/plain": [
       "<Figure size 432x288 with 12 Axes>"
      ]
     },
     "metadata": {
      "needs_background": "light"
     },
     "output_type": "display_data"
    }
   ],
   "source": [
    "fig, ax = plt.subplots(2, 3, gridspec_kw={'height_ratios': [1, 1]} )\n",
    "fig.tight_layout(w_pad=1, h_pad=2)\n",
    "\n",
    "\n",
    "for c in range(6):\n",
    "    ob=sns.heatmap(stl[c][0].coef_.reshape((8,16)), linewidth=0.5, cmap=\"vlag\", ax = ax[c%2, int(c/2)])\n",
    "    ob.set_title(str(c))\n",
    "    #ax.set(xlabel='Task ID', ylabel='Classifier')\n",
    "\n",
    "fig.show()"
   ]
  },
  {
   "cell_type": "markdown",
   "id": "98cbdf68",
   "metadata": {},
   "source": [
    "# Batch Multi Task Performance"
   ]
  },
  {
   "cell_type": "code",
   "execution_count": 15,
   "id": "98df1a72",
   "metadata": {
    "scrolled": false
   },
   "outputs": [
    {
     "name": "stderr",
     "output_type": "stream",
     "text": [
      "100%|██████████████████████████████████████████| 10/10 [00:00<00:00, 168.25it/s]\n"
     ]
    },
    {
     "name": "stdout",
     "output_type": "stream",
     "text": [
      "shapes X (186477, 768) y (186477,)\n",
      "+++++++++++++++++++++++++++++++++++++++++++++++++++++++++++++++\n",
      "| Score                | Average    | Kat_1      | Kat_2      |\n",
      "+++++++++++++++++++++++++++++++++++++++++++++++++++++++++++++++\n",
      "| Accuracy             | 84.5 ± 0.1 | -          | -          |\n",
      "| Balanced Accuracy    | 77.7 ± 0.2 | -          | -          |\n",
      "| F1                   | 84.0 ± 0.1 | 89.7 ± 0.1 | 68.8 ± 0.3 |\n",
      "| G-mean               | 76.2 ± 0.2 | -          | -          |\n",
      "| Precision            | 84.0 ± 0.1 | 86.8 ± 0.1 | 76.3 ± 0.3 |\n",
      "| Recall               | 84.5 ± 0.1 | 92.6 ± 0.1 | 62.7 ± 0.4 |\n",
      "+++++++++++++++++++++++++++++++++++++++++++++++++++++++++++++++\n"
     ]
    }
   ],
   "source": [
    "X = DATA[\"X\"]\n",
    "y = DATA[\"y\"]\n",
    "\n",
    "rskf = RepeatedStratifiedKFold(n_splits=2, n_repeats=5, random_state=1410)\n",
    "foldids = []\n",
    "for fold_idx, (train, test) in tqdm(enumerate(rskf.split(X, y)), total=rskf.get_n_splits()):\n",
    "    foldids.append((fold_idx,train,test))\n",
    "    \n",
    "print(\"shapes X\",X.shape,\"y\", y.shape)\n",
    "\n",
    "model3, scores3, model3_pca = experiment(foldids, X, y, \n",
    "                             LogisticRegression(max_iter=10000))"
   ]
  },
  {
   "cell_type": "code",
   "execution_count": 16,
   "id": "4afa71b2",
   "metadata": {
    "scrolled": false
   },
   "outputs": [
    {
     "name": "stdout",
     "output_type": "stream",
     "text": [
      "fold 0\n",
      "0 0.49765548381824126\n",
      "1 0.6721197354681518\n",
      "2 0.4339265959496282\n",
      "3 0.7679134383557792\n",
      "4 0.8952621559899304\n",
      "5 0.7428387681433037\n",
      "fold 1\n",
      "0 0.4999364129798912\n",
      "1 0.6956868546235062\n",
      "2 0.4249617692986762\n",
      "3 0.7677087313301036\n",
      "4 0.8935283859855814\n",
      "5 0.7425453827469328\n",
      "fold 2\n",
      "0 0.5048238803530566\n",
      "1 0.6872752059403643\n",
      "2 0.42634382142896204\n",
      "3 0.7684364509080804\n",
      "4 0.8939748618681436\n",
      "5 0.7422696008095576\n",
      "fold 3\n",
      "0 0.49280601889297543\n",
      "1 0.6805313841512937\n",
      "2 0.4325480636175031\n",
      "3 0.7671857187778024\n",
      "4 0.8948158564585218\n",
      "5 0.7431143494494806\n",
      "fold 4\n",
      "0 0.4950708973520758\n",
      "1 0.6895086436941641\n",
      "2 0.4326003360026786\n",
      "3 0.7640519852469432\n",
      "4 0.8960918276382196\n",
      "5 0.7423266474346388\n",
      "fold 5\n",
      "0 0.5025216068694329\n",
      "1 0.678297946397494\n",
      "2 0.42628873320525795\n",
      "3 0.7715701844389397\n",
      "4 0.8926986853548489\n",
      "5 0.7430574684888602\n",
      "fold 6\n",
      "0 0.4972448103955541\n",
      "1 0.6831563986541362\n",
      "2 0.4274510150326286\n",
      "3 0.7681316990954206\n",
      "4 0.8953432193606389\n",
      "5 0.7442298479058739\n",
      "fold 7\n",
      "0 0.5003571047049308\n",
      "1 0.6846501914375218\n",
      "2 0.43144129238961576\n",
      "3 0.7674904705904623\n",
      "4 0.8934473073723752\n",
      "5 0.7411541496147146\n",
      "fold 8\n",
      "0 0.49548259235044134\n",
      "1 0.6842731175310361\n",
      "2 0.43000544300783805\n",
      "3 0.7654342113750854\n",
      "4 0.8949132530064516\n",
      "5 0.7436913863674124\n",
      "fold 9\n",
      "0 0.5021197369023456\n",
      "1 0.6835334725606219\n",
      "2 0.4288843301597306\n",
      "3 0.7701879583107974\n",
      "4 0.8938773020130022\n",
      "5 0.7416926940061594\n"
     ]
    }
   ],
   "source": [
    "T = np.max(DATA[\"category\"])+1\n",
    "d = 128\n",
    "\n",
    "_bacs = [[] for b in range(T)]\n",
    "\n",
    "\n",
    "for _foldid in range(10):\n",
    "    print(\"fold\",_foldid)\n",
    "\n",
    "    ##### Test\n",
    "    for task in range(T):\n",
    "        X = DATA[\"X\"][DATA[\"category\"] == task]\n",
    "        y = DATA[\"y\"][DATA[\"category\"] == task]\n",
    "        foldids = DATA[\"folds\"][task]\n",
    "        \n",
    "        train = foldids[_foldid][1]\n",
    "        test = foldids[_foldid][2]    \n",
    "        \n",
    "        X=model3_pca.transform(X[test])\n",
    "\n",
    "        #print(np.unique(domain_pred, return_counts=True))\n",
    "        #print(\"task\",task, pred_task_id)\n",
    "\n",
    "        pred=model3.predict(X)\n",
    "        bac = balanced_accuracy_score(y[test], pred)\n",
    "        print(task,bac)\n",
    "        _bacs[task].append(bac)\n",
    "\n"
   ]
  },
  {
   "cell_type": "code",
   "execution_count": 17,
   "id": "b35d890d",
   "metadata": {},
   "outputs": [
    {
     "name": "stdout",
     "output_type": "stream",
     "text": [
      "49.9 ± 0.36 &\n",
      "68.4 ± 0.60 &\n",
      "42.9 ± 0.30 &\n",
      "76.8 ± 0.20 &\n",
      "89.4 ± 0.10 &\n",
      "74.3 ± 0.09 &\n",
      "---\n",
      "66.95081148935634 15.94969569409529\n"
     ]
    }
   ],
   "source": [
    "for t in range(T):\n",
    "    print(\"%3.1f ± %3.2f &\" % (np.mean(_bacs[t])*100, 100*np.std(_bacs[t])) )\n",
    "\n",
    "print(\"---\")\n",
    "print(np.mean(np.array(_bacs).flatten())*100, np.std(np.array(_bacs).flatten())*100)"
   ]
  },
  {
   "cell_type": "markdown",
   "id": "f1942b16",
   "metadata": {},
   "source": [
    "<hr style=\"border: 5px dashed red\">"
   ]
  },
  {
   "cell_type": "markdown",
   "id": "066c1796",
   "metadata": {},
   "source": [
    "# Domain Classifier"
   ]
  },
  {
   "cell_type": "code",
   "execution_count": 18,
   "id": "c8936f91",
   "metadata": {},
   "outputs": [
    {
     "name": "stdout",
     "output_type": "stream",
     "text": [
      "shapes X (186477, 768) y (186477,)\n",
      "+++++++++++++++++++++++++++++++++++++++++++++++++++++++++++++++++++++++++++++++++++++++++++++++++++++++++++++++++++\n",
      "| Score                | Average    | Kat_1      | Kat_2      | Kat_3      | Kat_4      | Kat_5      | Kat_6      |\n",
      "+++++++++++++++++++++++++++++++++++++++++++++++++++++++++++++++++++++++++++++++++++++++++++++++++++++++++++++++++++\n",
      "| Accuracy             | 71.2 ± 0.3 | -          | -          | -          | -          | -          | -          |\n",
      "| Balanced Accuracy    | 79.9 ± 0.2 | -          | -          | -          | -          | -          | -          |\n",
      "| F1                   | 71.2 ± 0.3 | 94.7 ± 0.2 | 77.2 ± 0.4 | 64.0 ± 0.2 | 64.0 ± 0.2 | 76.4 ± 0.6 | 70.3 ± 0.3 |\n",
      "| G-mean               | 78.8 ± 0.2 | -          | -          | -          | -          | -          | -          |\n",
      "| Precision            | 72.3 ± 0.3 | 92.2 ± 0.3 | 67.5 ± 0.6 | 51.1 ± 0.3 | 65.8 ± 0.3 | 72.8 ± 0.6 | 78.2 ± 0.5 |\n",
      "| Recall               | 71.2 ± 0.3 | 97.4 ± 0.2 | 90.0 ± 0.8 | 85.7 ± 0.3 | 62.3 ± 0.3 | 80.2 ± 0.7 | 64.0 ± 0.3 |\n",
      "+++++++++++++++++++++++++++++++++++++++++++++++++++++++++++++++++++++++++++++++++++++++++++++++++++++++++++++++++++\n"
     ]
    }
   ],
   "source": [
    "X = DATA[\"X\"]\n",
    "y = DATA[\"y\"]\n",
    "category = DATA[\"category\"]\n",
    "\n",
    "rskf = RepeatedStratifiedKFold(n_splits=2, n_repeats=5, random_state=1410)\n",
    "foldids = []\n",
    "for fold_idx, (train, test) in enumerate(rskf.split(X, y)):\n",
    "    foldids.append((fold_idx,train,test))\n",
    "    \n",
    "print(\"shapes X\",X.shape,\"y\", category.shape)\n",
    "\n",
    "domain_model, domain_scores, domain_pca = experiment(foldids, X, \n",
    "                                         category, LogisticRegression(max_iter=10000, class_weight='balanced'))"
   ]
  },
  {
   "cell_type": "markdown",
   "id": "98c5419e",
   "metadata": {},
   "source": [
    "<hr style=\"border: 5px dashed red\">"
   ]
  },
  {
   "cell_type": "markdown",
   "id": "c15dfd22",
   "metadata": {},
   "source": [
    "# ParamMultitaskShare"
   ]
  },
  {
   "cell_type": "code",
   "execution_count": 19,
   "id": "bee7b30a",
   "metadata": {},
   "outputs": [],
   "source": [
    "import torch\n",
    "import torch.nn as nn\n",
    "import torch.nn.functional as F\n",
    "\n",
    "\n",
    "class SparseNet(nn.Module):\n",
    "\n",
    "    def __init__(self, K:int=32, M:int=128, R_lr:float=0.1, lmda:float=5e-3, device=None):\n",
    "        super(SparseNet, self).__init__()\n",
    "        self.K = K\n",
    "        self.M = M\n",
    "        self.R_lr = R_lr\n",
    "        self.lmda = lmda\n",
    "        # synaptic weights\n",
    "        self.device = torch.device(\"cpu\") if device is None else device\n",
    "        self.U = nn.Linear(self.K, self.M, bias=False).to(self.device)\n",
    "        # responses\n",
    "        self.R = None\n",
    "        self.normalize_weights()\n",
    "\n",
    "    def ista_(self, img_batch):\n",
    "        # create R\n",
    "        self.R = torch.zeros((img_batch.shape[0], self.K), requires_grad=True, device=self.device)\n",
    "        converged = False\n",
    "        # update R\n",
    "        optim = torch.optim.SGD([{'params': self.R, \"lr\": self.R_lr}])\n",
    "        # train\n",
    "        while not converged:\n",
    "            old_R = self.R.clone().detach()\n",
    "            # pred\n",
    "            pred = self.U(self.R)\n",
    "            # loss\n",
    "            loss = ((img_batch - pred) ** 2).sum()\n",
    "            loss.backward()\n",
    "            # update R in place\n",
    "            optim.step()\n",
    "            # zero grad\n",
    "            self.zero_grad()\n",
    "            # prox\n",
    "            self.R.data = SparseNet.soft_thresholding_(self.R, self.lmda)\n",
    "            # convergence\n",
    "            converged = torch.norm(self.R - old_R) / torch.norm(old_R) < 0.01\n",
    "\n",
    "    @staticmethod\n",
    "    def soft_thresholding_(x, alpha):\n",
    "        with torch.no_grad():\n",
    "            rtn = F.relu(x - alpha) - F.relu(-x - alpha)\n",
    "        return rtn.data\n",
    "\n",
    "    def zero_grad(self):\n",
    "        self.R.grad.zero_()\n",
    "        self.U.zero_grad()\n",
    "\n",
    "    def normalize_weights(self):\n",
    "        with torch.no_grad():\n",
    "            self.U.weight.data = F.normalize(self.U.weight.data, dim=0)\n",
    "\n",
    "    def forward(self, img_batch):\n",
    "        # first fit\n",
    "        self.ista_(img_batch)\n",
    "        # now predict again\n",
    "        pred = self.U(self.R)\n",
    "        return pred, self.R\n",
    "\n"
   ]
  },
  {
   "cell_type": "code",
   "execution_count": 20,
   "id": "c388b783",
   "metadata": {
    "scrolled": true
   },
   "outputs": [
    {
     "name": "stdout",
     "output_type": "stream",
     "text": [
      "Loss 1.8569289592231761\n"
     ]
    }
   ],
   "source": [
    "thetas = np.array([stl[ft][0].coef_[0] for ft in range(T)])\n",
    "snet = SparseNet( K=40, M=128)\n",
    "\n",
    "#print(thetas_T.shape)\n",
    "\n",
    "thetas_T = torch.tensor(thetas)\n",
    "optim = torch.optim.SGD([{'params': snet.U.weight, \"lr\": 1e-2}])\n",
    "\n",
    "running_loss = 0\n",
    "code = None\n",
    "coverged = False\n",
    "for c in range(350):\n",
    "    pred, code = snet.forward(thetas_T)\n",
    "    loss = ((thetas_T - pred) ** 2).sum()\n",
    "    running_loss += loss.item()\n",
    "    loss.backward()\n",
    "    optim.step()\n",
    "    snet.zero_grad()\n",
    "    snet.normalize_weights()\n",
    "\n",
    "print('Loss', running_loss / (c+1))\n"
   ]
  },
  {
   "cell_type": "code",
   "execution_count": 21,
   "id": "7c4fa215",
   "metadata": {},
   "outputs": [],
   "source": [
    "pred, code = snet.forward(thetas_T)\n"
   ]
  },
  {
   "cell_type": "code",
   "execution_count": 23,
   "id": "2e7eecd8",
   "metadata": {},
   "outputs": [
    {
     "data": {
      "image/png": "[encoded data removed]",
      "text/plain": [
       "<Figure size 432x288 with 1 Axes>"
      ]
     },
     "metadata": {
      "needs_background": "light"
     },
     "output_type": "display_data"
    }
   ],
   "source": [
    "for t in [0,1,2]:\n",
    "    y = [1 if v > 0.5 else 0 for v in code[t].detach().numpy()]\n",
    "    plt.plot(y)"
   ]
  },
  {
   "cell_type": "code",
   "execution_count": 25,
   "id": "6aedd52d",
   "metadata": {},
   "outputs": [
    {
     "name": "stderr",
     "output_type": "stream",
     "text": [
      "/tmp/ipykernel_4317/24245997.py:12: UserWarning: Matplotlib is currently using module://matplotlib_inline.backend_inline, which is a non-GUI backend, so cannot show the figure.\n",
      "  fig.show()\n"
     ]
    },
    {
     "data": {
      "image/png": "[encoded data removed]",
      "text/plain": [
       "<Figure size 432x288 with 16 Axes>"
      ]
     },
     "metadata": {
      "needs_background": "light"
     },
     "output_type": "display_data"
    }
   ],
   "source": [
    "uw = snet.U.weight.detach().numpy().T\n",
    "\n",
    "fig, ax = plt.subplots(2, 4)\n",
    "fig.tight_layout(w_pad=1, h_pad=2)\n",
    "\n",
    "\n",
    "for c in range(8):\n",
    "    ob=sns.heatmap(uw[c].reshape((8,16)), linewidth=0.5, cmap=\"vlag\", ax = ax[int(c/4), c%4])\n",
    "    ob.set_title(str(c))\n",
    "    #ax.set(xlabel='Task ID', ylabel='Classifier')\n",
    "\n",
    "fig.show()"
   ]
  }
 ],
 "metadata": {
  "kernelspec": {
   "display_name": "Python 3 (ipykernel)",
   "language": "python",
   "name": "python3"
  },
  "language_info": {
   "codemirror_mode": {
    "name": "ipython",
    "version": 3
   },
   "file_extension": ".py",
   "mimetype": "text/x-python",
   "name": "python",
   "nbconvert_exporter": "python",
   "pygments_lexer": "ipython3",
   "version": "3.9.7"
  }
 },
 "nbformat": 4,
 "nbformat_minor": 5
}
