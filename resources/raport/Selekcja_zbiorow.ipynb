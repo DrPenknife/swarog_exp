{
 "cells": [
  {
   "cell_type": "code",
   "execution_count": 23,
   "id": "0306ceb7",
   "metadata": {
    "scrolled": true
   },
   "outputs": [],
   "source": [
    "import matplotlib.pyplot as plt\n",
    "from IPython.display import HTML, display\n",
    "from wordcloud import WordCloud\n",
    "import pandas as pd\n",
    "import numpy as np\n",
    "from sklearn.model_selection import RepeatedStratifiedKFold\n",
    "from collections import Counter\n",
    "from nltk.tokenize import RegexpTokenizer\n",
    "from nltk.corpus import stopwords\n",
    "from nltk.tokenize import word_tokenize\n",
    "from tqdm import tqdm\n",
    "import pandas as pd\n",
    "import random\n",
    "    \n",
    "def load_raw_data(name, sep = \",\", key=\"text\"):\n",
    "    data = pd.read_csv(f\"../../raw/{name}\",sep=sep)\n",
    "    data[key] = [ str(v) for v in data[key]]\n",
    "    X, y = data[key].values, data[\"label\"].values\n",
    "    return X,y\n",
    "\n",
    "def _table(data):\n",
    "    return '<table><tr>{}</tr></table>'.format(\n",
    "           '</tr><tr>'.join(\n",
    "               '<td>{}</td>'.format('</td><td>'.join(str(_) for _ in row)) for row in data)\n",
    "           )\n",
    "    \n",
    "def show_table(data):\n",
    "    txt = _table(data)\n",
    "    display(HTML(txt))\n",
    "\n",
    "def _hist(name, X_len, y):\n",
    "    # An \"interface\" to matplotlib.axes.Axes.hist() method\n",
    "    fig=plt.figure()\n",
    "    n, bins, patches = plt.hist(x=X_len, bins=30, color='#3333ff',\n",
    "                                alpha=0.5, rwidth=0.9, label='Fake+True')\n",
    "    \n",
    "    def p1():\n",
    "        n1, bins1, patches1 = plt.hist(x=X_len[y==1], bins=30, color='#ff3333',\n",
    "                                    alpha=0.5, rwidth=0.9, label='Fake')\n",
    "    def p2():\n",
    "        n0, bins0, patche0 = plt.hist(x=X_len[y==0], bins=30, color='#33ff33',\n",
    "                                    alpha=0.5, rwidth=0.9, label='True')\n",
    "\n",
    "    if sum(y) > -sum(y-1):\n",
    "        p1()\n",
    "        p2()\n",
    "    else:\n",
    "        p2()\n",
    "        p1()\n",
    "\n",
    "    plt.grid(axis='y', alpha=0.75)\n",
    "    plt.xlabel('Długość tekstu')\n",
    "    plt.ylabel('Częstotliwośc')\n",
    "    plt.title(name)\n",
    "    #plt.text(23, 45, r'$\\mu=15, b=3$')\n",
    "    maxfreq = n.max()\n",
    "    # Set a clean upper y-axis limit.\n",
    "    plt.ylim(ymax=np.ceil(maxfreq / 10) * 10 if maxfreq % 10 else maxfreq + 10)\n",
    "    plt.legend(loc='upper right')\n",
    "    plt.savefig(f'{name}_hist.png')\n",
    "    plt.close(fig)\n",
    "    \n",
    "def _pie(name, y):\n",
    "    fig=plt.figure()\n",
    "    labels=[f\"Fake\",f\"True\"]\n",
    "    patches, texts = plt.pie(y, startangle=90, labels=labels, textprops={'fontsize': 36})\n",
    "    #plt.legend(patches, labels,loc='best', prop={'size': 26})\n",
    "    \n",
    "    plt.savefig(f'{name}_piechart.png')\n",
    "    plt.close(fig)\n",
    "\n",
    "def _wordcount(name,X):\n",
    "    counter = Counter()\n",
    "    tokenizer = RegexpTokenizer(r'[A-Za-z]{2,}')\n",
    "    stop_words = set(stopwords.words('english'))\n",
    "\n",
    "    for w in X:\n",
    "        words = tokenizer.tokenize(w)\n",
    "        words = [word for word in words if word not in stop_words]\n",
    "        counter.update(words)\n",
    "\n",
    "    most_common = counter.most_common(500)\n",
    "\n",
    "    df = pd.DataFrame(most_common, columns=[\"word\",\"n\"])\n",
    "    df[\"m\"] = np.ceil(len(df)*df[\"n\"]/np.sum(df[\"n\"]))\n",
    "\n",
    "    big_text = []\n",
    "    for i,row in df.iterrows():\n",
    "        for r in range(int(row[\"m\"])):\n",
    "            big_text.append( row[\"word\"] ) \n",
    "\n",
    "    random.shuffle(big_text)\n",
    "\n",
    "    fig=plt.figure()\n",
    "    wordcloud = WordCloud(max_font_size=40, background_color=\"white\").generate(\" \".join(big_text))\n",
    "    plt.imshow(wordcloud, interpolation='bilinear')\n",
    "    plt.axis(\"off\")\n",
    "    plt.savefig(f'{name}_wordcloud.png')\n",
    "    plt.close(fig)\n",
    "\n",
    "\n",
    "def _stats(name,file=\"qprop.csv\", sep=\"\\t\", maxlen=20000, key=\"text\"):\n",
    "    X,y = load_raw_data(file,sep,key=key)\n",
    "    X_len = np.array([min(len(x), maxlen) for x in X])\n",
    "\n",
    "    _hist(name,X_len,y)\n",
    "    _wordcount(name,X)\n",
    "\n",
    "    clsprop = [-sum(y-1), sum(y)]\n",
    "    \n",
    "    ds_stats = [\n",
    "        [\"<b>N</b>\", f\"{len(y)}\"],\n",
    "        [\"<b>Fake</b>\", f\"{clsprop[1]}\"],\n",
    "        [\"<b>True</b>\", f\"{clsprop[0]}\"],\n",
    "        [\"<b>R</b>\", f\"1:{int(np.ceil(max(clsprop)/min(clsprop)))}\"]\n",
    "    ]\n",
    "\n",
    "    return [ f\"<h2 style='writing-mode: vertical-rl;'>{name}</h2>\",\n",
    "        f\"<img style='width:500px' src='/view/resources/raport/{name}_hist.png?{random.randint(0,10000)}'/>\",\n",
    "        f\"<img style='width:500px' src='/view/resources/raport/{name}_wordcloud.png?{random.randint(0,10000)}'/>\",\n",
    "        _table(ds_stats)]"
   ]
  },
  {
   "cell_type": "code",
   "execution_count": 29,
   "id": "2aeaeeab",
   "metadata": {},
   "outputs": [],
   "source": [
    "with open('rep.html',\"w\") as f:\n",
    "    data = _stats('Covid-FN','covid_fake_news.csv',sep=\"\\t\", key=\"title\")\n",
    "    for line in data:\n",
    "        f.write(line)\n",
    "    f.write(\"<br>\")"
   ]
  },
  {
   "cell_type": "markdown",
   "id": "15e5d173",
   "metadata": {},
   "source": [
    "# Ogólna charakterystyka zebranych zbiorów danych"
   ]
  },
  {
   "cell_type": "code",
   "execution_count": 94,
   "id": "1e46b12e",
   "metadata": {},
   "outputs": [
    {
     "data": {
      "text/html": [
       "<table><tr><td><h2 style='writing-mode: vertical-rl;'>PubHealth</h2></td><td><img style='width:500px' src='./PubHealth_hist.png?799'/></td><td><img style='width:500px' src='./PubHealth_wordcloud.png?183'/></td><td><table><tr><td><b>N</b></td><td>10075</td></tr><tr><td><b>Fake</b></td><td>6306</td></tr><tr><td><b>True</b></td><td>3769</td></tr><tr><td><b>R</b></td><td>1:2</td></tr></table></td></tr></table>"
      ],
      "text/plain": [
       "<IPython.core.display.HTML object>"
      ]
     },
     "metadata": {},
     "output_type": "display_data"
    }
   ],
   "source": [
    "show_table([_stats('PubHealth','pubhealth.csv',sep=\",\")])"
   ]
  },
  {
   "cell_type": "code",
   "execution_count": 21,
   "id": "fd20e7fd",
   "metadata": {
    "scrolled": true
   },
   "outputs": [
    {
     "ename": "KeyboardInterrupt",
     "evalue": "",
     "output_type": "error",
     "traceback": [
      "\u001b[0;31m---------------------------------------------------------------------------\u001b[0m",
      "\u001b[0;31mKeyboardInterrupt\u001b[0m                         Traceback (most recent call last)",
      "\u001b[0;32m/tmp/ipykernel_4052/1957054161.py\u001b[0m in \u001b[0;36m<module>\u001b[0;34m\u001b[0m\n\u001b[0;32m----> 1\u001b[0;31m \u001b[0mshow_table\u001b[0m\u001b[0;34m(\u001b[0m\u001b[0;34m[\u001b[0m\u001b[0m_stats\u001b[0m\u001b[0;34m(\u001b[0m\u001b[0;34m'Q-Prop'\u001b[0m\u001b[0;34m,\u001b[0m\u001b[0;34m'qprop.csv'\u001b[0m\u001b[0;34m,\u001b[0m\u001b[0msep\u001b[0m\u001b[0;34m=\u001b[0m\u001b[0;34m\"\\t\"\u001b[0m\u001b[0;34m)\u001b[0m\u001b[0;34m]\u001b[0m\u001b[0;34m)\u001b[0m\u001b[0;34m\u001b[0m\u001b[0;34m\u001b[0m\u001b[0m\n\u001b[0m",
      "\u001b[0;32m/tmp/ipykernel_4052/1961051934.py\u001b[0m in \u001b[0;36m_stats\u001b[0;34m(name, file, sep, maxlen, key)\u001b[0m\n\u001b[1;32m    105\u001b[0m \u001b[0;34m\u001b[0m\u001b[0m\n\u001b[1;32m    106\u001b[0m     \u001b[0m_hist\u001b[0m\u001b[0;34m(\u001b[0m\u001b[0mname\u001b[0m\u001b[0;34m,\u001b[0m\u001b[0mX_len\u001b[0m\u001b[0;34m,\u001b[0m\u001b[0my\u001b[0m\u001b[0;34m)\u001b[0m\u001b[0;34m\u001b[0m\u001b[0;34m\u001b[0m\u001b[0m\n\u001b[0;32m--> 107\u001b[0;31m     \u001b[0m_wordcount\u001b[0m\u001b[0;34m(\u001b[0m\u001b[0mname\u001b[0m\u001b[0;34m,\u001b[0m\u001b[0mX\u001b[0m\u001b[0;34m)\u001b[0m\u001b[0;34m\u001b[0m\u001b[0;34m\u001b[0m\u001b[0m\n\u001b[0m\u001b[1;32m    108\u001b[0m \u001b[0;34m\u001b[0m\u001b[0m\n\u001b[1;32m    109\u001b[0m     \u001b[0mclsprop\u001b[0m \u001b[0;34m=\u001b[0m \u001b[0;34m[\u001b[0m\u001b[0;34m-\u001b[0m\u001b[0msum\u001b[0m\u001b[0;34m(\u001b[0m\u001b[0my\u001b[0m\u001b[0;34m-\u001b[0m\u001b[0;36m1\u001b[0m\u001b[0;34m)\u001b[0m\u001b[0;34m,\u001b[0m \u001b[0msum\u001b[0m\u001b[0;34m(\u001b[0m\u001b[0my\u001b[0m\u001b[0;34m)\u001b[0m\u001b[0;34m]\u001b[0m\u001b[0;34m\u001b[0m\u001b[0;34m\u001b[0m\u001b[0m\n",
      "\u001b[0;32m/tmp/ipykernel_4052/1961051934.py\u001b[0m in \u001b[0;36m_wordcount\u001b[0;34m(name, X)\u001b[0m\n\u001b[1;32m     78\u001b[0m         \u001b[0mwords\u001b[0m \u001b[0;34m=\u001b[0m \u001b[0mtokenizer\u001b[0m\u001b[0;34m.\u001b[0m\u001b[0mtokenize\u001b[0m\u001b[0;34m(\u001b[0m\u001b[0mw\u001b[0m\u001b[0;34m)\u001b[0m\u001b[0;34m\u001b[0m\u001b[0;34m\u001b[0m\u001b[0m\n\u001b[1;32m     79\u001b[0m         \u001b[0mwords\u001b[0m \u001b[0;34m=\u001b[0m \u001b[0;34m[\u001b[0m\u001b[0mword\u001b[0m \u001b[0;32mfor\u001b[0m \u001b[0mword\u001b[0m \u001b[0;32min\u001b[0m \u001b[0mwords\u001b[0m \u001b[0;32mif\u001b[0m \u001b[0mword\u001b[0m \u001b[0;32mnot\u001b[0m \u001b[0;32min\u001b[0m \u001b[0mstop_words\u001b[0m\u001b[0;34m]\u001b[0m\u001b[0;34m\u001b[0m\u001b[0;34m\u001b[0m\u001b[0m\n\u001b[0;32m---> 80\u001b[0;31m         \u001b[0mcounter\u001b[0m\u001b[0;34m.\u001b[0m\u001b[0mupdate\u001b[0m\u001b[0;34m(\u001b[0m\u001b[0mwords\u001b[0m\u001b[0;34m)\u001b[0m\u001b[0;34m\u001b[0m\u001b[0;34m\u001b[0m\u001b[0m\n\u001b[0m\u001b[1;32m     81\u001b[0m \u001b[0;34m\u001b[0m\u001b[0m\n\u001b[1;32m     82\u001b[0m     \u001b[0mmost_common\u001b[0m \u001b[0;34m=\u001b[0m \u001b[0mcounter\u001b[0m\u001b[0;34m.\u001b[0m\u001b[0mmost_common\u001b[0m\u001b[0;34m(\u001b[0m\u001b[0;36m500\u001b[0m\u001b[0;34m)\u001b[0m\u001b[0;34m\u001b[0m\u001b[0;34m\u001b[0m\u001b[0m\n",
      "\u001b[0;32m~/anaconda3/lib/python3.9/collections/__init__.py\u001b[0m in \u001b[0;36mupdate\u001b[0;34m(self, iterable, **kwds)\u001b[0m\n\u001b[1;32m    677\u001b[0m                     \u001b[0msuper\u001b[0m\u001b[0;34m(\u001b[0m\u001b[0;34m)\u001b[0m\u001b[0;34m.\u001b[0m\u001b[0mupdate\u001b[0m\u001b[0;34m(\u001b[0m\u001b[0miterable\u001b[0m\u001b[0;34m)\u001b[0m\u001b[0;34m\u001b[0m\u001b[0;34m\u001b[0m\u001b[0m\n\u001b[1;32m    678\u001b[0m             \u001b[0;32melse\u001b[0m\u001b[0;34m:\u001b[0m\u001b[0;34m\u001b[0m\u001b[0;34m\u001b[0m\u001b[0m\n\u001b[0;32m--> 679\u001b[0;31m                 \u001b[0m_count_elements\u001b[0m\u001b[0;34m(\u001b[0m\u001b[0mself\u001b[0m\u001b[0;34m,\u001b[0m \u001b[0miterable\u001b[0m\u001b[0;34m)\u001b[0m\u001b[0;34m\u001b[0m\u001b[0;34m\u001b[0m\u001b[0m\n\u001b[0m\u001b[1;32m    680\u001b[0m         \u001b[0;32mif\u001b[0m \u001b[0mkwds\u001b[0m\u001b[0;34m:\u001b[0m\u001b[0;34m\u001b[0m\u001b[0;34m\u001b[0m\u001b[0m\n\u001b[1;32m    681\u001b[0m             \u001b[0mself\u001b[0m\u001b[0;34m.\u001b[0m\u001b[0mupdate\u001b[0m\u001b[0;34m(\u001b[0m\u001b[0mkwds\u001b[0m\u001b[0;34m)\u001b[0m\u001b[0;34m\u001b[0m\u001b[0;34m\u001b[0m\u001b[0m\n",
      "\u001b[0;31mKeyboardInterrupt\u001b[0m: "
     ]
    }
   ],
   "source": [
    "show_table([_stats('Q-Prop','qprop.csv',sep=\"\\t\")])"
   ]
  },
  {
   "cell_type": "code",
   "execution_count": null,
   "id": "63fe100d",
   "metadata": {
    "scrolled": true
   },
   "outputs": [],
   "source": [
    "show_table([_stats('MM-Covid_en','mmcovid_en.csv',sep=\",\", maxlen=5000)])"
   ]
  },
  {
   "cell_type": "code",
   "execution_count": 27,
   "id": "c00192e0",
   "metadata": {
    "scrolled": true
   },
   "outputs": [
    {
     "data": {
      "text/html": [
       "<table><tr><td><h2 style='writing-mode: vertical-rl;'>Covid-FN</h2></td><td><img style='width:500px' src='/view/resources/raport/Covid-FN_hist.png?3022'/></td><td><img style='width:500px' src='/view/resources/raport/Covid-FN_wordcloud.png?8598'/></td><td><table><tr><td><b>N</b></td><td>8972</td></tr><tr><td><b>Fake</b></td><td>8511</td></tr><tr><td><b>True</b></td><td>461</td></tr><tr><td><b>R</b></td><td>1:19</td></tr></table></td></tr></table>"
      ],
      "text/plain": [
       "<IPython.core.display.HTML object>"
      ]
     },
     "metadata": {},
     "output_type": "display_data"
    }
   ],
   "source": [
    "show_table([_stats('Covid-FN','covid_fake_news.csv',sep=\"\\t\", key=\"title\")])"
   ]
  },
  {
   "cell_type": "code",
   "execution_count": 91,
   "id": "769d4f4a",
   "metadata": {
    "scrolled": true
   },
   "outputs": [
    {
     "data": {
      "text/html": [
       "<table><tr><td><h2 style='writing-mode: vertical-rl;'>GRAFN</h2></td><td><img style='width:500px' src='./GRAFN_hist.png?1407'/></td><td><img style='width:500px' src='./GRAFN_wordcloud.png?8420'/></td><td><table><tr><td><b>N</b></td><td>63930</td></tr><tr><td><b>Fake</b></td><td>12999</td></tr><tr><td><b>True</b></td><td>50931</td></tr><tr><td><b>R</b></td><td>1:4</td></tr></table></td></tr></table>"
      ],
      "text/plain": [
       "<IPython.core.display.HTML object>"
      ]
     },
     "metadata": {},
     "output_type": "display_data"
    }
   ],
   "source": [
    "show_table([_stats('GRAFN','grafn_lite.csv',sep=\",\")])"
   ]
  },
  {
   "cell_type": "code",
   "execution_count": 96,
   "id": "ac2bca6f",
   "metadata": {
    "scrolled": true
   },
   "outputs": [
    {
     "data": {
      "text/html": [
       "<table><tr><td><h2 style='writing-mode: vertical-rl;'>ISOT</h2></td><td><img style='width:500px' src='./ISOT_hist.png?4264'/></td><td><img style='width:500px' src='./ISOT_wordcloud.png?4018'/></td><td><table><tr><td><b>N</b></td><td>44898</td></tr><tr><td><b>Fake</b></td><td>23481</td></tr><tr><td><b>True</b></td><td>21417</td></tr><tr><td><b>R</b></td><td>1:2</td></tr></table></td></tr></table>"
      ],
      "text/plain": [
       "<IPython.core.display.HTML object>"
      ]
     },
     "metadata": {},
     "output_type": "display_data"
    }
   ],
   "source": [
    "show_table([_stats('ISOT','isot.csv',sep=\",\")])"
   ]
  },
  {
   "cell_type": "code",
   "execution_count": 25,
   "id": "38a6b3fa",
   "metadata": {
    "scrolled": true
   },
   "outputs": [
    {
     "data": {
      "text/html": [
       "<table><tr><td><h2 style='writing-mode: vertical-rl;'>Nela-GT</h2></td><td><img style='width:500px' src='/view/resources/raport/Nela-GT_hist.png?64'/></td><td><img style='width:500px' src='/view/resources/raport/Nela-GT_wordcloud.png?1810'/></td><td><table><tr><td><b>N</b></td><td>757096</td></tr><tr><td><b>Fake</b></td><td>262288</td></tr><tr><td><b>True</b></td><td>494808</td></tr><tr><td><b>R</b></td><td>1:2</td></tr></table></td></tr></table>"
      ],
      "text/plain": [
       "<IPython.core.display.HTML object>"
      ]
     },
     "metadata": {},
     "output_type": "display_data"
    }
   ],
   "source": [
    "show_table([_stats('Nela-GT','nela-gt-2020.csv',sep=\",\")])"
   ]
  },
  {
   "cell_type": "code",
   "execution_count": 24,
   "id": "af31fe18",
   "metadata": {
    "scrolled": true
   },
   "outputs": [
    {
     "data": {
      "text/html": [
       "<table><tr><td><h2 style='writing-mode: vertical-rl;'>FakenewsNet</h2></td><td><img style='width:500px' src='/view/resources/raport/FakenewsNet_hist.png?7863'/></td><td><img style='width:500px' src='/view/resources/raport/FakenewsNet_wordcloud.png?9201'/></td><td><table><tr><td><b>N</b></td><td>18690</td></tr><tr><td><b>Fake</b></td><td>4571</td></tr><tr><td><b>True</b></td><td>14119</td></tr><tr><td><b>R</b></td><td>1:4</td></tr></table></td></tr></table>"
      ],
      "text/plain": [
       "<IPython.core.display.HTML object>"
      ]
     },
     "metadata": {},
     "output_type": "display_data"
    }
   ],
   "source": [
    "show_table([_stats('FakenewsNet','fakenewsnet.csv',sep=\",\")])"
   ]
  },
  {
   "cell_type": "code",
   "execution_count": 86,
   "id": "da70aace",
   "metadata": {
    "scrolled": true
   },
   "outputs": [
    {
     "data": {
      "text/html": [
       "<table><tr><td><h2 style='writing-mode: vertical-rl;'>Liar</h2></td><td><img style='width:500px' src='./Liar_hist.png?1161'/></td><td><img style='width:500px' src='./Liar_wordcloud.png?4563'/></td><td><table><tr><td><b>N</b></td><td>8061</td></tr><tr><td><b>Fake</b></td><td>3554</td></tr><tr><td><b>True</b></td><td>4507</td></tr><tr><td><b>R</b></td><td>1:2</td></tr></table></td></tr></table>"
      ],
      "text/plain": [
       "<IPython.core.display.HTML object>"
      ]
     },
     "metadata": {},
     "output_type": "display_data"
    }
   ],
   "source": [
    "show_table([_stats('Liar','liar.csv',sep=\",\", maxlen=500)])"
   ]
  },
  {
   "cell_type": "code",
   "execution_count": 87,
   "id": "a3b1d6e5",
   "metadata": {
    "scrolled": true
   },
   "outputs": [
    {
     "data": {
      "text/html": [
       "<table><tr><td><h2 style='writing-mode: vertical-rl;'>Feverous</h2></td><td><img style='width:500px' src='./Feverous_hist.png?806'/></td><td><img style='width:500px' src='./Feverous_wordcloud.png?5062'/></td><td><table><tr><td><b>N</b></td><td>76439</td></tr><tr><td><b>Fake</b></td><td>30696</td></tr><tr><td><b>True</b></td><td>45743</td></tr><tr><td><b>R</b></td><td>1:2</td></tr></table></td></tr></table>"
      ],
      "text/plain": [
       "<IPython.core.display.HTML object>"
      ]
     },
     "metadata": {},
     "output_type": "display_data"
    }
   ],
   "source": [
    "show_table([_stats('Feverous','feverous.csv',sep=\",\", maxlen=500)])"
   ]
  },
  {
   "cell_type": "code",
   "execution_count": 89,
   "id": "f4b6e621",
   "metadata": {},
   "outputs": [
    {
     "data": {
      "text/html": [
       "<table><tr><td><h2 style='writing-mode: vertical-rl;'>Politifact</h2></td><td><img style='width:500px' src='./Politifact_hist.png?4137'/></td><td><img style='width:500px' src='./Politifact_wordcloud.png?964'/></td><td><table><tr><td><b>N</b></td><td>10463</td></tr><tr><td><b>Fake</b></td><td>2824</td></tr><tr><td><b>True</b></td><td>7639</td></tr><tr><td><b>R</b></td><td>1:3</td></tr></table></td></tr></table>"
      ],
      "text/plain": [
       "<IPython.core.display.HTML object>"
      ]
     },
     "metadata": {},
     "output_type": "display_data"
    }
   ],
   "source": [
    "show_table([_stats('Politifact','politifact.csv',sep=\",\", maxlen=500)])"
   ]
  }
 ],
 "metadata": {
  "kernelspec": {
   "display_name": "Python 3 (ipykernel)",
   "language": "python",
   "name": "python3"
  },
  "language_info": {
   "codemirror_mode": {
    "name": "ipython",
    "version": 3
   },
   "file_extension": ".py",
   "mimetype": "text/x-python",
   "name": "python",
   "nbconvert_exporter": "python",
   "pygments_lexer": "ipython3",
   "version": "3.9.7"
  }
 },
 "nbformat": 4,
 "nbformat_minor": 5
}
