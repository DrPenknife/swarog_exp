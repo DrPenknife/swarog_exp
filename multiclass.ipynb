{
 "cells": [
  {
   "cell_type": "code",
   "execution_count": null,
   "id": "c927368c",
   "metadata": {},
   "outputs": [],
   "source": [
    "import pandas as pd\n",
    "x isot     = pd.read_csv(\"raw/\")\n",
    "x mmcovid  = pd.read_csv(\"raw/\")\n",
    "x grafn    = pd.read_csv(\"raw/\")\n",
    "x pubhealt = pd.read_csv(\"raw/\")\n",
    "x qprop    = pd.read_csv(\"raw/\")\n",
    "x covidfn  = pd.read_csv(\"raw/\")"
   ]
  },
  {
   "cell_type": "code",
   "execution_count": null,
   "id": "15f1d387",
   "metadata": {},
   "outputs": [],
   "source": []
  }
 ],
 "metadata": {
  "kernelspec": {
   "display_name": "Python 3 (ipykernel)",
   "language": "python",
   "name": "python3"
  },
  "language_info": {
   "codemirror_mode": {
    "name": "ipython",
    "version": 3
   },
   "file_extension": ".py",
   "mimetype": "text/x-python",
   "name": "python",
   "nbconvert_exporter": "python",
   "pygments_lexer": "ipython3",
   "version": "3.9.7"
  }
 },
 "nbformat": 4,
 "nbformat_minor": 5
}
